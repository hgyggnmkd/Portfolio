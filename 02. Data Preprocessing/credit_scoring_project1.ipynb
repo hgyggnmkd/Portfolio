{
 "cells": [
  {
   "cell_type": "markdown",
   "id": "4f11de00",
   "metadata": {
    "id": "4f11de00"
   },
   "source": [
    "# Исследование надежности заемщиков\n",
    "## Первая часть"
   ]
  },
  {
   "cell_type": "markdown",
   "id": "516620ee",
   "metadata": {
    "id": "516620ee"
   },
   "source": [
    "## Открою таблицу и изучу общую информацию о данных"
   ]
  },
  {
   "cell_type": "code",
   "execution_count": 1,
   "id": "fab207d0",
   "metadata": {
    "id": "fab207d0"
   },
   "outputs": [],
   "source": [
    "import pandas as pd"
   ]
  },
  {
   "cell_type": "code",
   "execution_count": 2,
   "id": "6c82b607",
   "metadata": {
    "id": "6c82b607"
   },
   "outputs": [],
   "source": [
    "data = pd.read_csv('/datasets/data.csv')"
   ]
  },
  {
   "cell_type": "code",
   "execution_count": 3,
   "id": "4ff33b36",
   "metadata": {
    "id": "4ff33b36"
   },
   "outputs": [
    {
     "data": {
      "text/html": [
       "<div>\n",
       "<style scoped>\n",
       "    .dataframe tbody tr th:only-of-type {\n",
       "        vertical-align: middle;\n",
       "    }\n",
       "\n",
       "    .dataframe tbody tr th {\n",
       "        vertical-align: top;\n",
       "    }\n",
       "\n",
       "    .dataframe thead th {\n",
       "        text-align: right;\n",
       "    }\n",
       "</style>\n",
       "<table border=\"1\" class=\"dataframe\">\n",
       "  <thead>\n",
       "    <tr style=\"text-align: right;\">\n",
       "      <th></th>\n",
       "      <th>children</th>\n",
       "      <th>days_employed</th>\n",
       "      <th>dob_years</th>\n",
       "      <th>education</th>\n",
       "      <th>education_id</th>\n",
       "      <th>family_status</th>\n",
       "      <th>family_status_id</th>\n",
       "      <th>gender</th>\n",
       "      <th>income_type</th>\n",
       "      <th>debt</th>\n",
       "      <th>total_income</th>\n",
       "      <th>purpose</th>\n",
       "    </tr>\n",
       "  </thead>\n",
       "  <tbody>\n",
       "    <tr>\n",
       "      <th>0</th>\n",
       "      <td>1</td>\n",
       "      <td>-8437.673028</td>\n",
       "      <td>42</td>\n",
       "      <td>высшее</td>\n",
       "      <td>0</td>\n",
       "      <td>женат / замужем</td>\n",
       "      <td>0</td>\n",
       "      <td>F</td>\n",
       "      <td>сотрудник</td>\n",
       "      <td>0</td>\n",
       "      <td>253875.639453</td>\n",
       "      <td>покупка жилья</td>\n",
       "    </tr>\n",
       "    <tr>\n",
       "      <th>1</th>\n",
       "      <td>1</td>\n",
       "      <td>-4024.803754</td>\n",
       "      <td>36</td>\n",
       "      <td>среднее</td>\n",
       "      <td>1</td>\n",
       "      <td>женат / замужем</td>\n",
       "      <td>0</td>\n",
       "      <td>F</td>\n",
       "      <td>сотрудник</td>\n",
       "      <td>0</td>\n",
       "      <td>112080.014102</td>\n",
       "      <td>приобретение автомобиля</td>\n",
       "    </tr>\n",
       "    <tr>\n",
       "      <th>2</th>\n",
       "      <td>0</td>\n",
       "      <td>-5623.422610</td>\n",
       "      <td>33</td>\n",
       "      <td>Среднее</td>\n",
       "      <td>1</td>\n",
       "      <td>женат / замужем</td>\n",
       "      <td>0</td>\n",
       "      <td>M</td>\n",
       "      <td>сотрудник</td>\n",
       "      <td>0</td>\n",
       "      <td>145885.952297</td>\n",
       "      <td>покупка жилья</td>\n",
       "    </tr>\n",
       "    <tr>\n",
       "      <th>3</th>\n",
       "      <td>3</td>\n",
       "      <td>-4124.747207</td>\n",
       "      <td>32</td>\n",
       "      <td>среднее</td>\n",
       "      <td>1</td>\n",
       "      <td>женат / замужем</td>\n",
       "      <td>0</td>\n",
       "      <td>M</td>\n",
       "      <td>сотрудник</td>\n",
       "      <td>0</td>\n",
       "      <td>267628.550329</td>\n",
       "      <td>дополнительное образование</td>\n",
       "    </tr>\n",
       "    <tr>\n",
       "      <th>4</th>\n",
       "      <td>0</td>\n",
       "      <td>340266.072047</td>\n",
       "      <td>53</td>\n",
       "      <td>среднее</td>\n",
       "      <td>1</td>\n",
       "      <td>гражданский брак</td>\n",
       "      <td>1</td>\n",
       "      <td>F</td>\n",
       "      <td>пенсионер</td>\n",
       "      <td>0</td>\n",
       "      <td>158616.077870</td>\n",
       "      <td>сыграть свадьбу</td>\n",
       "    </tr>\n",
       "    <tr>\n",
       "      <th>5</th>\n",
       "      <td>0</td>\n",
       "      <td>-926.185831</td>\n",
       "      <td>27</td>\n",
       "      <td>высшее</td>\n",
       "      <td>0</td>\n",
       "      <td>гражданский брак</td>\n",
       "      <td>1</td>\n",
       "      <td>M</td>\n",
       "      <td>компаньон</td>\n",
       "      <td>0</td>\n",
       "      <td>255763.565419</td>\n",
       "      <td>покупка жилья</td>\n",
       "    </tr>\n",
       "    <tr>\n",
       "      <th>6</th>\n",
       "      <td>0</td>\n",
       "      <td>-2879.202052</td>\n",
       "      <td>43</td>\n",
       "      <td>высшее</td>\n",
       "      <td>0</td>\n",
       "      <td>женат / замужем</td>\n",
       "      <td>0</td>\n",
       "      <td>F</td>\n",
       "      <td>компаньон</td>\n",
       "      <td>0</td>\n",
       "      <td>240525.971920</td>\n",
       "      <td>операции с жильем</td>\n",
       "    </tr>\n",
       "    <tr>\n",
       "      <th>7</th>\n",
       "      <td>0</td>\n",
       "      <td>-152.779569</td>\n",
       "      <td>50</td>\n",
       "      <td>СРЕДНЕЕ</td>\n",
       "      <td>1</td>\n",
       "      <td>женат / замужем</td>\n",
       "      <td>0</td>\n",
       "      <td>M</td>\n",
       "      <td>сотрудник</td>\n",
       "      <td>0</td>\n",
       "      <td>135823.934197</td>\n",
       "      <td>образование</td>\n",
       "    </tr>\n",
       "    <tr>\n",
       "      <th>8</th>\n",
       "      <td>2</td>\n",
       "      <td>-6929.865299</td>\n",
       "      <td>35</td>\n",
       "      <td>ВЫСШЕЕ</td>\n",
       "      <td>0</td>\n",
       "      <td>гражданский брак</td>\n",
       "      <td>1</td>\n",
       "      <td>F</td>\n",
       "      <td>сотрудник</td>\n",
       "      <td>0</td>\n",
       "      <td>95856.832424</td>\n",
       "      <td>на проведение свадьбы</td>\n",
       "    </tr>\n",
       "    <tr>\n",
       "      <th>9</th>\n",
       "      <td>0</td>\n",
       "      <td>-2188.756445</td>\n",
       "      <td>41</td>\n",
       "      <td>среднее</td>\n",
       "      <td>1</td>\n",
       "      <td>женат / замужем</td>\n",
       "      <td>0</td>\n",
       "      <td>M</td>\n",
       "      <td>сотрудник</td>\n",
       "      <td>0</td>\n",
       "      <td>144425.938277</td>\n",
       "      <td>покупка жилья для семьи</td>\n",
       "    </tr>\n",
       "    <tr>\n",
       "      <th>10</th>\n",
       "      <td>2</td>\n",
       "      <td>-4171.483647</td>\n",
       "      <td>36</td>\n",
       "      <td>высшее</td>\n",
       "      <td>0</td>\n",
       "      <td>женат / замужем</td>\n",
       "      <td>0</td>\n",
       "      <td>M</td>\n",
       "      <td>компаньон</td>\n",
       "      <td>0</td>\n",
       "      <td>113943.491460</td>\n",
       "      <td>покупка недвижимости</td>\n",
       "    </tr>\n",
       "    <tr>\n",
       "      <th>11</th>\n",
       "      <td>0</td>\n",
       "      <td>-792.701887</td>\n",
       "      <td>40</td>\n",
       "      <td>среднее</td>\n",
       "      <td>1</td>\n",
       "      <td>женат / замужем</td>\n",
       "      <td>0</td>\n",
       "      <td>F</td>\n",
       "      <td>сотрудник</td>\n",
       "      <td>0</td>\n",
       "      <td>77069.234271</td>\n",
       "      <td>покупка коммерческой недвижимости</td>\n",
       "    </tr>\n",
       "    <tr>\n",
       "      <th>12</th>\n",
       "      <td>0</td>\n",
       "      <td>NaN</td>\n",
       "      <td>65</td>\n",
       "      <td>среднее</td>\n",
       "      <td>1</td>\n",
       "      <td>гражданский брак</td>\n",
       "      <td>1</td>\n",
       "      <td>M</td>\n",
       "      <td>пенсионер</td>\n",
       "      <td>0</td>\n",
       "      <td>NaN</td>\n",
       "      <td>сыграть свадьбу</td>\n",
       "    </tr>\n",
       "    <tr>\n",
       "      <th>13</th>\n",
       "      <td>0</td>\n",
       "      <td>-1846.641941</td>\n",
       "      <td>54</td>\n",
       "      <td>неоконченное высшее</td>\n",
       "      <td>2</td>\n",
       "      <td>женат / замужем</td>\n",
       "      <td>0</td>\n",
       "      <td>F</td>\n",
       "      <td>сотрудник</td>\n",
       "      <td>0</td>\n",
       "      <td>130458.228857</td>\n",
       "      <td>приобретение автомобиля</td>\n",
       "    </tr>\n",
       "    <tr>\n",
       "      <th>14</th>\n",
       "      <td>0</td>\n",
       "      <td>-1844.956182</td>\n",
       "      <td>56</td>\n",
       "      <td>высшее</td>\n",
       "      <td>0</td>\n",
       "      <td>гражданский брак</td>\n",
       "      <td>1</td>\n",
       "      <td>F</td>\n",
       "      <td>компаньон</td>\n",
       "      <td>1</td>\n",
       "      <td>165127.911772</td>\n",
       "      <td>покупка жилой недвижимости</td>\n",
       "    </tr>\n",
       "    <tr>\n",
       "      <th>15</th>\n",
       "      <td>1</td>\n",
       "      <td>-972.364419</td>\n",
       "      <td>26</td>\n",
       "      <td>среднее</td>\n",
       "      <td>1</td>\n",
       "      <td>женат / замужем</td>\n",
       "      <td>0</td>\n",
       "      <td>F</td>\n",
       "      <td>сотрудник</td>\n",
       "      <td>0</td>\n",
       "      <td>116820.904450</td>\n",
       "      <td>строительство собственной недвижимости</td>\n",
       "    </tr>\n",
       "    <tr>\n",
       "      <th>16</th>\n",
       "      <td>0</td>\n",
       "      <td>-1719.934226</td>\n",
       "      <td>35</td>\n",
       "      <td>среднее</td>\n",
       "      <td>1</td>\n",
       "      <td>женат / замужем</td>\n",
       "      <td>0</td>\n",
       "      <td>F</td>\n",
       "      <td>сотрудник</td>\n",
       "      <td>0</td>\n",
       "      <td>289202.704229</td>\n",
       "      <td>недвижимость</td>\n",
       "    </tr>\n",
       "    <tr>\n",
       "      <th>17</th>\n",
       "      <td>0</td>\n",
       "      <td>-2369.999720</td>\n",
       "      <td>33</td>\n",
       "      <td>высшее</td>\n",
       "      <td>0</td>\n",
       "      <td>гражданский брак</td>\n",
       "      <td>1</td>\n",
       "      <td>M</td>\n",
       "      <td>сотрудник</td>\n",
       "      <td>0</td>\n",
       "      <td>90410.586745</td>\n",
       "      <td>строительство недвижимости</td>\n",
       "    </tr>\n",
       "    <tr>\n",
       "      <th>18</th>\n",
       "      <td>0</td>\n",
       "      <td>400281.136913</td>\n",
       "      <td>53</td>\n",
       "      <td>среднее</td>\n",
       "      <td>1</td>\n",
       "      <td>вдовец / вдова</td>\n",
       "      <td>2</td>\n",
       "      <td>F</td>\n",
       "      <td>пенсионер</td>\n",
       "      <td>0</td>\n",
       "      <td>56823.777243</td>\n",
       "      <td>на покупку подержанного автомобиля</td>\n",
       "    </tr>\n",
       "    <tr>\n",
       "      <th>19</th>\n",
       "      <td>0</td>\n",
       "      <td>-10038.818549</td>\n",
       "      <td>48</td>\n",
       "      <td>СРЕДНЕЕ</td>\n",
       "      <td>1</td>\n",
       "      <td>в разводе</td>\n",
       "      <td>3</td>\n",
       "      <td>F</td>\n",
       "      <td>сотрудник</td>\n",
       "      <td>0</td>\n",
       "      <td>242831.107982</td>\n",
       "      <td>на покупку своего автомобиля</td>\n",
       "    </tr>\n",
       "  </tbody>\n",
       "</table>\n",
       "</div>"
      ],
      "text/plain": [
       "    children  days_employed  dob_years            education  education_id  \\\n",
       "0          1   -8437.673028         42               высшее             0   \n",
       "1          1   -4024.803754         36              среднее             1   \n",
       "2          0   -5623.422610         33              Среднее             1   \n",
       "3          3   -4124.747207         32              среднее             1   \n",
       "4          0  340266.072047         53              среднее             1   \n",
       "5          0    -926.185831         27               высшее             0   \n",
       "6          0   -2879.202052         43               высшее             0   \n",
       "7          0    -152.779569         50              СРЕДНЕЕ             1   \n",
       "8          2   -6929.865299         35               ВЫСШЕЕ             0   \n",
       "9          0   -2188.756445         41              среднее             1   \n",
       "10         2   -4171.483647         36               высшее             0   \n",
       "11         0    -792.701887         40              среднее             1   \n",
       "12         0            NaN         65              среднее             1   \n",
       "13         0   -1846.641941         54  неоконченное высшее             2   \n",
       "14         0   -1844.956182         56               высшее             0   \n",
       "15         1    -972.364419         26              среднее             1   \n",
       "16         0   -1719.934226         35              среднее             1   \n",
       "17         0   -2369.999720         33               высшее             0   \n",
       "18         0  400281.136913         53              среднее             1   \n",
       "19         0  -10038.818549         48              СРЕДНЕЕ             1   \n",
       "\n",
       "       family_status  family_status_id gender income_type  debt  \\\n",
       "0    женат / замужем                 0      F   сотрудник     0   \n",
       "1    женат / замужем                 0      F   сотрудник     0   \n",
       "2    женат / замужем                 0      M   сотрудник     0   \n",
       "3    женат / замужем                 0      M   сотрудник     0   \n",
       "4   гражданский брак                 1      F   пенсионер     0   \n",
       "5   гражданский брак                 1      M   компаньон     0   \n",
       "6    женат / замужем                 0      F   компаньон     0   \n",
       "7    женат / замужем                 0      M   сотрудник     0   \n",
       "8   гражданский брак                 1      F   сотрудник     0   \n",
       "9    женат / замужем                 0      M   сотрудник     0   \n",
       "10   женат / замужем                 0      M   компаньон     0   \n",
       "11   женат / замужем                 0      F   сотрудник     0   \n",
       "12  гражданский брак                 1      M   пенсионер     0   \n",
       "13   женат / замужем                 0      F   сотрудник     0   \n",
       "14  гражданский брак                 1      F   компаньон     1   \n",
       "15   женат / замужем                 0      F   сотрудник     0   \n",
       "16   женат / замужем                 0      F   сотрудник     0   \n",
       "17  гражданский брак                 1      M   сотрудник     0   \n",
       "18    вдовец / вдова                 2      F   пенсионер     0   \n",
       "19         в разводе                 3      F   сотрудник     0   \n",
       "\n",
       "     total_income                                 purpose  \n",
       "0   253875.639453                           покупка жилья  \n",
       "1   112080.014102                 приобретение автомобиля  \n",
       "2   145885.952297                           покупка жилья  \n",
       "3   267628.550329              дополнительное образование  \n",
       "4   158616.077870                         сыграть свадьбу  \n",
       "5   255763.565419                           покупка жилья  \n",
       "6   240525.971920                       операции с жильем  \n",
       "7   135823.934197                             образование  \n",
       "8    95856.832424                   на проведение свадьбы  \n",
       "9   144425.938277                 покупка жилья для семьи  \n",
       "10  113943.491460                    покупка недвижимости  \n",
       "11   77069.234271       покупка коммерческой недвижимости  \n",
       "12            NaN                         сыграть свадьбу  \n",
       "13  130458.228857                 приобретение автомобиля  \n",
       "14  165127.911772              покупка жилой недвижимости  \n",
       "15  116820.904450  строительство собственной недвижимости  \n",
       "16  289202.704229                            недвижимость  \n",
       "17   90410.586745              строительство недвижимости  \n",
       "18   56823.777243      на покупку подержанного автомобиля  \n",
       "19  242831.107982            на покупку своего автомобиля  "
      ]
     },
     "execution_count": 3,
     "metadata": {},
     "output_type": "execute_result"
    }
   ],
   "source": [
    "data.head(20)"
   ]
  },
  {
   "cell_type": "code",
   "execution_count": 4,
   "id": "e1ed9908",
   "metadata": {
    "id": "e1ed9908"
   },
   "outputs": [
    {
     "name": "stdout",
     "output_type": "stream",
     "text": [
      "<class 'pandas.core.frame.DataFrame'>\n",
      "RangeIndex: 21525 entries, 0 to 21524\n",
      "Data columns (total 12 columns):\n",
      " #   Column            Non-Null Count  Dtype  \n",
      "---  ------            --------------  -----  \n",
      " 0   children          21525 non-null  int64  \n",
      " 1   days_employed     19351 non-null  float64\n",
      " 2   dob_years         21525 non-null  int64  \n",
      " 3   education         21525 non-null  object \n",
      " 4   education_id      21525 non-null  int64  \n",
      " 5   family_status     21525 non-null  object \n",
      " 6   family_status_id  21525 non-null  int64  \n",
      " 7   gender            21525 non-null  object \n",
      " 8   income_type       21525 non-null  object \n",
      " 9   debt              21525 non-null  int64  \n",
      " 10  total_income      19351 non-null  float64\n",
      " 11  purpose           21525 non-null  object \n",
      "dtypes: float64(2), int64(5), object(5)\n",
      "memory usage: 2.0+ MB\n"
     ]
    }
   ],
   "source": [
    "data.info()"
   ]
  },
  {
   "cell_type": "markdown",
   "id": "13dd302b",
   "metadata": {},
   "source": [
    "При первичном просмотре данных уже можно заметить:\n",
    "- наличие дубликатов - разный регистр в столбце с образование и разные формулировки целей кридита;\n",
    "- пропуски в столбцах  `total_income` и `days_employed`;\n",
    "- Аномалии - отрицательные значения в столбце со стажем работы;\n",
    "- Неверный тип данных в столбце `days_employed`\n",
    "\n",
    "Далее проведу предобработку данных, чтобы сделать наиболее достоверное исследование и выводы"
   ]
  },
  {
   "cell_type": "markdown",
   "id": "f969a1cd",
   "metadata": {
    "deletable": false,
    "editable": false,
    "id": "f969a1cd"
   },
   "source": [
    "## Предобработка данных"
   ]
  },
  {
   "cell_type": "markdown",
   "id": "7283e864",
   "metadata": {
    "deletable": false,
    "editable": false,
    "id": "7283e864"
   },
   "source": [
    "### Удаление пропусков"
   ]
  },
  {
   "cell_type": "code",
   "execution_count": 5,
   "id": "b7a096e1",
   "metadata": {
    "id": "b7a096e1"
   },
   "outputs": [
    {
     "data": {
      "text/plain": [
       "children               0\n",
       "days_employed       2174\n",
       "dob_years              0\n",
       "education              0\n",
       "education_id           0\n",
       "family_status          0\n",
       "family_status_id       0\n",
       "gender                 0\n",
       "income_type            0\n",
       "debt                   0\n",
       "total_income        2174\n",
       "purpose                0\n",
       "dtype: int64"
      ]
     },
     "execution_count": 5,
     "metadata": {},
     "output_type": "execute_result"
    }
   ],
   "source": [
    "data.isna().sum()"
   ]
  },
  {
   "cell_type": "markdown",
   "id": "f7a85aca",
   "metadata": {},
   "source": [
    "Заменю пропуски в столбце с доходом на медианное значение по должностям"
   ]
  },
  {
   "cell_type": "code",
   "execution_count": 6,
   "id": "e8afc4bc",
   "metadata": {
    "id": "e8afc4bc"
   },
   "outputs": [
    {
     "data": {
      "text/plain": [
       "0"
      ]
     },
     "execution_count": 6,
     "metadata": {},
     "output_type": "execute_result"
    }
   ],
   "source": [
    "\n",
    "for d in data['income_type'].unique(): \n",
    "    \n",
    "    data.loc[(data['income_type'] == d) & (data['total_income'].isna()), 'total_income'] = \\\n",
    "    data.loc[(data['income_type'] == d), 'total_income'].median()\n",
    "    \n",
    "data['total_income'].isna().sum() "
   ]
  },
  {
   "cell_type": "markdown",
   "id": "ae986d46",
   "metadata": {
    "deletable": false,
    "editable": false,
    "id": "ae986d46"
   },
   "source": [
    "### Обработка аномальных значений"
   ]
  },
  {
   "cell_type": "code",
   "execution_count": 7,
   "id": "187779b0",
   "metadata": {
    "id": "187779b0"
   },
   "outputs": [],
   "source": [
    "data['days_employed'] = data['days_employed'].abs()"
   ]
  },
  {
   "cell_type": "code",
   "execution_count": 8,
   "id": "f3f5810c",
   "metadata": {
    "id": "f3f5810c"
   },
   "outputs": [
    {
     "data": {
      "text/plain": [
       "income_type\n",
       "безработный        366413.652744\n",
       "в декрете            3296.759962\n",
       "госслужащий          2689.368353\n",
       "компаньон            1547.382223\n",
       "пенсионер          365213.306266\n",
       "предприниматель       520.848083\n",
       "сотрудник            1574.202821\n",
       "студент               578.751554\n",
       "Name: days_employed, dtype: float64"
      ]
     },
     "execution_count": 8,
     "metadata": {},
     "output_type": "execute_result"
    }
   ],
   "source": [
    "data.groupby('income_type')['days_employed'].median()"
   ]
  },
  {
   "cell_type": "markdown",
   "id": "dbc3168c",
   "metadata": {
    "deletable": false,
    "id": "dbc3168c"
   },
   "source": [
    "У двух типов (безработные и пенсионеры) получатся аномально большие значения. Исправить такие значения сложно, поэтому оставлю их как есть."
   ]
  },
  {
   "cell_type": "code",
   "execution_count": 9,
   "id": "9bd0c232",
   "metadata": {
    "id": "9bd0c232"
   },
   "outputs": [
    {
     "data": {
      "text/plain": [
       "array([ 1,  0,  3,  2, -1,  4, 20,  5])"
      ]
     },
     "execution_count": 9,
     "metadata": {},
     "output_type": "execute_result"
    }
   ],
   "source": [
    "data['children'].unique()"
   ]
  },
  {
   "cell_type": "code",
   "execution_count": 10,
   "id": "6d5ba289",
   "metadata": {
    "id": "6d5ba289"
   },
   "outputs": [],
   "source": [
    "data = data[(data['children'] != -1)&(data['children'] != 20)]"
   ]
  },
  {
   "cell_type": "code",
   "execution_count": 11,
   "id": "2c5fa92c",
   "metadata": {
    "id": "2c5fa92c"
   },
   "outputs": [
    {
     "data": {
      "text/plain": [
       "array([1, 0, 3, 2, 4, 5])"
      ]
     },
     "execution_count": 11,
     "metadata": {},
     "output_type": "execute_result"
    }
   ],
   "source": [
    "data['children'].unique()"
   ]
  },
  {
   "cell_type": "markdown",
   "id": "0ec07dee",
   "metadata": {
    "deletable": false,
    "editable": false,
    "id": "0ec07dee"
   },
   "source": [
    "### Удаление пропусков (продолжение)"
   ]
  },
  {
   "cell_type": "markdown",
   "id": "0fc3ae3f",
   "metadata": {
    "id": "0fc3ae3f",
    "tags": [
     "start_task"
    ]
   },
   "source": [
    "Заполните пропуски в столбце `days_employed` медианными значениями по каждому типу занятости `income_type`"
   ]
  },
  {
   "cell_type": "code",
   "execution_count": 12,
   "id": "e2aea7ac",
   "metadata": {
    "id": "e2aea7ac"
   },
   "outputs": [],
   "source": [
    "for d in data['income_type'].unique():\n",
    "    \n",
    "    data.loc[(data['income_type'] == d) & (data['days_employed'].isna()), 'days_employed'] = \\\n",
    "    data.loc[(data['income_type'] == d), 'days_employed'].median()"
   ]
  },
  {
   "cell_type": "code",
   "execution_count": 13,
   "id": "79632a21",
   "metadata": {
    "id": "79632a21"
   },
   "outputs": [
    {
     "data": {
      "text/plain": [
       "children            0\n",
       "days_employed       0\n",
       "dob_years           0\n",
       "education           0\n",
       "education_id        0\n",
       "family_status       0\n",
       "family_status_id    0\n",
       "gender              0\n",
       "income_type         0\n",
       "debt                0\n",
       "total_income        0\n",
       "purpose             0\n",
       "dtype: int64"
      ]
     },
     "execution_count": 13,
     "metadata": {},
     "output_type": "execute_result"
    }
   ],
   "source": [
    "data.isna().sum()"
   ]
  },
  {
   "cell_type": "markdown",
   "id": "bd4aeb20",
   "metadata": {
    "deletable": false,
    "editable": false,
    "id": "bd4aeb20"
   },
   "source": [
    "### Изменение типов данных"
   ]
  },
  {
   "cell_type": "markdown",
   "id": "963bfa58",
   "metadata": {
    "deletable": false,
    "id": "963bfa58",
    "tags": [
     "start_task"
    ]
   },
   "source": [
    "Заменю вещественный тип данных в столбце `total_income` на целочисленный "
   ]
  },
  {
   "cell_type": "code",
   "execution_count": 14,
   "id": "73da6ea0",
   "metadata": {
    "id": "73da6ea0"
   },
   "outputs": [],
   "source": [
    "data['total_income'] = data['total_income'].astype(int)"
   ]
  },
  {
   "cell_type": "markdown",
   "id": "d290239e",
   "metadata": {
    "deletable": false,
    "editable": false,
    "id": "d290239e"
   },
   "source": [
    "### Обработка дубликатов"
   ]
  },
  {
   "cell_type": "markdown",
   "id": "1b5844fd",
   "metadata": {
    "deletable": false,
    "id": "1b5844fd",
    "tags": [
     "start_task"
    ]
   },
   "source": [
    "Обработаю неявные дубликаты в столбце `education`. В этом столбце есть одни и те же значения, но записанные по-разному: с использованием заглавных и строчных букв. Приведу их к нижнему регистру"
   ]
  },
  {
   "cell_type": "code",
   "execution_count": 15,
   "id": "3f2504b3",
   "metadata": {
    "id": "3f2504b3"
   },
   "outputs": [
    {
     "data": {
      "text/plain": [
       "0         высшее\n",
       "1        среднее\n",
       "2        среднее\n",
       "3        среднее\n",
       "4        среднее\n",
       "          ...   \n",
       "21520    среднее\n",
       "21521    среднее\n",
       "21522    среднее\n",
       "21523    среднее\n",
       "21524    среднее\n",
       "Name: education, Length: 21402, dtype: object"
      ]
     },
     "execution_count": 15,
     "metadata": {},
     "output_type": "execute_result"
    }
   ],
   "source": [
    "data['education'] = data['education'].str.lower()\n",
    "data['education']"
   ]
  },
  {
   "cell_type": "code",
   "execution_count": 16,
   "id": "d34a4325",
   "metadata": {
    "id": "d34a4325"
   },
   "outputs": [
    {
     "data": {
      "text/plain": [
       "71"
      ]
     },
     "execution_count": 16,
     "metadata": {},
     "output_type": "execute_result"
    }
   ],
   "source": [
    "data.duplicated().sum()"
   ]
  },
  {
   "cell_type": "code",
   "execution_count": 17,
   "id": "6e1a6499",
   "metadata": {
    "id": "6e1a6499"
   },
   "outputs": [],
   "source": [
    "data = data.drop_duplicates()"
   ]
  },
  {
   "cell_type": "markdown",
   "id": "e5686ccc",
   "metadata": {
    "deletable": false,
    "editable": false,
    "id": "e5686ccc"
   },
   "source": [
    "### Категоризация данных"
   ]
  },
  {
   "cell_type": "markdown",
   "id": "636e9acd",
   "metadata": {
    "id": "636e9acd",
    "tags": [
     "start_task"
    ]
   },
   "source": [
    "На основании диапазонов, указанных ниже, создам столбец `total_income_category` с категориями дохода:**\n",
    "\n",
    "- 0–30000 — `'E'`;\n",
    "- 30001–50000 — `'D'`;\n",
    "- 50001–200000 — `'C'`;\n",
    "- 200001–1000000 — `'B'`;\n",
    "- 1000001 и выше — `'A'`."
   ]
  },
  {
   "cell_type": "code",
   "execution_count": 18,
   "id": "880a77e5",
   "metadata": {
    "id": "880a77e5"
   },
   "outputs": [],
   "source": [
    "def categorize_income(income): \n",
    "    if income <= 30000: \n",
    "        return 'E'\n",
    "    if income <= 50000: \n",
    "        return 'D'\n",
    "    if income <= 200000: \n",
    "        return 'C'\n",
    "    if income <= 1000000: \n",
    "        return 'B'\n",
    "    if income >= 1000001: \n",
    "        return 'A'"
   ]
  },
  {
   "cell_type": "code",
   "execution_count": 20,
   "id": "6f25f161",
   "metadata": {
    "id": "6f25f161"
   },
   "outputs": [
    {
     "data": {
      "text/html": [
       "<div>\n",
       "<style scoped>\n",
       "    .dataframe tbody tr th:only-of-type {\n",
       "        vertical-align: middle;\n",
       "    }\n",
       "\n",
       "    .dataframe tbody tr th {\n",
       "        vertical-align: top;\n",
       "    }\n",
       "\n",
       "    .dataframe thead th {\n",
       "        text-align: right;\n",
       "    }\n",
       "</style>\n",
       "<table border=\"1\" class=\"dataframe\">\n",
       "  <thead>\n",
       "    <tr style=\"text-align: right;\">\n",
       "      <th></th>\n",
       "      <th>children</th>\n",
       "      <th>days_employed</th>\n",
       "      <th>dob_years</th>\n",
       "      <th>education</th>\n",
       "      <th>education_id</th>\n",
       "      <th>family_status</th>\n",
       "      <th>family_status_id</th>\n",
       "      <th>gender</th>\n",
       "      <th>income_type</th>\n",
       "      <th>debt</th>\n",
       "      <th>total_income</th>\n",
       "      <th>purpose</th>\n",
       "      <th>total_income_category</th>\n",
       "    </tr>\n",
       "  </thead>\n",
       "  <tbody>\n",
       "    <tr>\n",
       "      <th>0</th>\n",
       "      <td>1</td>\n",
       "      <td>8437.673028</td>\n",
       "      <td>42</td>\n",
       "      <td>высшее</td>\n",
       "      <td>0</td>\n",
       "      <td>женат / замужем</td>\n",
       "      <td>0</td>\n",
       "      <td>F</td>\n",
       "      <td>сотрудник</td>\n",
       "      <td>0</td>\n",
       "      <td>253875</td>\n",
       "      <td>покупка жилья</td>\n",
       "      <td>B</td>\n",
       "    </tr>\n",
       "    <tr>\n",
       "      <th>1</th>\n",
       "      <td>1</td>\n",
       "      <td>4024.803754</td>\n",
       "      <td>36</td>\n",
       "      <td>среднее</td>\n",
       "      <td>1</td>\n",
       "      <td>женат / замужем</td>\n",
       "      <td>0</td>\n",
       "      <td>F</td>\n",
       "      <td>сотрудник</td>\n",
       "      <td>0</td>\n",
       "      <td>112080</td>\n",
       "      <td>приобретение автомобиля</td>\n",
       "      <td>C</td>\n",
       "    </tr>\n",
       "    <tr>\n",
       "      <th>2</th>\n",
       "      <td>0</td>\n",
       "      <td>5623.422610</td>\n",
       "      <td>33</td>\n",
       "      <td>среднее</td>\n",
       "      <td>1</td>\n",
       "      <td>женат / замужем</td>\n",
       "      <td>0</td>\n",
       "      <td>M</td>\n",
       "      <td>сотрудник</td>\n",
       "      <td>0</td>\n",
       "      <td>145885</td>\n",
       "      <td>покупка жилья</td>\n",
       "      <td>C</td>\n",
       "    </tr>\n",
       "    <tr>\n",
       "      <th>3</th>\n",
       "      <td>3</td>\n",
       "      <td>4124.747207</td>\n",
       "      <td>32</td>\n",
       "      <td>среднее</td>\n",
       "      <td>1</td>\n",
       "      <td>женат / замужем</td>\n",
       "      <td>0</td>\n",
       "      <td>M</td>\n",
       "      <td>сотрудник</td>\n",
       "      <td>0</td>\n",
       "      <td>267628</td>\n",
       "      <td>дополнительное образование</td>\n",
       "      <td>B</td>\n",
       "    </tr>\n",
       "    <tr>\n",
       "      <th>4</th>\n",
       "      <td>0</td>\n",
       "      <td>340266.072047</td>\n",
       "      <td>53</td>\n",
       "      <td>среднее</td>\n",
       "      <td>1</td>\n",
       "      <td>гражданский брак</td>\n",
       "      <td>1</td>\n",
       "      <td>F</td>\n",
       "      <td>пенсионер</td>\n",
       "      <td>0</td>\n",
       "      <td>158616</td>\n",
       "      <td>сыграть свадьбу</td>\n",
       "      <td>C</td>\n",
       "    </tr>\n",
       "    <tr>\n",
       "      <th>...</th>\n",
       "      <td>...</td>\n",
       "      <td>...</td>\n",
       "      <td>...</td>\n",
       "      <td>...</td>\n",
       "      <td>...</td>\n",
       "      <td>...</td>\n",
       "      <td>...</td>\n",
       "      <td>...</td>\n",
       "      <td>...</td>\n",
       "      <td>...</td>\n",
       "      <td>...</td>\n",
       "      <td>...</td>\n",
       "      <td>...</td>\n",
       "    </tr>\n",
       "    <tr>\n",
       "      <th>21520</th>\n",
       "      <td>1</td>\n",
       "      <td>4529.316663</td>\n",
       "      <td>43</td>\n",
       "      <td>среднее</td>\n",
       "      <td>1</td>\n",
       "      <td>гражданский брак</td>\n",
       "      <td>1</td>\n",
       "      <td>F</td>\n",
       "      <td>компаньон</td>\n",
       "      <td>0</td>\n",
       "      <td>224791</td>\n",
       "      <td>операции с жильем</td>\n",
       "      <td>B</td>\n",
       "    </tr>\n",
       "    <tr>\n",
       "      <th>21521</th>\n",
       "      <td>0</td>\n",
       "      <td>343937.404131</td>\n",
       "      <td>67</td>\n",
       "      <td>среднее</td>\n",
       "      <td>1</td>\n",
       "      <td>женат / замужем</td>\n",
       "      <td>0</td>\n",
       "      <td>F</td>\n",
       "      <td>пенсионер</td>\n",
       "      <td>0</td>\n",
       "      <td>155999</td>\n",
       "      <td>сделка с автомобилем</td>\n",
       "      <td>C</td>\n",
       "    </tr>\n",
       "    <tr>\n",
       "      <th>21522</th>\n",
       "      <td>1</td>\n",
       "      <td>2113.346888</td>\n",
       "      <td>38</td>\n",
       "      <td>среднее</td>\n",
       "      <td>1</td>\n",
       "      <td>гражданский брак</td>\n",
       "      <td>1</td>\n",
       "      <td>M</td>\n",
       "      <td>сотрудник</td>\n",
       "      <td>1</td>\n",
       "      <td>89672</td>\n",
       "      <td>недвижимость</td>\n",
       "      <td>C</td>\n",
       "    </tr>\n",
       "    <tr>\n",
       "      <th>21523</th>\n",
       "      <td>3</td>\n",
       "      <td>3112.481705</td>\n",
       "      <td>38</td>\n",
       "      <td>среднее</td>\n",
       "      <td>1</td>\n",
       "      <td>женат / замужем</td>\n",
       "      <td>0</td>\n",
       "      <td>M</td>\n",
       "      <td>сотрудник</td>\n",
       "      <td>1</td>\n",
       "      <td>244093</td>\n",
       "      <td>на покупку своего автомобиля</td>\n",
       "      <td>B</td>\n",
       "    </tr>\n",
       "    <tr>\n",
       "      <th>21524</th>\n",
       "      <td>2</td>\n",
       "      <td>1984.507589</td>\n",
       "      <td>40</td>\n",
       "      <td>среднее</td>\n",
       "      <td>1</td>\n",
       "      <td>женат / замужем</td>\n",
       "      <td>0</td>\n",
       "      <td>F</td>\n",
       "      <td>сотрудник</td>\n",
       "      <td>0</td>\n",
       "      <td>82047</td>\n",
       "      <td>на покупку автомобиля</td>\n",
       "      <td>C</td>\n",
       "    </tr>\n",
       "  </tbody>\n",
       "</table>\n",
       "<p>21331 rows × 13 columns</p>\n",
       "</div>"
      ],
      "text/plain": [
       "       children  days_employed  dob_years education  education_id  \\\n",
       "0             1    8437.673028         42    высшее             0   \n",
       "1             1    4024.803754         36   среднее             1   \n",
       "2             0    5623.422610         33   среднее             1   \n",
       "3             3    4124.747207         32   среднее             1   \n",
       "4             0  340266.072047         53   среднее             1   \n",
       "...         ...            ...        ...       ...           ...   \n",
       "21520         1    4529.316663         43   среднее             1   \n",
       "21521         0  343937.404131         67   среднее             1   \n",
       "21522         1    2113.346888         38   среднее             1   \n",
       "21523         3    3112.481705         38   среднее             1   \n",
       "21524         2    1984.507589         40   среднее             1   \n",
       "\n",
       "          family_status  family_status_id gender income_type  debt  \\\n",
       "0       женат / замужем                 0      F   сотрудник     0   \n",
       "1       женат / замужем                 0      F   сотрудник     0   \n",
       "2       женат / замужем                 0      M   сотрудник     0   \n",
       "3       женат / замужем                 0      M   сотрудник     0   \n",
       "4      гражданский брак                 1      F   пенсионер     0   \n",
       "...                 ...               ...    ...         ...   ...   \n",
       "21520  гражданский брак                 1      F   компаньон     0   \n",
       "21521   женат / замужем                 0      F   пенсионер     0   \n",
       "21522  гражданский брак                 1      M   сотрудник     1   \n",
       "21523   женат / замужем                 0      M   сотрудник     1   \n",
       "21524   женат / замужем                 0      F   сотрудник     0   \n",
       "\n",
       "       total_income                       purpose total_income_category  \n",
       "0            253875                 покупка жилья                     B  \n",
       "1            112080       приобретение автомобиля                     C  \n",
       "2            145885                 покупка жилья                     C  \n",
       "3            267628    дополнительное образование                     B  \n",
       "4            158616               сыграть свадьбу                     C  \n",
       "...             ...                           ...                   ...  \n",
       "21520        224791             операции с жильем                     B  \n",
       "21521        155999          сделка с автомобилем                     C  \n",
       "21522         89672                  недвижимость                     C  \n",
       "21523        244093  на покупку своего автомобиля                     B  \n",
       "21524         82047         на покупку автомобиля                     C  \n",
       "\n",
       "[21331 rows x 13 columns]"
      ]
     },
     "execution_count": 20,
     "metadata": {},
     "output_type": "execute_result"
    }
   ],
   "source": [
    "data['total_income_category'] = data['total_income'].apply(categorize_income)\n",
    "data"
   ]
  },
  {
   "cell_type": "code",
   "execution_count": 21,
   "id": "e59f2c15",
   "metadata": {
    "id": "e59f2c15"
   },
   "outputs": [
    {
     "data": {
      "text/plain": [
       "array(['покупка жилья', 'приобретение автомобиля',\n",
       "       'дополнительное образование', 'сыграть свадьбу',\n",
       "       'операции с жильем', 'образование', 'на проведение свадьбы',\n",
       "       'покупка жилья для семьи', 'покупка недвижимости',\n",
       "       'покупка коммерческой недвижимости', 'покупка жилой недвижимости',\n",
       "       'строительство собственной недвижимости', 'недвижимость',\n",
       "       'строительство недвижимости', 'на покупку подержанного автомобиля',\n",
       "       'на покупку своего автомобиля',\n",
       "       'операции с коммерческой недвижимостью',\n",
       "       'строительство жилой недвижимости', 'жилье',\n",
       "       'операции со своей недвижимостью', 'автомобили',\n",
       "       'заняться образованием', 'сделка с подержанным автомобилем',\n",
       "       'получение образования', 'автомобиль', 'свадьба',\n",
       "       'получение дополнительного образования', 'покупка своего жилья',\n",
       "       'операции с недвижимостью', 'получение высшего образования',\n",
       "       'свой автомобиль', 'сделка с автомобилем',\n",
       "       'профильное образование', 'высшее образование',\n",
       "       'покупка жилья для сдачи', 'на покупку автомобиля', 'ремонт жилью',\n",
       "       'заняться высшим образованием'], dtype=object)"
      ]
     },
     "execution_count": 21,
     "metadata": {},
     "output_type": "execute_result"
    }
   ],
   "source": [
    "data['purpose'].unique()"
   ]
  },
  {
   "cell_type": "markdown",
   "id": "bb33e847",
   "metadata": {
    "id": "bb33e847",
    "tags": [
     "start_task"
    ]
   },
   "source": [
    "Поскольку у столбце с целями кредита много разных формулировок для одной цели, исполькую категоризацию. Создам функцию, которая на основании данных из столбца `purpose` сформирует новый столбец `purpose_category`, в который войдут следующие категории целей кредита:**\n",
    "\n",
    "- `'операции с автомобилем'`,\n",
    "- `'операции с недвижимостью'`,\n",
    "- `'проведение свадьбы'`,\n",
    "- `'получение образования'`.\n"
   ]
  },
  {
   "cell_type": "code",
   "execution_count": 123,
   "id": "63909b83",
   "metadata": {
    "id": "63909b83"
   },
   "outputs": [],
   "source": [
    "def categorize_purpose(purpose):\n",
    "    \n",
    "    if 'авто' in purpose : \n",
    "        return 'операции с автомобилем'\n",
    "    \n",
    "    if 'недвижимост'  in purpose: \n",
    "        return 'операции с недвижимостью'\n",
    "    if 'жил' in purpose: \n",
    "        return 'операции с недвижимостью'\n",
    "    if 'свадьб' in purpose : \n",
    "        return 'проведение свадьбы'\n",
    "    \n",
    "    if 'образовани' in purpose : \n",
    "        return 'получение образования'"
   ]
  },
  {
   "cell_type": "code",
   "execution_count": 124,
   "id": "7cb4a81d",
   "metadata": {
    "id": "7cb4a81d"
   },
   "outputs": [
    {
     "data": {
      "text/plain": [
       "array(['операции с недвижимостью', 'операции с автомобилем',\n",
       "       'получение образования', 'проведение свадьбы'], dtype=object)"
      ]
     },
     "execution_count": 124,
     "metadata": {},
     "output_type": "execute_result"
    }
   ],
   "source": [
    "data['purpose_category'] = data['purpose'].apply(categorize_purpose)\n",
    "data['purpose_category'].unique()"
   ]
  }
 ],
 "metadata": {
  "ExecuteTimeLog": [
   {
    "duration": 402,
    "start_time": "2023-07-04T11:09:39.781Z"
   },
   {
    "duration": 136,
    "start_time": "2023-07-04T11:10:13.757Z"
   },
   {
    "duration": 23,
    "start_time": "2023-07-04T11:10:25.406Z"
   },
   {
    "duration": 18,
    "start_time": "2023-07-04T11:12:55.402Z"
   },
   {
    "duration": 10,
    "start_time": "2023-07-04T11:15:15.850Z"
   },
   {
    "duration": 8,
    "start_time": "2023-07-04T11:19:16.930Z"
   },
   {
    "duration": 6,
    "start_time": "2023-07-04T11:23:51.330Z"
   },
   {
    "duration": 5,
    "start_time": "2023-07-04T11:24:05.164Z"
   },
   {
    "duration": 6,
    "start_time": "2023-07-04T11:24:13.654Z"
   },
   {
    "duration": 7,
    "start_time": "2023-07-04T11:25:05.674Z"
   },
   {
    "duration": 18,
    "start_time": "2023-07-04T11:26:14.218Z"
   },
   {
    "duration": 87,
    "start_time": "2023-07-04T11:26:57.034Z"
   },
   {
    "duration": 8,
    "start_time": "2023-07-04T11:27:06.137Z"
   },
   {
    "duration": 65,
    "start_time": "2023-07-04T11:38:51.346Z"
   },
   {
    "duration": 72,
    "start_time": "2023-07-04T11:39:57.332Z"
   },
   {
    "duration": 77,
    "start_time": "2023-07-04T11:41:12.687Z"
   },
   {
    "duration": 37,
    "start_time": "2023-07-04T11:45:18.999Z"
   },
   {
    "duration": 86,
    "start_time": "2023-07-04T11:45:32.292Z"
   },
   {
    "duration": 44,
    "start_time": "2023-07-04T11:46:58.395Z"
   },
   {
    "duration": 139,
    "start_time": "2023-07-04T12:01:03.155Z"
   },
   {
    "duration": 40,
    "start_time": "2023-07-04T12:01:25.395Z"
   },
   {
    "duration": 7,
    "start_time": "2023-07-04T12:05:27.006Z"
   },
   {
    "duration": 8,
    "start_time": "2023-07-04T12:15:40.503Z"
   },
   {
    "duration": 15,
    "start_time": "2023-07-04T12:15:47.363Z"
   },
   {
    "duration": 7,
    "start_time": "2023-07-04T12:15:57.408Z"
   },
   {
    "duration": 9,
    "start_time": "2023-07-04T12:24:16.816Z"
   },
   {
    "duration": 7,
    "start_time": "2023-07-04T12:24:33.042Z"
   },
   {
    "duration": 10,
    "start_time": "2023-07-04T12:24:51.018Z"
   },
   {
    "duration": 10,
    "start_time": "2023-07-04T12:27:34.236Z"
   },
   {
    "duration": 11,
    "start_time": "2023-07-04T12:32:52.507Z"
   },
   {
    "duration": 9,
    "start_time": "2023-07-04T12:41:09.623Z"
   },
   {
    "duration": 4,
    "start_time": "2023-07-04T12:41:19.815Z"
   },
   {
    "duration": 47,
    "start_time": "2023-07-04T12:41:26.416Z"
   },
   {
    "duration": 3,
    "start_time": "2023-07-04T12:41:28.124Z"
   },
   {
    "duration": 14,
    "start_time": "2023-07-04T12:41:31.764Z"
   },
   {
    "duration": 5,
    "start_time": "2023-07-04T12:42:42.036Z"
   },
   {
    "duration": 7,
    "start_time": "2023-07-04T12:43:15.743Z"
   },
   {
    "duration": 3,
    "start_time": "2023-07-04T12:52:54.166Z"
   },
   {
    "duration": 97,
    "start_time": "2023-07-04T12:52:54.606Z"
   },
   {
    "duration": 17,
    "start_time": "2023-07-04T12:52:54.705Z"
   },
   {
    "duration": 26,
    "start_time": "2023-07-04T12:52:55.446Z"
   },
   {
    "duration": 10,
    "start_time": "2023-07-04T12:52:56.356Z"
   },
   {
    "duration": 42,
    "start_time": "2023-07-04T12:52:57.236Z"
   },
   {
    "duration": 5,
    "start_time": "2023-07-04T12:52:59.957Z"
   },
   {
    "duration": 10,
    "start_time": "2023-07-04T12:53:00.958Z"
   },
   {
    "duration": 4,
    "start_time": "2023-07-04T12:53:03.334Z"
   },
   {
    "duration": 7,
    "start_time": "2023-07-04T12:55:36.510Z"
   },
   {
    "duration": 5,
    "start_time": "2023-07-04T12:55:58.332Z"
   },
   {
    "duration": 34,
    "start_time": "2023-07-04T13:07:34.372Z"
   },
   {
    "duration": 10,
    "start_time": "2023-07-04T13:08:18.330Z"
   },
   {
    "duration": 4,
    "start_time": "2023-07-04T13:09:19.108Z"
   },
   {
    "duration": 19,
    "start_time": "2023-07-04T13:10:30.436Z"
   },
   {
    "duration": 8,
    "start_time": "2023-07-04T13:11:13.421Z"
   },
   {
    "duration": 7,
    "start_time": "2023-07-04T13:11:40.416Z"
   },
   {
    "duration": 6,
    "start_time": "2023-07-04T13:11:48.517Z"
   },
   {
    "duration": 6,
    "start_time": "2023-07-04T13:12:16.819Z"
   },
   {
    "duration": 5,
    "start_time": "2023-07-04T13:12:47.816Z"
   },
   {
    "duration": 7,
    "start_time": "2023-07-04T13:12:49.436Z"
   },
   {
    "duration": 5,
    "start_time": "2023-07-04T13:13:23.022Z"
   },
   {
    "duration": 6,
    "start_time": "2023-07-04T13:13:45.712Z"
   },
   {
    "duration": 8,
    "start_time": "2023-07-04T13:14:06.941Z"
   },
   {
    "duration": 4,
    "start_time": "2023-07-04T13:18:09.131Z"
   },
   {
    "duration": 6,
    "start_time": "2023-07-04T13:18:10.904Z"
   },
   {
    "duration": 7,
    "start_time": "2023-07-04T13:18:12.956Z"
   },
   {
    "duration": 7,
    "start_time": "2023-07-04T13:18:27.764Z"
   },
   {
    "duration": 6,
    "start_time": "2023-07-04T13:18:33.058Z"
   },
   {
    "duration": 4,
    "start_time": "2023-07-04T13:18:46.532Z"
   },
   {
    "duration": 9,
    "start_time": "2023-07-04T13:21:53.123Z"
   },
   {
    "duration": 8,
    "start_time": "2023-07-04T13:23:03.133Z"
   },
   {
    "duration": 7,
    "start_time": "2023-07-04T13:23:25.012Z"
   },
   {
    "duration": 9,
    "start_time": "2023-07-04T13:23:32.206Z"
   },
   {
    "duration": 9,
    "start_time": "2023-07-04T13:24:08.221Z"
   },
   {
    "duration": 10,
    "start_time": "2023-07-04T13:24:13.708Z"
   },
   {
    "duration": 11,
    "start_time": "2023-07-04T13:25:00.904Z"
   },
   {
    "duration": 9,
    "start_time": "2023-07-04T13:25:12.250Z"
   },
   {
    "duration": 62,
    "start_time": "2023-07-04T13:25:57.819Z"
   },
   {
    "duration": 772,
    "start_time": "2023-07-04T13:26:09.358Z"
   },
   {
    "duration": 1106,
    "start_time": "2023-07-04T13:26:26.924Z"
   },
   {
    "duration": 771,
    "start_time": "2023-07-04T13:26:35.732Z"
   },
   {
    "duration": 8,
    "start_time": "2023-07-04T13:28:27.004Z"
   },
   {
    "duration": 1986,
    "start_time": "2023-07-04T13:30:14.307Z"
   },
   {
    "duration": 0,
    "start_time": "2023-07-04T13:30:16.296Z"
   },
   {
    "duration": 9,
    "start_time": "2023-07-04T13:30:30.958Z"
   },
   {
    "duration": 863,
    "start_time": "2023-07-04T13:30:49.973Z"
   },
   {
    "duration": 805,
    "start_time": "2023-07-04T13:30:54.867Z"
   },
   {
    "duration": 783,
    "start_time": "2023-07-04T13:30:59.242Z"
   },
   {
    "duration": 922,
    "start_time": "2023-07-04T13:31:10.221Z"
   },
   {
    "duration": 5,
    "start_time": "2023-07-04T13:31:18.324Z"
   },
   {
    "duration": 1052,
    "start_time": "2023-07-04T13:31:26.043Z"
   },
   {
    "duration": 3,
    "start_time": "2023-07-04T13:31:31.274Z"
   },
   {
    "duration": 76,
    "start_time": "2023-07-04T13:31:32.164Z"
   },
   {
    "duration": 16,
    "start_time": "2023-07-04T13:31:34.716Z"
   },
   {
    "duration": 21,
    "start_time": "2023-07-04T13:31:37.727Z"
   },
   {
    "duration": 11,
    "start_time": "2023-07-04T13:31:42.415Z"
   },
   {
    "duration": 39,
    "start_time": "2023-07-04T13:31:44.235Z"
   },
   {
    "duration": 4,
    "start_time": "2023-07-04T13:31:48.535Z"
   },
   {
    "duration": 10,
    "start_time": "2023-07-04T13:31:51.165Z"
   },
   {
    "duration": 5,
    "start_time": "2023-07-04T13:31:54.604Z"
   },
   {
    "duration": 9,
    "start_time": "2023-07-04T13:31:56.167Z"
   },
   {
    "duration": 7,
    "start_time": "2023-07-04T13:32:06.244Z"
   },
   {
    "duration": 5,
    "start_time": "2023-07-04T13:32:12.733Z"
   },
   {
    "duration": 33,
    "start_time": "2023-07-04T13:32:18.166Z"
   },
   {
    "duration": 11,
    "start_time": "2023-07-04T13:32:21.075Z"
   },
   {
    "duration": 4,
    "start_time": "2023-07-04T13:32:26.163Z"
   },
   {
    "duration": 12,
    "start_time": "2023-07-04T13:32:29.862Z"
   },
   {
    "duration": 7,
    "start_time": "2023-07-04T13:32:31.818Z"
   },
   {
    "duration": 9,
    "start_time": "2023-07-04T13:32:36.420Z"
   },
   {
    "duration": 5,
    "start_time": "2023-07-04T13:33:25.451Z"
   },
   {
    "duration": 6,
    "start_time": "2023-07-04T13:33:39.491Z"
   },
   {
    "duration": 4,
    "start_time": "2023-07-04T13:33:51.518Z"
   },
   {
    "duration": 747,
    "start_time": "2023-07-04T13:33:53.114Z"
   },
   {
    "duration": 786,
    "start_time": "2023-07-04T13:34:02.956Z"
   },
   {
    "duration": 899,
    "start_time": "2023-07-04T13:34:30.218Z"
   },
   {
    "duration": 797,
    "start_time": "2023-07-04T13:34:32.312Z"
   },
   {
    "duration": 872,
    "start_time": "2023-07-04T13:34:45.874Z"
   },
   {
    "duration": 970,
    "start_time": "2023-07-04T13:34:49.254Z"
   },
   {
    "duration": 3,
    "start_time": "2023-07-04T13:34:55.514Z"
   },
   {
    "duration": 71,
    "start_time": "2023-07-04T13:34:56.218Z"
   },
   {
    "duration": 17,
    "start_time": "2023-07-04T13:34:57.720Z"
   },
   {
    "duration": 18,
    "start_time": "2023-07-04T13:34:58.712Z"
   },
   {
    "duration": 11,
    "start_time": "2023-07-04T13:35:00.404Z"
   },
   {
    "duration": 36,
    "start_time": "2023-07-04T13:35:01.396Z"
   },
   {
    "duration": 4,
    "start_time": "2023-07-04T13:35:02.765Z"
   },
   {
    "duration": 9,
    "start_time": "2023-07-04T13:35:03.675Z"
   },
   {
    "duration": 5,
    "start_time": "2023-07-04T13:35:05.196Z"
   },
   {
    "duration": 6,
    "start_time": "2023-07-04T13:35:06.222Z"
   },
   {
    "duration": 4,
    "start_time": "2023-07-04T13:35:08.362Z"
   },
   {
    "duration": 33,
    "start_time": "2023-07-04T13:35:10.171Z"
   },
   {
    "duration": 10,
    "start_time": "2023-07-04T13:35:11.262Z"
   },
   {
    "duration": 4,
    "start_time": "2023-07-04T13:35:16.607Z"
   },
   {
    "duration": 12,
    "start_time": "2023-07-04T13:35:19.677Z"
   },
   {
    "duration": 7,
    "start_time": "2023-07-04T13:35:30.519Z"
   },
   {
    "duration": 14,
    "start_time": "2023-07-04T13:35:33.919Z"
   },
   {
    "duration": 7,
    "start_time": "2023-07-04T13:37:30.723Z"
   },
   {
    "duration": 6,
    "start_time": "2023-07-04T13:37:34.107Z"
   },
   {
    "duration": 6,
    "start_time": "2023-07-04T13:38:26.596Z"
   },
   {
    "duration": 6,
    "start_time": "2023-07-04T13:39:13.498Z"
   },
   {
    "duration": 3,
    "start_time": "2023-07-04T13:39:29.556Z"
   },
   {
    "duration": 5,
    "start_time": "2023-07-04T13:39:44.366Z"
   },
   {
    "duration": 6,
    "start_time": "2023-07-04T13:40:08.925Z"
   },
   {
    "duration": 5,
    "start_time": "2023-07-04T13:40:10.331Z"
   },
   {
    "duration": 65,
    "start_time": "2023-07-04T13:40:25.636Z"
   },
   {
    "duration": 7,
    "start_time": "2023-07-04T13:40:42.387Z"
   },
   {
    "duration": 7,
    "start_time": "2023-07-04T13:41:17.458Z"
   },
   {
    "duration": 7,
    "start_time": "2023-07-04T13:41:35.005Z"
   },
   {
    "duration": 5,
    "start_time": "2023-07-04T13:41:48.077Z"
   },
   {
    "duration": 6,
    "start_time": "2023-07-04T13:41:49.216Z"
   },
   {
    "duration": 6,
    "start_time": "2023-07-04T13:41:54.835Z"
   },
   {
    "duration": 6,
    "start_time": "2023-07-04T13:41:59.919Z"
   },
   {
    "duration": 8,
    "start_time": "2023-07-04T13:42:34.302Z"
   },
   {
    "duration": 8,
    "start_time": "2023-07-04T13:42:40.252Z"
   },
   {
    "duration": 5,
    "start_time": "2023-07-04T13:42:45.943Z"
   },
   {
    "duration": 3,
    "start_time": "2023-07-04T13:43:03.318Z"
   },
   {
    "duration": 8,
    "start_time": "2023-07-04T13:43:05.156Z"
   },
   {
    "duration": 6,
    "start_time": "2023-07-04T13:43:06.131Z"
   },
   {
    "duration": 10,
    "start_time": "2023-07-04T13:43:24.940Z"
   },
   {
    "duration": 17,
    "start_time": "2023-07-04T13:43:39.624Z"
   },
   {
    "duration": 10,
    "start_time": "2023-07-04T13:44:04.206Z"
   },
   {
    "duration": 6,
    "start_time": "2023-07-04T13:44:07.534Z"
   },
   {
    "duration": 6,
    "start_time": "2023-07-04T13:44:27.512Z"
   },
   {
    "duration": 5,
    "start_time": "2023-07-04T13:45:22.768Z"
   },
   {
    "duration": 13,
    "start_time": "2023-07-04T13:45:30.354Z"
   },
   {
    "duration": 7,
    "start_time": "2023-07-04T13:45:34.812Z"
   },
   {
    "duration": 8,
    "start_time": "2023-07-04T13:45:35.679Z"
   },
   {
    "duration": 7,
    "start_time": "2023-07-04T13:45:36.494Z"
   },
   {
    "duration": 15,
    "start_time": "2023-07-04T13:49:13.731Z"
   },
   {
    "duration": 8,
    "start_time": "2023-07-04T13:49:23.975Z"
   },
   {
    "duration": 4,
    "start_time": "2023-07-04T13:49:47.211Z"
   },
   {
    "duration": 9,
    "start_time": "2023-07-04T13:50:16.490Z"
   },
   {
    "duration": 8,
    "start_time": "2023-07-04T13:50:21.741Z"
   },
   {
    "duration": 3,
    "start_time": "2023-07-04T13:50:29.804Z"
   },
   {
    "duration": 88,
    "start_time": "2023-07-04T13:50:30.293Z"
   },
   {
    "duration": 26,
    "start_time": "2023-07-04T13:50:31.531Z"
   },
   {
    "duration": 22,
    "start_time": "2023-07-04T13:50:32.541Z"
   },
   {
    "duration": 16,
    "start_time": "2023-07-04T13:50:33.436Z"
   },
   {
    "duration": 44,
    "start_time": "2023-07-04T13:50:34.644Z"
   },
   {
    "duration": 5,
    "start_time": "2023-07-04T13:50:35.930Z"
   },
   {
    "duration": 13,
    "start_time": "2023-07-04T13:50:37.059Z"
   },
   {
    "duration": 6,
    "start_time": "2023-07-04T13:50:38.422Z"
   },
   {
    "duration": 9,
    "start_time": "2023-07-04T13:50:39.488Z"
   },
   {
    "duration": 8,
    "start_time": "2023-07-04T13:50:40.579Z"
   },
   {
    "duration": 53,
    "start_time": "2023-07-04T13:50:42.220Z"
   },
   {
    "duration": 16,
    "start_time": "2023-07-04T13:50:43.314Z"
   },
   {
    "duration": 6,
    "start_time": "2023-07-04T13:50:44.918Z"
   },
   {
    "duration": 23,
    "start_time": "2023-07-04T13:50:46.339Z"
   },
   {
    "duration": 468,
    "start_time": "2023-07-04T15:27:03.453Z"
   },
   {
    "duration": 197,
    "start_time": "2023-07-04T15:27:03.924Z"
   },
   {
    "duration": 27,
    "start_time": "2023-07-04T15:27:06.214Z"
   },
   {
    "duration": 16,
    "start_time": "2023-07-04T15:27:07.425Z"
   },
   {
    "duration": 10,
    "start_time": "2023-07-04T15:27:09.230Z"
   },
   {
    "duration": 44,
    "start_time": "2023-07-04T15:27:11.166Z"
   },
   {
    "duration": 4,
    "start_time": "2023-07-04T15:27:12.460Z"
   },
   {
    "duration": 10,
    "start_time": "2023-07-04T15:27:13.126Z"
   },
   {
    "duration": 7,
    "start_time": "2023-07-04T15:27:13.950Z"
   },
   {
    "duration": 10,
    "start_time": "2023-07-04T15:27:14.766Z"
   },
   {
    "duration": 6,
    "start_time": "2023-07-04T15:27:15.192Z"
   },
   {
    "duration": 38,
    "start_time": "2023-07-04T15:27:15.826Z"
   },
   {
    "duration": 10,
    "start_time": "2023-07-04T15:27:16.422Z"
   },
   {
    "duration": 4,
    "start_time": "2023-07-04T15:27:17.334Z"
   },
   {
    "duration": 15,
    "start_time": "2023-07-04T15:27:20.276Z"
   },
   {
    "duration": 23,
    "start_time": "2023-07-04T15:27:20.624Z"
   },
   {
    "duration": 21,
    "start_time": "2023-07-04T15:27:20.789Z"
   },
   {
    "duration": 5,
    "start_time": "2023-07-04T15:27:42.861Z"
   },
   {
    "duration": 74,
    "start_time": "2023-07-04T15:27:46.813Z"
   },
   {
    "duration": 31,
    "start_time": "2023-07-04T15:28:49.729Z"
   },
   {
    "duration": 8,
    "start_time": "2023-07-04T15:30:54.147Z"
   },
   {
    "duration": 70,
    "start_time": "2023-07-04T15:43:01.815Z"
   },
   {
    "duration": 10,
    "start_time": "2023-07-04T15:43:18.327Z"
   },
   {
    "duration": 6,
    "start_time": "2023-07-04T15:43:54.064Z"
   },
   {
    "duration": 4,
    "start_time": "2023-07-04T15:43:56.327Z"
   },
   {
    "duration": 309,
    "start_time": "2023-07-04T15:43:57.347Z"
   },
   {
    "duration": 16,
    "start_time": "2023-07-04T15:44:49.066Z"
   },
   {
    "duration": 39,
    "start_time": "2023-07-04T15:44:50.547Z"
   },
   {
    "duration": 156,
    "start_time": "2023-07-04T15:45:39.828Z"
   },
   {
    "duration": 72,
    "start_time": "2023-07-04T15:45:51.735Z"
   },
   {
    "duration": 38,
    "start_time": "2023-07-04T15:45:53.323Z"
   },
   {
    "duration": 75,
    "start_time": "2023-07-04T15:46:14.658Z"
   },
   {
    "duration": 30,
    "start_time": "2023-07-04T15:46:19.442Z"
   },
   {
    "duration": 13,
    "start_time": "2023-07-04T15:46:56.227Z"
   },
   {
    "duration": 15,
    "start_time": "2023-07-04T15:47:12.036Z"
   },
   {
    "duration": 76,
    "start_time": "2023-07-04T15:47:51.419Z"
   },
   {
    "duration": 5,
    "start_time": "2023-07-04T15:48:01.628Z"
   },
   {
    "duration": 15,
    "start_time": "2023-07-04T15:48:03.334Z"
   },
   {
    "duration": 4,
    "start_time": "2023-07-04T15:48:36.862Z"
   },
   {
    "duration": 5,
    "start_time": "2023-07-04T15:50:18.636Z"
   },
   {
    "duration": 14,
    "start_time": "2023-07-04T15:50:19.132Z"
   },
   {
    "duration": 5,
    "start_time": "2023-07-04T15:50:31.455Z"
   },
   {
    "duration": 14,
    "start_time": "2023-07-04T15:50:32.620Z"
   },
   {
    "duration": 4,
    "start_time": "2023-07-04T15:53:35.528Z"
   },
   {
    "duration": 14,
    "start_time": "2023-07-04T15:53:36.257Z"
   },
   {
    "duration": 5,
    "start_time": "2023-07-04T15:54:12.669Z"
   },
   {
    "duration": 265,
    "start_time": "2023-07-04T15:54:13.465Z"
   },
   {
    "duration": 6,
    "start_time": "2023-07-04T15:54:36.458Z"
   },
   {
    "duration": 14,
    "start_time": "2023-07-04T15:54:37.919Z"
   },
   {
    "duration": 5,
    "start_time": "2023-07-04T15:54:42.821Z"
   },
   {
    "duration": 24,
    "start_time": "2023-07-04T15:54:44.030Z"
   },
   {
    "duration": 5,
    "start_time": "2023-07-04T15:55:04.951Z"
   },
   {
    "duration": 15,
    "start_time": "2023-07-04T15:55:06.229Z"
   },
   {
    "duration": 5,
    "start_time": "2023-07-04T15:56:53.034Z"
   },
   {
    "duration": 20,
    "start_time": "2023-07-04T15:56:53.691Z"
   },
   {
    "duration": 38,
    "start_time": "2023-07-04T16:02:17.744Z"
   },
   {
    "duration": 15,
    "start_time": "2023-07-04T16:02:35.022Z"
   },
   {
    "duration": 4,
    "start_time": "2023-07-04T16:02:56.918Z"
   },
   {
    "duration": 16,
    "start_time": "2023-07-04T16:02:57.930Z"
   },
   {
    "duration": 6,
    "start_time": "2023-07-04T16:03:17.326Z"
   },
   {
    "duration": 21,
    "start_time": "2023-07-04T16:03:18.154Z"
   },
   {
    "duration": 6,
    "start_time": "2023-07-04T16:03:27.734Z"
   },
   {
    "duration": 23,
    "start_time": "2023-07-04T16:03:27.854Z"
   },
   {
    "duration": 5,
    "start_time": "2023-07-04T16:03:35.254Z"
   },
   {
    "duration": 306,
    "start_time": "2023-07-04T16:03:36.025Z"
   },
   {
    "duration": 5,
    "start_time": "2023-07-04T16:05:24.530Z"
   },
   {
    "duration": 522,
    "start_time": "2023-07-04T16:05:25.830Z"
   },
   {
    "duration": 4,
    "start_time": "2023-07-04T16:05:53.238Z"
   },
   {
    "duration": 355,
    "start_time": "2023-07-04T16:05:54.909Z"
   },
   {
    "duration": 6,
    "start_time": "2023-07-04T16:06:17.164Z"
   },
   {
    "duration": 482,
    "start_time": "2023-07-04T16:06:18.062Z"
   },
   {
    "duration": 5,
    "start_time": "2023-07-04T16:06:51.512Z"
   },
   {
    "duration": 12,
    "start_time": "2023-07-04T16:06:52.121Z"
   },
   {
    "duration": 5,
    "start_time": "2023-07-04T16:07:56.936Z"
   },
   {
    "duration": 310,
    "start_time": "2023-07-04T16:07:57.431Z"
   },
   {
    "duration": 4,
    "start_time": "2023-07-04T16:08:12.142Z"
   },
   {
    "duration": 16,
    "start_time": "2023-07-04T16:08:13.215Z"
   },
   {
    "duration": 3,
    "start_time": "2023-07-04T16:16:00.651Z"
   },
   {
    "duration": 13,
    "start_time": "2023-07-04T16:16:02.034Z"
   },
   {
    "duration": 3,
    "start_time": "2023-07-04T16:16:53.614Z"
   },
   {
    "duration": 13,
    "start_time": "2023-07-04T16:16:54.509Z"
   },
   {
    "duration": 4,
    "start_time": "2023-07-04T16:17:38.899Z"
   },
   {
    "duration": 12,
    "start_time": "2023-07-04T16:17:39.709Z"
   },
   {
    "duration": 4,
    "start_time": "2023-07-04T16:17:54.652Z"
   },
   {
    "duration": 17,
    "start_time": "2023-07-04T16:17:57.925Z"
   },
   {
    "duration": 4,
    "start_time": "2023-07-04T16:18:13.613Z"
   },
   {
    "duration": 13,
    "start_time": "2023-07-04T16:18:14.825Z"
   },
   {
    "duration": 3,
    "start_time": "2023-07-04T16:18:27.754Z"
   },
   {
    "duration": 13,
    "start_time": "2023-07-04T16:18:28.501Z"
   },
   {
    "duration": 5,
    "start_time": "2023-07-04T16:19:30.322Z"
   },
   {
    "duration": 13,
    "start_time": "2023-07-04T16:19:31.316Z"
   },
   {
    "duration": 5,
    "start_time": "2023-07-04T16:20:33.048Z"
   },
   {
    "duration": 12,
    "start_time": "2023-07-04T16:20:33.836Z"
   },
   {
    "duration": 5,
    "start_time": "2023-07-04T16:21:14.508Z"
   },
   {
    "duration": 12,
    "start_time": "2023-07-04T16:21:15.738Z"
   },
   {
    "duration": 5,
    "start_time": "2023-07-04T16:21:29.499Z"
   },
   {
    "duration": 11,
    "start_time": "2023-07-04T16:21:30.504Z"
   },
   {
    "duration": 5,
    "start_time": "2023-07-04T16:22:13.931Z"
   },
   {
    "duration": 14,
    "start_time": "2023-07-04T16:22:14.832Z"
   },
   {
    "duration": 5,
    "start_time": "2023-07-04T16:22:22.657Z"
   },
   {
    "duration": 4,
    "start_time": "2023-07-04T16:22:30.495Z"
   },
   {
    "duration": 19,
    "start_time": "2023-07-04T16:22:31.582Z"
   },
   {
    "duration": 3,
    "start_time": "2023-07-04T16:22:54.284Z"
   },
   {
    "duration": 11,
    "start_time": "2023-07-04T16:22:54.935Z"
   },
   {
    "duration": 4,
    "start_time": "2023-07-04T16:23:36.315Z"
   },
   {
    "duration": 11,
    "start_time": "2023-07-04T16:23:36.966Z"
   },
   {
    "duration": 4,
    "start_time": "2023-07-04T16:23:44.041Z"
   },
   {
    "duration": 14,
    "start_time": "2023-07-04T16:23:45.018Z"
   },
   {
    "duration": 4,
    "start_time": "2023-07-04T16:24:11.995Z"
   },
   {
    "duration": 14,
    "start_time": "2023-07-04T16:24:12.567Z"
   },
   {
    "duration": 5,
    "start_time": "2023-07-04T16:24:25.231Z"
   },
   {
    "duration": 16,
    "start_time": "2023-07-04T16:24:26.534Z"
   },
   {
    "duration": 4,
    "start_time": "2023-07-04T16:24:53.034Z"
   },
   {
    "duration": 17,
    "start_time": "2023-07-04T16:24:54.015Z"
   },
   {
    "duration": 4,
    "start_time": "2023-07-04T16:25:17.007Z"
   },
   {
    "duration": 18,
    "start_time": "2023-07-04T16:25:17.903Z"
   },
   {
    "duration": 4,
    "start_time": "2023-07-04T16:25:34.935Z"
   },
   {
    "duration": 12,
    "start_time": "2023-07-04T16:25:35.458Z"
   },
   {
    "duration": 4,
    "start_time": "2023-07-04T16:25:48.137Z"
   },
   {
    "duration": 17,
    "start_time": "2023-07-04T16:25:49.111Z"
   },
   {
    "duration": 5,
    "start_time": "2023-07-04T16:26:03.598Z"
   },
   {
    "duration": 14,
    "start_time": "2023-07-04T16:26:05.047Z"
   },
   {
    "duration": 4,
    "start_time": "2023-07-04T16:26:44.699Z"
   },
   {
    "duration": 14,
    "start_time": "2023-07-04T16:26:45.622Z"
   }
  ],
  "celltoolbar": "Edit Metadata",
  "colab": {
   "provenance": []
  },
  "kernelspec": {
   "display_name": "Python 3 (ipykernel)",
   "language": "python",
   "name": "python3"
  },
  "language_info": {
   "codemirror_mode": {
    "name": "ipython",
    "version": 3
   },
   "file_extension": ".py",
   "mimetype": "text/x-python",
   "name": "python",
   "nbconvert_exporter": "python",
   "pygments_lexer": "ipython3",
   "version": "3.11.4"
  },
  "toc": {
   "base_numbering": 1,
   "nav_menu": {},
   "number_sections": true,
   "sideBar": true,
   "skip_h1_title": true,
   "title_cell": "Table of Contents",
   "title_sidebar": "Contents",
   "toc_cell": false,
   "toc_position": {},
   "toc_section_display": true,
   "toc_window_display": false
  }
 },
 "nbformat": 4,
 "nbformat_minor": 5
}
