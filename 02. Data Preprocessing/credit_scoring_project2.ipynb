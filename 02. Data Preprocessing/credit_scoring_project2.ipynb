{
 "cells": [
  {
   "cell_type": "markdown",
   "id": "386f2ae7",
   "metadata": {
    "id": "386f2ae7"
   },
   "source": [
    "# Исследование надежности заемщиков\n",
    "## Вторая часть\n"
   ]
  },
  {
   "cell_type": "markdown",
   "id": "3d596c34",
   "metadata": {
    "deletable": false,
    "id": "3d596c34"
   },
   "source": [
    "### Исследую данные и отвечу на вопросы"
   ]
  },
  {
   "cell_type": "markdown",
   "id": "648db036",
   "metadata": {
    "deletable": false,
    "id": "648db036"
   },
   "source": [
    "#### Есть ли зависимость между количеством детей и возвратом кредита в срок?"
   ]
  },
  {
   "cell_type": "code",
   "execution_count": 22,
   "id": "7fcff25e",
   "metadata": {
    "deletable": false,
    "id": "7fcff25e"
   },
   "outputs": [
    {
     "data": {
      "text/html": [
       "<div>\n",
       "<style scoped>\n",
       "    .dataframe tbody tr th:only-of-type {\n",
       "        vertical-align: middle;\n",
       "    }\n",
       "\n",
       "    .dataframe tbody tr th {\n",
       "        vertical-align: top;\n",
       "    }\n",
       "\n",
       "    .dataframe thead tr th {\n",
       "        text-align: left;\n",
       "    }\n",
       "</style>\n",
       "<table border=\"1\" class=\"dataframe\">\n",
       "  <thead>\n",
       "    <tr>\n",
       "      <th></th>\n",
       "      <th>category_children</th>\n",
       "      <th colspan=\"3\" halign=\"left\">debt</th>\n",
       "    </tr>\n",
       "    <tr>\n",
       "      <th></th>\n",
       "      <th></th>\n",
       "      <th>sum</th>\n",
       "      <th>count</th>\n",
       "      <th>mean</th>\n",
       "    </tr>\n",
       "  </thead>\n",
       "  <tbody>\n",
       "    <tr>\n",
       "      <th>0</th>\n",
       "      <td>0 детей</td>\n",
       "      <td>1063</td>\n",
       "      <td>14091</td>\n",
       "      <td>0.075438</td>\n",
       "    </tr>\n",
       "    <tr>\n",
       "      <th>1</th>\n",
       "      <td>1 ребенок</td>\n",
       "      <td>444</td>\n",
       "      <td>4808</td>\n",
       "      <td>0.092346</td>\n",
       "    </tr>\n",
       "    <tr>\n",
       "      <th>2</th>\n",
       "      <td>2 ребенока</td>\n",
       "      <td>194</td>\n",
       "      <td>2052</td>\n",
       "      <td>0.094542</td>\n",
       "    </tr>\n",
       "    <tr>\n",
       "      <th>3</th>\n",
       "      <td>3 ребенока</td>\n",
       "      <td>27</td>\n",
       "      <td>330</td>\n",
       "      <td>0.081818</td>\n",
       "    </tr>\n",
       "    <tr>\n",
       "      <th>4</th>\n",
       "      <td>4 ребенока</td>\n",
       "      <td>4</td>\n",
       "      <td>41</td>\n",
       "      <td>0.097561</td>\n",
       "    </tr>\n",
       "    <tr>\n",
       "      <th>5</th>\n",
       "      <td>5 детей</td>\n",
       "      <td>0</td>\n",
       "      <td>9</td>\n",
       "      <td>0.000000</td>\n",
       "    </tr>\n",
       "  </tbody>\n",
       "</table>\n",
       "</div>"
      ],
      "text/plain": [
       "  category_children  debt                 \n",
       "                      sum  count      mean\n",
       "0           0 детей  1063  14091  0.075438\n",
       "1         1 ребенок   444   4808  0.092346\n",
       "2        2 ребенока   194   2052  0.094542\n",
       "3        3 ребенока    27    330  0.081818\n",
       "4        4 ребенока     4     41  0.097561\n",
       "5           5 детей     0      9  0.000000"
      ]
     },
     "execution_count": 22,
     "metadata": {},
     "output_type": "execute_result"
    }
   ],
   "source": [
    "def category_children(children): #Создаем функцию и делим на категории по количеству детей всех заемщиков\n",
    " \n",
    "    if children == 1: \n",
    "        return '1 ребенок'\n",
    "    elif children == 2: \n",
    "        return '2 ребенока'\n",
    "    elif children == 3: \n",
    "        return '3 ребенока'\n",
    "    elif children == 4: \n",
    "        return '4 ребенока'\n",
    "    elif children == 5: \n",
    "        return '5 детей'\n",
    "    return '0 детей'\n",
    "data['category_children'] = data['children'].apply(category_children) #Добавляем столбец с разделением на категории в исходную таблицу\n",
    "\n",
    "\n",
    "debt_and_children = data.groupby('category_children').agg({'debt':['sum','count','mean']}) #Создаем группировку по категориям кол-ва детей, в значениях указываем данные по должником в каждой категории : общее количество людей в каждой категории, сумму должников, долю должников от общего числа людей в каждой категории\n",
    "debt_and_children.reset_index() #Выводим сгруппированную таблицу, сортируя по колличеству детей"
   ]
  },
  {
   "cell_type": "markdown",
   "id": "956ef50d",
   "metadata": {
    "deletable": false,
    "id": "2eb9088e"
   },
   "source": [
    "**Вывод:**\n",
    "\n",
    " **Проверила гипотезу и могу сообщить, что количество детей и правда влияет на возврат кредита в срок. Люди бе детей реже задерживают выплату по кредиту, чем люди с детьми**\n",
    "\n",
    "* Люди с пятью детьми всегда возвращают долг вовремя \n",
    "\n",
    "* Далее идут люди без детей, доля должников составляет 0,08 от всех бездетных\n",
    "\n",
    "* Похожая ситуация и у людей с тремя детьми, доля должников также 0,08\n",
    "\n",
    "* Люди с одним и двумя детьми еще реже отдают деньги вовремя, их доля 0,09 отдельно для каждой группы\n",
    "\n",
    "* И самую высокую долю по задержке возврата долга имеют люди с четырьмя детьми - 0,1\n"
   ]
  },
  {
   "cell_type": "markdown",
   "id": "74c9b3a7",
   "metadata": {
    "deletable": false,
    "id": "74c9b3a7"
   },
   "source": [
    "#### Есть ли зависимость между семейным положением и возвратом кредита в срок?"
   ]
  },
  {
   "cell_type": "code",
   "execution_count": 23,
   "id": "8098ab3b",
   "metadata": {
    "deletable": false,
    "id": "8098ab3b"
   },
   "outputs": [
    {
     "data": {
      "text/html": [
       "<div>\n",
       "<style scoped>\n",
       "    .dataframe tbody tr th:only-of-type {\n",
       "        vertical-align: middle;\n",
       "    }\n",
       "\n",
       "    .dataframe tbody tr th {\n",
       "        vertical-align: top;\n",
       "    }\n",
       "\n",
       "    .dataframe thead tr th {\n",
       "        text-align: left;\n",
       "    }\n",
       "\n",
       "    .dataframe thead tr:last-of-type th {\n",
       "        text-align: right;\n",
       "    }\n",
       "</style>\n",
       "<table border=\"1\" class=\"dataframe\">\n",
       "  <thead>\n",
       "    <tr>\n",
       "      <th></th>\n",
       "      <th colspan=\"3\" halign=\"left\">debt</th>\n",
       "    </tr>\n",
       "    <tr>\n",
       "      <th></th>\n",
       "      <th>sum</th>\n",
       "      <th>count</th>\n",
       "      <th>mean</th>\n",
       "    </tr>\n",
       "    <tr>\n",
       "      <th>family_status</th>\n",
       "      <th></th>\n",
       "      <th></th>\n",
       "      <th></th>\n",
       "    </tr>\n",
       "  </thead>\n",
       "  <tbody>\n",
       "    <tr>\n",
       "      <th>Не женат / не замужем</th>\n",
       "      <td>273</td>\n",
       "      <td>2796</td>\n",
       "      <td>0.097639</td>\n",
       "    </tr>\n",
       "    <tr>\n",
       "      <th>в разводе</th>\n",
       "      <td>84</td>\n",
       "      <td>1189</td>\n",
       "      <td>0.070648</td>\n",
       "    </tr>\n",
       "    <tr>\n",
       "      <th>вдовец / вдова</th>\n",
       "      <td>63</td>\n",
       "      <td>951</td>\n",
       "      <td>0.066246</td>\n",
       "    </tr>\n",
       "    <tr>\n",
       "      <th>гражданский брак</th>\n",
       "      <td>385</td>\n",
       "      <td>4134</td>\n",
       "      <td>0.093130</td>\n",
       "    </tr>\n",
       "    <tr>\n",
       "      <th>женат / замужем</th>\n",
       "      <td>927</td>\n",
       "      <td>12261</td>\n",
       "      <td>0.075606</td>\n",
       "    </tr>\n",
       "  </tbody>\n",
       "</table>\n",
       "</div>"
      ],
      "text/plain": [
       "                      debt                 \n",
       "                       sum  count      mean\n",
       "family_status                              \n",
       "Не женат / не замужем  273   2796  0.097639\n",
       "в разводе               84   1189  0.070648\n",
       "вдовец / вдова          63    951  0.066246\n",
       "гражданский брак       385   4134  0.093130\n",
       "женат / замужем        927  12261  0.075606"
      ]
     },
     "execution_count": 23,
     "metadata": {},
     "output_type": "execute_result"
    }
   ],
   "source": [
    "debt_and_family_status = data.groupby('family_status').agg({'debt':['sum','count','mean']}) #Группируем таблицу по семейному статусу и добавляем значения должников: общее количество людей в каждой категории, сумму должников, долю должников от общего числа людей в каждой категории\n",
    "debt_and_family_status "
   ]
  },
  {
   "cell_type": "markdown",
   "id": "c389ca63",
   "metadata": {
    "deletable": false,
    "id": "c389ca63"
   },
   "source": [
    "**Вывод:** \n",
    "\n",
    "**По сгрупированной таблице можно сделать вывод, что семейное положение влияет на возврат кредита в срок. Люди состоящие или состоявшие ранее в браке реже допускают просрочку**\n",
    "\n",
    "* БОльшей пунктуальность отличаются люди в разоде, вдовы и вдовцы. Доля людей затягивающих с возвратом отдельно у каждой группы - 0,07\n",
    "\n",
    "* Далее идут люди, состоящие в официальном браке, доля с затягивающими в возврате кредита - 0,08\n",
    "\n",
    "* Доля должников, состоящих в гражданском браке - 0,09\n",
    "\n",
    "* И самая часто задерживающая с возвратом кредита группа - люди не состоящие в отношениях - 0,1"
   ]
  },
  {
   "cell_type": "markdown",
   "id": "9529de68",
   "metadata": {
    "deletable": false,
    "id": "9529de68"
   },
   "source": [
    "#### Есть ли зависимость между уровнем дохода и возвратом кредита в срок?"
   ]
  },
  {
   "cell_type": "code",
   "execution_count": 24,
   "id": "8787f44a",
   "metadata": {
    "deletable": false,
    "id": "8787f44a"
   },
   "outputs": [
    {
     "data": {
      "text/html": [
       "<div>\n",
       "<style scoped>\n",
       "    .dataframe tbody tr th:only-of-type {\n",
       "        vertical-align: middle;\n",
       "    }\n",
       "\n",
       "    .dataframe tbody tr th {\n",
       "        vertical-align: top;\n",
       "    }\n",
       "\n",
       "    .dataframe thead tr th {\n",
       "        text-align: left;\n",
       "    }\n",
       "\n",
       "    .dataframe thead tr:last-of-type th {\n",
       "        text-align: right;\n",
       "    }\n",
       "</style>\n",
       "<table border=\"1\" class=\"dataframe\">\n",
       "  <thead>\n",
       "    <tr>\n",
       "      <th></th>\n",
       "      <th colspan=\"3\" halign=\"left\">debt</th>\n",
       "    </tr>\n",
       "    <tr>\n",
       "      <th></th>\n",
       "      <th>sum</th>\n",
       "      <th>count</th>\n",
       "      <th>mean</th>\n",
       "    </tr>\n",
       "    <tr>\n",
       "      <th>total_income_category</th>\n",
       "      <th></th>\n",
       "      <th></th>\n",
       "      <th></th>\n",
       "    </tr>\n",
       "  </thead>\n",
       "  <tbody>\n",
       "    <tr>\n",
       "      <th>A</th>\n",
       "      <td>2</td>\n",
       "      <td>25</td>\n",
       "      <td>0.080000</td>\n",
       "    </tr>\n",
       "    <tr>\n",
       "      <th>B</th>\n",
       "      <td>354</td>\n",
       "      <td>5014</td>\n",
       "      <td>0.070602</td>\n",
       "    </tr>\n",
       "    <tr>\n",
       "      <th>C</th>\n",
       "      <td>1353</td>\n",
       "      <td>15921</td>\n",
       "      <td>0.084982</td>\n",
       "    </tr>\n",
       "    <tr>\n",
       "      <th>D</th>\n",
       "      <td>21</td>\n",
       "      <td>349</td>\n",
       "      <td>0.060172</td>\n",
       "    </tr>\n",
       "    <tr>\n",
       "      <th>E</th>\n",
       "      <td>2</td>\n",
       "      <td>22</td>\n",
       "      <td>0.090909</td>\n",
       "    </tr>\n",
       "  </tbody>\n",
       "</table>\n",
       "</div>"
      ],
      "text/plain": [
       "                       debt                 \n",
       "                        sum  count      mean\n",
       "total_income_category                       \n",
       "A                         2     25  0.080000\n",
       "B                       354   5014  0.070602\n",
       "C                      1353  15921  0.084982\n",
       "D                        21    349  0.060172\n",
       "E                         2     22  0.090909"
      ]
     },
     "execution_count": 24,
     "metadata": {},
     "output_type": "execute_result"
    }
   ],
   "source": [
    "total_income_category_and_debt = data.groupby('total_income_category').agg({'debt':['sum','count','mean']})#Группируем таблицу по группам уровня дохода и добавляем значения должников: общее количество людей в каждой категории, сумму должников, долю должников от общего числа людей в каждой категории\n",
    "total_income_category_and_debt"
   ]
  },
  {
   "cell_type": "markdown",
   "id": "6dd14b57",
   "metadata": {
    "deletable": false,
    "id": "6dd14b57"
   },
   "source": [
    "**Вывод:** \n",
    "\n",
    "\n",
    "**По сгруппированной таблице подтверждаю гипотезу, зависимость между уровнем дохода и возвратом кредита в срок действительно присутствует. Люди с высоким доходом реже допускают просрочку кредита**\n",
    "\n",
    "\n",
    "* Меньше всего должников у группы D (людей с доходом от 30 000 до 50 000) - 0,06\n",
    "\n",
    "\n",
    "* Далее идет группа В (люди с доходом от 200 000 до 1 000 000) - 0,07\n",
    "\n",
    "\n",
    "* Должников отдельно в группах А (люди с доходом от 1 000 000) и С (люди с доходом от 50 000 до 200 000) - 0,08\n",
    "\n",
    "\n",
    "* И самая большая доля должников у группы Е (люди с доходом от 0 до 30 000)\n"
   ]
  },
  {
   "cell_type": "markdown",
   "id": "1dcc9b12",
   "metadata": {
    "deletable": false,
    "id": "1dcc9b12"
   },
   "source": [
    "#### Как разные цели кредита влияют на его возврат в срок?"
   ]
  },
  {
   "cell_type": "code",
   "execution_count": 25,
   "id": "c602bc8b",
   "metadata": {
    "deletable": false,
    "id": "c602bc8b"
   },
   "outputs": [
    {
     "data": {
      "text/html": [
       "<div>\n",
       "<style scoped>\n",
       "    .dataframe tbody tr th:only-of-type {\n",
       "        vertical-align: middle;\n",
       "    }\n",
       "\n",
       "    .dataframe tbody tr th {\n",
       "        vertical-align: top;\n",
       "    }\n",
       "\n",
       "    .dataframe thead tr th {\n",
       "        text-align: left;\n",
       "    }\n",
       "\n",
       "    .dataframe thead tr:last-of-type th {\n",
       "        text-align: right;\n",
       "    }\n",
       "</style>\n",
       "<table border=\"1\" class=\"dataframe\">\n",
       "  <thead>\n",
       "    <tr>\n",
       "      <th></th>\n",
       "      <th colspan=\"3\" halign=\"left\">debt</th>\n",
       "    </tr>\n",
       "    <tr>\n",
       "      <th></th>\n",
       "      <th>sum</th>\n",
       "      <th>count</th>\n",
       "      <th>mean</th>\n",
       "    </tr>\n",
       "    <tr>\n",
       "      <th>purpose_category</th>\n",
       "      <th></th>\n",
       "      <th></th>\n",
       "      <th></th>\n",
       "    </tr>\n",
       "  </thead>\n",
       "  <tbody>\n",
       "    <tr>\n",
       "      <th>операции с автомобилем</th>\n",
       "      <td>400</td>\n",
       "      <td>4279</td>\n",
       "      <td>0.093480</td>\n",
       "    </tr>\n",
       "    <tr>\n",
       "      <th>операции с недвижимостью</th>\n",
       "      <td>780</td>\n",
       "      <td>10751</td>\n",
       "      <td>0.072551</td>\n",
       "    </tr>\n",
       "    <tr>\n",
       "      <th>получение образования</th>\n",
       "      <td>369</td>\n",
       "      <td>3988</td>\n",
       "      <td>0.092528</td>\n",
       "    </tr>\n",
       "    <tr>\n",
       "      <th>проведение свадьбы</th>\n",
       "      <td>183</td>\n",
       "      <td>2313</td>\n",
       "      <td>0.079118</td>\n",
       "    </tr>\n",
       "  </tbody>\n",
       "</table>\n",
       "</div>"
      ],
      "text/plain": [
       "                         debt                 \n",
       "                          sum  count      mean\n",
       "purpose_category                              \n",
       "операции с автомобилем    400   4279  0.093480\n",
       "операции с недвижимостью  780  10751  0.072551\n",
       "получение образования     369   3988  0.092528\n",
       "проведение свадьбы        183   2313  0.079118"
      ]
     },
     "execution_count": 25,
     "metadata": {},
     "output_type": "execute_result"
    }
   ],
   "source": [
    "purpose_category_and_debt = data.groupby('purpose_category').agg({'debt':['sum' ,'count','mean']})#Группируем таблицу по категориям целей кредитов и добавляем значения должников: общее количество людей в каждой категории, сумму должников, долю должников от общего числа людей в каждой категории\n",
    "purpose_category_and_debt"
   ]
  },
  {
   "cell_type": "markdown",
   "id": "cf05ed63",
   "metadata": {
    "deletable": false,
    "id": "cf05ed63"
   },
   "source": [
    "**Вывод:** \n",
    "\n",
    "**По сгруппированной таблице подтверждаю гипотезу, цели кредита и правда влияют на возврат в срок. Люди, которые решают приобрести недвижимость или сыграть свадьбу, более ответственные в плане возврата кредита в срок**\n",
    "\n",
    "\n",
    "* Меньше всего задержек с возвратом кредита было у людей с целью \"Операции с недвижимостью\" - 0,07\n",
    "\n",
    "\n",
    "* Доля должников с категорией цели \"Проведение свадьбы\" - 0,08\n",
    "\n",
    "\n",
    "* У людей в двух категорих \"Получение образования\" и \"Операции с автомобилем\" максимальное количество должников - 0,09 по каждой категории отдельно\n",
    "\n"
   ]
  },
  {
   "cell_type": "markdown",
   "id": "46c1f10b",
   "metadata": {
    "deletable": false,
    "id": "46c1f10b"
   },
   "source": [
    "#### Возможные причины появления пропусков в исходных данных."
   ]
  },
  {
   "cell_type": "markdown",
   "id": "45cedb29",
   "metadata": {
    "deletable": false,
    "id": "3697d2a9"
   },
   "source": [
    "*Ответ:* \n",
    "\n",
    "- Пропущенные значения есть в двух столбцах - days_employed (общего трудового стажа) и income_type(количества дохода). Количество пропусков в обеих столбцах совпадает, также у одних и тех же людей пропуски в обеих столбцах\n",
    "  Оба столбца с количественными переменными, могу предположить, что пропуски некоторые неслучайные. Пропуски могут быть из-за типа занятости человека. Например, если он госслужащий, то возможно есть запрет на указания стажа и зарплаты;\n",
    "\n",
    "- Также, люди могут просто не знать/ не хотеть оглашать эти данные. В таком случае, пропуски полностью случайные;\n",
    "\n",
    "- Помимо человеческого фактора причиной пропусков могут быть технические ошибки/проблемы\n",
    "  Напромер источник, который передает информацию может работать некорректно, быть настроен неправильно, сломаться и тд.\n",
    "\n",
    "\n",
    "\n"
   ]
  },
  {
   "cell_type": "markdown",
   "id": "3137d257",
   "metadata": {
    "deletable": false,
    "id": "3137d257"
   },
   "source": [
    "#### Почему заполнить пропуски медианным значением — лучшее решение для количественных переменных?"
   ]
  },
  {
   "cell_type": "markdown",
   "id": "cf40012a",
   "metadata": {
    "deletable": false,
    "id": "cf40012a"
   },
   "source": [
    "*Ответ:*\n",
    "\n",
    "Пропуски в количественных переменных и правда лучше заполнять медианным значением, так как в таблице могут встречаться аномально большие/маленькие значения. Поэтому среднее арифметическое тут не подходойдет"
   ]
  },
  {
   "cell_type": "markdown",
   "id": "57bc304e",
   "metadata": {
    "deletable": false,
    "id": "57bc304e"
   },
   "source": [
    "### Общий вывод"
   ]
  },
  {
   "cell_type": "markdown",
   "id": "1ab75d1c",
   "metadata": {
    "deletable": false,
    "id": "1ab75d1c"
   },
   "source": [
    "**В исследовании надежности заемщиков я проделала большой путь:**\n",
    "\n",
    "\n",
    "\n",
    "1). Ознакомилась с данными (с этим мне помогли методы info, head)\n",
    "\n",
    "\n",
    "2). Предобработка данных началась с избавления от пропусков (isna, использовала цикл for и заменила пропуски медианным значением median)\n",
    "\n",
    "\n",
    "3). Далее убрала отрицательные значения в трудовом стаже (метод abs) и удалила аномальные строки в столбце с количеством детей (с помощью логической индексации и сложных логических выражений ), поменяла тип данных в столбце с зарплатой (astype)\n",
    "\n",
    "\n",
    "4). Для работы с дубликатами перевела все значения к нижнему регистру (str.lower) и удалила явные дубликаты (drop_duplicates)\n",
    "\n",
    "\n",
    "5). Разбила данные о зарплате по категориям (с помощью функции def и условных выражений с if/elif), добавила отдельный столбец в таблицу со значениями категорий зарплаты (apply)\n",
    "\n",
    "\n",
    "6). По категориям разбила также цели кредитов, отдельный столбец с ними добавила в таблицу (функция и метод apply как и в 7 пункте)\n",
    "\n",
    "\n",
    "7). После того, как данные полностью прошли предобработку и были готовы к исследованию, я проверила 4 гипотезы:\n",
    "\n",
    "- Первая гипотеза - действительно. Люди с детьми чаще имеют просрочку\n",
    "        \n",
    "- Вторая гипотеза тоже подтвердилась. Люди состоявшие или стостоящие в браке реже задерживаются с возвратом кредита\n",
    "    \n",
    "- Третья гипотеза подтвердилась. Состоятельные люди более надежны\n",
    "    \n",
    "- И четвертая гипотеза подтверждена. Люди, которые хотят приоберси недвижимость или сыграть свадьбу, более надежны в плане возврата кредита в срок\n",
    "     \n",
    "     **Все гипотезы подтвердились**"
   ]
  }
 ],
 "metadata": {
  "ExecuteTimeLog": [
   {
    "duration": 49,
    "start_time": "2023-07-05T12:20:26.769Z"
   },
   {
    "duration": 7,
    "start_time": "2023-07-05T12:20:51.806Z"
   },
   {
    "duration": 554,
    "start_time": "2023-07-05T12:21:08.443Z"
   },
   {
    "duration": 29,
    "start_time": "2023-07-05T12:21:09.001Z"
   },
   {
    "duration": 20,
    "start_time": "2023-07-05T12:21:09.031Z"
   },
   {
    "duration": 11,
    "start_time": "2023-07-05T12:21:09.054Z"
   },
   {
    "duration": 36,
    "start_time": "2023-07-05T12:21:09.068Z"
   },
   {
    "duration": 3,
    "start_time": "2023-07-05T12:21:09.106Z"
   },
   {
    "duration": 11,
    "start_time": "2023-07-05T12:21:09.111Z"
   },
   {
    "duration": 4,
    "start_time": "2023-07-05T12:21:09.123Z"
   },
   {
    "duration": 31,
    "start_time": "2023-07-05T12:21:09.129Z"
   },
   {
    "duration": 9,
    "start_time": "2023-07-05T12:21:09.161Z"
   },
   {
    "duration": 38,
    "start_time": "2023-07-05T12:21:09.171Z"
   },
   {
    "duration": 11,
    "start_time": "2023-07-05T12:21:09.210Z"
   },
   {
    "duration": 8,
    "start_time": "2023-07-05T12:21:09.223Z"
   },
   {
    "duration": 33,
    "start_time": "2023-07-05T12:21:09.233Z"
   },
   {
    "duration": 34,
    "start_time": "2023-07-05T12:21:09.268Z"
   },
   {
    "duration": 18,
    "start_time": "2023-07-05T12:21:09.304Z"
   },
   {
    "duration": 4,
    "start_time": "2023-07-05T12:21:09.324Z"
   },
   {
    "duration": 39,
    "start_time": "2023-07-05T12:21:09.330Z"
   },
   {
    "duration": 7,
    "start_time": "2023-07-05T12:21:09.371Z"
   },
   {
    "duration": 4,
    "start_time": "2023-07-05T12:21:09.380Z"
   },
   {
    "duration": 13,
    "start_time": "2023-07-05T12:21:09.386Z"
   },
   {
    "duration": 91,
    "start_time": "2023-07-05T12:21:09.401Z"
   },
   {
    "duration": 0,
    "start_time": "2023-07-05T12:21:09.494Z"
   },
   {
    "duration": 0,
    "start_time": "2023-07-05T12:21:09.495Z"
   },
   {
    "duration": 0,
    "start_time": "2023-07-05T12:21:09.496Z"
   },
   {
    "duration": 7,
    "start_time": "2023-07-05T12:21:13.642Z"
   },
   {
    "duration": 10,
    "start_time": "2023-07-05T12:21:59.122Z"
   },
   {
    "duration": 69,
    "start_time": "2023-07-05T12:22:03.728Z"
   },
   {
    "duration": 17,
    "start_time": "2023-07-05T12:22:04.609Z"
   },
   {
    "duration": 14,
    "start_time": "2023-07-05T12:22:05.729Z"
   },
   {
    "duration": 10,
    "start_time": "2023-07-05T12:22:06.571Z"
   },
   {
    "duration": 34,
    "start_time": "2023-07-05T12:22:06.923Z"
   },
   {
    "duration": 4,
    "start_time": "2023-07-05T12:22:07.336Z"
   },
   {
    "duration": 8,
    "start_time": "2023-07-05T12:22:07.621Z"
   },
   {
    "duration": 5,
    "start_time": "2023-07-05T12:22:08.050Z"
   },
   {
    "duration": 7,
    "start_time": "2023-07-05T12:22:08.353Z"
   },
   {
    "duration": 5,
    "start_time": "2023-07-05T12:22:08.616Z"
   },
   {
    "duration": 34,
    "start_time": "2023-07-05T12:22:09.016Z"
   },
   {
    "duration": 11,
    "start_time": "2023-07-05T12:22:09.347Z"
   },
   {
    "duration": 5,
    "start_time": "2023-07-05T12:22:09.816Z"
   },
   {
    "duration": 11,
    "start_time": "2023-07-05T12:22:10.242Z"
   },
   {
    "duration": 19,
    "start_time": "2023-07-05T12:22:10.561Z"
   },
   {
    "duration": 18,
    "start_time": "2023-07-05T12:22:10.713Z"
   },
   {
    "duration": 4,
    "start_time": "2023-07-05T12:22:11.195Z"
   },
   {
    "duration": 10,
    "start_time": "2023-07-05T12:22:11.356Z"
   },
   {
    "duration": 6,
    "start_time": "2023-07-05T12:22:12.129Z"
   },
   {
    "duration": 4,
    "start_time": "2023-07-05T12:22:12.479Z"
   },
   {
    "duration": 10,
    "start_time": "2023-07-05T12:22:13.210Z"
   },
   {
    "duration": 8,
    "start_time": "2023-07-05T12:22:14.583Z"
   },
   {
    "duration": 8,
    "start_time": "2023-07-05T12:22:56.498Z"
   },
   {
    "duration": 10,
    "start_time": "2023-07-05T12:23:07.722Z"
   },
   {
    "duration": 9,
    "start_time": "2023-07-05T12:32:58.674Z"
   },
   {
    "duration": 8,
    "start_time": "2023-07-05T12:33:11.289Z"
   },
   {
    "duration": 11,
    "start_time": "2023-07-05T12:33:57.574Z"
   },
   {
    "duration": 11,
    "start_time": "2023-07-05T12:34:44.660Z"
   },
   {
    "duration": 6,
    "start_time": "2023-07-05T12:35:15.793Z"
   },
   {
    "duration": 71,
    "start_time": "2023-07-05T12:50:23.801Z"
   },
   {
    "duration": 19,
    "start_time": "2023-07-05T12:50:35.792Z"
   },
   {
    "duration": 36,
    "start_time": "2023-07-05T12:52:34.108Z"
   },
   {
    "duration": 19,
    "start_time": "2023-07-05T12:54:09.418Z"
   },
   {
    "duration": 19,
    "start_time": "2023-07-05T12:54:44.944Z"
   },
   {
    "duration": 14,
    "start_time": "2023-07-05T12:55:11.540Z"
   },
   {
    "duration": 11,
    "start_time": "2023-07-05T12:56:08.101Z"
   },
   {
    "duration": 9,
    "start_time": "2023-07-05T12:56:17.608Z"
   },
   {
    "duration": 8,
    "start_time": "2023-07-05T12:56:25.595Z"
   },
   {
    "duration": 9,
    "start_time": "2023-07-05T12:56:44.212Z"
   },
   {
    "duration": 9,
    "start_time": "2023-07-05T12:58:07.604Z"
   },
   {
    "duration": 6,
    "start_time": "2023-07-05T12:58:31.060Z"
   },
   {
    "duration": 7,
    "start_time": "2023-07-05T12:58:40.322Z"
   },
   {
    "duration": 8,
    "start_time": "2023-07-05T12:59:00.314Z"
   },
   {
    "duration": 7,
    "start_time": "2023-07-05T13:00:00.354Z"
   },
   {
    "duration": 7,
    "start_time": "2023-07-05T13:00:11.495Z"
   },
   {
    "duration": 27,
    "start_time": "2023-07-05T13:08:24.818Z"
   },
   {
    "duration": 8,
    "start_time": "2023-07-05T13:08:47.763Z"
   },
   {
    "duration": 13,
    "start_time": "2023-07-05T13:08:58.794Z"
   },
   {
    "duration": 20,
    "start_time": "2023-07-05T13:24:26.098Z"
   },
   {
    "duration": 370,
    "start_time": "2023-07-05T13:24:42.850Z"
   },
   {
    "duration": 300,
    "start_time": "2023-07-05T13:28:48.603Z"
   },
   {
    "duration": 46,
    "start_time": "2023-07-05T13:37:52.973Z"
   },
   {
    "duration": 121,
    "start_time": "2023-07-05T13:40:06.513Z"
   },
   {
    "duration": 185,
    "start_time": "2023-07-05T13:40:57.804Z"
   },
   {
    "duration": 187,
    "start_time": "2023-07-05T13:41:15.129Z"
   },
   {
    "duration": 29,
    "start_time": "2023-07-05T13:41:47.092Z"
   },
   {
    "duration": 20,
    "start_time": "2023-07-05T13:45:19.646Z"
   },
   {
    "duration": 16,
    "start_time": "2023-07-05T13:45:45.659Z"
   },
   {
    "duration": 13,
    "start_time": "2023-07-05T13:48:29.338Z"
   },
   {
    "duration": 27,
    "start_time": "2023-07-05T13:48:37.572Z"
   },
   {
    "duration": 17,
    "start_time": "2023-07-05T13:55:42.525Z"
   },
   {
    "duration": 17,
    "start_time": "2023-07-05T13:56:14.740Z"
   },
   {
    "duration": 53,
    "start_time": "2023-07-05T13:56:39.292Z"
   },
   {
    "duration": 29,
    "start_time": "2023-07-05T13:56:57.534Z"
   },
   {
    "duration": 28,
    "start_time": "2023-07-05T14:01:26.765Z"
   },
   {
    "duration": 47,
    "start_time": "2023-07-05T14:12:15.747Z"
   },
   {
    "duration": 80,
    "start_time": "2023-07-05T14:15:51.982Z"
   },
   {
    "duration": 116,
    "start_time": "2023-07-05T14:16:04.609Z"
   },
   {
    "duration": 111,
    "start_time": "2023-07-05T14:16:27.669Z"
   },
   {
    "duration": 23,
    "start_time": "2023-07-05T14:16:57.522Z"
   },
   {
    "duration": 12,
    "start_time": "2023-07-05T14:18:40.373Z"
   },
   {
    "duration": 11,
    "start_time": "2023-07-05T14:18:57.537Z"
   },
   {
    "duration": 138,
    "start_time": "2023-07-05T14:19:28.850Z"
   },
   {
    "duration": 25,
    "start_time": "2023-07-05T14:19:40.907Z"
   },
   {
    "duration": 14,
    "start_time": "2023-07-05T14:23:57.804Z"
   },
   {
    "duration": 21,
    "start_time": "2023-07-05T14:25:46.236Z"
   },
   {
    "duration": 19,
    "start_time": "2023-07-05T14:29:10.427Z"
   },
   {
    "duration": 22,
    "start_time": "2023-07-05T14:29:21.656Z"
   },
   {
    "duration": 22,
    "start_time": "2023-07-05T14:31:06.326Z"
   },
   {
    "duration": 23,
    "start_time": "2023-07-05T14:31:12.957Z"
   },
   {
    "duration": 25,
    "start_time": "2023-07-05T14:32:56.850Z"
   },
   {
    "duration": 25,
    "start_time": "2023-07-05T14:33:05.486Z"
   },
   {
    "duration": 30,
    "start_time": "2023-07-05T14:33:18.814Z"
   },
   {
    "duration": 31,
    "start_time": "2023-07-05T14:33:45.445Z"
   },
   {
    "duration": 25,
    "start_time": "2023-07-05T14:33:59.317Z"
   },
   {
    "duration": 27,
    "start_time": "2023-07-05T14:40:02.681Z"
   },
   {
    "duration": 21,
    "start_time": "2023-07-05T14:40:21.424Z"
   },
   {
    "duration": 24,
    "start_time": "2023-07-05T14:40:46.746Z"
   },
   {
    "duration": 25,
    "start_time": "2023-07-05T14:40:53.051Z"
   },
   {
    "duration": 31,
    "start_time": "2023-07-05T14:41:12.718Z"
   },
   {
    "duration": 1132,
    "start_time": "2023-07-05T14:41:33.904Z"
   },
   {
    "duration": 22,
    "start_time": "2023-07-05T14:41:47.203Z"
   },
   {
    "duration": 21,
    "start_time": "2023-07-05T14:42:50.135Z"
   },
   {
    "duration": 26,
    "start_time": "2023-07-05T14:43:03.158Z"
   },
   {
    "duration": 547,
    "start_time": "2023-07-05T17:27:29.444Z"
   },
   {
    "duration": 25,
    "start_time": "2023-07-05T17:27:29.993Z"
   },
   {
    "duration": 18,
    "start_time": "2023-07-05T17:27:30.060Z"
   },
   {
    "duration": 10,
    "start_time": "2023-07-05T17:27:30.655Z"
   },
   {
    "duration": 38,
    "start_time": "2023-07-05T17:27:30.962Z"
   },
   {
    "duration": 4,
    "start_time": "2023-07-05T17:27:31.490Z"
   },
   {
    "duration": 9,
    "start_time": "2023-07-05T17:27:31.810Z"
   },
   {
    "duration": 5,
    "start_time": "2023-07-05T17:27:32.330Z"
   },
   {
    "duration": 15,
    "start_time": "2023-07-05T17:27:32.660Z"
   },
   {
    "duration": 5,
    "start_time": "2023-07-05T17:27:33.034Z"
   },
   {
    "duration": 34,
    "start_time": "2023-07-05T17:27:33.602Z"
   },
   {
    "duration": 14,
    "start_time": "2023-07-05T17:27:33.917Z"
   },
   {
    "duration": 4,
    "start_time": "2023-07-05T17:27:34.456Z"
   },
   {
    "duration": 16,
    "start_time": "2023-07-05T17:27:34.962Z"
   },
   {
    "duration": 22,
    "start_time": "2023-07-05T17:27:35.330Z"
   },
   {
    "duration": 19,
    "start_time": "2023-07-05T17:27:35.514Z"
   },
   {
    "duration": 3,
    "start_time": "2023-07-05T17:27:36.131Z"
   },
   {
    "duration": 13,
    "start_time": "2023-07-05T17:27:36.401Z"
   },
   {
    "duration": 6,
    "start_time": "2023-07-05T17:27:36.729Z"
   },
   {
    "duration": 4,
    "start_time": "2023-07-05T17:27:37.884Z"
   },
   {
    "duration": 18,
    "start_time": "2023-07-05T17:27:38.179Z"
   },
   {
    "duration": 26,
    "start_time": "2023-07-05T17:27:39.571Z"
   },
   {
    "duration": 31,
    "start_time": "2023-07-05T17:30:13.654Z"
   },
   {
    "duration": 21,
    "start_time": "2023-07-05T17:30:17.885Z"
   },
   {
    "duration": 653,
    "start_time": "2023-07-06T08:15:41.888Z"
   },
   {
    "duration": 20,
    "start_time": "2023-07-06T08:15:42.543Z"
   },
   {
    "duration": 13,
    "start_time": "2023-07-06T08:15:42.565Z"
   },
   {
    "duration": 9,
    "start_time": "2023-07-06T08:15:43.113Z"
   },
   {
    "duration": 30,
    "start_time": "2023-07-06T08:15:43.453Z"
   },
   {
    "duration": 4,
    "start_time": "2023-07-06T08:15:43.918Z"
   },
   {
    "duration": 8,
    "start_time": "2023-07-06T08:15:44.257Z"
   },
   {
    "duration": 4,
    "start_time": "2023-07-06T08:15:44.728Z"
   },
   {
    "duration": 7,
    "start_time": "2023-07-06T08:15:45.095Z"
   },
   {
    "duration": 4,
    "start_time": "2023-07-06T08:15:45.432Z"
   },
   {
    "duration": 44,
    "start_time": "2023-07-06T08:15:46.288Z"
   },
   {
    "duration": 9,
    "start_time": "2023-07-06T08:15:46.601Z"
   },
   {
    "duration": 4,
    "start_time": "2023-07-06T08:15:48.096Z"
   },
   {
    "duration": 13,
    "start_time": "2023-07-06T08:15:48.773Z"
   },
   {
    "duration": 19,
    "start_time": "2023-07-06T08:15:49.125Z"
   },
   {
    "duration": 16,
    "start_time": "2023-07-06T08:15:49.312Z"
   },
   {
    "duration": 3,
    "start_time": "2023-07-06T08:15:50.575Z"
   },
   {
    "duration": 10,
    "start_time": "2023-07-06T08:15:51.519Z"
   },
   {
    "duration": 7,
    "start_time": "2023-07-06T08:15:52.479Z"
   },
   {
    "duration": 4,
    "start_time": "2023-07-06T08:15:52.912Z"
   },
   {
    "duration": 27,
    "start_time": "2023-07-06T08:15:53.455Z"
   },
   {
    "duration": 22,
    "start_time": "2023-07-06T08:17:58.154Z"
   },
   {
    "duration": 72,
    "start_time": "2023-07-06T08:19:08.167Z"
   },
   {
    "duration": 96,
    "start_time": "2023-07-06T08:19:32.937Z"
   },
   {
    "duration": 21,
    "start_time": "2023-07-06T08:20:08.281Z"
   },
   {
    "duration": 111,
    "start_time": "2023-07-06T08:20:21.801Z"
   },
   {
    "duration": 146,
    "start_time": "2023-07-06T08:20:40.553Z"
   },
   {
    "duration": 20,
    "start_time": "2023-07-06T08:20:49.081Z"
   },
   {
    "duration": 117,
    "start_time": "2023-07-06T08:22:34.609Z"
   },
   {
    "duration": 102,
    "start_time": "2023-07-06T08:22:52.458Z"
   },
   {
    "duration": 76,
    "start_time": "2023-07-06T08:23:01.321Z"
   },
   {
    "duration": 22,
    "start_time": "2023-07-06T08:26:37.030Z"
   },
   {
    "duration": 20,
    "start_time": "2023-07-06T08:26:45.047Z"
   },
   {
    "duration": 26,
    "start_time": "2023-07-06T08:31:10.794Z"
   },
   {
    "duration": 20,
    "start_time": "2023-07-06T08:31:44.615Z"
   },
   {
    "duration": 19,
    "start_time": "2023-07-06T08:45:23.616Z"
   },
   {
    "duration": 19,
    "start_time": "2023-07-06T08:49:54.243Z"
   },
   {
    "duration": 94,
    "start_time": "2023-07-06T09:09:25.615Z"
   },
   {
    "duration": 87,
    "start_time": "2023-07-06T09:09:40.654Z"
   },
   {
    "duration": 99,
    "start_time": "2023-07-06T09:09:59.182Z"
   },
   {
    "duration": 119,
    "start_time": "2023-07-06T09:10:11.711Z"
   },
   {
    "duration": 17,
    "start_time": "2023-07-06T09:10:57.247Z"
   },
   {
    "duration": 20,
    "start_time": "2023-07-06T09:11:03.352Z"
   },
   {
    "duration": 22,
    "start_time": "2023-07-06T09:16:13.512Z"
   },
   {
    "duration": 92,
    "start_time": "2023-07-06T09:17:29.017Z"
   },
   {
    "duration": 2924,
    "start_time": "2023-07-06T09:17:39.806Z"
   },
   {
    "duration": 21,
    "start_time": "2023-07-06T09:17:45.810Z"
   },
   {
    "duration": 73,
    "start_time": "2023-07-06T11:44:25.848Z"
   },
   {
    "duration": 10,
    "start_time": "2023-07-06T11:45:20.519Z"
   },
   {
    "duration": 11,
    "start_time": "2023-07-06T11:45:39.042Z"
   },
   {
    "duration": 607,
    "start_time": "2023-07-06T11:45:44.719Z"
   },
   {
    "duration": 37,
    "start_time": "2023-07-06T11:45:46.792Z"
   },
   {
    "duration": 23,
    "start_time": "2023-07-06T11:45:48.312Z"
   },
   {
    "duration": 16,
    "start_time": "2023-07-06T11:45:49.696Z"
   },
   {
    "duration": 54,
    "start_time": "2023-07-06T11:45:50.694Z"
   },
   {
    "duration": 4,
    "start_time": "2023-07-06T11:45:51.593Z"
   },
   {
    "duration": 12,
    "start_time": "2023-07-06T11:45:52.421Z"
   },
   {
    "duration": 6,
    "start_time": "2023-07-06T11:45:53.526Z"
   },
   {
    "duration": 16,
    "start_time": "2023-07-06T11:45:54.287Z"
   },
   {
    "duration": 7,
    "start_time": "2023-07-06T11:45:54.754Z"
   },
   {
    "duration": 34,
    "start_time": "2023-07-06T11:45:55.204Z"
   },
   {
    "duration": 16,
    "start_time": "2023-07-06T11:45:56.006Z"
   },
   {
    "duration": 5,
    "start_time": "2023-07-06T11:45:57.049Z"
   },
   {
    "duration": 18,
    "start_time": "2023-07-06T11:45:57.737Z"
   },
   {
    "duration": 27,
    "start_time": "2023-07-06T11:45:58.092Z"
   },
   {
    "duration": 21,
    "start_time": "2023-07-06T11:45:59.630Z"
   },
   {
    "duration": 5,
    "start_time": "2023-07-06T11:46:01.137Z"
   },
   {
    "duration": 11,
    "start_time": "2023-07-06T11:46:02.189Z"
   },
   {
    "duration": 9,
    "start_time": "2023-07-06T11:46:03.399Z"
   },
   {
    "duration": 4,
    "start_time": "2023-07-06T11:46:04.518Z"
   },
   {
    "duration": 40,
    "start_time": "2023-07-06T11:46:05.551Z"
   },
   {
    "duration": 25,
    "start_time": "2023-07-06T11:46:08.314Z"
   },
   {
    "duration": 22,
    "start_time": "2023-07-06T11:46:10.815Z"
   },
   {
    "duration": 18,
    "start_time": "2023-07-06T12:05:33.951Z"
   },
   {
    "duration": 75,
    "start_time": "2023-07-06T12:29:31.619Z"
   },
   {
    "duration": 98,
    "start_time": "2023-07-06T12:29:47.930Z"
   },
   {
    "duration": 15,
    "start_time": "2023-07-06T12:30:06.404Z"
   },
   {
    "duration": 139,
    "start_time": "2023-07-06T12:30:08.412Z"
   },
   {
    "duration": 20,
    "start_time": "2023-07-06T12:30:38.327Z"
   },
   {
    "duration": 56,
    "start_time": "2023-07-06T14:21:51.513Z"
   },
   {
    "duration": 576,
    "start_time": "2023-07-06T14:22:00.713Z"
   },
   {
    "duration": 23,
    "start_time": "2023-07-06T14:22:02.236Z"
   },
   {
    "duration": 14,
    "start_time": "2023-07-06T14:22:05.397Z"
   },
   {
    "duration": 10,
    "start_time": "2023-07-06T14:22:07.351Z"
   },
   {
    "duration": 39,
    "start_time": "2023-07-06T14:22:08.299Z"
   },
   {
    "duration": 4,
    "start_time": "2023-07-06T14:22:09.841Z"
   },
   {
    "duration": 7,
    "start_time": "2023-07-06T14:22:12.027Z"
   },
   {
    "duration": 5,
    "start_time": "2023-07-06T14:22:28.897Z"
   },
   {
    "duration": 7,
    "start_time": "2023-07-06T14:22:33.700Z"
   },
   {
    "duration": 5,
    "start_time": "2023-07-06T14:22:34.504Z"
   },
   {
    "duration": 41,
    "start_time": "2023-07-06T14:22:35.994Z"
   },
   {
    "duration": 10,
    "start_time": "2023-07-06T14:22:36.830Z"
   },
   {
    "duration": 4,
    "start_time": "2023-07-06T14:22:39.496Z"
   },
   {
    "duration": 11,
    "start_time": "2023-07-06T14:22:42.289Z"
   },
   {
    "duration": 27,
    "start_time": "2023-07-06T14:22:44.104Z"
   },
   {
    "duration": 27,
    "start_time": "2023-07-06T14:22:44.513Z"
   },
   {
    "duration": 6,
    "start_time": "2023-07-06T14:22:46.426Z"
   },
   {
    "duration": 10,
    "start_time": "2023-07-06T14:22:46.877Z"
   },
   {
    "duration": 6,
    "start_time": "2023-07-06T14:22:48.275Z"
   },
   {
    "duration": 8,
    "start_time": "2023-07-06T14:23:09.762Z"
   },
   {
    "duration": 9,
    "start_time": "2023-07-06T14:25:11.809Z"
   },
   {
    "duration": 12,
    "start_time": "2023-07-06T14:25:35.997Z"
   },
   {
    "duration": 10,
    "start_time": "2023-07-06T14:26:08.625Z"
   },
   {
    "duration": 22,
    "start_time": "2023-07-06T14:27:13.618Z"
   },
   {
    "duration": 16,
    "start_time": "2023-07-06T14:27:19.312Z"
   },
   {
    "duration": 41,
    "start_time": "2023-07-06T14:39:33.716Z"
   },
   {
    "duration": 10,
    "start_time": "2023-07-06T14:39:50.254Z"
   },
   {
    "duration": 22,
    "start_time": "2023-07-06T14:40:08.518Z"
   },
   {
    "duration": 12,
    "start_time": "2023-07-06T14:41:27.444Z"
   },
   {
    "duration": 17,
    "start_time": "2023-07-06T14:42:15.095Z"
   },
   {
    "duration": 779,
    "start_time": "2023-07-06T16:09:25.341Z"
   },
   {
    "duration": 35,
    "start_time": "2023-07-06T16:09:26.123Z"
   },
   {
    "duration": 15,
    "start_time": "2023-07-06T16:09:26.160Z"
   },
   {
    "duration": 9,
    "start_time": "2023-07-06T16:09:26.177Z"
   },
   {
    "duration": 69,
    "start_time": "2023-07-06T16:09:26.188Z"
   },
   {
    "duration": 3,
    "start_time": "2023-07-06T16:09:26.259Z"
   },
   {
    "duration": 24,
    "start_time": "2023-07-06T16:09:26.264Z"
   },
   {
    "duration": 24,
    "start_time": "2023-07-06T16:09:26.290Z"
   },
   {
    "duration": 17,
    "start_time": "2023-07-06T16:09:26.317Z"
   },
   {
    "duration": 27,
    "start_time": "2023-07-06T16:09:26.337Z"
   },
   {
    "duration": 41,
    "start_time": "2023-07-06T16:09:26.365Z"
   },
   {
    "duration": 10,
    "start_time": "2023-07-06T16:09:26.408Z"
   },
   {
    "duration": 17,
    "start_time": "2023-07-06T16:09:26.420Z"
   },
   {
    "duration": 23,
    "start_time": "2023-07-06T16:09:26.441Z"
   },
   {
    "duration": 25,
    "start_time": "2023-07-06T16:09:26.466Z"
   },
   {
    "duration": 34,
    "start_time": "2023-07-06T16:09:26.493Z"
   },
   {
    "duration": 4,
    "start_time": "2023-07-06T16:09:26.529Z"
   },
   {
    "duration": 11,
    "start_time": "2023-07-06T16:09:26.553Z"
   },
   {
    "duration": 18,
    "start_time": "2023-07-06T16:09:26.565Z"
   },
   {
    "duration": 6,
    "start_time": "2023-07-06T16:09:26.585Z"
   },
   {
    "duration": 63,
    "start_time": "2023-07-06T16:09:26.592Z"
   },
   {
    "duration": 25,
    "start_time": "2023-07-06T16:09:26.657Z"
   },
   {
    "duration": 16,
    "start_time": "2023-07-06T16:09:26.684Z"
   },
   {
    "duration": 54,
    "start_time": "2023-07-06T16:09:26.701Z"
   },
   {
    "duration": 15,
    "start_time": "2023-07-06T16:09:26.757Z"
   },
   {
    "duration": 122,
    "start_time": "2023-07-07T10:59:32.358Z"
   },
   {
    "duration": 1167,
    "start_time": "2023-07-07T22:16:47.900Z"
   },
   {
    "duration": 28,
    "start_time": "2023-07-07T22:16:49.069Z"
   },
   {
    "duration": 14,
    "start_time": "2023-07-07T22:16:49.098Z"
   },
   {
    "duration": 22,
    "start_time": "2023-07-07T22:16:49.114Z"
   },
   {
    "duration": 35,
    "start_time": "2023-07-07T22:16:49.138Z"
   },
   {
    "duration": 4,
    "start_time": "2023-07-07T22:16:49.175Z"
   },
   {
    "duration": 13,
    "start_time": "2023-07-07T22:16:49.180Z"
   },
   {
    "duration": 24,
    "start_time": "2023-07-07T22:16:49.195Z"
   },
   {
    "duration": 10,
    "start_time": "2023-07-07T22:16:49.222Z"
   },
   {
    "duration": 6,
    "start_time": "2023-07-07T22:16:49.234Z"
   },
   {
    "duration": 35,
    "start_time": "2023-07-07T22:16:49.241Z"
   },
   {
    "duration": 31,
    "start_time": "2023-07-07T22:16:49.278Z"
   },
   {
    "duration": 13,
    "start_time": "2023-07-07T22:16:49.311Z"
   },
   {
    "duration": 25,
    "start_time": "2023-07-07T22:16:49.327Z"
   },
   {
    "duration": 29,
    "start_time": "2023-07-07T22:16:49.354Z"
   },
   {
    "duration": 18,
    "start_time": "2023-07-07T22:16:49.385Z"
   },
   {
    "duration": 17,
    "start_time": "2023-07-07T22:16:49.405Z"
   },
   {
    "duration": 13,
    "start_time": "2023-07-07T22:16:49.423Z"
   },
   {
    "duration": 32,
    "start_time": "2023-07-07T22:16:49.438Z"
   },
   {
    "duration": 15,
    "start_time": "2023-07-07T22:16:49.472Z"
   },
   {
    "duration": 40,
    "start_time": "2023-07-07T22:16:49.489Z"
   },
   {
    "duration": 24,
    "start_time": "2023-07-07T22:16:49.530Z"
   },
   {
    "duration": 15,
    "start_time": "2023-07-07T22:16:49.556Z"
   },
   {
    "duration": 38,
    "start_time": "2023-07-07T22:16:49.572Z"
   },
   {
    "duration": 18,
    "start_time": "2023-07-07T22:16:49.612Z"
   }
  ],
  "celltoolbar": "Edit Metadata",
  "colab": {
   "provenance": []
  },
  "kernelspec": {
   "display_name": "Python 3 (ipykernel)",
   "language": "python",
   "name": "python3"
  },
  "language_info": {
   "codemirror_mode": {
    "name": "ipython",
    "version": 3
   },
   "file_extension": ".py",
   "mimetype": "text/x-python",
   "name": "python",
   "nbconvert_exporter": "python",
   "pygments_lexer": "ipython3",
   "version": "3.11.4"
  },
  "toc": {
   "base_numbering": 1,
   "nav_menu": {},
   "number_sections": true,
   "sideBar": true,
   "skip_h1_title": true,
   "title_cell": "Table of Contents",
   "title_sidebar": "Contents",
   "toc_cell": false,
   "toc_position": {},
   "toc_section_display": true,
   "toc_window_display": true
  }
 },
 "nbformat": 4,
 "nbformat_minor": 5
}
