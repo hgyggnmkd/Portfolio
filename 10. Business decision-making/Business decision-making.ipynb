{
 "cells": [
  {
   "cell_type": "markdown",
   "metadata": {},
   "source": [
    "# Описание проекта\n",
    "\n",
    "Я — аналитик крупного интернет-магазина. Вместе с отделом маркетинга мы подготовили список гипотез для увеличения выручки.\n",
    "Для начала приоритизируем гипотезы, после запустим A/B-тест и проанализируем результаты. "
   ]
  },
  {
   "cell_type": "markdown",
   "metadata": {},
   "source": [
    "## Часть первая. Приоретизация гипотез\n",
    "\n",
    "Мы имеем файл с данными о 9 гипотезах по увеличению выручки интернет-магазина с указанными параметрами Reach, Impact, Confidence, Effort"
   ]
  },
  {
   "cell_type": "markdown",
   "metadata": {},
   "source": [
    "### Применю фреймворк ICE для приоритизации гипотез и отсортирую их по убыванию приоритета"
   ]
  },
  {
   "cell_type": "code",
   "execution_count": 1,
   "metadata": {},
   "outputs": [],
   "source": [
    "import pandas as pd\n",
    "import numpy as np"
   ]
  },
  {
   "cell_type": "code",
   "execution_count": 2,
   "metadata": {},
   "outputs": [
    {
     "data": {
      "text/html": [
       "<div>\n",
       "<style scoped>\n",
       "    .dataframe tbody tr th:only-of-type {\n",
       "        vertical-align: middle;\n",
       "    }\n",
       "\n",
       "    .dataframe tbody tr th {\n",
       "        vertical-align: top;\n",
       "    }\n",
       "\n",
       "    .dataframe thead th {\n",
       "        text-align: right;\n",
       "    }\n",
       "</style>\n",
       "<table border=\"1\" class=\"dataframe\">\n",
       "  <thead>\n",
       "    <tr style=\"text-align: right;\">\n",
       "      <th></th>\n",
       "      <th>Hypothesis</th>\n",
       "      <th>Reach</th>\n",
       "      <th>Impact</th>\n",
       "      <th>Confidence</th>\n",
       "      <th>Efforts</th>\n",
       "      <th>ICE</th>\n",
       "    </tr>\n",
       "  </thead>\n",
       "  <tbody>\n",
       "    <tr>\n",
       "      <th>8</th>\n",
       "      <td>Запустить акцию, дающую скидку на товар в день рождения</td>\n",
       "      <td>1</td>\n",
       "      <td>9</td>\n",
       "      <td>9</td>\n",
       "      <td>5</td>\n",
       "      <td>16.20</td>\n",
       "    </tr>\n",
       "    <tr>\n",
       "      <th>0</th>\n",
       "      <td>Добавить два новых канала привлечения трафика, что позволит привлекать на 30% больше пользователей</td>\n",
       "      <td>3</td>\n",
       "      <td>10</td>\n",
       "      <td>8</td>\n",
       "      <td>6</td>\n",
       "      <td>13.33</td>\n",
       "    </tr>\n",
       "    <tr>\n",
       "      <th>7</th>\n",
       "      <td>Добавить форму подписки на все основные страницы, чтобы собрать базу клиентов для email-рассылок</td>\n",
       "      <td>10</td>\n",
       "      <td>7</td>\n",
       "      <td>8</td>\n",
       "      <td>5</td>\n",
       "      <td>11.20</td>\n",
       "    </tr>\n",
       "    <tr>\n",
       "      <th>6</th>\n",
       "      <td>Показать на главной странице баннеры с актуальными акциями и распродажами, чтобы увеличить конверсию</td>\n",
       "      <td>5</td>\n",
       "      <td>3</td>\n",
       "      <td>8</td>\n",
       "      <td>3</td>\n",
       "      <td>8.00</td>\n",
       "    </tr>\n",
       "    <tr>\n",
       "      <th>2</th>\n",
       "      <td>Добавить блоки рекомендаций товаров на сайт интернет магазина, чтобы повысить конверсию и средний чек заказа</td>\n",
       "      <td>8</td>\n",
       "      <td>3</td>\n",
       "      <td>7</td>\n",
       "      <td>3</td>\n",
       "      <td>7.00</td>\n",
       "    </tr>\n",
       "    <tr>\n",
       "      <th>1</th>\n",
       "      <td>Запустить собственную службу доставки, что сократит срок доставки заказов</td>\n",
       "      <td>2</td>\n",
       "      <td>5</td>\n",
       "      <td>4</td>\n",
       "      <td>10</td>\n",
       "      <td>2.00</td>\n",
       "    </tr>\n",
       "    <tr>\n",
       "      <th>5</th>\n",
       "      <td>Добавить страницу отзывов клиентов о магазине, что позволит увеличить количество заказов</td>\n",
       "      <td>3</td>\n",
       "      <td>2</td>\n",
       "      <td>2</td>\n",
       "      <td>3</td>\n",
       "      <td>1.33</td>\n",
       "    </tr>\n",
       "    <tr>\n",
       "      <th>3</th>\n",
       "      <td>Изменить структура категорий, что увеличит конверсию, т.к. пользователи быстрее найдут нужный товар</td>\n",
       "      <td>8</td>\n",
       "      <td>3</td>\n",
       "      <td>3</td>\n",
       "      <td>8</td>\n",
       "      <td>1.12</td>\n",
       "    </tr>\n",
       "    <tr>\n",
       "      <th>4</th>\n",
       "      <td>Изменить цвет фона главной страницы, чтобы увеличить вовлеченность пользователей</td>\n",
       "      <td>3</td>\n",
       "      <td>1</td>\n",
       "      <td>1</td>\n",
       "      <td>1</td>\n",
       "      <td>1.00</td>\n",
       "    </tr>\n",
       "  </tbody>\n",
       "</table>\n",
       "</div>"
      ],
      "text/plain": [
       "                                                                                                     Hypothesis  \\\n",
       "8                                                       Запустить акцию, дающую скидку на товар в день рождения   \n",
       "0            Добавить два новых канала привлечения трафика, что позволит привлекать на 30% больше пользователей   \n",
       "7              Добавить форму подписки на все основные страницы, чтобы собрать базу клиентов для email-рассылок   \n",
       "6          Показать на главной странице баннеры с актуальными акциями и распродажами, чтобы увеличить конверсию   \n",
       "2  Добавить блоки рекомендаций товаров на сайт интернет магазина, чтобы повысить конверсию и средний чек заказа   \n",
       "1                                     Запустить собственную службу доставки, что сократит срок доставки заказов   \n",
       "5                      Добавить страницу отзывов клиентов о магазине, что позволит увеличить количество заказов   \n",
       "3           Изменить структура категорий, что увеличит конверсию, т.к. пользователи быстрее найдут нужный товар   \n",
       "4                              Изменить цвет фона главной страницы, чтобы увеличить вовлеченность пользователей   \n",
       "\n",
       "   Reach  Impact  Confidence  Efforts    ICE  \n",
       "8      1       9           9        5  16.20  \n",
       "0      3      10           8        6  13.33  \n",
       "7     10       7           8        5  11.20  \n",
       "6      5       3           8        3   8.00  \n",
       "2      8       3           7        3   7.00  \n",
       "1      2       5           4       10   2.00  \n",
       "5      3       2           2        3   1.33  \n",
       "3      8       3           3        8   1.12  \n",
       "4      3       1           1        1   1.00  "
      ]
     },
     "metadata": {},
     "output_type": "display_data"
    }
   ],
   "source": [
    "hypothesis = pd.read_csv('/datasets/hypothesis.csv')\n",
    "hypothesis['ICE'] = ((hypothesis['Impact']*hypothesis['Confidence'])/hypothesis['Efforts'])\n",
    "hypothesis['ICE'] = hypothesis['ICE'].round(2)\n",
    "pd.options.display.max_colwidth = 130\n",
    "display(hypothesis.sort_values(by='ICE', ascending=False))"
   ]
  },
  {
   "cell_type": "markdown",
   "metadata": {},
   "source": [
    "По фреймворку ICE я выявила 3 приоритетные гипотезы :\n",
    "\n",
    "8 - Запустить акцию, дающую скидку на товар в день рождения;\n",
    "\n",
    "1 - Добавить два новых канала привлечения трафика, что позволит привлекать на 30% больше пользователей;\n",
    "\n",
    "7 - Добавить форму подписки на все основные страницы, чтобы собрать базу клиентов для email-рассылок\t\n",
    "\n",
    "Все из-за высоких показателей влиянения и уверенности. А показатель усилий у них средний "
   ]
  },
  {
   "cell_type": "markdown",
   "metadata": {},
   "source": [
    "### Применю фреймворк RICE и также отсортирую их по убыванию приоритета"
   ]
  },
  {
   "cell_type": "code",
   "execution_count": 3,
   "metadata": {},
   "outputs": [
    {
     "data": {
      "text/html": [
       "<div>\n",
       "<style scoped>\n",
       "    .dataframe tbody tr th:only-of-type {\n",
       "        vertical-align: middle;\n",
       "    }\n",
       "\n",
       "    .dataframe tbody tr th {\n",
       "        vertical-align: top;\n",
       "    }\n",
       "\n",
       "    .dataframe thead th {\n",
       "        text-align: right;\n",
       "    }\n",
       "</style>\n",
       "<table border=\"1\" class=\"dataframe\">\n",
       "  <thead>\n",
       "    <tr style=\"text-align: right;\">\n",
       "      <th></th>\n",
       "      <th>Hypothesis</th>\n",
       "      <th>Reach</th>\n",
       "      <th>Impact</th>\n",
       "      <th>Confidence</th>\n",
       "      <th>Efforts</th>\n",
       "      <th>ICE</th>\n",
       "      <th>RICE</th>\n",
       "    </tr>\n",
       "  </thead>\n",
       "  <tbody>\n",
       "    <tr>\n",
       "      <th>7</th>\n",
       "      <td>Добавить форму подписки на все основные страницы, чтобы собрать базу клиентов для email-рассылок</td>\n",
       "      <td>10</td>\n",
       "      <td>7</td>\n",
       "      <td>8</td>\n",
       "      <td>5</td>\n",
       "      <td>11.20</td>\n",
       "      <td>112.0</td>\n",
       "    </tr>\n",
       "    <tr>\n",
       "      <th>2</th>\n",
       "      <td>Добавить блоки рекомендаций товаров на сайт интернет магазина, чтобы повысить конверсию и средний чек заказа</td>\n",
       "      <td>8</td>\n",
       "      <td>3</td>\n",
       "      <td>7</td>\n",
       "      <td>3</td>\n",
       "      <td>7.00</td>\n",
       "      <td>56.0</td>\n",
       "    </tr>\n",
       "    <tr>\n",
       "      <th>0</th>\n",
       "      <td>Добавить два новых канала привлечения трафика, что позволит привлекать на 30% больше пользователей</td>\n",
       "      <td>3</td>\n",
       "      <td>10</td>\n",
       "      <td>8</td>\n",
       "      <td>6</td>\n",
       "      <td>13.33</td>\n",
       "      <td>40.0</td>\n",
       "    </tr>\n",
       "    <tr>\n",
       "      <th>6</th>\n",
       "      <td>Показать на главной странице баннеры с актуальными акциями и распродажами, чтобы увеличить конверсию</td>\n",
       "      <td>5</td>\n",
       "      <td>3</td>\n",
       "      <td>8</td>\n",
       "      <td>3</td>\n",
       "      <td>8.00</td>\n",
       "      <td>40.0</td>\n",
       "    </tr>\n",
       "    <tr>\n",
       "      <th>8</th>\n",
       "      <td>Запустить акцию, дающую скидку на товар в день рождения</td>\n",
       "      <td>1</td>\n",
       "      <td>9</td>\n",
       "      <td>9</td>\n",
       "      <td>5</td>\n",
       "      <td>16.20</td>\n",
       "      <td>16.2</td>\n",
       "    </tr>\n",
       "    <tr>\n",
       "      <th>3</th>\n",
       "      <td>Изменить структура категорий, что увеличит конверсию, т.к. пользователи быстрее найдут нужный товар</td>\n",
       "      <td>8</td>\n",
       "      <td>3</td>\n",
       "      <td>3</td>\n",
       "      <td>8</td>\n",
       "      <td>1.12</td>\n",
       "      <td>9.0</td>\n",
       "    </tr>\n",
       "    <tr>\n",
       "      <th>1</th>\n",
       "      <td>Запустить собственную службу доставки, что сократит срок доставки заказов</td>\n",
       "      <td>2</td>\n",
       "      <td>5</td>\n",
       "      <td>4</td>\n",
       "      <td>10</td>\n",
       "      <td>2.00</td>\n",
       "      <td>4.0</td>\n",
       "    </tr>\n",
       "    <tr>\n",
       "      <th>5</th>\n",
       "      <td>Добавить страницу отзывов клиентов о магазине, что позволит увеличить количество заказов</td>\n",
       "      <td>3</td>\n",
       "      <td>2</td>\n",
       "      <td>2</td>\n",
       "      <td>3</td>\n",
       "      <td>1.33</td>\n",
       "      <td>4.0</td>\n",
       "    </tr>\n",
       "    <tr>\n",
       "      <th>4</th>\n",
       "      <td>Изменить цвет фона главной страницы, чтобы увеличить вовлеченность пользователей</td>\n",
       "      <td>3</td>\n",
       "      <td>1</td>\n",
       "      <td>1</td>\n",
       "      <td>1</td>\n",
       "      <td>1.00</td>\n",
       "      <td>3.0</td>\n",
       "    </tr>\n",
       "  </tbody>\n",
       "</table>\n",
       "</div>"
      ],
      "text/plain": [
       "                                                                                                     Hypothesis  \\\n",
       "7              Добавить форму подписки на все основные страницы, чтобы собрать базу клиентов для email-рассылок   \n",
       "2  Добавить блоки рекомендаций товаров на сайт интернет магазина, чтобы повысить конверсию и средний чек заказа   \n",
       "0            Добавить два новых канала привлечения трафика, что позволит привлекать на 30% больше пользователей   \n",
       "6          Показать на главной странице баннеры с актуальными акциями и распродажами, чтобы увеличить конверсию   \n",
       "8                                                       Запустить акцию, дающую скидку на товар в день рождения   \n",
       "3           Изменить структура категорий, что увеличит конверсию, т.к. пользователи быстрее найдут нужный товар   \n",
       "1                                     Запустить собственную службу доставки, что сократит срок доставки заказов   \n",
       "5                      Добавить страницу отзывов клиентов о магазине, что позволит увеличить количество заказов   \n",
       "4                              Изменить цвет фона главной страницы, чтобы увеличить вовлеченность пользователей   \n",
       "\n",
       "   Reach  Impact  Confidence  Efforts    ICE   RICE  \n",
       "7     10       7           8        5  11.20  112.0  \n",
       "2      8       3           7        3   7.00   56.0  \n",
       "0      3      10           8        6  13.33   40.0  \n",
       "6      5       3           8        3   8.00   40.0  \n",
       "8      1       9           9        5  16.20   16.2  \n",
       "3      8       3           3        8   1.12    9.0  \n",
       "1      2       5           4       10   2.00    4.0  \n",
       "5      3       2           2        3   1.33    4.0  \n",
       "4      3       1           1        1   1.00    3.0  "
      ]
     },
     "execution_count": 3,
     "metadata": {},
     "output_type": "execute_result"
    }
   ],
   "source": [
    "hypothesis['RICE'] = (hypothesis['Reach']*hypothesis['Impact']*hypothesis['Confidence'])/hypothesis['Efforts']\n",
    "hypothesis.sort_values(by='RICE', ascending=False)"
   ]
  },
  {
   "cell_type": "markdown",
   "metadata": {},
   "source": [
    "По методу приоретизации гипотез RICE вывод поменялся. Приоритетные гипотезы : \n",
    "\n",
    "7 - Добавить форму подписки на все основные страницы, чтобы собрать базу клиентов для email-рассылок;\n",
    "\n",
    "2 - Добавить блоки рекомендаций товаров на сайт интернет магазина, чтобы повысить конверсию и средний чек заказа;\n",
    "\n",
    "1 - Добавить два новых канала привлечения трафика, что позволит привлекать на 30% больше пользователей;\n",
    "\n",
    "6 - Показать на главной странице баннеры с актуальными акциями и распродажами, чтобы увеличить конверсию\n",
    "\n",
    "Все из-за параметра reach, он отвечает за количество пользователей, на которых повлияет изменение. У гипотезы 7 и 2 показатель reach высокий. А у гипотезы 8 (Запустить акцию, дающую скидку на товар в день рождения), которая была приоритетной по методу ICE, reach низкий "
   ]
  },
  {
   "cell_type": "markdown",
   "metadata": {},
   "source": [
    "## Часть вторая. Анализ A/B-теста\n",
    "\n",
    "Мы провели A/B-тесты и получили результаты, которые хранятся в файлах `orders` и `visitors`. Приступим к анализу"
   ]
  },
  {
   "cell_type": "markdown",
   "metadata": {},
   "source": [
    "### Для начала испортирую необходимые для дальнейших действий библиотеки, после выведу первые пять строчек обоих таблиц для первичного ознакомления"
   ]
  },
  {
   "cell_type": "code",
   "execution_count": 4,
   "metadata": {},
   "outputs": [],
   "source": [
    "import datetime as dt\n",
    "import matplotlib.pyplot as plt\n",
    "from scipy import stats as st\n",
    "import scipy.stats as stats"
   ]
  },
  {
   "cell_type": "code",
   "execution_count": 5,
   "metadata": {},
   "outputs": [
    {
     "data": {
      "text/html": [
       "<div>\n",
       "<style scoped>\n",
       "    .dataframe tbody tr th:only-of-type {\n",
       "        vertical-align: middle;\n",
       "    }\n",
       "\n",
       "    .dataframe tbody tr th {\n",
       "        vertical-align: top;\n",
       "    }\n",
       "\n",
       "    .dataframe thead th {\n",
       "        text-align: right;\n",
       "    }\n",
       "</style>\n",
       "<table border=\"1\" class=\"dataframe\">\n",
       "  <thead>\n",
       "    <tr style=\"text-align: right;\">\n",
       "      <th></th>\n",
       "      <th>transactionId</th>\n",
       "      <th>visitorId</th>\n",
       "      <th>date</th>\n",
       "      <th>revenue</th>\n",
       "      <th>group</th>\n",
       "    </tr>\n",
       "  </thead>\n",
       "  <tbody>\n",
       "    <tr>\n",
       "      <th>0</th>\n",
       "      <td>3667963787</td>\n",
       "      <td>3312258926</td>\n",
       "      <td>2019-08-15</td>\n",
       "      <td>1650</td>\n",
       "      <td>B</td>\n",
       "    </tr>\n",
       "    <tr>\n",
       "      <th>1</th>\n",
       "      <td>2804400009</td>\n",
       "      <td>3642806036</td>\n",
       "      <td>2019-08-15</td>\n",
       "      <td>730</td>\n",
       "      <td>B</td>\n",
       "    </tr>\n",
       "    <tr>\n",
       "      <th>2</th>\n",
       "      <td>2961555356</td>\n",
       "      <td>4069496402</td>\n",
       "      <td>2019-08-15</td>\n",
       "      <td>400</td>\n",
       "      <td>A</td>\n",
       "    </tr>\n",
       "    <tr>\n",
       "      <th>3</th>\n",
       "      <td>3797467345</td>\n",
       "      <td>1196621759</td>\n",
       "      <td>2019-08-15</td>\n",
       "      <td>9759</td>\n",
       "      <td>B</td>\n",
       "    </tr>\n",
       "    <tr>\n",
       "      <th>4</th>\n",
       "      <td>2282983706</td>\n",
       "      <td>2322279887</td>\n",
       "      <td>2019-08-15</td>\n",
       "      <td>2308</td>\n",
       "      <td>B</td>\n",
       "    </tr>\n",
       "  </tbody>\n",
       "</table>\n",
       "</div>"
      ],
      "text/plain": [
       "   transactionId   visitorId       date  revenue group\n",
       "0     3667963787  3312258926 2019-08-15     1650     B\n",
       "1     2804400009  3642806036 2019-08-15      730     B\n",
       "2     2961555356  4069496402 2019-08-15      400     A\n",
       "3     3797467345  1196621759 2019-08-15     9759     B\n",
       "4     2282983706  2322279887 2019-08-15     2308     B"
      ]
     },
     "metadata": {},
     "output_type": "display_data"
    },
    {
     "data": {
      "text/html": [
       "<div>\n",
       "<style scoped>\n",
       "    .dataframe tbody tr th:only-of-type {\n",
       "        vertical-align: middle;\n",
       "    }\n",
       "\n",
       "    .dataframe tbody tr th {\n",
       "        vertical-align: top;\n",
       "    }\n",
       "\n",
       "    .dataframe thead th {\n",
       "        text-align: right;\n",
       "    }\n",
       "</style>\n",
       "<table border=\"1\" class=\"dataframe\">\n",
       "  <thead>\n",
       "    <tr style=\"text-align: right;\">\n",
       "      <th></th>\n",
       "      <th>date</th>\n",
       "      <th>group</th>\n",
       "      <th>visitors</th>\n",
       "    </tr>\n",
       "  </thead>\n",
       "  <tbody>\n",
       "    <tr>\n",
       "      <th>0</th>\n",
       "      <td>2019-08-01</td>\n",
       "      <td>A</td>\n",
       "      <td>719</td>\n",
       "    </tr>\n",
       "    <tr>\n",
       "      <th>1</th>\n",
       "      <td>2019-08-02</td>\n",
       "      <td>A</td>\n",
       "      <td>619</td>\n",
       "    </tr>\n",
       "    <tr>\n",
       "      <th>2</th>\n",
       "      <td>2019-08-03</td>\n",
       "      <td>A</td>\n",
       "      <td>507</td>\n",
       "    </tr>\n",
       "    <tr>\n",
       "      <th>3</th>\n",
       "      <td>2019-08-04</td>\n",
       "      <td>A</td>\n",
       "      <td>717</td>\n",
       "    </tr>\n",
       "    <tr>\n",
       "      <th>4</th>\n",
       "      <td>2019-08-05</td>\n",
       "      <td>A</td>\n",
       "      <td>756</td>\n",
       "    </tr>\n",
       "  </tbody>\n",
       "</table>\n",
       "</div>"
      ],
      "text/plain": [
       "        date group  visitors\n",
       "0 2019-08-01     A       719\n",
       "1 2019-08-02     A       619\n",
       "2 2019-08-03     A       507\n",
       "3 2019-08-04     A       717\n",
       "4 2019-08-05     A       756"
      ]
     },
     "execution_count": 5,
     "metadata": {},
     "output_type": "execute_result"
    }
   ],
   "source": [
    "orders = pd.read_csv('/datasets/orders.csv')\n",
    "orders['date'] = orders['date'].map(\n",
    "    lambda x: dt.datetime.strptime(x, '%Y-%m-%d'))\n",
    "display(orders.head())\n",
    "\n",
    "visitors = pd.read_csv('/datasets/visitors.csv')\n",
    "visitors['date'] = visitors['date'].map(\n",
    "    lambda x: dt.datetime.strptime(x, '%Y-%m-%d'))\n",
    "visitors.head()"
   ]
  },
  {
   "cell_type": "markdown",
   "metadata": {},
   "source": [
    "Поменяла тип в столбцах с датами на верный"
   ]
  },
  {
   "cell_type": "markdown",
   "metadata": {},
   "source": [
    "### Проверю диапазон дат, в которых проводился тест"
   ]
  },
  {
   "cell_type": "code",
   "execution_count": 6,
   "metadata": {},
   "outputs": [
    {
     "data": {
      "text/plain": [
       "Timestamp('2019-08-01 00:00:00')"
      ]
     },
     "metadata": {},
     "output_type": "display_data"
    },
    {
     "data": {
      "text/plain": [
       "Timestamp('2019-08-31 00:00:00')"
      ]
     },
     "metadata": {},
     "output_type": "display_data"
    }
   ],
   "source": [
    "display(orders['date'].min())\n",
    "display(orders['date'].max())"
   ]
  },
  {
   "cell_type": "markdown",
   "metadata": {},
   "source": [
    "### Проверю наличие пропусков"
   ]
  },
  {
   "cell_type": "code",
   "execution_count": 7,
   "metadata": {},
   "outputs": [
    {
     "data": {
      "text/plain": [
       "transactionId    0\n",
       "visitorId        0\n",
       "date             0\n",
       "revenue          0\n",
       "group            0\n",
       "dtype: int64"
      ]
     },
     "metadata": {},
     "output_type": "display_data"
    },
    {
     "data": {
      "text/plain": [
       "date        0\n",
       "group       0\n",
       "visitors    0\n",
       "dtype: int64"
      ]
     },
     "execution_count": 7,
     "metadata": {},
     "output_type": "execute_result"
    }
   ],
   "source": [
    "display(orders.isna().sum())\n",
    "visitors.isna().sum()"
   ]
  },
  {
   "cell_type": "markdown",
   "metadata": {},
   "source": [
    "### Проверю наличие явных дубликатов"
   ]
  },
  {
   "cell_type": "code",
   "execution_count": 8,
   "metadata": {},
   "outputs": [
    {
     "data": {
      "text/plain": [
       "0"
      ]
     },
     "metadata": {},
     "output_type": "display_data"
    },
    {
     "data": {
      "text/plain": [
       "0"
      ]
     },
     "execution_count": 8,
     "metadata": {},
     "output_type": "execute_result"
    }
   ],
   "source": [
    "display(orders.duplicated().sum())\n",
    "visitors.duplicated().sum()"
   ]
  },
  {
   "cell_type": "markdown",
   "metadata": {},
   "source": [
    "### Проверю сколько групп в нашем А/В тесте"
   ]
  },
  {
   "cell_type": "code",
   "execution_count": 9,
   "metadata": {},
   "outputs": [
    {
     "data": {
      "text/plain": [
       "array(['B', 'A'], dtype=object)"
      ]
     },
     "execution_count": 9,
     "metadata": {},
     "output_type": "execute_result"
    }
   ],
   "source": [
    "orders['group'].unique()"
   ]
  },
  {
   "cell_type": "markdown",
   "metadata": {},
   "source": [
    "### Рассмотрю количество пользователей в каждой группе"
   ]
  },
  {
   "cell_type": "code",
   "execution_count": 10,
   "metadata": {},
   "outputs": [
    {
     "data": {
      "text/plain": [
       "group\n",
       "A    557\n",
       "B    640\n",
       "Name: visitorId, dtype: int64"
      ]
     },
     "execution_count": 10,
     "metadata": {},
     "output_type": "execute_result"
    }
   ],
   "source": [
    "orders.groupby('group')['visitorId'].count()"
   ]
  },
  {
   "cell_type": "markdown",
   "metadata": {},
   "source": [
    "### Проверю, не попадают ли пользователи в обе группы"
   ]
  },
  {
   "cell_type": "code",
   "execution_count": 11,
   "metadata": {},
   "outputs": [
    {
     "data": {
      "text/plain": [
       "group    58\n",
       "dtype: int64"
      ]
     },
     "metadata": {},
     "output_type": "display_data"
    },
    {
     "data": {
      "text/plain": [
       "group    0\n",
       "dtype: int64"
      ]
     },
     "execution_count": 11,
     "metadata": {},
     "output_type": "execute_result"
    }
   ],
   "source": [
    "display(orders.groupby('visitorId').agg({'group' : 'nunique'}).query('group>1').count())\n",
    "\n",
    "double_users = orders.groupby('visitorId').agg({'group' : 'nunique'}).reset_index().query('group>1')['visitorId'].unique()\n",
    "\n",
    "orders = orders.query('visitorId not in @double_users')\n",
    "orders.groupby('visitorId').agg({'group' : 'nunique'}).query('group>1').count()"
   ]
  },
  {
   "cell_type": "markdown",
   "metadata": {},
   "source": [
    "В обе группы попало 58 пользователей. Я их удалила, чтобы в дальнейшем они не искажали результаты"
   ]
  },
  {
   "cell_type": "markdown",
   "metadata": {},
   "source": [
    "### Посмотрю динамику посетителей по дням и по группам"
   ]
  },
  {
   "cell_type": "code",
   "execution_count": 12,
   "metadata": {},
   "outputs": [
    {
     "data": {
      "image/png": "[encoded data removed]",
      "text/plain": [
       "<Figure size 864x504 with 1 Axes>"
      ]
     },
     "metadata": {
      "needs_background": "light"
     },
     "output_type": "display_data"
    }
   ],
   "source": [
    "dinamicA = visitors.query('group == \"A\"').groupby('date')['visitors'].sum().reset_index()\n",
    "dinamicB = visitors.query('group == \"B\"').groupby('date')['visitors'].sum().reset_index()\n",
    "plt.figure(figsize=(12,7))\n",
    "plt.plot(dinamicA['date'], dinamicA['visitors'],label = 'A')\n",
    "plt.plot(dinamicB['date'], dinamicB['visitors'],label = 'B')\n",
    "plt.legend;"
   ]
  },
  {
   "cell_type": "markdown",
   "metadata": {},
   "source": [
    "На графике видно, что количество посетителей колеблется. В некоторые дни количество посетителей доходит до 750, а в другие дни опускается до 400"
   ]
  },
  {
   "cell_type": "markdown",
   "metadata": {},
   "source": [
    "### Сделаю общую таблицу с кумулятивными значениями для дальнейшей работы"
   ]
  },
  {
   "cell_type": "code",
   "execution_count": 13,
   "metadata": {},
   "outputs": [
    {
     "data": {
      "text/html": [
       "<div>\n",
       "<style scoped>\n",
       "    .dataframe tbody tr th:only-of-type {\n",
       "        vertical-align: middle;\n",
       "    }\n",
       "\n",
       "    .dataframe tbody tr th {\n",
       "        vertical-align: top;\n",
       "    }\n",
       "\n",
       "    .dataframe thead th {\n",
       "        text-align: right;\n",
       "    }\n",
       "</style>\n",
       "<table border=\"1\" class=\"dataframe\">\n",
       "  <thead>\n",
       "    <tr style=\"text-align: right;\">\n",
       "      <th></th>\n",
       "      <th>date</th>\n",
       "      <th>ordersPerDateA</th>\n",
       "      <th>revenuePerDateA</th>\n",
       "      <th>ordersPerDateB</th>\n",
       "      <th>revenuePerDateB</th>\n",
       "      <th>ordersCummulativeA</th>\n",
       "      <th>revenueCummulativeA</th>\n",
       "      <th>ordersCummulativeB</th>\n",
       "      <th>revenueCummulativeB</th>\n",
       "      <th>visitorsPerDateA</th>\n",
       "      <th>visitorsPerDateB</th>\n",
       "      <th>visitorsCummulativeA</th>\n",
       "      <th>visitorsCummulativeB</th>\n",
       "    </tr>\n",
       "  </thead>\n",
       "  <tbody>\n",
       "    <tr>\n",
       "      <th>0</th>\n",
       "      <td>2019-08-01</td>\n",
       "      <td>23</td>\n",
       "      <td>142779</td>\n",
       "      <td>17</td>\n",
       "      <td>59758</td>\n",
       "      <td>23</td>\n",
       "      <td>142779</td>\n",
       "      <td>17</td>\n",
       "      <td>59758</td>\n",
       "      <td>719</td>\n",
       "      <td>713</td>\n",
       "      <td>719</td>\n",
       "      <td>713</td>\n",
       "    </tr>\n",
       "    <tr>\n",
       "      <th>1</th>\n",
       "      <td>2019-08-02</td>\n",
       "      <td>19</td>\n",
       "      <td>91602</td>\n",
       "      <td>23</td>\n",
       "      <td>162043</td>\n",
       "      <td>42</td>\n",
       "      <td>234381</td>\n",
       "      <td>40</td>\n",
       "      <td>221801</td>\n",
       "      <td>619</td>\n",
       "      <td>581</td>\n",
       "      <td>1338</td>\n",
       "      <td>1294</td>\n",
       "    </tr>\n",
       "    <tr>\n",
       "      <th>2</th>\n",
       "      <td>2019-08-03</td>\n",
       "      <td>24</td>\n",
       "      <td>112473</td>\n",
       "      <td>14</td>\n",
       "      <td>67049</td>\n",
       "      <td>66</td>\n",
       "      <td>346854</td>\n",
       "      <td>54</td>\n",
       "      <td>288850</td>\n",
       "      <td>507</td>\n",
       "      <td>509</td>\n",
       "      <td>1845</td>\n",
       "      <td>1803</td>\n",
       "    </tr>\n",
       "    <tr>\n",
       "      <th>3</th>\n",
       "      <td>2019-08-04</td>\n",
       "      <td>11</td>\n",
       "      <td>41176</td>\n",
       "      <td>14</td>\n",
       "      <td>96890</td>\n",
       "      <td>77</td>\n",
       "      <td>388030</td>\n",
       "      <td>68</td>\n",
       "      <td>385740</td>\n",
       "      <td>717</td>\n",
       "      <td>770</td>\n",
       "      <td>2562</td>\n",
       "      <td>2573</td>\n",
       "    </tr>\n",
       "    <tr>\n",
       "      <th>4</th>\n",
       "      <td>2019-08-05</td>\n",
       "      <td>22</td>\n",
       "      <td>86383</td>\n",
       "      <td>21</td>\n",
       "      <td>89908</td>\n",
       "      <td>99</td>\n",
       "      <td>474413</td>\n",
       "      <td>89</td>\n",
       "      <td>475648</td>\n",
       "      <td>756</td>\n",
       "      <td>707</td>\n",
       "      <td>3318</td>\n",
       "      <td>3280</td>\n",
       "    </tr>\n",
       "  </tbody>\n",
       "</table>\n",
       "</div>"
      ],
      "text/plain": [
       "        date  ordersPerDateA  revenuePerDateA  ordersPerDateB  \\\n",
       "0 2019-08-01              23           142779              17   \n",
       "1 2019-08-02              19            91602              23   \n",
       "2 2019-08-03              24           112473              14   \n",
       "3 2019-08-04              11            41176              14   \n",
       "4 2019-08-05              22            86383              21   \n",
       "\n",
       "   revenuePerDateB  ordersCummulativeA  revenueCummulativeA  \\\n",
       "0            59758                  23               142779   \n",
       "1           162043                  42               234381   \n",
       "2            67049                  66               346854   \n",
       "3            96890                  77               388030   \n",
       "4            89908                  99               474413   \n",
       "\n",
       "   ordersCummulativeB  revenueCummulativeB  visitorsPerDateA  \\\n",
       "0                  17                59758               719   \n",
       "1                  40               221801               619   \n",
       "2                  54               288850               507   \n",
       "3                  68               385740               717   \n",
       "4                  89               475648               756   \n",
       "\n",
       "   visitorsPerDateB  visitorsCummulativeA  visitorsCummulativeB  \n",
       "0               713                   719                   713  \n",
       "1               581                  1338                  1294  \n",
       "2               509                  1845                  1803  \n",
       "3               770                  2562                  2573  \n",
       "4               707                  3318                  3280  "
      ]
     },
     "metadata": {},
     "output_type": "display_data"
    },
    {
     "data": {
      "text/plain": [
       "Timestamp('2019-08-01 00:00:00')"
      ]
     },
     "metadata": {},
     "output_type": "display_data"
    },
    {
     "data": {
      "text/plain": [
       "Timestamp('2019-08-31 00:00:00')"
      ]
     },
     "execution_count": 13,
     "metadata": {},
     "output_type": "execute_result"
    }
   ],
   "source": [
    "visitorsADaily = visitors[visitors['group'] == 'A'][['date', 'visitors']]\n",
    "visitorsADaily.columns = ['date', 'visitorsPerDateA']\n",
    "\n",
    "visitorsACummulative = visitorsADaily.apply(\n",
    "    lambda x: visitorsADaily[visitorsADaily['date'] <= x['date']].agg(\n",
    "        {'date': 'max', 'visitorsPerDateA': 'sum'}\n",
    "    ),\n",
    "    axis=1,\n",
    ")\n",
    "visitorsACummulative.columns = ['date', 'visitorsCummulativeA']\n",
    "\n",
    "visitorsBDaily = visitors[visitors['group'] == 'B'][['date', 'visitors']]\n",
    "visitorsBDaily.columns = ['date', 'visitorsPerDateB']\n",
    "\n",
    "visitorsBCummulative = visitorsBDaily.apply(\n",
    "    lambda x: visitorsBDaily[visitorsBDaily['date'] <= x['date']].agg(\n",
    "        {'date': 'max', 'visitorsPerDateB': 'sum'}\n",
    "    ),\n",
    "    axis=1,\n",
    ")\n",
    "visitorsBCummulative.columns = ['date', 'visitorsCummulativeB']\n",
    "\n",
    "ordersADaily = (\n",
    "    orders[orders['group'] == 'A'][['date', 'transactionId', 'visitorId', 'revenue']]\n",
    "    .groupby('date', as_index=False)\n",
    "    .agg({'transactionId': pd.Series.nunique, 'revenue': 'sum'})\n",
    ")\n",
    "ordersADaily.columns = ['date', 'ordersPerDateA', 'revenuePerDateA']\n",
    "\n",
    "ordersACummulative = ordersADaily.apply(\n",
    "    lambda x: ordersADaily[ordersADaily['date'] <= x['date']].agg(\n",
    "        {'date': 'max', 'ordersPerDateA': 'sum', 'revenuePerDateA': 'sum'}\n",
    "    ),\n",
    "    axis=1,\n",
    ").sort_values(by=['date'])\n",
    "ordersACummulative.columns = [\n",
    "    'date',\n",
    "    'ordersCummulativeA',\n",
    "    'revenueCummulativeA',\n",
    "]\n",
    "\n",
    "ordersBDaily = (\n",
    "    orders[orders['group'] == 'B'][['date', 'transactionId', 'visitorId', 'revenue']]\n",
    "    .groupby('date', as_index=False)\n",
    "    .agg({'transactionId': pd.Series.nunique, 'revenue': 'sum'})\n",
    ")\n",
    "ordersBDaily.columns = ['date', 'ordersPerDateB', 'revenuePerDateB']\n",
    "\n",
    "ordersBCummulative = ordersBDaily.apply(\n",
    "    lambda x: ordersBDaily[ordersBDaily['date'] <= x['date']].agg(\n",
    "        {'date': 'max', 'ordersPerDateB': 'sum', 'revenuePerDateB': 'sum'}\n",
    "    ),\n",
    "    axis=1,\n",
    ").sort_values(by=['date'])\n",
    "ordersBCummulative.columns = [\n",
    "    'date',\n",
    "    'ordersCummulativeB',\n",
    "    'revenueCummulativeB',\n",
    "]\n",
    "\n",
    "data = (\n",
    "    ordersADaily.merge(\n",
    "        ordersBDaily, left_on='date', right_on='date', how='left'\n",
    "    )\n",
    "    .merge(ordersACummulative, left_on='date', right_on='date', how='left')\n",
    "    .merge(ordersBCummulative, left_on='date', right_on='date', how='left')\n",
    "    .merge(visitorsADaily, left_on='date', right_on='date', how='left')\n",
    "    .merge(visitorsBDaily, left_on='date', right_on='date', how='left')\n",
    "    .merge(visitorsACummulative, left_on='date', right_on='date', how='left')\n",
    "    .merge(visitorsBCummulative, left_on='date', right_on='date', how='left')\n",
    ")\n",
    "\n",
    "display(data.head(5))\n",
    "display(data['date'].min())\n",
    "data['date'].max()"
   ]
  },
  {
   "cell_type": "markdown",
   "metadata": {},
   "source": [
    "Соединила обе таблицы в одну, высчитала кумулятивные значения для дальнейшего анализа\n",
    "\n",
    "Также проверила диапазон дат, ничего ли не потерялось"
   ]
  },
  {
   "cell_type": "markdown",
   "metadata": {},
   "source": [
    "### График кумулятивной выручки по группам"
   ]
  },
  {
   "cell_type": "code",
   "execution_count": 14,
   "metadata": {},
   "outputs": [
    {
     "data": {
      "image/png": "[encoded data removed]",
      "text/plain": [
       "<Figure size 864x504 with 1 Axes>"
      ]
     },
     "metadata": {
      "needs_background": "light"
     },
     "output_type": "display_data"
    }
   ],
   "source": [
    "plt.figure(figsize=(12,7))\n",
    "# Строим график выручки группы А\n",
    "plt.plot(data['date'], data['revenueCummulativeA'], label='A')\n",
    "\n",
    "# Строим график выручки группы B\n",
    "plt.plot(data['date'], data['revenueCummulativeB'], label='B')\n",
    "plt.title('График кумулятивной выручки')\n",
    "plt.ylabel('Сумма выручки')\n",
    "plt.xlabel('Дата')\n",
    "plt.legend();"
   ]
  },
  {
   "cell_type": "markdown",
   "metadata": {},
   "source": [
    "По графику можно сделать вывод, что в обоих группах выручка постепенно увеличивается. Практически сразу группа В опережает группу А, и примерно в середине месяца в группе В выручка резко увеличилась практически в два раза и так же со временем только растет, но отрыв с группой А уже стал гораздо больше\n",
    "\n",
    "Такой резкий подъем больше похож на выброс, это может быть оптовая закупка товаров в середине месяца. Подробнее дальше рассмотрим графики кол-ва заказов и среднего чека, чтобы точно выяыить, что это за резкий подъем"
   ]
  },
  {
   "cell_type": "markdown",
   "metadata": {},
   "source": [
    "### График кумулятивного среднего чека по группам"
   ]
  },
  {
   "cell_type": "code",
   "execution_count": 15,
   "metadata": {},
   "outputs": [
    {
     "data": {
      "image/png": "[encoded data removed]",
      "text/plain": [
       "<Figure size 864x504 with 1 Axes>"
      ]
     },
     "metadata": {
      "needs_background": "light"
     },
     "output_type": "display_data"
    }
   ],
   "source": [
    "plt.figure(figsize=(12,7))\n",
    "plt.plot(data['date'], data['revenueCummulativeA']/data['ordersCummulativeA'], label='A')\n",
    "plt.plot(data['date'], data['revenueCummulativeB']/data['ordersCummulativeB'], label='B')\n",
    "plt.title('График кумулятивного среднего чека')\n",
    "plt.ylabel('Средний чек')\n",
    "plt.xlabel('Дата')\n",
    "plt.legend();"
   ]
  },
  {
   "cell_type": "markdown",
   "metadata": {},
   "source": [
    "График показал, что значение в группе В поднимается и опережает группу А практически всегда\n",
    "\n",
    "В некоторые дни значения в обоих группах поднимаются - идут на спад - снова поднимаются и так далее. В группе В также в середине месяца резкий подъем с 7000 до 10 000, то есть резкий подъем выручки обусловлен увеличением среднего чека. После же показатель в группе В начинает постепенно снижаться\n",
    "\n",
    "Ближе к концу месяца в группах показатели перестают так колебаться, средний чек группы А медленно поднимается, а группы В идет на спад после резкого подъема\n",
    "\n",
    "Такие скачки говорят так же о выбивающихся значениях - крупных и дорогих закупках "
   ]
  },
  {
   "cell_type": "markdown",
   "metadata": {},
   "source": [
    "### График относительного изменения кумулятивного среднего чека группы B к группе A"
   ]
  },
  {
   "cell_type": "code",
   "execution_count": 16,
   "metadata": {},
   "outputs": [
    {
     "data": {
      "image/png": "[encoded data removed]",
      "text/plain": [
       "<Figure size 864x504 with 1 Axes>"
      ]
     },
     "metadata": {
      "needs_background": "light"
     },
     "output_type": "display_data"
    }
   ],
   "source": [
    "plt.figure(figsize=(12,7))\n",
    "# cтроим отношение средних чеков\n",
    "plt.plot(data['date'], (data['revenueCummulativeB']/data['ordersCummulativeB']/(data['revenueCummulativeA']/data['ordersCummulativeA'])-1))\n",
    "plt.title('График относительного изменения кумулятивного среднего чека')\n",
    "# добавляем ось X\n",
    "plt.axhline(y=0, color='black', linestyle='--')\n",
    "plt.ylabel('Относительное различие группы В к группе А')\n",
    "plt.xlabel('Дата');"
   ]
  },
  {
   "cell_type": "markdown",
   "metadata": {},
   "source": [
    "График относительного различия еще раз доказывает, что средний чек в группе В практически везде гораздо выше \n",
    "\n",
    "Также можно увидеть резкие скачки вверх-вниз. Выбросы точно присутствуют"
   ]
  },
  {
   "cell_type": "markdown",
   "metadata": {},
   "source": [
    "### График кумулятивного среднего количества заказов на посетителя по группам"
   ]
  },
  {
   "cell_type": "code",
   "execution_count": 17,
   "metadata": {},
   "outputs": [
    {
     "data": {
      "image/png": "[encoded data removed]",
      "text/plain": [
       "<Figure size 864x504 with 1 Axes>"
      ]
     },
     "metadata": {
      "needs_background": "light"
     },
     "output_type": "display_data"
    }
   ],
   "source": [
    "data['conversionA'] = data['ordersCummulativeA']/data['visitorsCummulativeA']\n",
    "data['conversionB'] = data['ordersCummulativeB']/data['visitorsCummulativeB']\n",
    "\n",
    "plt.figure(figsize=(12,7))\n",
    "plt.plot(data['date'], data['conversionA'], label = 'A')\n",
    "plt.plot(data['date'], data['conversionB'], label = 'B')\n",
    "plt.title('График кумулятивного среднего количества заказов на посетителя')\n",
    "plt.ylabel('Среднее кол-во заказов')\n",
    "plt.xlabel('Дата')\n",
    "plt.legend();"
   ]
  },
  {
   "cell_type": "markdown",
   "metadata": {},
   "source": [
    "График конверсии посетителей в платящих пользователей в обоих группах в начале сильно колеблется, к концу же становится спокойнее\n",
    "\n",
    "Изначально конверсия группы А была выше, но практически сразу группа В вырвалась вперед и все оставшееся время оставалась в большом отрыве"
   ]
  },
  {
   "cell_type": "markdown",
   "metadata": {},
   "source": [
    "### График относительного изменения кумулятивного среднего количества заказов на посетителя группы B к группе A"
   ]
  },
  {
   "cell_type": "code",
   "execution_count": 18,
   "metadata": {},
   "outputs": [
    {
     "data": {
      "image/png": "[encoded data removed]",
      "text/plain": [
       "<Figure size 864x504 with 1 Axes>"
      ]
     },
     "metadata": {
      "needs_background": "light"
     },
     "output_type": "display_data"
    }
   ],
   "source": [
    "plt.figure(figsize=(12,7))\n",
    "plt.plot(data['date'], data['conversionB']/data['conversionA']-1, label=\"Относительный прирост конверсии группы B относительно группы A\")\n",
    "plt.title('График относительного изменения кумулятивного среднего количества заказов на посетителя')\n",
    "plt.legend()\n",
    "plt.ylabel('Относительное различие группы В к группе А')\n",
    "plt.xlabel('Дата')\n",
    "plt.axhline(y=0, color='black', linestyle='--');"
   ]
  },
  {
   "cell_type": "markdown",
   "metadata": {},
   "source": [
    "По графику видно, что в начале месяца группа В на несколько дней отставала по конверсии от группы А, примерно 7 августа резко поднялась и на протяжении всего месяца держалась на высоком уровне. После резкого скачка чуть пошла на спад, но к концу месяца снова плавно поднимается\n",
    "\n",
    "Этот график также подтверждает выбросы примерно в начале месяца"
   ]
  },
  {
   "cell_type": "markdown",
   "metadata": {},
   "source": [
    "### Точечный график количества заказов по пользователям"
   ]
  },
  {
   "cell_type": "code",
   "execution_count": 19,
   "metadata": {},
   "outputs": [
    {
     "data": {
      "image/png": "[encoded data removed]",
      "text/plain": [
       "<Figure size 864x504 with 1 Axes>"
      ]
     },
     "metadata": {
      "needs_background": "light"
     },
     "output_type": "display_data"
    }
   ],
   "source": [
    "count_orders = orders.groupby('visitorId')['transactionId'].count().reset_index()\n",
    "count_orders.columns = ['user','count_orders']\n",
    "x_values = pd.Series(range(0,len(count_orders)))\n",
    "\n",
    "plt.figure(figsize=(12,7))\n",
    "plt.scatter(x_values, count_orders['count_orders'])\n",
    "plt.ylabel('Кол-во заказов')\n",
    "plt.xlabel('Число пользователей')\n",
    "plt.title('Точечный график количества заказов по пользователям');"
   ]
  },
  {
   "cell_type": "markdown",
   "metadata": {},
   "source": [
    "Большая часть пользователей делает 1-3 заказа, 4 и более совершают очень мало пользователей"
   ]
  },
  {
   "cell_type": "markdown",
   "metadata": {},
   "source": [
    "### Посчитаем 95-й и 99-й перцентили количества заказов на пользователя"
   ]
  },
  {
   "cell_type": "code",
   "execution_count": 20,
   "metadata": {},
   "outputs": [
    {
     "data": {
      "text/plain": [
       "array([1., 2.])"
      ]
     },
     "execution_count": 20,
     "metadata": {},
     "output_type": "execute_result"
    }
   ],
   "source": [
    "np.percentile(count_orders['count_orders'], [95, 99])"
   ]
  },
  {
   "cell_type": "markdown",
   "metadata": {},
   "source": [
    "Аномальными буду считать значения более 2х заказов на пользователя"
   ]
  },
  {
   "cell_type": "markdown",
   "metadata": {},
   "source": [
    "### Точечный график стоимостей заказов"
   ]
  },
  {
   "cell_type": "code",
   "execution_count": 21,
   "metadata": {},
   "outputs": [
    {
     "data": {
      "image/png": "[encoded data removed]",
      "text/plain": [
       "<Figure size 864x504 with 1 Axes>"
      ]
     },
     "metadata": {
      "needs_background": "light"
     },
     "output_type": "display_data"
    }
   ],
   "source": [
    "x_values = pd.Series(range(0,len(orders)))\n",
    "\n",
    "plt.figure(figsize=(12,7))\n",
    "plt.scatter(x_values, orders['revenue'])\n",
    "plt.title('Точечный график стоимостей заказов')\n",
    "plt.ylabel('Стоимость заказа')\n",
    "plt.xlabel('Число пользователей');"
   ]
  },
  {
   "cell_type": "markdown",
   "metadata": {},
   "source": [
    "\n",
    "На точечном графике видны аномалии рядом со значение 0.2 и более 1.2 . Сложно сделать однозначный вывод по такому графику"
   ]
  },
  {
   "cell_type": "code",
   "execution_count": 22,
   "metadata": {},
   "outputs": [
    {
     "data": {
      "image/png": "[encoded data removed]",
      "text/plain": [
       "<Figure size 864x504 with 1 Axes>"
      ]
     },
     "metadata": {
      "needs_background": "light"
     },
     "output_type": "display_data"
    }
   ],
   "source": [
    "x_values = pd.Series(range(0,len(orders)))\n",
    "\n",
    "plt.figure(figsize=(12,7))\n",
    "plt.scatter(x_values, orders['revenue'])\n",
    "plt.title('Точечный график стоимостей заказов')\n",
    "plt.ylabel('Стоимость заказа')\n",
    "plt.xlabel('Число пользователей')\n",
    "plt.ylim(0, 180000);"
   ]
  },
  {
   "cell_type": "markdown",
   "metadata": {},
   "source": [
    "Построила еще один график с ограничением по Y. Тут уже можно понять, что люди в основном делают заказы до 20 000. На бОльшие суммы заказов уже мало"
   ]
  },
  {
   "cell_type": "markdown",
   "metadata": {},
   "source": [
    "### 95-й и 99-й перцентили стоимости заказов"
   ]
  },
  {
   "cell_type": "code",
   "execution_count": 23,
   "metadata": {},
   "outputs": [
    {
     "data": {
      "text/plain": [
       "array([26785., 53904.])"
      ]
     },
     "execution_count": 23,
     "metadata": {},
     "output_type": "execute_result"
    }
   ],
   "source": [
    "np.percentile(orders['revenue'], [95, 99])"
   ]
  },
  {
   "cell_type": "markdown",
   "metadata": {},
   "source": [
    "Аномальными буду считать значения стоимости заказов более 30 000"
   ]
  },
  {
   "cell_type": "markdown",
   "metadata": {},
   "source": [
    "### Посчитаем статистическую значимость различий в среднем количестве заказов на посетителя между группами по «сырым» данным"
   ]
  },
  {
   "cell_type": "markdown",
   "metadata": {},
   "source": [
    "* Нулевая гипотеза - различий по среденему количеству заказов на посетителя между группами нет\n",
    "\n",
    "* Альтернативная гипотеза - различия по среденему количеству заказов на посетителя в группах есть"
   ]
  },
  {
   "cell_type": "code",
   "execution_count": 24,
   "metadata": {},
   "outputs": [
    {
     "data": {
      "text/plain": [
       "'P-value:0.011'"
      ]
     },
     "metadata": {},
     "output_type": "display_data"
    },
    {
     "data": {
      "text/plain": [
       "'Относительное различие в средних:0.160'"
      ]
     },
     "execution_count": 24,
     "metadata": {},
     "output_type": "execute_result"
    }
   ],
   "source": [
    "ordersByUsersA = (\n",
    "    orders[orders['group'] == 'A']\n",
    "    .groupby('visitorId', as_index=False)\n",
    "    .agg({'transactionId': pd.Series.nunique})\n",
    ")\n",
    "ordersByUsersA.columns = ['userId', 'orders']\n",
    "\n",
    "ordersByUsersB = (\n",
    "    orders[orders['group'] == 'B']\n",
    "    .groupby('visitorId', as_index=False)\n",
    "    .agg({'transactionId': pd.Series.nunique})\n",
    ")\n",
    "ordersByUsersB.columns = ['userId', 'orders']\n",
    "\n",
    "sampleA = pd.concat(\n",
    "    [\n",
    "        ordersByUsersA['orders'],\n",
    "        pd.Series(\n",
    "            0,\n",
    "            index=np.arange(\n",
    "                data['visitorsPerDateA'].sum() - len(ordersByUsersA['orders'])\n",
    "            ),\n",
    "            name='orders',\n",
    "        ),\n",
    "    ],\n",
    "    axis=0,\n",
    ")\n",
    "\n",
    "sampleB = pd.concat(\n",
    "    [\n",
    "        ordersByUsersB['orders'],\n",
    "        pd.Series(\n",
    "            0,\n",
    "            index=np.arange(\n",
    "                data['visitorsPerDateB'].sum() - len(ordersByUsersB['orders'])\n",
    "            ),\n",
    "            name='orders',\n",
    "        ),\n",
    "    ],\n",
    "    axis=0,\n",
    ")\n",
    "\n",
    "display(\"P-value:{0:.3f}\".format(stats.mannwhitneyu(sampleA, sampleB)[1]))\n",
    "\n",
    "\"Относительное различие в средних:{0:.3f}\".format(sampleB.mean() / sampleA.mean() - 1)"
   ]
  },
  {
   "cell_type": "markdown",
   "metadata": {},
   "source": [
    "Непараметрический тест Уилкоксона-Манна-Уитни по сырым данным показал, что разница в среднем количестве заказов на посетителя между группами А и В статистически значима. Отвергаем нулевую гипотезу. Мы получили значение 0.011, которое меньше 0.05. А относительный выигрыш в группе В составляет 16%\n",
    "\n",
    "По графикам ранее и правдо было видно, что группа В сильно опережает группу А и в конверсии, и в среднем чеке, и в размере выручки. Но аномальные значения могут сильно повлиять на результат, поэтому в дальнейшем проверим статистическую значимость без них"
   ]
  },
  {
   "cell_type": "markdown",
   "metadata": {},
   "source": [
    "### Посчитаем статистическую значимость различий в среднем чеке заказа между группами по «сырым» данным"
   ]
  },
  {
   "cell_type": "markdown",
   "metadata": {},
   "source": [
    "* Нулевая гипотеза - различий в среднем чеке заказа между группами нет\n",
    "\n",
    "* Альтернативная гипотеза - различия в среднем чеке заказа в группах есть"
   ]
  },
  {
   "cell_type": "code",
   "execution_count": 25,
   "metadata": {},
   "outputs": [
    {
     "data": {
      "text/plain": [
       "'P-value:0.829'"
      ]
     },
     "metadata": {},
     "output_type": "display_data"
    },
    {
     "data": {
      "text/plain": [
       "'Относительное различие в средних:0.287'"
      ]
     },
     "execution_count": 25,
     "metadata": {},
     "output_type": "execute_result"
    }
   ],
   "source": [
    "display('P-value:{0:.3f}'.format(stats.mannwhitneyu(orders[orders['group']=='A']['revenue'], orders[orders['group']=='B']['revenue'])[1]))\n",
    "'Относительное различие в средних:{0:.3f}'.format(orders[orders['group']=='B']['revenue'].mean()/orders[orders['group']=='A']['revenue'].mean()-1)"
   ]
  },
  {
   "cell_type": "markdown",
   "metadata": {},
   "source": [
    "Тест по сырым даннам показал, что и в среднем чеке заказа между группами разницы нет, и нулевая гипотеза не отвергается. 0.83 гораздо больше 0.05\n",
    "\n",
    "При этом относительная разница показала, что группа В опережает по значению среднего чека группу А на 29%"
   ]
  },
  {
   "cell_type": "markdown",
   "metadata": {},
   "source": [
    "### Посчитаем статистическую значимость различий в среднем количестве заказов на посетителя между группами по «очищенным» данным"
   ]
  },
  {
   "cell_type": "markdown",
   "metadata": {},
   "source": [
    "Для начала выведем всех аномальных пользователей и соберем их в одной переменной"
   ]
  },
  {
   "cell_type": "markdown",
   "metadata": {},
   "source": [
    "* Нулевая гипотеза - различий по среденему количеству заказов на посетителя между группами нет\n",
    "\n",
    "* Альтернативная гипотеза - различия по среденему количеству заказов на посетителя в группах есть"
   ]
  },
  {
   "cell_type": "code",
   "execution_count": 26,
   "metadata": {},
   "outputs": [
    {
     "name": "stdout",
     "output_type": "stream",
     "text": [
      "1099    148427295\n",
      "928     204675465\n",
      "33      249864742\n",
      "684     358944393\n",
      "648     382846391\n",
      "dtype: int64\n",
      "49\n"
     ]
    }
   ],
   "source": [
    "usersWithManyOrders = pd.concat(\n",
    "    [\n",
    "        ordersByUsersA[ordersByUsersA['orders'] > np.percentile(count_orders['count_orders'], 99)]['userId'],\n",
    "        ordersByUsersB[ordersByUsersB['orders'] > np.percentile(count_orders['count_orders'], 99)]['userId'],\n",
    "    ],\n",
    "    axis=0,\n",
    ")\n",
    "usersWithExpensiveOrders = orders[orders['revenue'] > 30000]['visitorId']\n",
    "abnormalUsers = (\n",
    "    pd.concat([usersWithManyOrders, usersWithExpensiveOrders], axis=0)\n",
    "    .drop_duplicates()\n",
    "    .sort_values()\n",
    ")\n",
    "print(abnormalUsers.head(5))\n",
    "print(abnormalUsers.shape[0])"
   ]
  },
  {
   "cell_type": "code",
   "execution_count": 27,
   "metadata": {},
   "outputs": [],
   "source": [
    "sampleAFiltered = pd.concat(\n",
    "    [\n",
    "        ordersByUsersA[\n",
    "            np.logical_not(ordersByUsersA['userId'].isin(abnormalUsers))\n",
    "        ]['orders'],\n",
    "        pd.Series(\n",
    "            0,\n",
    "            index=np.arange(\n",
    "                data['visitorsPerDateA'].sum() - len(ordersByUsersA['orders'])\n",
    "            ),\n",
    "            name='orders',\n",
    "        ),\n",
    "    ],\n",
    "    axis=0,\n",
    ")\n",
    "\n",
    "sampleBFiltered = pd.concat(\n",
    "    [\n",
    "        ordersByUsersB[\n",
    "            np.logical_not(ordersByUsersB['userId'].isin(abnormalUsers))\n",
    "        ]['orders'],\n",
    "        pd.Series(\n",
    "            0,\n",
    "            index=np.arange(\n",
    "                data['visitorsPerDateB'].sum() - len(ordersByUsersB['orders'])\n",
    "            ),\n",
    "            name='orders',\n",
    "        ),\n",
    "    ],\n",
    "    axis=0,\n",
    ")"
   ]
  },
  {
   "cell_type": "code",
   "execution_count": 28,
   "metadata": {},
   "outputs": [
    {
     "data": {
      "text/plain": [
       "'P-value:0.010'"
      ]
     },
     "metadata": {},
     "output_type": "display_data"
    },
    {
     "data": {
      "text/plain": [
       "'Относительное различие : 0.187'"
      ]
     },
     "execution_count": 28,
     "metadata": {},
     "output_type": "execute_result"
    }
   ],
   "source": [
    "display('P-value:{0:.3f}'.format(stats.mannwhitneyu(sampleAFiltered, sampleBFiltered)[1]))\n",
    "'Относительное различие : {0:.3f}'.format(sampleBFiltered.mean()/sampleAFiltered.mean()-1)"
   ]
  },
  {
   "cell_type": "markdown",
   "metadata": {},
   "source": [
    "После удаления аномальных значений вывод не поменялся, нулевая гипотеза также отвергается. Значение увеличилось всегo на 0.002\n",
    "\n",
    "Что касается относительного различия, оно тоже не сильно поменялось. В любом случае среднее количество заказов в группе В остается бОльшим, чем в группе А"
   ]
  },
  {
   "cell_type": "markdown",
   "metadata": {},
   "source": [
    "### Посчитаем статистическую значимость различий в среднем чеке заказа между группами по «очищенным» данным"
   ]
  },
  {
   "cell_type": "markdown",
   "metadata": {},
   "source": [
    "* Нулевая гипотеза - различий в среднем чеке заказа между группами нет\n",
    "\n",
    "* Альтернативная гипотеза - различия в среднем чеке заказа в группах есть"
   ]
  },
  {
   "cell_type": "code",
   "execution_count": 30,
   "metadata": {},
   "outputs": [
    {
     "data": {
      "text/plain": [
       "'P-value: 0.741'"
      ]
     },
     "metadata": {},
     "output_type": "display_data"
    },
    {
     "data": {
      "text/plain": [
       "'Относительное различие :-0.027'"
      ]
     },
     "execution_count": 30,
     "metadata": {},
     "output_type": "execute_result"
    }
   ],
   "source": [
    "display('P-value: {0:.3f}'.format(\n",
    "        stats.mannwhitneyu(\n",
    "            orders[\n",
    "                np.logical_and(\n",
    "                    orders['group'] == 'A',\n",
    "                    np.logical_not(orders['visitorId'].isin(abnormalUsers)),\n",
    "                )\n",
    "            ]['revenue'],\n",
    "            orders[\n",
    "                np.logical_and(\n",
    "                    orders['group'] == 'B',\n",
    "                    np.logical_not(orders['visitorId'].isin(abnormalUsers)),\n",
    "                )\n",
    "            ]['revenue'],\n",
    "        )[1]\n",
    "    ))\n",
    "\n",
    "\"Относительное различие :{0:.3f}\".format(\n",
    "        orders[\n",
    "            np.logical_and(\n",
    "                orders['group'] == 'B',\n",
    "                np.logical_not(orders['visitorId'].isin(abnormalUsers)),\n",
    "            )\n",
    "        ]['revenue'].mean()\n",
    "        / orders[\n",
    "            np.logical_and(\n",
    "                orders['group'] == 'A',\n",
    "                np.logical_not(orders['visitorId'].isin(abnormalUsers)),\n",
    "            )\n",
    "        ]['revenue'].mean()\n",
    "        - 1\n",
    "    )"
   ]
  },
  {
   "cell_type": "markdown",
   "metadata": {},
   "source": [
    "По очищенным данным вывод касательно различий в среднем чеке также не поменялся, нулевую гипотезу не отвергаем\n",
    "\n",
    "Относительное различие же показало соверешенно другой результат, в отличие от сырых данных. Теперь средний чек в группе В меньше, чем в группе А на 3%"
   ]
  },
  {
   "cell_type": "markdown",
   "metadata": {},
   "source": [
    "## Вывод\n",
    "\n"
   ]
  },
  {
   "cell_type": "markdown",
   "metadata": {},
   "source": [
    "По проведенному анализу принимаю решение остановить тест и признать успешной группу В\n",
    "\n",
    "Тест по среднему чеку не выявил статистической значимости между группами, но показатель относительного различия в группе В был на 3% меньше, чем в группе А. При этом тест по количеству заказов на пользователя оказался статистически значимым и показал прирост числа заказов в группе В. В дальнейшем увеличение заказов приведет и к увеличению выручки, поэтому тест является успешным"
   ]
  }
 ],
 "metadata": {
  "ExecuteTimeLog": [
   {
    "duration": 49,
    "start_time": "2023-10-17T08:52:00.774Z"
   },
   {
    "duration": 406,
    "start_time": "2023-10-17T08:52:24.646Z"
   },
   {
    "duration": 69,
    "start_time": "2023-10-17T08:52:25.054Z"
   },
   {
    "duration": 32,
    "start_time": "2023-10-17T08:52:47.852Z"
   },
   {
    "duration": 31,
    "start_time": "2023-10-17T08:52:56.337Z"
   },
   {
    "duration": 13,
    "start_time": "2023-10-17T08:56:20.108Z"
   },
   {
    "duration": 11,
    "start_time": "2023-10-17T08:56:48.362Z"
   },
   {
    "duration": 33,
    "start_time": "2023-10-17T08:57:22.976Z"
   },
   {
    "duration": 15,
    "start_time": "2023-10-17T09:03:21.026Z"
   },
   {
    "duration": 471,
    "start_time": "2023-10-17T10:57:53.229Z"
   },
   {
    "duration": 106,
    "start_time": "2023-10-17T10:57:53.702Z"
   },
   {
    "duration": 15,
    "start_time": "2023-10-17T10:57:53.810Z"
   },
   {
    "duration": 492,
    "start_time": "2023-10-17T10:58:09.959Z"
   },
   {
    "duration": 160,
    "start_time": "2023-10-17T10:58:10.454Z"
   },
   {
    "duration": 6,
    "start_time": "2023-10-17T11:00:45.458Z"
   },
   {
    "duration": 7,
    "start_time": "2023-10-17T11:00:51.746Z"
   },
   {
    "duration": 13,
    "start_time": "2023-10-17T11:01:33.243Z"
   },
   {
    "duration": 12,
    "start_time": "2023-10-17T11:01:41.767Z"
   },
   {
    "duration": 127,
    "start_time": "2023-10-17T11:02:18.017Z"
   },
   {
    "duration": 203,
    "start_time": "2023-10-17T11:02:23.974Z"
   },
   {
    "duration": 144,
    "start_time": "2023-10-17T11:04:49.996Z"
   },
   {
    "duration": 140,
    "start_time": "2023-10-17T11:06:04.932Z"
   },
   {
    "duration": 16,
    "start_time": "2023-10-17T11:08:49.306Z"
   },
   {
    "duration": 21,
    "start_time": "2023-10-17T11:09:25.646Z"
   },
   {
    "duration": 85,
    "start_time": "2023-10-17T11:09:34.321Z"
   },
   {
    "duration": 21,
    "start_time": "2023-10-17T11:09:39.947Z"
   },
   {
    "duration": 252,
    "start_time": "2023-10-17T11:10:37.513Z"
   },
   {
    "duration": 279,
    "start_time": "2023-10-17T11:11:13.232Z"
   },
   {
    "duration": 296,
    "start_time": "2023-10-17T11:12:44.348Z"
   },
   {
    "duration": 22,
    "start_time": "2023-10-17T11:13:31.741Z"
   },
   {
    "duration": 326,
    "start_time": "2023-10-17T11:15:17.945Z"
   },
   {
    "duration": 311,
    "start_time": "2023-10-17T11:15:30.324Z"
   },
   {
    "duration": 338,
    "start_time": "2023-10-17T11:15:44.527Z"
   },
   {
    "duration": 364,
    "start_time": "2023-10-17T11:15:54.162Z"
   },
   {
    "duration": 739,
    "start_time": "2023-10-17T11:16:04.598Z"
   },
   {
    "duration": 337,
    "start_time": "2023-10-17T11:16:10.185Z"
   },
   {
    "duration": 399,
    "start_time": "2023-10-17T11:17:02.735Z"
   },
   {
    "duration": 23,
    "start_time": "2023-10-17T11:18:17.373Z"
   },
   {
    "duration": 7,
    "start_time": "2023-10-17T11:18:23.417Z"
   },
   {
    "duration": 431,
    "start_time": "2023-10-17T11:18:36.070Z"
   },
   {
    "duration": 508,
    "start_time": "2023-10-17T11:20:58.652Z"
   },
   {
    "duration": 606,
    "start_time": "2023-10-17T11:22:09.801Z"
   },
   {
    "duration": 94,
    "start_time": "2023-10-17T11:22:33.422Z"
   },
   {
    "duration": 7,
    "start_time": "2023-10-17T11:22:49.842Z"
   },
   {
    "duration": 116,
    "start_time": "2023-10-17T11:24:42.576Z"
   },
   {
    "duration": 315,
    "start_time": "2023-10-17T11:26:05.586Z"
   },
   {
    "duration": 334,
    "start_time": "2023-10-17T11:27:19.327Z"
   },
   {
    "duration": 15,
    "start_time": "2023-10-17T11:29:26.610Z"
   },
   {
    "duration": 348,
    "start_time": "2023-10-17T11:29:45.229Z"
   },
   {
    "duration": 247,
    "start_time": "2023-10-17T11:31:29.739Z"
   },
   {
    "duration": 274,
    "start_time": "2023-10-17T11:31:53.301Z"
   },
   {
    "duration": 120,
    "start_time": "2023-10-17T11:33:37.470Z"
   },
   {
    "duration": 20,
    "start_time": "2023-10-17T11:33:44.889Z"
   },
   {
    "duration": 134,
    "start_time": "2023-10-17T11:35:39.771Z"
   },
   {
    "duration": 315,
    "start_time": "2023-10-17T11:36:10.842Z"
   },
   {
    "duration": 211,
    "start_time": "2023-10-17T12:00:16.486Z"
   },
   {
    "duration": 244,
    "start_time": "2023-10-17T12:00:27.990Z"
   },
   {
    "duration": 1916,
    "start_time": "2023-10-17T13:10:23.039Z"
   },
   {
    "duration": 345,
    "start_time": "2023-10-17T13:10:59.099Z"
   },
   {
    "duration": 313,
    "start_time": "2023-10-17T13:11:15.006Z"
   },
   {
    "duration": 2061,
    "start_time": "2023-10-17T13:33:38.702Z"
   },
   {
    "duration": 245,
    "start_time": "2023-10-17T13:34:05.881Z"
   },
   {
    "duration": 347,
    "start_time": "2023-10-17T13:44:12.924Z"
   },
   {
    "duration": 350,
    "start_time": "2023-10-17T13:44:25.873Z"
   },
   {
    "duration": 426,
    "start_time": "2023-10-17T13:45:29.788Z"
   },
   {
    "duration": 383,
    "start_time": "2023-10-18T10:31:13.455Z"
   },
   {
    "duration": 87,
    "start_time": "2023-10-18T10:31:13.840Z"
   },
   {
    "duration": 14,
    "start_time": "2023-10-18T10:31:13.929Z"
   },
   {
    "duration": 491,
    "start_time": "2023-10-18T10:31:13.945Z"
   },
   {
    "duration": 178,
    "start_time": "2023-10-18T10:31:14.438Z"
   },
   {
    "duration": 8,
    "start_time": "2023-10-18T10:31:14.618Z"
   },
   {
    "duration": 357,
    "start_time": "2023-10-18T10:31:14.628Z"
   },
   {
    "duration": 319,
    "start_time": "2023-10-18T10:31:14.987Z"
   },
   {
    "duration": 215,
    "start_time": "2023-10-18T10:31:15.307Z"
   },
   {
    "duration": 432,
    "start_time": "2023-10-18T10:31:15.524Z"
   },
   {
    "duration": 247,
    "start_time": "2023-10-18T10:31:15.958Z"
   },
   {
    "duration": 338,
    "start_time": "2023-10-18T10:31:16.209Z"
   },
   {
    "duration": 293,
    "start_time": "2023-10-18T10:36:18.284Z"
   },
   {
    "duration": 4,
    "start_time": "2023-10-18T10:51:55.516Z"
   },
   {
    "duration": 7,
    "start_time": "2023-10-18T10:52:36.889Z"
   },
   {
    "duration": 1698,
    "start_time": "2023-10-18T10:53:57.280Z"
   },
   {
    "duration": 123,
    "start_time": "2023-10-18T10:54:39.645Z"
   },
   {
    "duration": 143,
    "start_time": "2023-10-18T10:55:06.445Z"
   },
   {
    "duration": 5,
    "start_time": "2023-10-18T10:58:23.406Z"
   },
   {
    "duration": 5,
    "start_time": "2023-10-18T10:58:38.584Z"
   },
   {
    "duration": 149,
    "start_time": "2023-10-18T11:21:22.729Z"
   },
   {
    "duration": 6,
    "start_time": "2023-10-18T11:24:40.003Z"
   },
   {
    "duration": 190,
    "start_time": "2023-10-18T11:30:42.486Z"
   },
   {
    "duration": 10,
    "start_time": "2023-10-18T11:40:50.575Z"
   },
   {
    "duration": 393,
    "start_time": "2023-10-18T11:41:16.829Z"
   },
   {
    "duration": 46,
    "start_time": "2023-10-18T11:41:17.224Z"
   },
   {
    "duration": 14,
    "start_time": "2023-10-18T11:41:17.272Z"
   },
   {
    "duration": 804,
    "start_time": "2023-10-18T11:41:17.289Z"
   },
   {
    "duration": 81,
    "start_time": "2023-10-18T11:41:18.095Z"
   },
   {
    "duration": 21,
    "start_time": "2023-10-18T11:41:18.178Z"
   },
   {
    "duration": 378,
    "start_time": "2023-10-18T11:41:18.201Z"
   },
   {
    "duration": 327,
    "start_time": "2023-10-18T11:41:18.581Z"
   },
   {
    "duration": 215,
    "start_time": "2023-10-18T11:41:18.910Z"
   },
   {
    "duration": 314,
    "start_time": "2023-10-18T11:41:19.127Z"
   },
   {
    "duration": 238,
    "start_time": "2023-10-18T11:41:19.443Z"
   },
   {
    "duration": 358,
    "start_time": "2023-10-18T11:41:19.682Z"
   },
   {
    "duration": 155,
    "start_time": "2023-10-18T11:41:20.042Z"
   },
   {
    "duration": 11,
    "start_time": "2023-10-18T11:41:20.198Z"
   },
   {
    "duration": 180,
    "start_time": "2023-10-18T11:41:20.211Z"
   },
   {
    "duration": 13,
    "start_time": "2023-10-18T11:41:20.392Z"
   },
   {
    "duration": 122,
    "start_time": "2023-10-18T11:41:20.407Z"
   },
   {
    "duration": 7,
    "start_time": "2023-10-18T11:42:10.036Z"
   },
   {
    "duration": 148,
    "start_time": "2023-10-18T11:50:42.497Z"
   },
   {
    "duration": 9,
    "start_time": "2023-10-18T11:50:59.035Z"
   },
   {
    "duration": 8,
    "start_time": "2023-10-18T11:53:18.012Z"
   },
   {
    "duration": 7,
    "start_time": "2023-10-18T11:53:25.819Z"
   },
   {
    "duration": 96,
    "start_time": "2023-10-18T11:56:58.516Z"
   },
   {
    "duration": 58,
    "start_time": "2023-10-19T08:53:47.930Z"
   },
   {
    "duration": 353,
    "start_time": "2023-10-19T08:54:02.816Z"
   },
   {
    "duration": 85,
    "start_time": "2023-10-19T08:54:03.171Z"
   },
   {
    "duration": 20,
    "start_time": "2023-10-19T08:54:03.257Z"
   },
   {
    "duration": 894,
    "start_time": "2023-10-19T08:54:03.278Z"
   },
   {
    "duration": 181,
    "start_time": "2023-10-19T08:54:04.174Z"
   },
   {
    "duration": 11,
    "start_time": "2023-10-19T08:54:04.357Z"
   },
   {
    "duration": 259,
    "start_time": "2023-10-19T08:54:04.370Z"
   },
   {
    "duration": 279,
    "start_time": "2023-10-19T08:54:04.630Z"
   },
   {
    "duration": 199,
    "start_time": "2023-10-19T08:54:04.911Z"
   },
   {
    "duration": 303,
    "start_time": "2023-10-19T08:54:05.112Z"
   },
   {
    "duration": 211,
    "start_time": "2023-10-19T08:54:05.417Z"
   },
   {
    "duration": 324,
    "start_time": "2023-10-19T08:54:05.630Z"
   },
   {
    "duration": 127,
    "start_time": "2023-10-19T08:54:05.958Z"
   },
   {
    "duration": 5,
    "start_time": "2023-10-19T08:54:06.087Z"
   },
   {
    "duration": 142,
    "start_time": "2023-10-19T08:54:06.093Z"
   },
   {
    "duration": 19,
    "start_time": "2023-10-19T08:54:06.237Z"
   },
   {
    "duration": 8,
    "start_time": "2023-10-19T08:54:06.258Z"
   },
   {
    "duration": 7,
    "start_time": "2023-10-19T08:54:06.268Z"
   },
   {
    "duration": 26,
    "start_time": "2023-10-19T08:54:06.276Z"
   },
   {
    "duration": 10,
    "start_time": "2023-10-19T08:58:43.260Z"
   },
   {
    "duration": 1633,
    "start_time": "2023-10-19T09:02:15.717Z"
   },
   {
    "duration": 13,
    "start_time": "2023-10-19T09:02:30.367Z"
   },
   {
    "duration": 9,
    "start_time": "2023-10-19T09:02:59.299Z"
   },
   {
    "duration": 116,
    "start_time": "2023-10-19T09:05:14.592Z"
   },
   {
    "duration": 10,
    "start_time": "2023-10-19T09:05:31.503Z"
   },
   {
    "duration": 17,
    "start_time": "2023-10-19T09:06:10.975Z"
   },
   {
    "duration": 10,
    "start_time": "2023-10-19T09:06:35.516Z"
   },
   {
    "duration": 62,
    "start_time": "2023-10-19T09:07:19.853Z"
   },
   {
    "duration": 9,
    "start_time": "2023-10-19T09:07:39.678Z"
   },
   {
    "duration": 9,
    "start_time": "2023-10-19T09:43:22.304Z"
   },
   {
    "duration": 19,
    "start_time": "2023-10-19T09:43:29.457Z"
   },
   {
    "duration": 10,
    "start_time": "2023-10-19T09:43:40.785Z"
   },
   {
    "duration": 34,
    "start_time": "2023-10-19T09:44:01.330Z"
   },
   {
    "duration": 13,
    "start_time": "2023-10-19T09:44:21.065Z"
   },
   {
    "duration": 13,
    "start_time": "2023-10-19T09:44:26.890Z"
   },
   {
    "duration": 35,
    "start_time": "2023-10-19T09:44:33.729Z"
   },
   {
    "duration": 8,
    "start_time": "2023-10-19T09:45:05.201Z"
   },
   {
    "duration": 9,
    "start_time": "2023-10-19T09:47:02.052Z"
   },
   {
    "duration": 7,
    "start_time": "2023-10-19T09:47:19.231Z"
   },
   {
    "duration": 6,
    "start_time": "2023-10-19T09:47:44.961Z"
   },
   {
    "duration": 11,
    "start_time": "2023-10-19T09:51:39.061Z"
   },
   {
    "duration": 13,
    "start_time": "2023-10-19T09:58:38.963Z"
   },
   {
    "duration": 17,
    "start_time": "2023-10-19T09:59:24.693Z"
   },
   {
    "duration": 83,
    "start_time": "2023-10-19T09:59:43.054Z"
   },
   {
    "duration": 104,
    "start_time": "2023-10-19T10:04:17.450Z"
   },
   {
    "duration": 331,
    "start_time": "2023-10-19T10:04:23.902Z"
   },
   {
    "duration": 43,
    "start_time": "2023-10-19T10:04:24.234Z"
   },
   {
    "duration": 11,
    "start_time": "2023-10-19T10:04:24.278Z"
   },
   {
    "duration": 677,
    "start_time": "2023-10-19T10:04:24.291Z"
   },
   {
    "duration": 78,
    "start_time": "2023-10-19T10:04:24.970Z"
   },
   {
    "duration": 5,
    "start_time": "2023-10-19T10:04:25.049Z"
   },
   {
    "duration": 274,
    "start_time": "2023-10-19T10:04:25.055Z"
   },
   {
    "duration": 272,
    "start_time": "2023-10-19T10:04:25.330Z"
   },
   {
    "duration": 201,
    "start_time": "2023-10-19T10:04:25.604Z"
   },
   {
    "duration": 324,
    "start_time": "2023-10-19T10:04:25.807Z"
   },
   {
    "duration": 244,
    "start_time": "2023-10-19T10:04:26.142Z"
   },
   {
    "duration": 324,
    "start_time": "2023-10-19T10:04:26.389Z"
   },
   {
    "duration": 140,
    "start_time": "2023-10-19T10:04:26.714Z"
   },
   {
    "duration": 5,
    "start_time": "2023-10-19T10:04:26.855Z"
   },
   {
    "duration": 140,
    "start_time": "2023-10-19T10:04:26.862Z"
   },
   {
    "duration": 4,
    "start_time": "2023-10-19T10:04:27.003Z"
   },
   {
    "duration": 15,
    "start_time": "2023-10-19T10:04:27.008Z"
   },
   {
    "duration": 31,
    "start_time": "2023-10-19T10:04:27.025Z"
   },
   {
    "duration": 6,
    "start_time": "2023-10-19T10:04:27.058Z"
   },
   {
    "duration": 13,
    "start_time": "2023-10-19T10:04:27.066Z"
   },
   {
    "duration": 103,
    "start_time": "2023-10-19T10:04:27.080Z"
   },
   {
    "duration": 0,
    "start_time": "2023-10-19T10:04:27.184Z"
   },
   {
    "duration": 6,
    "start_time": "2023-10-19T10:07:52.108Z"
   },
   {
    "duration": 8,
    "start_time": "2023-10-19T10:07:56.363Z"
   },
   {
    "duration": 12,
    "start_time": "2023-10-19T10:08:26.457Z"
   },
   {
    "duration": 14,
    "start_time": "2023-10-19T10:08:41.951Z"
   },
   {
    "duration": 7,
    "start_time": "2023-10-19T10:09:03.668Z"
   },
   {
    "duration": 14,
    "start_time": "2023-10-19T10:09:04.566Z"
   },
   {
    "duration": 9,
    "start_time": "2023-10-19T10:09:05.282Z"
   },
   {
    "duration": 22,
    "start_time": "2023-10-19T10:09:07.234Z"
   },
   {
    "duration": 12,
    "start_time": "2023-10-19T10:09:30.011Z"
   },
   {
    "duration": 9,
    "start_time": "2023-10-19T10:09:42.397Z"
   },
   {
    "duration": 12,
    "start_time": "2023-10-19T10:09:43.150Z"
   },
   {
    "duration": 9,
    "start_time": "2023-10-19T10:09:43.882Z"
   },
   {
    "duration": 437,
    "start_time": "2023-10-21T08:24:29.336Z"
   },
   {
    "duration": 89,
    "start_time": "2023-10-21T08:24:29.775Z"
   },
   {
    "duration": 15,
    "start_time": "2023-10-21T08:24:29.865Z"
   },
   {
    "duration": 969,
    "start_time": "2023-10-21T08:24:29.882Z"
   },
   {
    "duration": 171,
    "start_time": "2023-10-21T08:24:30.853Z"
   },
   {
    "duration": 7,
    "start_time": "2023-10-21T08:24:31.027Z"
   },
   {
    "duration": 329,
    "start_time": "2023-10-21T08:24:31.036Z"
   },
   {
    "duration": 386,
    "start_time": "2023-10-21T08:24:31.367Z"
   },
   {
    "duration": 252,
    "start_time": "2023-10-21T08:24:31.755Z"
   },
   {
    "duration": 397,
    "start_time": "2023-10-21T08:24:32.010Z"
   },
   {
    "duration": 242,
    "start_time": "2023-10-21T08:24:32.408Z"
   },
   {
    "duration": 339,
    "start_time": "2023-10-21T08:24:32.652Z"
   },
   {
    "duration": 165,
    "start_time": "2023-10-21T08:24:32.993Z"
   },
   {
    "duration": 7,
    "start_time": "2023-10-21T08:24:33.160Z"
   },
   {
    "duration": 189,
    "start_time": "2023-10-21T08:24:33.169Z"
   },
   {
    "duration": 6,
    "start_time": "2023-10-21T08:24:33.359Z"
   },
   {
    "duration": 25,
    "start_time": "2023-10-21T08:24:33.367Z"
   },
   {
    "duration": 15,
    "start_time": "2023-10-21T08:24:33.395Z"
   },
   {
    "duration": 28,
    "start_time": "2023-10-21T08:24:33.412Z"
   },
   {
    "duration": 10,
    "start_time": "2023-10-21T08:24:33.442Z"
   },
   {
    "duration": 27,
    "start_time": "2023-10-21T08:24:33.453Z"
   },
   {
    "duration": 21,
    "start_time": "2023-10-21T08:24:33.482Z"
   },
   {
    "duration": 303,
    "start_time": "2023-10-21T09:12:47.218Z"
   },
   {
    "duration": 251,
    "start_time": "2023-10-21T09:14:06.712Z"
   },
   {
    "duration": 177,
    "start_time": "2023-10-21T09:16:44.294Z"
   },
   {
    "duration": 416,
    "start_time": "2023-10-21T09:17:54.173Z"
   },
   {
    "duration": 44,
    "start_time": "2023-10-21T09:17:54.591Z"
   },
   {
    "duration": 13,
    "start_time": "2023-10-21T09:17:54.638Z"
   },
   {
    "duration": 846,
    "start_time": "2023-10-21T09:17:54.653Z"
   },
   {
    "duration": 91,
    "start_time": "2023-10-21T09:17:55.501Z"
   },
   {
    "duration": 7,
    "start_time": "2023-10-21T09:17:55.594Z"
   },
   {
    "duration": 364,
    "start_time": "2023-10-21T09:17:55.604Z"
   },
   {
    "duration": 395,
    "start_time": "2023-10-21T09:17:55.970Z"
   },
   {
    "duration": 241,
    "start_time": "2023-10-21T09:17:56.368Z"
   },
   {
    "duration": 376,
    "start_time": "2023-10-21T09:17:56.613Z"
   },
   {
    "duration": 258,
    "start_time": "2023-10-21T09:17:56.991Z"
   },
   {
    "duration": 356,
    "start_time": "2023-10-21T09:17:57.252Z"
   },
   {
    "duration": 162,
    "start_time": "2023-10-21T09:17:57.609Z"
   },
   {
    "duration": 5,
    "start_time": "2023-10-21T09:17:57.773Z"
   },
   {
    "duration": 183,
    "start_time": "2023-10-21T09:17:57.780Z"
   },
   {
    "duration": 6,
    "start_time": "2023-10-21T09:17:57.964Z"
   },
   {
    "duration": 15,
    "start_time": "2023-10-21T09:17:57.972Z"
   },
   {
    "duration": 24,
    "start_time": "2023-10-21T09:17:57.989Z"
   },
   {
    "duration": 263,
    "start_time": "2023-10-21T09:17:58.014Z"
   },
   {
    "duration": 195,
    "start_time": "2023-10-21T09:17:58.279Z"
   },
   {
    "duration": 9,
    "start_time": "2023-10-21T09:17:58.475Z"
   },
   {
    "duration": 6,
    "start_time": "2023-10-21T09:17:58.486Z"
   },
   {
    "duration": 10,
    "start_time": "2023-10-21T09:17:58.494Z"
   },
   {
    "duration": 45,
    "start_time": "2023-10-21T09:17:58.506Z"
   },
   {
    "duration": 12,
    "start_time": "2023-10-21T09:19:43.915Z"
   },
   {
    "duration": 1291,
    "start_time": "2023-10-21T09:20:52.781Z"
   },
   {
    "duration": 9,
    "start_time": "2023-10-21T09:22:09.458Z"
   },
   {
    "duration": 10,
    "start_time": "2023-10-21T09:22:39.438Z"
   },
   {
    "duration": 28,
    "start_time": "2023-10-21T09:23:08.154Z"
   },
   {
    "duration": 1399,
    "start_time": "2023-10-21T09:23:42.919Z"
   },
   {
    "duration": 1181,
    "start_time": "2023-10-21T09:23:58.235Z"
   },
   {
    "duration": 12,
    "start_time": "2023-10-21T09:24:06.524Z"
   },
   {
    "duration": 178,
    "start_time": "2023-10-21T09:31:44.814Z"
   },
   {
    "duration": 193,
    "start_time": "2023-10-21T09:32:02.862Z"
   },
   {
    "duration": 14,
    "start_time": "2023-10-21T09:34:38.806Z"
   },
   {
    "duration": 5,
    "start_time": "2023-10-21T09:45:10.296Z"
   },
   {
    "duration": 15,
    "start_time": "2023-10-21T09:45:22.809Z"
   },
   {
    "duration": 15,
    "start_time": "2023-10-21T09:46:01.742Z"
   },
   {
    "duration": 16,
    "start_time": "2023-10-21T09:48:25.291Z"
   },
   {
    "duration": 13,
    "start_time": "2023-10-21T09:48:38.060Z"
   },
   {
    "duration": 15,
    "start_time": "2023-10-21T09:48:54.739Z"
   },
   {
    "duration": 80,
    "start_time": "2023-10-21T09:50:14.891Z"
   },
   {
    "duration": 7,
    "start_time": "2023-10-21T09:50:34.391Z"
   },
   {
    "duration": 10,
    "start_time": "2023-10-21T09:53:10.007Z"
   },
   {
    "duration": 9,
    "start_time": "2023-10-21T09:53:14.237Z"
   },
   {
    "duration": 28,
    "start_time": "2023-10-21T09:53:15.674Z"
   },
   {
    "duration": 13,
    "start_time": "2023-10-21T09:53:16.518Z"
   },
   {
    "duration": 29,
    "start_time": "2023-10-21T09:56:07.275Z"
   },
   {
    "duration": 1324,
    "start_time": "2023-10-21T10:02:47.305Z"
   },
   {
    "duration": 19,
    "start_time": "2023-10-21T10:03:01.783Z"
   },
   {
    "duration": 500,
    "start_time": "2023-10-21T12:11:35.686Z"
   },
   {
    "duration": 101,
    "start_time": "2023-10-21T12:11:36.189Z"
   },
   {
    "duration": 17,
    "start_time": "2023-10-21T12:11:36.292Z"
   },
   {
    "duration": 982,
    "start_time": "2023-10-21T12:11:36.312Z"
   },
   {
    "duration": 210,
    "start_time": "2023-10-21T12:11:37.296Z"
   },
   {
    "duration": 7,
    "start_time": "2023-10-21T12:11:37.509Z"
   },
   {
    "duration": 460,
    "start_time": "2023-10-21T12:11:37.519Z"
   },
   {
    "duration": 298,
    "start_time": "2023-10-21T12:11:37.981Z"
   },
   {
    "duration": 211,
    "start_time": "2023-10-21T12:11:38.281Z"
   },
   {
    "duration": 362,
    "start_time": "2023-10-21T12:11:38.495Z"
   },
   {
    "duration": 227,
    "start_time": "2023-10-21T12:11:38.859Z"
   },
   {
    "duration": 359,
    "start_time": "2023-10-21T12:11:39.090Z"
   },
   {
    "duration": 206,
    "start_time": "2023-10-21T12:11:39.451Z"
   },
   {
    "duration": 6,
    "start_time": "2023-10-21T12:11:39.660Z"
   },
   {
    "duration": 200,
    "start_time": "2023-10-21T12:11:39.668Z"
   },
   {
    "duration": 7,
    "start_time": "2023-10-21T12:11:39.870Z"
   },
   {
    "duration": 391,
    "start_time": "2023-10-21T12:11:39.879Z"
   },
   {
    "duration": 178,
    "start_time": "2023-10-21T12:11:40.273Z"
   },
   {
    "duration": 15,
    "start_time": "2023-10-21T12:11:40.453Z"
   },
   {
    "duration": 38,
    "start_time": "2023-10-21T12:11:40.470Z"
   },
   {
    "duration": 12,
    "start_time": "2023-10-21T12:11:40.510Z"
   },
   {
    "duration": 45,
    "start_time": "2023-10-21T12:11:40.525Z"
   },
   {
    "duration": 36,
    "start_time": "2023-10-21T12:11:40.573Z"
   },
   {
    "duration": 197,
    "start_time": "2023-10-21T12:18:14.183Z"
   },
   {
    "duration": 260,
    "start_time": "2023-10-21T12:19:45.070Z"
   },
   {
    "duration": 290,
    "start_time": "2023-10-21T12:21:25.860Z"
   },
   {
    "duration": 219,
    "start_time": "2023-10-21T12:22:32.927Z"
   },
   {
    "duration": 122,
    "start_time": "2023-10-21T12:23:47.882Z"
   },
   {
    "duration": 307,
    "start_time": "2023-10-21T12:24:23.418Z"
   },
   {
    "duration": 158,
    "start_time": "2023-10-21T12:26:25.883Z"
   },
   {
    "duration": 256,
    "start_time": "2023-10-21T12:26:36.683Z"
   },
   {
    "duration": 342,
    "start_time": "2023-10-21T12:27:20.010Z"
   },
   {
    "duration": 446,
    "start_time": "2023-10-21T12:27:59.198Z"
   },
   {
    "duration": 43,
    "start_time": "2023-10-21T12:27:59.646Z"
   },
   {
    "duration": 13,
    "start_time": "2023-10-21T12:27:59.691Z"
   },
   {
    "duration": 815,
    "start_time": "2023-10-21T12:27:59.707Z"
   },
   {
    "duration": 91,
    "start_time": "2023-10-21T12:28:00.524Z"
   },
   {
    "duration": 7,
    "start_time": "2023-10-21T12:28:00.616Z"
   },
   {
    "duration": 279,
    "start_time": "2023-10-21T12:28:00.626Z"
   },
   {
    "duration": 338,
    "start_time": "2023-10-21T12:28:00.908Z"
   },
   {
    "duration": 250,
    "start_time": "2023-10-21T12:28:01.248Z"
   },
   {
    "duration": 386,
    "start_time": "2023-10-21T12:28:01.506Z"
   },
   {
    "duration": 334,
    "start_time": "2023-10-21T12:28:01.894Z"
   },
   {
    "duration": 397,
    "start_time": "2023-10-21T12:28:02.230Z"
   },
   {
    "duration": 159,
    "start_time": "2023-10-21T12:28:02.630Z"
   },
   {
    "duration": 8,
    "start_time": "2023-10-21T12:28:02.791Z"
   },
   {
    "duration": 228,
    "start_time": "2023-10-21T12:28:02.806Z"
   },
   {
    "duration": 5,
    "start_time": "2023-10-21T12:28:03.036Z"
   },
   {
    "duration": 202,
    "start_time": "2023-10-21T12:28:03.043Z"
   },
   {
    "duration": 15,
    "start_time": "2023-10-21T12:28:03.246Z"
   },
   {
    "duration": 13,
    "start_time": "2023-10-21T12:28:03.263Z"
   },
   {
    "duration": 34,
    "start_time": "2023-10-21T12:28:03.278Z"
   },
   {
    "duration": 34,
    "start_time": "2023-10-21T12:28:03.314Z"
   },
   {
    "duration": 18,
    "start_time": "2023-10-21T12:28:03.350Z"
   },
   {
    "duration": 394,
    "start_time": "2023-10-21T12:34:42.027Z"
   },
   {
    "duration": 485,
    "start_time": "2023-10-21T12:36:12.919Z"
   },
   {
    "duration": 305,
    "start_time": "2023-10-21T12:36:29.337Z"
   },
   {
    "duration": 183,
    "start_time": "2023-10-21T12:36:54.031Z"
   },
   {
    "duration": 325,
    "start_time": "2023-10-21T12:38:02.438Z"
   },
   {
    "duration": 293,
    "start_time": "2023-10-21T12:38:51.044Z"
   },
   {
    "duration": 242,
    "start_time": "2023-10-21T12:39:16.686Z"
   },
   {
    "duration": 220,
    "start_time": "2023-10-21T12:39:24.293Z"
   },
   {
    "duration": 245,
    "start_time": "2023-10-21T12:39:31.541Z"
   },
   {
    "duration": 241,
    "start_time": "2023-10-21T12:40:45.046Z"
   },
   {
    "duration": 235,
    "start_time": "2023-10-21T12:40:59.020Z"
   },
   {
    "duration": 342,
    "start_time": "2023-10-21T12:41:07.483Z"
   },
   {
    "duration": 314,
    "start_time": "2023-10-21T12:41:21.410Z"
   },
   {
    "duration": 382,
    "start_time": "2023-10-21T12:41:36.422Z"
   },
   {
    "duration": 458,
    "start_time": "2023-10-21T12:43:57.122Z"
   },
   {
    "duration": 43,
    "start_time": "2023-10-21T12:43:57.582Z"
   },
   {
    "duration": 12,
    "start_time": "2023-10-21T12:43:57.627Z"
   },
   {
    "duration": 722,
    "start_time": "2023-10-21T12:43:57.641Z"
   },
   {
    "duration": 76,
    "start_time": "2023-10-21T12:43:58.365Z"
   },
   {
    "duration": 5,
    "start_time": "2023-10-21T12:43:58.443Z"
   },
   {
    "duration": 218,
    "start_time": "2023-10-21T12:43:58.450Z"
   },
   {
    "duration": 288,
    "start_time": "2023-10-21T12:43:58.670Z"
   },
   {
    "duration": 233,
    "start_time": "2023-10-21T12:43:58.960Z"
   },
   {
    "duration": 320,
    "start_time": "2023-10-21T12:43:59.195Z"
   },
   {
    "duration": 224,
    "start_time": "2023-10-21T12:43:59.517Z"
   },
   {
    "duration": 301,
    "start_time": "2023-10-21T12:43:59.743Z"
   },
   {
    "duration": 151,
    "start_time": "2023-10-21T12:44:00.046Z"
   },
   {
    "duration": 10,
    "start_time": "2023-10-21T12:44:00.200Z"
   },
   {
    "duration": 164,
    "start_time": "2023-10-21T12:44:00.212Z"
   },
   {
    "duration": 5,
    "start_time": "2023-10-21T12:44:00.378Z"
   },
   {
    "duration": 249,
    "start_time": "2023-10-21T12:44:00.385Z"
   },
   {
    "duration": 15,
    "start_time": "2023-10-21T12:44:00.636Z"
   },
   {
    "duration": 27,
    "start_time": "2023-10-21T12:44:00.653Z"
   },
   {
    "duration": 83,
    "start_time": "2023-10-21T12:44:00.683Z"
   },
   {
    "duration": 130,
    "start_time": "2023-10-21T12:44:00.768Z"
   },
   {
    "duration": 104,
    "start_time": "2023-10-21T12:44:00.900Z"
   },
   {
    "duration": 407,
    "start_time": "2023-10-21T12:44:25.689Z"
   },
   {
    "duration": 399,
    "start_time": "2023-10-21T12:45:36.581Z"
   },
   {
    "duration": 324,
    "start_time": "2023-10-21T12:46:07.633Z"
   },
   {
    "duration": 355,
    "start_time": "2023-10-21T12:47:51.220Z"
   },
   {
    "duration": 269,
    "start_time": "2023-10-21T12:47:59.700Z"
   },
   {
    "duration": 345,
    "start_time": "2023-10-21T12:48:06.532Z"
   },
   {
    "duration": 182,
    "start_time": "2023-10-21T12:48:13.389Z"
   },
   {
    "duration": 177,
    "start_time": "2023-10-21T12:48:17.224Z"
   },
   {
    "duration": 331,
    "start_time": "2023-10-21T12:48:45.272Z"
   },
   {
    "duration": 379,
    "start_time": "2023-10-21T12:49:03.423Z"
   },
   {
    "duration": 210,
    "start_time": "2023-10-21T12:50:09.674Z"
   },
   {
    "duration": 223,
    "start_time": "2023-10-21T12:50:29.892Z"
   },
   {
    "duration": 394,
    "start_time": "2023-10-21T16:45:07.012Z"
   },
   {
    "duration": 75,
    "start_time": "2023-10-21T16:45:07.407Z"
   },
   {
    "duration": 11,
    "start_time": "2023-10-21T16:45:07.483Z"
   },
   {
    "duration": 661,
    "start_time": "2023-10-21T16:45:07.495Z"
   },
   {
    "duration": 152,
    "start_time": "2023-10-21T16:45:08.157Z"
   },
   {
    "duration": 6,
    "start_time": "2023-10-21T16:45:08.310Z"
   },
   {
    "duration": 178,
    "start_time": "2023-10-21T16:45:08.317Z"
   },
   {
    "duration": 248,
    "start_time": "2023-10-21T16:45:08.496Z"
   },
   {
    "duration": 180,
    "start_time": "2023-10-21T16:45:08.746Z"
   },
   {
    "duration": 291,
    "start_time": "2023-10-21T16:45:08.928Z"
   },
   {
    "duration": 198,
    "start_time": "2023-10-21T16:45:09.221Z"
   },
   {
    "duration": 321,
    "start_time": "2023-10-21T16:45:09.420Z"
   },
   {
    "duration": 125,
    "start_time": "2023-10-21T16:45:09.743Z"
   },
   {
    "duration": 4,
    "start_time": "2023-10-21T16:45:09.870Z"
   },
   {
    "duration": 154,
    "start_time": "2023-10-21T16:45:09.876Z"
   },
   {
    "duration": 4,
    "start_time": "2023-10-21T16:45:10.031Z"
   },
   {
    "duration": 164,
    "start_time": "2023-10-21T16:45:10.039Z"
   },
   {
    "duration": 10,
    "start_time": "2023-10-21T16:45:10.204Z"
   },
   {
    "duration": 25,
    "start_time": "2023-10-21T16:45:10.215Z"
   },
   {
    "duration": 7,
    "start_time": "2023-10-21T16:45:10.241Z"
   },
   {
    "duration": 21,
    "start_time": "2023-10-21T16:45:10.249Z"
   },
   {
    "duration": 16,
    "start_time": "2023-10-21T16:45:10.271Z"
   },
   {
    "duration": 650,
    "start_time": "2023-10-21T16:46:33.716Z"
   },
   {
    "duration": 88,
    "start_time": "2023-10-21T16:46:34.368Z"
   },
   {
    "duration": 15,
    "start_time": "2023-10-21T16:46:34.458Z"
   },
   {
    "duration": 1177,
    "start_time": "2023-10-21T16:46:34.475Z"
   },
   {
    "duration": 112,
    "start_time": "2023-10-21T16:46:35.655Z"
   },
   {
    "duration": 6,
    "start_time": "2023-10-21T16:46:35.768Z"
   },
   {
    "duration": 465,
    "start_time": "2023-10-21T16:46:35.775Z"
   },
   {
    "duration": 603,
    "start_time": "2023-10-21T16:46:36.241Z"
   },
   {
    "duration": 394,
    "start_time": "2023-10-21T16:46:36.852Z"
   },
   {
    "duration": 516,
    "start_time": "2023-10-21T16:46:37.248Z"
   },
   {
    "duration": 419,
    "start_time": "2023-10-21T16:46:37.765Z"
   },
   {
    "duration": 442,
    "start_time": "2023-10-21T16:46:38.239Z"
   },
   {
    "duration": 224,
    "start_time": "2023-10-21T16:46:38.756Z"
   },
   {
    "duration": 4,
    "start_time": "2023-10-21T16:46:38.981Z"
   },
   {
    "duration": 172,
    "start_time": "2023-10-21T16:46:38.986Z"
   },
   {
    "duration": 5,
    "start_time": "2023-10-21T16:46:39.160Z"
   },
   {
    "duration": 165,
    "start_time": "2023-10-21T16:46:39.166Z"
   },
   {
    "duration": 16,
    "start_time": "2023-10-21T16:46:39.340Z"
   },
   {
    "duration": 9,
    "start_time": "2023-10-21T16:46:39.358Z"
   },
   {
    "duration": 9,
    "start_time": "2023-10-21T16:46:39.368Z"
   },
   {
    "duration": 21,
    "start_time": "2023-10-21T16:46:39.378Z"
   },
   {
    "duration": 58,
    "start_time": "2023-10-21T16:46:39.400Z"
   },
   {
    "duration": 133,
    "start_time": "2023-10-22T11:39:05.011Z"
   },
   {
    "duration": 510,
    "start_time": "2023-10-22T11:39:12.028Z"
   },
   {
    "duration": 163,
    "start_time": "2023-10-22T11:39:12.541Z"
   },
   {
    "duration": 0,
    "start_time": "2023-10-22T11:39:12.706Z"
   },
   {
    "duration": 0,
    "start_time": "2023-10-22T11:39:12.708Z"
   },
   {
    "duration": 0,
    "start_time": "2023-10-22T11:39:12.709Z"
   },
   {
    "duration": 0,
    "start_time": "2023-10-22T11:39:12.710Z"
   },
   {
    "duration": 0,
    "start_time": "2023-10-22T11:39:12.712Z"
   },
   {
    "duration": 0,
    "start_time": "2023-10-22T11:39:12.713Z"
   },
   {
    "duration": 0,
    "start_time": "2023-10-22T11:39:12.714Z"
   },
   {
    "duration": 0,
    "start_time": "2023-10-22T11:39:12.716Z"
   },
   {
    "duration": 0,
    "start_time": "2023-10-22T11:39:12.716Z"
   },
   {
    "duration": 0,
    "start_time": "2023-10-22T11:39:12.718Z"
   },
   {
    "duration": 0,
    "start_time": "2023-10-22T11:39:12.719Z"
   },
   {
    "duration": 0,
    "start_time": "2023-10-22T11:39:12.721Z"
   },
   {
    "duration": 0,
    "start_time": "2023-10-22T11:39:12.721Z"
   },
   {
    "duration": 0,
    "start_time": "2023-10-22T11:39:12.723Z"
   },
   {
    "duration": 0,
    "start_time": "2023-10-22T11:39:12.723Z"
   },
   {
    "duration": 0,
    "start_time": "2023-10-22T11:39:12.725Z"
   },
   {
    "duration": 0,
    "start_time": "2023-10-22T11:39:12.726Z"
   },
   {
    "duration": 0,
    "start_time": "2023-10-22T11:39:12.727Z"
   },
   {
    "duration": 0,
    "start_time": "2023-10-22T11:39:12.728Z"
   },
   {
    "duration": 0,
    "start_time": "2023-10-22T11:39:12.729Z"
   },
   {
    "duration": 145,
    "start_time": "2023-10-22T11:39:20.389Z"
   },
   {
    "duration": 38,
    "start_time": "2023-10-22T11:39:29.989Z"
   },
   {
    "duration": 31,
    "start_time": "2023-10-22T11:39:38.271Z"
   },
   {
    "duration": 47,
    "start_time": "2023-10-22T11:39:55.458Z"
   },
   {
    "duration": 407,
    "start_time": "2023-10-22T11:41:50.378Z"
   },
   {
    "duration": 48,
    "start_time": "2023-10-22T11:41:50.788Z"
   },
   {
    "duration": 15,
    "start_time": "2023-10-22T11:41:50.838Z"
   },
   {
    "duration": 998,
    "start_time": "2023-10-22T11:41:50.855Z"
   },
   {
    "duration": 169,
    "start_time": "2023-10-22T11:41:51.857Z"
   },
   {
    "duration": 7,
    "start_time": "2023-10-22T11:41:52.028Z"
   },
   {
    "duration": 233,
    "start_time": "2023-10-22T11:41:52.037Z"
   },
   {
    "duration": 310,
    "start_time": "2023-10-22T11:41:52.272Z"
   },
   {
    "duration": 238,
    "start_time": "2023-10-22T11:41:52.584Z"
   },
   {
    "duration": 396,
    "start_time": "2023-10-22T11:41:52.825Z"
   },
   {
    "duration": 248,
    "start_time": "2023-10-22T11:41:53.223Z"
   },
   {
    "duration": 344,
    "start_time": "2023-10-22T11:41:53.473Z"
   },
   {
    "duration": 154,
    "start_time": "2023-10-22T11:41:53.819Z"
   },
   {
    "duration": 7,
    "start_time": "2023-10-22T11:41:53.975Z"
   },
   {
    "duration": 188,
    "start_time": "2023-10-22T11:41:53.984Z"
   },
   {
    "duration": 6,
    "start_time": "2023-10-22T11:41:54.174Z"
   },
   {
    "duration": 281,
    "start_time": "2023-10-22T11:41:54.182Z"
   },
   {
    "duration": 14,
    "start_time": "2023-10-22T11:41:54.465Z"
   },
   {
    "duration": 15,
    "start_time": "2023-10-22T11:41:54.481Z"
   },
   {
    "duration": 12,
    "start_time": "2023-10-22T11:41:54.498Z"
   },
   {
    "duration": 62,
    "start_time": "2023-10-22T11:41:54.512Z"
   },
   {
    "duration": 19,
    "start_time": "2023-10-22T11:41:54.576Z"
   },
   {
    "duration": 117,
    "start_time": "2023-10-22T11:45:21.628Z"
   },
   {
    "duration": 8,
    "start_time": "2023-10-22T11:46:16.175Z"
   },
   {
    "duration": 8,
    "start_time": "2023-10-22T11:46:32.641Z"
   },
   {
    "duration": 119,
    "start_time": "2023-10-22T11:48:44.138Z"
   },
   {
    "duration": 10,
    "start_time": "2023-10-22T11:48:48.334Z"
   },
   {
    "duration": 10,
    "start_time": "2023-10-22T11:49:14.978Z"
   },
   {
    "duration": 9,
    "start_time": "2023-10-22T11:49:22.440Z"
   },
   {
    "duration": 5,
    "start_time": "2023-10-22T11:51:30.157Z"
   },
   {
    "duration": 7,
    "start_time": "2023-10-22T11:52:56.024Z"
   },
   {
    "duration": 104,
    "start_time": "2023-10-22T12:03:10.871Z"
   },
   {
    "duration": 12,
    "start_time": "2023-10-22T12:03:21.468Z"
   },
   {
    "duration": 13,
    "start_time": "2023-10-22T12:03:56.629Z"
   },
   {
    "duration": 11,
    "start_time": "2023-10-22T12:04:08.613Z"
   },
   {
    "duration": 11,
    "start_time": "2023-10-22T12:05:27.597Z"
   },
   {
    "duration": 42,
    "start_time": "2023-10-22T12:06:44.332Z"
   },
   {
    "duration": 1336,
    "start_time": "2023-10-22T12:07:18.620Z"
   },
   {
    "duration": 1233,
    "start_time": "2023-10-22T12:08:07.630Z"
   },
   {
    "duration": 1316,
    "start_time": "2023-10-22T12:09:04.382Z"
   },
   {
    "duration": 1163,
    "start_time": "2023-10-22T12:09:11.477Z"
   },
   {
    "duration": 44,
    "start_time": "2023-10-22T12:09:18.970Z"
   },
   {
    "duration": 27,
    "start_time": "2023-10-22T12:09:35.156Z"
   },
   {
    "duration": 35,
    "start_time": "2023-10-22T12:09:47.353Z"
   },
   {
    "duration": 12,
    "start_time": "2023-10-22T12:09:53.935Z"
   },
   {
    "duration": 13,
    "start_time": "2023-10-22T12:09:55.715Z"
   },
   {
    "duration": 414,
    "start_time": "2023-10-22T12:10:02.393Z"
   },
   {
    "duration": 49,
    "start_time": "2023-10-22T12:10:02.810Z"
   },
   {
    "duration": 15,
    "start_time": "2023-10-22T12:10:02.861Z"
   },
   {
    "duration": 859,
    "start_time": "2023-10-22T12:10:02.878Z"
   },
   {
    "duration": 81,
    "start_time": "2023-10-22T12:10:03.739Z"
   },
   {
    "duration": 6,
    "start_time": "2023-10-22T12:10:03.822Z"
   },
   {
    "duration": 33,
    "start_time": "2023-10-22T12:10:03.830Z"
   },
   {
    "duration": 40,
    "start_time": "2023-10-22T12:10:03.865Z"
   },
   {
    "duration": 49,
    "start_time": "2023-10-22T12:10:03.906Z"
   },
   {
    "duration": 25,
    "start_time": "2023-10-22T12:10:03.958Z"
   },
   {
    "duration": 29,
    "start_time": "2023-10-22T12:10:03.985Z"
   },
   {
    "duration": 236,
    "start_time": "2023-10-22T12:10:04.016Z"
   },
   {
    "duration": 317,
    "start_time": "2023-10-22T12:10:04.256Z"
   },
   {
    "duration": 222,
    "start_time": "2023-10-22T12:10:04.576Z"
   },
   {
    "duration": 338,
    "start_time": "2023-10-22T12:10:04.800Z"
   },
   {
    "duration": 261,
    "start_time": "2023-10-22T12:10:05.140Z"
   },
   {
    "duration": 320,
    "start_time": "2023-10-22T12:10:05.403Z"
   },
   {
    "duration": 170,
    "start_time": "2023-10-22T12:10:05.725Z"
   },
   {
    "duration": 6,
    "start_time": "2023-10-22T12:10:05.897Z"
   },
   {
    "duration": 190,
    "start_time": "2023-10-22T12:10:05.905Z"
   },
   {
    "duration": 6,
    "start_time": "2023-10-22T12:10:06.097Z"
   },
   {
    "duration": 204,
    "start_time": "2023-10-22T12:10:06.105Z"
   },
   {
    "duration": 14,
    "start_time": "2023-10-22T12:10:06.312Z"
   },
   {
    "duration": 28,
    "start_time": "2023-10-22T12:10:06.328Z"
   },
   {
    "duration": 11,
    "start_time": "2023-10-22T12:10:06.358Z"
   },
   {
    "duration": 41,
    "start_time": "2023-10-22T12:10:06.371Z"
   },
   {
    "duration": 20,
    "start_time": "2023-10-22T12:10:06.414Z"
   },
   {
    "duration": 22,
    "start_time": "2023-10-22T12:10:48.823Z"
   },
   {
    "duration": 45,
    "start_time": "2023-10-22T12:11:07.576Z"
   },
   {
    "duration": 50,
    "start_time": "2023-10-22T12:12:01.909Z"
   },
   {
    "duration": 41,
    "start_time": "2023-10-22T12:12:12.332Z"
   },
   {
    "duration": 456,
    "start_time": "2023-10-22T12:12:26.074Z"
   },
   {
    "duration": 50,
    "start_time": "2023-10-22T12:12:26.533Z"
   },
   {
    "duration": 20,
    "start_time": "2023-10-22T12:12:26.585Z"
   },
   {
    "duration": 795,
    "start_time": "2023-10-22T12:12:26.608Z"
   },
   {
    "duration": 78,
    "start_time": "2023-10-22T12:12:27.405Z"
   },
   {
    "duration": 7,
    "start_time": "2023-10-22T12:12:27.485Z"
   },
   {
    "duration": 13,
    "start_time": "2023-10-22T12:12:27.494Z"
   },
   {
    "duration": 16,
    "start_time": "2023-10-22T12:12:27.509Z"
   },
   {
    "duration": 12,
    "start_time": "2023-10-22T12:12:27.526Z"
   },
   {
    "duration": 8,
    "start_time": "2023-10-22T12:12:27.556Z"
   },
   {
    "duration": 58,
    "start_time": "2023-10-22T12:12:27.566Z"
   },
   {
    "duration": 164,
    "start_time": "2023-10-22T12:12:27.626Z"
   },
   {
    "duration": 285,
    "start_time": "2023-10-22T12:12:27.792Z"
   },
   {
    "duration": 180,
    "start_time": "2023-10-22T12:12:28.080Z"
   },
   {
    "duration": 273,
    "start_time": "2023-10-22T12:12:28.261Z"
   },
   {
    "duration": 205,
    "start_time": "2023-10-22T12:12:28.536Z"
   },
   {
    "duration": 345,
    "start_time": "2023-10-22T12:12:28.743Z"
   },
   {
    "duration": 164,
    "start_time": "2023-10-22T12:12:29.090Z"
   },
   {
    "duration": 6,
    "start_time": "2023-10-22T12:12:29.256Z"
   },
   {
    "duration": 161,
    "start_time": "2023-10-22T12:12:29.264Z"
   },
   {
    "duration": 4,
    "start_time": "2023-10-22T12:12:29.428Z"
   },
   {
    "duration": 48,
    "start_time": "2023-10-22T12:12:29.434Z"
   },
   {
    "duration": 19,
    "start_time": "2023-10-22T12:12:29.484Z"
   },
   {
    "duration": 14,
    "start_time": "2023-10-22T12:12:29.504Z"
   },
   {
    "duration": 12,
    "start_time": "2023-10-22T12:12:29.520Z"
   },
   {
    "duration": 28,
    "start_time": "2023-10-22T12:12:29.533Z"
   },
   {
    "duration": 16,
    "start_time": "2023-10-22T12:12:29.563Z"
   },
   {
    "duration": 125,
    "start_time": "2023-10-22T12:13:55.234Z"
   },
   {
    "duration": 51,
    "start_time": "2023-10-22T12:15:20.485Z"
   },
   {
    "duration": 423,
    "start_time": "2023-10-22T12:15:42.090Z"
   },
   {
    "duration": 47,
    "start_time": "2023-10-22T12:15:42.515Z"
   },
   {
    "duration": 14,
    "start_time": "2023-10-22T12:15:42.564Z"
   },
   {
    "duration": 867,
    "start_time": "2023-10-22T12:15:42.580Z"
   },
   {
    "duration": 85,
    "start_time": "2023-10-22T12:15:43.449Z"
   },
   {
    "duration": 6,
    "start_time": "2023-10-22T12:15:43.536Z"
   },
   {
    "duration": 35,
    "start_time": "2023-10-22T12:15:43.544Z"
   },
   {
    "duration": 32,
    "start_time": "2023-10-22T12:15:43.581Z"
   },
   {
    "duration": 22,
    "start_time": "2023-10-22T12:15:43.615Z"
   },
   {
    "duration": 19,
    "start_time": "2023-10-22T12:15:43.641Z"
   },
   {
    "duration": 64,
    "start_time": "2023-10-22T12:15:43.662Z"
   },
   {
    "duration": 156,
    "start_time": "2023-10-22T12:15:43.728Z"
   },
   {
    "duration": 274,
    "start_time": "2023-10-22T12:15:43.886Z"
   },
   {
    "duration": 187,
    "start_time": "2023-10-22T12:15:44.162Z"
   },
   {
    "duration": 277,
    "start_time": "2023-10-22T12:15:44.356Z"
   },
   {
    "duration": 187,
    "start_time": "2023-10-22T12:15:44.635Z"
   },
   {
    "duration": 320,
    "start_time": "2023-10-22T12:15:44.825Z"
   },
   {
    "duration": 169,
    "start_time": "2023-10-22T12:15:45.147Z"
   },
   {
    "duration": 6,
    "start_time": "2023-10-22T12:15:45.319Z"
   },
   {
    "duration": 199,
    "start_time": "2023-10-22T12:15:45.326Z"
   },
   {
    "duration": 6,
    "start_time": "2023-10-22T12:15:45.528Z"
   },
   {
    "duration": 204,
    "start_time": "2023-10-22T12:15:45.536Z"
   },
   {
    "duration": 24,
    "start_time": "2023-10-22T12:15:45.742Z"
   },
   {
    "duration": 29,
    "start_time": "2023-10-22T12:15:45.768Z"
   },
   {
    "duration": 44,
    "start_time": "2023-10-22T12:15:45.799Z"
   },
   {
    "duration": 40,
    "start_time": "2023-10-22T12:15:45.845Z"
   },
   {
    "duration": 37,
    "start_time": "2023-10-22T12:15:45.887Z"
   },
   {
    "duration": 133,
    "start_time": "2023-10-22T12:16:06.402Z"
   },
   {
    "duration": 54,
    "start_time": "2023-10-22T12:16:20.766Z"
   },
   {
    "duration": 39,
    "start_time": "2023-10-22T12:17:01.774Z"
   },
   {
    "duration": 429,
    "start_time": "2023-10-22T12:17:16.312Z"
   },
   {
    "duration": 47,
    "start_time": "2023-10-22T12:17:16.744Z"
   },
   {
    "duration": 14,
    "start_time": "2023-10-22T12:17:16.793Z"
   },
   {
    "duration": 858,
    "start_time": "2023-10-22T12:17:16.809Z"
   },
   {
    "duration": 79,
    "start_time": "2023-10-22T12:17:17.669Z"
   },
   {
    "duration": 6,
    "start_time": "2023-10-22T12:17:17.750Z"
   },
   {
    "duration": 23,
    "start_time": "2023-10-22T12:17:17.758Z"
   },
   {
    "duration": 27,
    "start_time": "2023-10-22T12:17:17.783Z"
   },
   {
    "duration": 25,
    "start_time": "2023-10-22T12:17:17.812Z"
   },
   {
    "duration": 39,
    "start_time": "2023-10-22T12:17:17.840Z"
   },
   {
    "duration": 436,
    "start_time": "2023-10-22T12:17:17.881Z"
   },
   {
    "duration": 0,
    "start_time": "2023-10-22T12:17:18.319Z"
   },
   {
    "duration": 0,
    "start_time": "2023-10-22T12:17:18.321Z"
   },
   {
    "duration": 0,
    "start_time": "2023-10-22T12:17:18.322Z"
   },
   {
    "duration": 0,
    "start_time": "2023-10-22T12:17:18.322Z"
   },
   {
    "duration": 0,
    "start_time": "2023-10-22T12:17:18.323Z"
   },
   {
    "duration": 0,
    "start_time": "2023-10-22T12:17:18.324Z"
   },
   {
    "duration": 0,
    "start_time": "2023-10-22T12:17:18.326Z"
   },
   {
    "duration": 0,
    "start_time": "2023-10-22T12:17:18.326Z"
   },
   {
    "duration": 0,
    "start_time": "2023-10-22T12:17:18.327Z"
   },
   {
    "duration": 0,
    "start_time": "2023-10-22T12:17:18.329Z"
   },
   {
    "duration": 0,
    "start_time": "2023-10-22T12:17:18.330Z"
   },
   {
    "duration": 0,
    "start_time": "2023-10-22T12:17:18.331Z"
   },
   {
    "duration": 0,
    "start_time": "2023-10-22T12:17:18.332Z"
   },
   {
    "duration": 0,
    "start_time": "2023-10-22T12:17:18.334Z"
   },
   {
    "duration": 0,
    "start_time": "2023-10-22T12:17:18.335Z"
   },
   {
    "duration": 0,
    "start_time": "2023-10-22T12:17:18.336Z"
   },
   {
    "duration": 49,
    "start_time": "2023-10-22T12:17:37.430Z"
   },
   {
    "duration": 414,
    "start_time": "2023-10-22T12:17:50.993Z"
   },
   {
    "duration": 48,
    "start_time": "2023-10-22T12:17:51.410Z"
   },
   {
    "duration": 14,
    "start_time": "2023-10-22T12:17:51.460Z"
   },
   {
    "duration": 787,
    "start_time": "2023-10-22T12:17:51.476Z"
   },
   {
    "duration": 80,
    "start_time": "2023-10-22T12:17:52.266Z"
   },
   {
    "duration": 6,
    "start_time": "2023-10-22T12:17:52.348Z"
   },
   {
    "duration": 26,
    "start_time": "2023-10-22T12:17:52.356Z"
   },
   {
    "duration": 21,
    "start_time": "2023-10-22T12:17:52.384Z"
   },
   {
    "duration": 26,
    "start_time": "2023-10-22T12:17:52.406Z"
   },
   {
    "duration": 42,
    "start_time": "2023-10-22T12:17:52.434Z"
   },
   {
    "duration": 58,
    "start_time": "2023-10-22T12:17:52.478Z"
   },
   {
    "duration": 145,
    "start_time": "2023-10-22T12:17:52.539Z"
   },
   {
    "duration": 290,
    "start_time": "2023-10-22T12:17:52.686Z"
   },
   {
    "duration": 200,
    "start_time": "2023-10-22T12:17:52.980Z"
   },
   {
    "duration": 261,
    "start_time": "2023-10-22T12:17:53.181Z"
   },
   {
    "duration": 217,
    "start_time": "2023-10-22T12:17:53.444Z"
   },
   {
    "duration": 315,
    "start_time": "2023-10-22T12:17:53.664Z"
   },
   {
    "duration": 170,
    "start_time": "2023-10-22T12:17:53.981Z"
   },
   {
    "duration": 7,
    "start_time": "2023-10-22T12:17:54.157Z"
   },
   {
    "duration": 173,
    "start_time": "2023-10-22T12:17:54.166Z"
   },
   {
    "duration": 17,
    "start_time": "2023-10-22T12:17:54.341Z"
   },
   {
    "duration": 39,
    "start_time": "2023-10-22T12:17:54.360Z"
   },
   {
    "duration": 17,
    "start_time": "2023-10-22T12:17:54.400Z"
   },
   {
    "duration": 26,
    "start_time": "2023-10-22T12:17:54.419Z"
   },
   {
    "duration": 21,
    "start_time": "2023-10-22T12:17:54.456Z"
   },
   {
    "duration": 26,
    "start_time": "2023-10-22T12:17:54.480Z"
   },
   {
    "duration": 27,
    "start_time": "2023-10-22T12:17:54.507Z"
   },
   {
    "duration": 13,
    "start_time": "2023-10-22T12:18:22.997Z"
   },
   {
    "duration": 8,
    "start_time": "2023-10-22T12:18:27.083Z"
   },
   {
    "duration": 12,
    "start_time": "2023-10-22T12:18:28.407Z"
   },
   {
    "duration": 426,
    "start_time": "2023-10-22T12:18:37.686Z"
   },
   {
    "duration": 46,
    "start_time": "2023-10-22T12:18:38.115Z"
   },
   {
    "duration": 14,
    "start_time": "2023-10-22T12:18:38.163Z"
   },
   {
    "duration": 891,
    "start_time": "2023-10-22T12:18:38.179Z"
   },
   {
    "duration": 94,
    "start_time": "2023-10-22T12:18:39.073Z"
   },
   {
    "duration": 7,
    "start_time": "2023-10-22T12:18:39.169Z"
   },
   {
    "duration": 14,
    "start_time": "2023-10-22T12:18:39.178Z"
   },
   {
    "duration": 29,
    "start_time": "2023-10-22T12:18:39.194Z"
   },
   {
    "duration": 24,
    "start_time": "2023-10-22T12:18:39.225Z"
   },
   {
    "duration": 17,
    "start_time": "2023-10-22T12:18:39.251Z"
   },
   {
    "duration": 19,
    "start_time": "2023-10-22T12:18:39.270Z"
   },
   {
    "duration": 236,
    "start_time": "2023-10-22T12:18:39.291Z"
   },
   {
    "duration": 335,
    "start_time": "2023-10-22T12:18:39.530Z"
   },
   {
    "duration": 255,
    "start_time": "2023-10-22T12:18:39.869Z"
   },
   {
    "duration": 367,
    "start_time": "2023-10-22T12:18:40.126Z"
   },
   {
    "duration": 284,
    "start_time": "2023-10-22T12:18:40.495Z"
   },
   {
    "duration": 383,
    "start_time": "2023-10-22T12:18:40.781Z"
   },
   {
    "duration": 183,
    "start_time": "2023-10-22T12:18:41.166Z"
   },
   {
    "duration": 8,
    "start_time": "2023-10-22T12:18:41.351Z"
   },
   {
    "duration": 191,
    "start_time": "2023-10-22T12:18:41.360Z"
   },
   {
    "duration": 6,
    "start_time": "2023-10-22T12:18:41.557Z"
   },
   {
    "duration": 216,
    "start_time": "2023-10-22T12:18:41.564Z"
   },
   {
    "duration": 18,
    "start_time": "2023-10-22T12:18:41.783Z"
   },
   {
    "duration": 23,
    "start_time": "2023-10-22T12:18:41.803Z"
   },
   {
    "duration": 36,
    "start_time": "2023-10-22T12:18:41.828Z"
   },
   {
    "duration": 63,
    "start_time": "2023-10-22T12:18:41.866Z"
   },
   {
    "duration": 52,
    "start_time": "2023-10-22T12:18:41.931Z"
   },
   {
    "duration": 159,
    "start_time": "2023-10-22T12:19:20.963Z"
   },
   {
    "duration": 149,
    "start_time": "2023-10-22T12:19:25.962Z"
   },
   {
    "duration": 1808,
    "start_time": "2023-10-22T12:19:34.117Z"
   },
   {
    "duration": 42,
    "start_time": "2023-10-22T12:19:41.719Z"
   },
   {
    "duration": 22,
    "start_time": "2023-10-22T12:19:46.863Z"
   },
   {
    "duration": 26,
    "start_time": "2023-10-22T12:19:59.558Z"
   },
   {
    "duration": 455,
    "start_time": "2023-10-22T12:20:07.159Z"
   },
   {
    "duration": 47,
    "start_time": "2023-10-22T12:20:07.617Z"
   },
   {
    "duration": 21,
    "start_time": "2023-10-22T12:20:07.667Z"
   },
   {
    "duration": 857,
    "start_time": "2023-10-22T12:20:07.690Z"
   },
   {
    "duration": 81,
    "start_time": "2023-10-22T12:20:08.550Z"
   },
   {
    "duration": 8,
    "start_time": "2023-10-22T12:20:08.632Z"
   },
   {
    "duration": 30,
    "start_time": "2023-10-22T12:20:08.642Z"
   },
   {
    "duration": 46,
    "start_time": "2023-10-22T12:20:08.674Z"
   },
   {
    "duration": 14,
    "start_time": "2023-10-22T12:20:08.722Z"
   },
   {
    "duration": 20,
    "start_time": "2023-10-22T12:20:08.738Z"
   },
   {
    "duration": 64,
    "start_time": "2023-10-22T12:20:08.760Z"
   },
   {
    "duration": 332,
    "start_time": "2023-10-22T12:20:08.827Z"
   },
   {
    "duration": 328,
    "start_time": "2023-10-22T12:20:09.162Z"
   },
   {
    "duration": 251,
    "start_time": "2023-10-22T12:20:09.493Z"
   },
   {
    "duration": 363,
    "start_time": "2023-10-22T12:20:09.746Z"
   },
   {
    "duration": 263,
    "start_time": "2023-10-22T12:20:10.111Z"
   },
   {
    "duration": 345,
    "start_time": "2023-10-22T12:20:10.376Z"
   },
   {
    "duration": 219,
    "start_time": "2023-10-22T12:20:10.723Z"
   },
   {
    "duration": 14,
    "start_time": "2023-10-22T12:20:10.944Z"
   },
   {
    "duration": 187,
    "start_time": "2023-10-22T12:20:10.960Z"
   },
   {
    "duration": 10,
    "start_time": "2023-10-22T12:20:11.148Z"
   },
   {
    "duration": 201,
    "start_time": "2023-10-22T12:20:11.161Z"
   },
   {
    "duration": 15,
    "start_time": "2023-10-22T12:20:11.364Z"
   },
   {
    "duration": 10,
    "start_time": "2023-10-22T12:20:11.381Z"
   },
   {
    "duration": 22,
    "start_time": "2023-10-22T12:20:11.393Z"
   },
   {
    "duration": 52,
    "start_time": "2023-10-22T12:20:11.418Z"
   },
   {
    "duration": 19,
    "start_time": "2023-10-22T12:20:11.472Z"
   },
   {
    "duration": 15,
    "start_time": "2023-10-22T12:24:15.380Z"
   },
   {
    "duration": 146,
    "start_time": "2023-10-22T12:24:33.712Z"
   },
   {
    "duration": 1442,
    "start_time": "2023-10-22T12:26:10.290Z"
   },
   {
    "duration": 244,
    "start_time": "2023-10-22T12:26:21.083Z"
   },
   {
    "duration": 16,
    "start_time": "2023-10-22T12:28:52.773Z"
   },
   {
    "duration": 35,
    "start_time": "2023-10-22T12:29:12.294Z"
   },
   {
    "duration": 185,
    "start_time": "2023-10-22T12:29:36.613Z"
   },
   {
    "duration": 183,
    "start_time": "2023-10-22T12:29:53.762Z"
   },
   {
    "duration": 180,
    "start_time": "2023-10-22T12:29:57.832Z"
   },
   {
    "duration": 16,
    "start_time": "2023-10-22T12:31:22.710Z"
   },
   {
    "duration": 208,
    "start_time": "2023-10-22T12:31:51.131Z"
   },
   {
    "duration": 222,
    "start_time": "2023-10-22T12:32:21.173Z"
   },
   {
    "duration": 209,
    "start_time": "2023-10-22T12:32:30.771Z"
   },
   {
    "duration": 246,
    "start_time": "2023-10-22T12:32:42.879Z"
   },
   {
    "duration": 258,
    "start_time": "2023-10-22T12:34:06.829Z"
   },
   {
    "duration": 255,
    "start_time": "2023-10-22T12:34:12.835Z"
   },
   {
    "duration": 225,
    "start_time": "2023-10-22T12:34:48.319Z"
   },
   {
    "duration": 249,
    "start_time": "2023-10-22T14:13:15.379Z"
   },
   {
    "duration": 227,
    "start_time": "2023-10-22T14:19:40.149Z"
   },
   {
    "duration": 232,
    "start_time": "2023-10-22T14:19:50.481Z"
   },
   {
    "duration": 311,
    "start_time": "2023-10-22T14:20:09.513Z"
   },
   {
    "duration": 65,
    "start_time": "2023-10-24T08:56:05.314Z"
   },
   {
    "duration": 455,
    "start_time": "2023-10-24T08:56:12.723Z"
   },
   {
    "duration": 85,
    "start_time": "2023-10-24T08:56:13.181Z"
   },
   {
    "duration": 19,
    "start_time": "2023-10-24T08:56:13.268Z"
   },
   {
    "duration": 1061,
    "start_time": "2023-10-24T08:56:13.291Z"
   },
   {
    "duration": 164,
    "start_time": "2023-10-24T08:56:14.354Z"
   },
   {
    "duration": 7,
    "start_time": "2023-10-24T08:56:14.520Z"
   },
   {
    "duration": 10,
    "start_time": "2023-10-24T08:56:14.529Z"
   },
   {
    "duration": 10,
    "start_time": "2023-10-24T08:56:14.541Z"
   },
   {
    "duration": 4,
    "start_time": "2023-10-24T08:56:14.553Z"
   },
   {
    "duration": 5,
    "start_time": "2023-10-24T08:56:14.562Z"
   },
   {
    "duration": 24,
    "start_time": "2023-10-24T08:56:14.569Z"
   },
   {
    "duration": 355,
    "start_time": "2023-10-24T08:56:14.594Z"
   },
   {
    "duration": 269,
    "start_time": "2023-10-24T08:56:14.951Z"
   },
   {
    "duration": 330,
    "start_time": "2023-10-24T08:56:15.223Z"
   },
   {
    "duration": 239,
    "start_time": "2023-10-24T08:56:15.555Z"
   },
   {
    "duration": 378,
    "start_time": "2023-10-24T08:56:15.796Z"
   },
   {
    "duration": 243,
    "start_time": "2023-10-24T08:56:16.176Z"
   },
   {
    "duration": 389,
    "start_time": "2023-10-24T08:56:16.421Z"
   },
   {
    "duration": 181,
    "start_time": "2023-10-24T08:56:16.813Z"
   },
   {
    "duration": 7,
    "start_time": "2023-10-24T08:56:16.996Z"
   },
   {
    "duration": 252,
    "start_time": "2023-10-24T08:56:17.004Z"
   },
   {
    "duration": 6,
    "start_time": "2023-10-24T08:56:17.257Z"
   },
   {
    "duration": 230,
    "start_time": "2023-10-24T08:56:17.265Z"
   },
   {
    "duration": 14,
    "start_time": "2023-10-24T08:56:17.496Z"
   },
   {
    "duration": 17,
    "start_time": "2023-10-24T08:56:17.512Z"
   },
   {
    "duration": 12,
    "start_time": "2023-10-24T08:56:17.546Z"
   },
   {
    "duration": 53,
    "start_time": "2023-10-24T08:56:17.560Z"
   },
   {
    "duration": 37,
    "start_time": "2023-10-24T08:56:17.617Z"
   },
   {
    "duration": 36,
    "start_time": "2023-10-24T09:02:32.363Z"
   },
   {
    "duration": 1537,
    "start_time": "2023-10-24T09:03:08.958Z"
   },
   {
    "duration": 42,
    "start_time": "2023-10-24T09:04:37.546Z"
   },
   {
    "duration": 4,
    "start_time": "2023-10-24T09:05:20.957Z"
   },
   {
    "duration": 445,
    "start_time": "2023-10-24T09:05:28.025Z"
   },
   {
    "duration": 110,
    "start_time": "2023-10-24T09:05:28.473Z"
   },
   {
    "duration": 0,
    "start_time": "2023-10-24T09:05:28.586Z"
   },
   {
    "duration": 0,
    "start_time": "2023-10-24T09:05:28.587Z"
   },
   {
    "duration": 0,
    "start_time": "2023-10-24T09:05:28.588Z"
   },
   {
    "duration": 0,
    "start_time": "2023-10-24T09:05:28.591Z"
   },
   {
    "duration": 0,
    "start_time": "2023-10-24T09:05:28.592Z"
   },
   {
    "duration": 0,
    "start_time": "2023-10-24T09:05:28.594Z"
   },
   {
    "duration": 0,
    "start_time": "2023-10-24T09:05:28.595Z"
   },
   {
    "duration": 0,
    "start_time": "2023-10-24T09:05:28.597Z"
   },
   {
    "duration": 0,
    "start_time": "2023-10-24T09:05:28.599Z"
   },
   {
    "duration": 0,
    "start_time": "2023-10-24T09:05:28.600Z"
   },
   {
    "duration": 0,
    "start_time": "2023-10-24T09:05:28.602Z"
   },
   {
    "duration": 0,
    "start_time": "2023-10-24T09:05:28.603Z"
   },
   {
    "duration": 0,
    "start_time": "2023-10-24T09:05:28.605Z"
   },
   {
    "duration": 0,
    "start_time": "2023-10-24T09:05:28.608Z"
   },
   {
    "duration": 0,
    "start_time": "2023-10-24T09:05:28.609Z"
   },
   {
    "duration": 0,
    "start_time": "2023-10-24T09:05:28.611Z"
   },
   {
    "duration": 0,
    "start_time": "2023-10-24T09:05:28.612Z"
   },
   {
    "duration": 0,
    "start_time": "2023-10-24T09:05:28.613Z"
   },
   {
    "duration": 0,
    "start_time": "2023-10-24T09:05:28.613Z"
   },
   {
    "duration": 0,
    "start_time": "2023-10-24T09:05:28.614Z"
   },
   {
    "duration": 0,
    "start_time": "2023-10-24T09:05:28.615Z"
   },
   {
    "duration": 0,
    "start_time": "2023-10-24T09:05:28.647Z"
   },
   {
    "duration": 0,
    "start_time": "2023-10-24T09:05:28.649Z"
   },
   {
    "duration": 0,
    "start_time": "2023-10-24T09:05:28.650Z"
   },
   {
    "duration": 0,
    "start_time": "2023-10-24T09:05:28.651Z"
   },
   {
    "duration": 0,
    "start_time": "2023-10-24T09:05:28.652Z"
   },
   {
    "duration": 38,
    "start_time": "2023-10-24T09:06:09.578Z"
   },
   {
    "duration": 34,
    "start_time": "2023-10-24T09:08:17.385Z"
   },
   {
    "duration": 36,
    "start_time": "2023-10-24T09:08:28.770Z"
   },
   {
    "duration": 45,
    "start_time": "2023-10-24T09:08:33.116Z"
   },
   {
    "duration": 53,
    "start_time": "2023-10-24T09:08:50.430Z"
   },
   {
    "duration": 451,
    "start_time": "2023-10-24T09:09:29.669Z"
   },
   {
    "duration": 73,
    "start_time": "2023-10-24T09:09:30.123Z"
   },
   {
    "duration": 14,
    "start_time": "2023-10-24T09:09:30.209Z"
   },
   {
    "duration": 861,
    "start_time": "2023-10-24T09:09:30.225Z"
   },
   {
    "duration": 96,
    "start_time": "2023-10-24T09:09:31.088Z"
   },
   {
    "duration": 28,
    "start_time": "2023-10-24T09:09:31.186Z"
   },
   {
    "duration": 56,
    "start_time": "2023-10-24T09:09:31.216Z"
   },
   {
    "duration": 31,
    "start_time": "2023-10-24T09:09:31.273Z"
   },
   {
    "duration": 35,
    "start_time": "2023-10-24T09:09:31.306Z"
   },
   {
    "duration": 45,
    "start_time": "2023-10-24T09:09:31.342Z"
   },
   {
    "duration": 62,
    "start_time": "2023-10-24T09:09:31.390Z"
   },
   {
    "duration": 401,
    "start_time": "2023-10-24T09:09:31.456Z"
   },
   {
    "duration": 326,
    "start_time": "2023-10-24T09:09:31.861Z"
   },
   {
    "duration": 342,
    "start_time": "2023-10-24T09:09:32.190Z"
   },
   {
    "duration": 257,
    "start_time": "2023-10-24T09:09:32.533Z"
   },
   {
    "duration": 322,
    "start_time": "2023-10-24T09:09:32.793Z"
   },
   {
    "duration": 293,
    "start_time": "2023-10-24T09:09:33.117Z"
   },
   {
    "duration": 404,
    "start_time": "2023-10-24T09:09:33.412Z"
   },
   {
    "duration": 205,
    "start_time": "2023-10-24T09:09:33.818Z"
   },
   {
    "duration": 6,
    "start_time": "2023-10-24T09:09:34.025Z"
   },
   {
    "duration": 220,
    "start_time": "2023-10-24T09:09:34.033Z"
   },
   {
    "duration": 10,
    "start_time": "2023-10-24T09:09:34.256Z"
   },
   {
    "duration": 318,
    "start_time": "2023-10-24T09:09:34.267Z"
   },
   {
    "duration": 15,
    "start_time": "2023-10-24T09:09:34.587Z"
   },
   {
    "duration": 24,
    "start_time": "2023-10-24T09:09:34.604Z"
   },
   {
    "duration": 61,
    "start_time": "2023-10-24T09:09:34.630Z"
   },
   {
    "duration": 86,
    "start_time": "2023-10-24T09:09:34.693Z"
   },
   {
    "duration": 21,
    "start_time": "2023-10-24T09:09:34.782Z"
   },
   {
    "duration": 324,
    "start_time": "2023-10-24T09:14:58.844Z"
   },
   {
    "duration": 393,
    "start_time": "2023-10-24T09:15:41.620Z"
   },
   {
    "duration": 368,
    "start_time": "2023-10-24T09:16:04.341Z"
   },
   {
    "duration": 354,
    "start_time": "2023-10-24T09:16:38.720Z"
   },
   {
    "duration": 428,
    "start_time": "2023-10-24T09:17:11.563Z"
   },
   {
    "duration": 253,
    "start_time": "2023-10-24T09:17:47.335Z"
   },
   {
    "duration": 270,
    "start_time": "2023-10-24T09:18:08.642Z"
   },
   {
    "duration": 245,
    "start_time": "2023-10-24T09:18:45.762Z"
   },
   {
    "duration": 204,
    "start_time": "2023-10-24T09:19:52.704Z"
   },
   {
    "duration": 188,
    "start_time": "2023-10-24T09:24:21.085Z"
   },
   {
    "duration": 187,
    "start_time": "2023-10-24T09:25:12.002Z"
   },
   {
    "duration": 268,
    "start_time": "2023-10-24T09:25:21.435Z"
   },
   {
    "duration": 181,
    "start_time": "2023-10-24T09:25:26.999Z"
   },
   {
    "duration": 191,
    "start_time": "2023-10-24T09:26:00.974Z"
   },
   {
    "duration": 215,
    "start_time": "2023-10-24T09:26:24.876Z"
   },
   {
    "duration": 190,
    "start_time": "2023-10-24T09:31:28.022Z"
   },
   {
    "duration": 224,
    "start_time": "2023-10-24T09:32:25.394Z"
   },
   {
    "duration": 190,
    "start_time": "2023-10-24T09:32:36.408Z"
   },
   {
    "duration": 17,
    "start_time": "2023-10-24T09:33:20.091Z"
   },
   {
    "duration": 116,
    "start_time": "2023-10-24T09:35:40.719Z"
   },
   {
    "duration": 12,
    "start_time": "2023-10-24T09:36:25.100Z"
   },
   {
    "duration": 382,
    "start_time": "2023-10-24T15:04:39.866Z"
   },
   {
    "duration": 80,
    "start_time": "2023-10-24T15:04:40.250Z"
   },
   {
    "duration": 14,
    "start_time": "2023-10-24T15:04:40.331Z"
   },
   {
    "duration": 718,
    "start_time": "2023-10-24T15:04:40.346Z"
   },
   {
    "duration": 158,
    "start_time": "2023-10-24T15:04:41.065Z"
   },
   {
    "duration": 6,
    "start_time": "2023-10-24T15:04:41.225Z"
   },
   {
    "duration": 17,
    "start_time": "2023-10-24T15:04:41.232Z"
   },
   {
    "duration": 34,
    "start_time": "2023-10-24T15:04:41.250Z"
   },
   {
    "duration": 33,
    "start_time": "2023-10-24T15:04:41.285Z"
   },
   {
    "duration": 10,
    "start_time": "2023-10-24T15:04:41.321Z"
   },
   {
    "duration": 35,
    "start_time": "2023-10-24T15:04:41.332Z"
   },
   {
    "duration": 284,
    "start_time": "2023-10-24T15:04:41.369Z"
   },
   {
    "duration": 216,
    "start_time": "2023-10-24T15:04:41.655Z"
   },
   {
    "duration": 222,
    "start_time": "2023-10-24T15:04:41.873Z"
   },
   {
    "duration": 232,
    "start_time": "2023-10-24T15:04:42.097Z"
   },
   {
    "duration": 287,
    "start_time": "2023-10-24T15:04:42.331Z"
   },
   {
    "duration": 226,
    "start_time": "2023-10-24T15:04:42.620Z"
   },
   {
    "duration": 332,
    "start_time": "2023-10-24T15:04:42.848Z"
   },
   {
    "duration": 176,
    "start_time": "2023-10-24T15:04:43.183Z"
   },
   {
    "duration": 4,
    "start_time": "2023-10-24T15:04:43.361Z"
   },
   {
    "duration": 199,
    "start_time": "2023-10-24T15:04:43.367Z"
   },
   {
    "duration": 233,
    "start_time": "2023-10-24T15:04:43.568Z"
   },
   {
    "duration": 5,
    "start_time": "2023-10-24T15:04:43.806Z"
   },
   {
    "duration": 158,
    "start_time": "2023-10-24T15:04:43.812Z"
   },
   {
    "duration": 13,
    "start_time": "2023-10-24T15:04:43.972Z"
   },
   {
    "duration": 35,
    "start_time": "2023-10-24T15:04:43.986Z"
   },
   {
    "duration": 15,
    "start_time": "2023-10-24T15:04:44.022Z"
   },
   {
    "duration": 35,
    "start_time": "2023-10-24T15:04:44.041Z"
   },
   {
    "duration": 15,
    "start_time": "2023-10-24T15:04:44.078Z"
   },
   {
    "duration": 385,
    "start_time": "2024-03-21T11:29:17.301Z"
   },
   {
    "duration": 76,
    "start_time": "2024-03-21T11:29:17.688Z"
   },
   {
    "duration": 35,
    "start_time": "2024-03-21T11:30:22.770Z"
   },
   {
    "duration": 69,
    "start_time": "2024-03-21T11:53:17.605Z"
   },
   {
    "duration": 397,
    "start_time": "2024-03-21T11:53:24.114Z"
   },
   {
    "duration": 44,
    "start_time": "2024-03-21T11:53:24.513Z"
   },
   {
    "duration": 12,
    "start_time": "2024-03-21T11:53:24.559Z"
   },
   {
    "duration": 953,
    "start_time": "2024-03-21T11:53:24.573Z"
   },
   {
    "duration": 176,
    "start_time": "2024-03-21T11:53:25.528Z"
   },
   {
    "duration": 7,
    "start_time": "2024-03-21T11:53:25.705Z"
   },
   {
    "duration": 14,
    "start_time": "2024-03-21T11:53:25.714Z"
   },
   {
    "duration": 9,
    "start_time": "2024-03-21T11:53:25.730Z"
   },
   {
    "duration": 6,
    "start_time": "2024-03-21T11:53:25.741Z"
   },
   {
    "duration": 7,
    "start_time": "2024-03-21T11:53:25.750Z"
   },
   {
    "duration": 27,
    "start_time": "2024-03-21T11:53:25.783Z"
   },
   {
    "duration": 348,
    "start_time": "2024-03-21T11:53:25.812Z"
   },
   {
    "duration": 232,
    "start_time": "2024-03-21T11:53:26.162Z"
   },
   {
    "duration": 236,
    "start_time": "2024-03-21T11:53:26.395Z"
   },
   {
    "duration": 247,
    "start_time": "2024-03-21T11:53:26.632Z"
   },
   {
    "duration": 357,
    "start_time": "2024-03-21T11:53:26.882Z"
   },
   {
    "duration": 248,
    "start_time": "2024-03-21T11:53:27.241Z"
   },
   {
    "duration": 349,
    "start_time": "2024-03-21T11:53:27.490Z"
   },
   {
    "duration": 188,
    "start_time": "2024-03-21T11:53:27.841Z"
   },
   {
    "duration": 5,
    "start_time": "2024-03-21T11:53:28.031Z"
   },
   {
    "duration": 286,
    "start_time": "2024-03-21T11:53:28.037Z"
   },
   {
    "duration": 191,
    "start_time": "2024-03-21T11:53:28.325Z"
   },
   {
    "duration": 5,
    "start_time": "2024-03-21T11:53:28.518Z"
   },
   {
    "duration": 162,
    "start_time": "2024-03-21T11:53:28.525Z"
   },
   {
    "duration": 13,
    "start_time": "2024-03-21T11:53:28.688Z"
   },
   {
    "duration": 10,
    "start_time": "2024-03-21T11:53:28.702Z"
   },
   {
    "duration": 8,
    "start_time": "2024-03-21T11:53:28.713Z"
   },
   {
    "duration": 29,
    "start_time": "2024-03-21T11:53:28.724Z"
   },
   {
    "duration": 16,
    "start_time": "2024-03-21T11:53:28.782Z"
   },
   {
    "duration": 19,
    "start_time": "2024-03-21T11:55:05.279Z"
   }
  ],
  "kernelspec": {
   "display_name": "Python 3 (ipykernel)",
   "language": "python",
   "name": "python3"
  },
  "language_info": {
   "codemirror_mode": {
    "name": "ipython",
    "version": 3
   },
   "file_extension": ".py",
   "mimetype": "text/x-python",
   "name": "python",
   "nbconvert_exporter": "python",
   "pygments_lexer": "ipython3",
   "version": "3.9.5"
  },
  "toc": {
   "base_numbering": 1,
   "nav_menu": {},
   "number_sections": true,
   "sideBar": true,
   "skip_h1_title": true,
   "title_cell": "Table of Contents",
   "title_sidebar": "Contents",
   "toc_cell": false,
   "toc_position": {},
   "toc_section_display": true,
   "toc_window_display": false
  }
 },
 "nbformat": 4,
 "nbformat_minor": 2
}
