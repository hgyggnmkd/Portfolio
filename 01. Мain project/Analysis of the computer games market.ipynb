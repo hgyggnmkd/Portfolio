{
 "cells": [
  {
   "cell_type": "markdown",
   "metadata": {},
   "source": [
    "# Анализ рынка компьютерных игр"
   ]
  },
  {
   "cell_type": "markdown",
   "metadata": {},
   "source": [
    "# Описание проекта\n",
    "Проект представляет собой работу в интернет-магазине «Стримчик», который продаёт по всему миру компьютерные игры. Из открытых источников доступны исторические данные о продажах игр, оценки пользователей и экспертов, жанры и платформы (например, Xbox или PlayStation). Мне нужно выявить определяющие успешность игры закономерности. Это позволит сделать ставку на потенциально популярный продукт и спланировать рекламные кампании.\n",
    "\n",
    "\n",
    "Перед вами данные до 2016 года. Представим, что сейчас декабрь 2016 г., и вы планируете кампанию на 2017-й. Нужно отработать принцип работы с данными.\n",
    "\n",
    "\n",
    "В наборе данных попадается аббревиатура ESRB (Entertainment Software Rating Board) — это ассоциация, определяющая возрастной рейтинг компьютерных игр. ESRB оценивает игровой контент и присваивает ему подходящую возрастную категорию, например, «Для взрослых», «Для детей младшего возраста» или «Для подростков».\n"
   ]
  },
  {
   "cell_type": "markdown",
   "metadata": {},
   "source": [
    "## Общая информация о данных"
   ]
  },
  {
   "cell_type": "code",
   "execution_count": 1,
   "metadata": {},
   "outputs": [],
   "source": [
    "import pandas as pd\n",
    "import matplotlib.pyplot as plt\n",
    "import seaborn as sns\n",
    "import numpy as np\n",
    "from scipy import stats as st\n",
    "import warnings\n",
    "warnings.filterwarnings(\"ignore\")"
   ]
  },
  {
   "cell_type": "code",
   "execution_count": 2,
   "metadata": {},
   "outputs": [
    {
     "data": {
      "text/html": [
       "<div>\n",
       "<style scoped>\n",
       "    .dataframe tbody tr th:only-of-type {\n",
       "        vertical-align: middle;\n",
       "    }\n",
       "\n",
       "    .dataframe tbody tr th {\n",
       "        vertical-align: top;\n",
       "    }\n",
       "\n",
       "    .dataframe thead th {\n",
       "        text-align: right;\n",
       "    }\n",
       "</style>\n",
       "<table border=\"1\" class=\"dataframe\">\n",
       "  <thead>\n",
       "    <tr style=\"text-align: right;\">\n",
       "      <th></th>\n",
       "      <th>Name</th>\n",
       "      <th>Platform</th>\n",
       "      <th>Year_of_Release</th>\n",
       "      <th>Genre</th>\n",
       "      <th>NA_sales</th>\n",
       "      <th>EU_sales</th>\n",
       "      <th>JP_sales</th>\n",
       "      <th>Other_sales</th>\n",
       "      <th>Critic_Score</th>\n",
       "      <th>User_Score</th>\n",
       "      <th>Rating</th>\n",
       "    </tr>\n",
       "  </thead>\n",
       "  <tbody>\n",
       "    <tr>\n",
       "      <th>0</th>\n",
       "      <td>Wii Sports</td>\n",
       "      <td>Wii</td>\n",
       "      <td>2006.0</td>\n",
       "      <td>Sports</td>\n",
       "      <td>41.36</td>\n",
       "      <td>28.96</td>\n",
       "      <td>3.77</td>\n",
       "      <td>8.45</td>\n",
       "      <td>76.0</td>\n",
       "      <td>8</td>\n",
       "      <td>E</td>\n",
       "    </tr>\n",
       "    <tr>\n",
       "      <th>1</th>\n",
       "      <td>Super Mario Bros.</td>\n",
       "      <td>NES</td>\n",
       "      <td>1985.0</td>\n",
       "      <td>Platform</td>\n",
       "      <td>29.08</td>\n",
       "      <td>3.58</td>\n",
       "      <td>6.81</td>\n",
       "      <td>0.77</td>\n",
       "      <td>NaN</td>\n",
       "      <td>NaN</td>\n",
       "      <td>NaN</td>\n",
       "    </tr>\n",
       "    <tr>\n",
       "      <th>2</th>\n",
       "      <td>Mario Kart Wii</td>\n",
       "      <td>Wii</td>\n",
       "      <td>2008.0</td>\n",
       "      <td>Racing</td>\n",
       "      <td>15.68</td>\n",
       "      <td>12.76</td>\n",
       "      <td>3.79</td>\n",
       "      <td>3.29</td>\n",
       "      <td>82.0</td>\n",
       "      <td>8.3</td>\n",
       "      <td>E</td>\n",
       "    </tr>\n",
       "    <tr>\n",
       "      <th>3</th>\n",
       "      <td>Wii Sports Resort</td>\n",
       "      <td>Wii</td>\n",
       "      <td>2009.0</td>\n",
       "      <td>Sports</td>\n",
       "      <td>15.61</td>\n",
       "      <td>10.93</td>\n",
       "      <td>3.28</td>\n",
       "      <td>2.95</td>\n",
       "      <td>80.0</td>\n",
       "      <td>8</td>\n",
       "      <td>E</td>\n",
       "    </tr>\n",
       "    <tr>\n",
       "      <th>4</th>\n",
       "      <td>Pokemon Red/Pokemon Blue</td>\n",
       "      <td>GB</td>\n",
       "      <td>1996.0</td>\n",
       "      <td>Role-Playing</td>\n",
       "      <td>11.27</td>\n",
       "      <td>8.89</td>\n",
       "      <td>10.22</td>\n",
       "      <td>1.00</td>\n",
       "      <td>NaN</td>\n",
       "      <td>NaN</td>\n",
       "      <td>NaN</td>\n",
       "    </tr>\n",
       "    <tr>\n",
       "      <th>5</th>\n",
       "      <td>Tetris</td>\n",
       "      <td>GB</td>\n",
       "      <td>1989.0</td>\n",
       "      <td>Puzzle</td>\n",
       "      <td>23.20</td>\n",
       "      <td>2.26</td>\n",
       "      <td>4.22</td>\n",
       "      <td>0.58</td>\n",
       "      <td>NaN</td>\n",
       "      <td>NaN</td>\n",
       "      <td>NaN</td>\n",
       "    </tr>\n",
       "    <tr>\n",
       "      <th>6</th>\n",
       "      <td>New Super Mario Bros.</td>\n",
       "      <td>DS</td>\n",
       "      <td>2006.0</td>\n",
       "      <td>Platform</td>\n",
       "      <td>11.28</td>\n",
       "      <td>9.14</td>\n",
       "      <td>6.50</td>\n",
       "      <td>2.88</td>\n",
       "      <td>89.0</td>\n",
       "      <td>8.5</td>\n",
       "      <td>E</td>\n",
       "    </tr>\n",
       "    <tr>\n",
       "      <th>7</th>\n",
       "      <td>Wii Play</td>\n",
       "      <td>Wii</td>\n",
       "      <td>2006.0</td>\n",
       "      <td>Misc</td>\n",
       "      <td>13.96</td>\n",
       "      <td>9.18</td>\n",
       "      <td>2.93</td>\n",
       "      <td>2.84</td>\n",
       "      <td>58.0</td>\n",
       "      <td>6.6</td>\n",
       "      <td>E</td>\n",
       "    </tr>\n",
       "    <tr>\n",
       "      <th>8</th>\n",
       "      <td>New Super Mario Bros. Wii</td>\n",
       "      <td>Wii</td>\n",
       "      <td>2009.0</td>\n",
       "      <td>Platform</td>\n",
       "      <td>14.44</td>\n",
       "      <td>6.94</td>\n",
       "      <td>4.70</td>\n",
       "      <td>2.24</td>\n",
       "      <td>87.0</td>\n",
       "      <td>8.4</td>\n",
       "      <td>E</td>\n",
       "    </tr>\n",
       "    <tr>\n",
       "      <th>9</th>\n",
       "      <td>Duck Hunt</td>\n",
       "      <td>NES</td>\n",
       "      <td>1984.0</td>\n",
       "      <td>Shooter</td>\n",
       "      <td>26.93</td>\n",
       "      <td>0.63</td>\n",
       "      <td>0.28</td>\n",
       "      <td>0.47</td>\n",
       "      <td>NaN</td>\n",
       "      <td>NaN</td>\n",
       "      <td>NaN</td>\n",
       "    </tr>\n",
       "  </tbody>\n",
       "</table>\n",
       "</div>"
      ],
      "text/plain": [
       "                        Name Platform  Year_of_Release         Genre  \\\n",
       "0                 Wii Sports      Wii           2006.0        Sports   \n",
       "1          Super Mario Bros.      NES           1985.0      Platform   \n",
       "2             Mario Kart Wii      Wii           2008.0        Racing   \n",
       "3          Wii Sports Resort      Wii           2009.0        Sports   \n",
       "4   Pokemon Red/Pokemon Blue       GB           1996.0  Role-Playing   \n",
       "5                     Tetris       GB           1989.0        Puzzle   \n",
       "6      New Super Mario Bros.       DS           2006.0      Platform   \n",
       "7                   Wii Play      Wii           2006.0          Misc   \n",
       "8  New Super Mario Bros. Wii      Wii           2009.0      Platform   \n",
       "9                  Duck Hunt      NES           1984.0       Shooter   \n",
       "\n",
       "   NA_sales  EU_sales  JP_sales  Other_sales  Critic_Score User_Score Rating  \n",
       "0     41.36     28.96      3.77         8.45          76.0          8      E  \n",
       "1     29.08      3.58      6.81         0.77           NaN        NaN    NaN  \n",
       "2     15.68     12.76      3.79         3.29          82.0        8.3      E  \n",
       "3     15.61     10.93      3.28         2.95          80.0          8      E  \n",
       "4     11.27      8.89     10.22         1.00           NaN        NaN    NaN  \n",
       "5     23.20      2.26      4.22         0.58           NaN        NaN    NaN  \n",
       "6     11.28      9.14      6.50         2.88          89.0        8.5      E  \n",
       "7     13.96      9.18      2.93         2.84          58.0        6.6      E  \n",
       "8     14.44      6.94      4.70         2.24          87.0        8.4      E  \n",
       "9     26.93      0.63      0.28         0.47           NaN        NaN    NaN  "
      ]
     },
     "execution_count": 2,
     "metadata": {},
     "output_type": "execute_result"
    }
   ],
   "source": [
    "data = pd.read_csv('/datasets/games.csv')\n",
    "data.head(10)"
   ]
  },
  {
   "cell_type": "code",
   "execution_count": 3,
   "metadata": {},
   "outputs": [
    {
     "name": "stdout",
     "output_type": "stream",
     "text": [
      "<class 'pandas.core.frame.DataFrame'>\n",
      "RangeIndex: 16715 entries, 0 to 16714\n",
      "Data columns (total 11 columns):\n",
      " #   Column           Non-Null Count  Dtype  \n",
      "---  ------           --------------  -----  \n",
      " 0   Name             16713 non-null  object \n",
      " 1   Platform         16715 non-null  object \n",
      " 2   Year_of_Release  16446 non-null  float64\n",
      " 3   Genre            16713 non-null  object \n",
      " 4   NA_sales         16715 non-null  float64\n",
      " 5   EU_sales         16715 non-null  float64\n",
      " 6   JP_sales         16715 non-null  float64\n",
      " 7   Other_sales      16715 non-null  float64\n",
      " 8   Critic_Score     8137 non-null   float64\n",
      " 9   User_Score       10014 non-null  object \n",
      " 10  Rating           9949 non-null   object \n",
      "dtypes: float64(6), object(5)\n",
      "memory usage: 1.4+ MB\n"
     ]
    }
   ],
   "source": [
    "data.info()"
   ]
  },
  {
   "cell_type": "code",
   "execution_count": 4,
   "metadata": {},
   "outputs": [
    {
     "data": {
      "text/html": [
       "<div>\n",
       "<style scoped>\n",
       "    .dataframe tbody tr th:only-of-type {\n",
       "        vertical-align: middle;\n",
       "    }\n",
       "\n",
       "    .dataframe tbody tr th {\n",
       "        vertical-align: top;\n",
       "    }\n",
       "\n",
       "    .dataframe thead th {\n",
       "        text-align: right;\n",
       "    }\n",
       "</style>\n",
       "<table border=\"1\" class=\"dataframe\">\n",
       "  <thead>\n",
       "    <tr style=\"text-align: right;\">\n",
       "      <th></th>\n",
       "      <th>Year_of_Release</th>\n",
       "      <th>NA_sales</th>\n",
       "      <th>EU_sales</th>\n",
       "      <th>JP_sales</th>\n",
       "      <th>Other_sales</th>\n",
       "      <th>Critic_Score</th>\n",
       "    </tr>\n",
       "  </thead>\n",
       "  <tbody>\n",
       "    <tr>\n",
       "      <th>count</th>\n",
       "      <td>16446.000000</td>\n",
       "      <td>16715.000000</td>\n",
       "      <td>16715.000000</td>\n",
       "      <td>16715.000000</td>\n",
       "      <td>16715.000000</td>\n",
       "      <td>8137.000000</td>\n",
       "    </tr>\n",
       "    <tr>\n",
       "      <th>mean</th>\n",
       "      <td>2006.484616</td>\n",
       "      <td>0.263377</td>\n",
       "      <td>0.145060</td>\n",
       "      <td>0.077617</td>\n",
       "      <td>0.047342</td>\n",
       "      <td>68.967679</td>\n",
       "    </tr>\n",
       "    <tr>\n",
       "      <th>std</th>\n",
       "      <td>5.877050</td>\n",
       "      <td>0.813604</td>\n",
       "      <td>0.503339</td>\n",
       "      <td>0.308853</td>\n",
       "      <td>0.186731</td>\n",
       "      <td>13.938165</td>\n",
       "    </tr>\n",
       "    <tr>\n",
       "      <th>min</th>\n",
       "      <td>1980.000000</td>\n",
       "      <td>0.000000</td>\n",
       "      <td>0.000000</td>\n",
       "      <td>0.000000</td>\n",
       "      <td>0.000000</td>\n",
       "      <td>13.000000</td>\n",
       "    </tr>\n",
       "    <tr>\n",
       "      <th>25%</th>\n",
       "      <td>2003.000000</td>\n",
       "      <td>0.000000</td>\n",
       "      <td>0.000000</td>\n",
       "      <td>0.000000</td>\n",
       "      <td>0.000000</td>\n",
       "      <td>60.000000</td>\n",
       "    </tr>\n",
       "    <tr>\n",
       "      <th>50%</th>\n",
       "      <td>2007.000000</td>\n",
       "      <td>0.080000</td>\n",
       "      <td>0.020000</td>\n",
       "      <td>0.000000</td>\n",
       "      <td>0.010000</td>\n",
       "      <td>71.000000</td>\n",
       "    </tr>\n",
       "    <tr>\n",
       "      <th>75%</th>\n",
       "      <td>2010.000000</td>\n",
       "      <td>0.240000</td>\n",
       "      <td>0.110000</td>\n",
       "      <td>0.040000</td>\n",
       "      <td>0.030000</td>\n",
       "      <td>79.000000</td>\n",
       "    </tr>\n",
       "    <tr>\n",
       "      <th>max</th>\n",
       "      <td>2016.000000</td>\n",
       "      <td>41.360000</td>\n",
       "      <td>28.960000</td>\n",
       "      <td>10.220000</td>\n",
       "      <td>10.570000</td>\n",
       "      <td>98.000000</td>\n",
       "    </tr>\n",
       "  </tbody>\n",
       "</table>\n",
       "</div>"
      ],
      "text/plain": [
       "       Year_of_Release      NA_sales      EU_sales      JP_sales  \\\n",
       "count     16446.000000  16715.000000  16715.000000  16715.000000   \n",
       "mean       2006.484616      0.263377      0.145060      0.077617   \n",
       "std           5.877050      0.813604      0.503339      0.308853   \n",
       "min        1980.000000      0.000000      0.000000      0.000000   \n",
       "25%        2003.000000      0.000000      0.000000      0.000000   \n",
       "50%        2007.000000      0.080000      0.020000      0.000000   \n",
       "75%        2010.000000      0.240000      0.110000      0.040000   \n",
       "max        2016.000000     41.360000     28.960000     10.220000   \n",
       "\n",
       "        Other_sales  Critic_Score  \n",
       "count  16715.000000   8137.000000  \n",
       "mean       0.047342     68.967679  \n",
       "std        0.186731     13.938165  \n",
       "min        0.000000     13.000000  \n",
       "25%        0.000000     60.000000  \n",
       "50%        0.010000     71.000000  \n",
       "75%        0.030000     79.000000  \n",
       "max       10.570000     98.000000  "
      ]
     },
     "execution_count": 4,
     "metadata": {},
     "output_type": "execute_result"
    }
   ],
   "source": [
    "data.describe()"
   ]
  },
  {
   "cell_type": "markdown",
   "metadata": {},
   "source": [
    "Открыла файл с данными и изучила общую информацию\n",
    "\n",
    "В в названиях столбцов буквы в разном регистре, это необходимо исправить. Также, в столбцах есть пропуски и неверно определенный тип в столбце `year_of_release` и `user_score`\n",
    "\n",
    "Перехожу к этапу предобработки для исправления недочетов"
   ]
  },
  {
   "cell_type": "markdown",
   "metadata": {},
   "source": [
    "## Предобработка данных"
   ]
  },
  {
   "cell_type": "markdown",
   "metadata": {},
   "source": [
    "### Меняю названия столбцов, привожу к нижнему регистру"
   ]
  },
  {
   "cell_type": "code",
   "execution_count": 5,
   "metadata": {},
   "outputs": [
    {
     "data": {
      "text/html": [
       "<div>\n",
       "<style scoped>\n",
       "    .dataframe tbody tr th:only-of-type {\n",
       "        vertical-align: middle;\n",
       "    }\n",
       "\n",
       "    .dataframe tbody tr th {\n",
       "        vertical-align: top;\n",
       "    }\n",
       "\n",
       "    .dataframe thead th {\n",
       "        text-align: right;\n",
       "    }\n",
       "</style>\n",
       "<table border=\"1\" class=\"dataframe\">\n",
       "  <thead>\n",
       "    <tr style=\"text-align: right;\">\n",
       "      <th></th>\n",
       "      <th>name</th>\n",
       "      <th>platform</th>\n",
       "      <th>year_of_release</th>\n",
       "      <th>genre</th>\n",
       "      <th>na_sales</th>\n",
       "      <th>eu_sales</th>\n",
       "      <th>jp_sales</th>\n",
       "      <th>other_sales</th>\n",
       "      <th>critic_score</th>\n",
       "      <th>user_score</th>\n",
       "      <th>rating</th>\n",
       "    </tr>\n",
       "  </thead>\n",
       "  <tbody>\n",
       "    <tr>\n",
       "      <th>0</th>\n",
       "      <td>Wii Sports</td>\n",
       "      <td>Wii</td>\n",
       "      <td>2006.0</td>\n",
       "      <td>Sports</td>\n",
       "      <td>41.36</td>\n",
       "      <td>28.96</td>\n",
       "      <td>3.77</td>\n",
       "      <td>8.45</td>\n",
       "      <td>76.0</td>\n",
       "      <td>8</td>\n",
       "      <td>E</td>\n",
       "    </tr>\n",
       "    <tr>\n",
       "      <th>1</th>\n",
       "      <td>Super Mario Bros.</td>\n",
       "      <td>NES</td>\n",
       "      <td>1985.0</td>\n",
       "      <td>Platform</td>\n",
       "      <td>29.08</td>\n",
       "      <td>3.58</td>\n",
       "      <td>6.81</td>\n",
       "      <td>0.77</td>\n",
       "      <td>NaN</td>\n",
       "      <td>NaN</td>\n",
       "      <td>NaN</td>\n",
       "    </tr>\n",
       "    <tr>\n",
       "      <th>2</th>\n",
       "      <td>Mario Kart Wii</td>\n",
       "      <td>Wii</td>\n",
       "      <td>2008.0</td>\n",
       "      <td>Racing</td>\n",
       "      <td>15.68</td>\n",
       "      <td>12.76</td>\n",
       "      <td>3.79</td>\n",
       "      <td>3.29</td>\n",
       "      <td>82.0</td>\n",
       "      <td>8.3</td>\n",
       "      <td>E</td>\n",
       "    </tr>\n",
       "    <tr>\n",
       "      <th>3</th>\n",
       "      <td>Wii Sports Resort</td>\n",
       "      <td>Wii</td>\n",
       "      <td>2009.0</td>\n",
       "      <td>Sports</td>\n",
       "      <td>15.61</td>\n",
       "      <td>10.93</td>\n",
       "      <td>3.28</td>\n",
       "      <td>2.95</td>\n",
       "      <td>80.0</td>\n",
       "      <td>8</td>\n",
       "      <td>E</td>\n",
       "    </tr>\n",
       "    <tr>\n",
       "      <th>4</th>\n",
       "      <td>Pokemon Red/Pokemon Blue</td>\n",
       "      <td>GB</td>\n",
       "      <td>1996.0</td>\n",
       "      <td>Role-Playing</td>\n",
       "      <td>11.27</td>\n",
       "      <td>8.89</td>\n",
       "      <td>10.22</td>\n",
       "      <td>1.00</td>\n",
       "      <td>NaN</td>\n",
       "      <td>NaN</td>\n",
       "      <td>NaN</td>\n",
       "    </tr>\n",
       "  </tbody>\n",
       "</table>\n",
       "</div>"
      ],
      "text/plain": [
       "                       name platform  year_of_release         genre  na_sales  \\\n",
       "0                Wii Sports      Wii           2006.0        Sports     41.36   \n",
       "1         Super Mario Bros.      NES           1985.0      Platform     29.08   \n",
       "2            Mario Kart Wii      Wii           2008.0        Racing     15.68   \n",
       "3         Wii Sports Resort      Wii           2009.0        Sports     15.61   \n",
       "4  Pokemon Red/Pokemon Blue       GB           1996.0  Role-Playing     11.27   \n",
       "\n",
       "   eu_sales  jp_sales  other_sales  critic_score user_score rating  \n",
       "0     28.96      3.77         8.45          76.0          8      E  \n",
       "1      3.58      6.81         0.77           NaN        NaN    NaN  \n",
       "2     12.76      3.79         3.29          82.0        8.3      E  \n",
       "3     10.93      3.28         2.95          80.0          8      E  \n",
       "4      8.89     10.22         1.00           NaN        NaN    NaN  "
      ]
     },
     "execution_count": 5,
     "metadata": {},
     "output_type": "execute_result"
    }
   ],
   "source": [
    "data.columns = data.columns.str.lower()\n",
    "data.head()"
   ]
  },
  {
   "cell_type": "markdown",
   "metadata": {},
   "source": [
    "### Работа с пропусками\n",
    "\n",
    "Перед тем, как изменить тип данных на целые числа в столбце `year_of_release` необходимо избавиться от пропусков. Причина пропусков может быть любая, поэтому пропуски лучше будет удалить. После же изменяю тип на int"
   ]
  },
  {
   "cell_type": "code",
   "execution_count": 6,
   "metadata": {},
   "outputs": [
    {
     "data": {
      "text/plain": [
       "0"
      ]
     },
     "execution_count": 6,
     "metadata": {},
     "output_type": "execute_result"
    }
   ],
   "source": [
    "data = data.dropna(subset =['year_of_release'])\n",
    "data['year_of_release'].isna().sum()"
   ]
  },
  {
   "cell_type": "markdown",
   "metadata": {},
   "source": [
    "В столбцах с названием и жанром есть по паре пропусков, это очень важные параметры, поэтому удаляю пропуски, чтобы дальнейшее исследование было более достоверным"
   ]
  },
  {
   "cell_type": "code",
   "execution_count": 7,
   "metadata": {},
   "outputs": [
    {
     "data": {
      "text/plain": [
       "0"
      ]
     },
     "execution_count": 7,
     "metadata": {},
     "output_type": "execute_result"
    }
   ],
   "source": [
    "data = data.dropna(subset =['name'])\n",
    "data['name'].isna().sum()"
   ]
  },
  {
   "cell_type": "code",
   "execution_count": 8,
   "metadata": {},
   "outputs": [
    {
     "data": {
      "text/plain": [
       "0"
      ]
     },
     "execution_count": 8,
     "metadata": {},
     "output_type": "execute_result"
    }
   ],
   "source": [
    "data = data.dropna(subset =['genre'])\n",
    "data['genre'].isna().sum()"
   ]
  },
  {
   "cell_type": "markdown",
   "metadata": {},
   "source": [
    "### Изменение типа данных"
   ]
  },
  {
   "cell_type": "markdown",
   "metadata": {},
   "source": [
    "Изменю тип данных на десятичные дробные числа в столбце `user_score` и принудительно заменяю некорректные значения на пропуски, также исправлю тип в `year_of_release`"
   ]
  },
  {
   "cell_type": "code",
   "execution_count": 9,
   "metadata": {},
   "outputs": [],
   "source": [
    "data['year_of_release'] = data['year_of_release'].astype(int)"
   ]
  },
  {
   "cell_type": "code",
   "execution_count": 10,
   "metadata": {},
   "outputs": [],
   "source": [
    "data['user_score'] = pd.to_numeric(data['user_score'],  errors='coerce')"
   ]
  },
  {
   "cell_type": "markdown",
   "metadata": {},
   "source": [
    "### Продолжаю работу с пропусками"
   ]
  },
  {
   "cell_type": "markdown",
   "metadata": {},
   "source": [
    "В столбцах `user_score` и `critic_score` заменю пропуски значением заглушкой -1, так как оценки это очень индивидуальный показатель. Пропусков в этих столбцах достаточно много, поэтому лучше будет их не оставлять, а заменить фиктивным значением"
   ]
  },
  {
   "cell_type": "code",
   "execution_count": 11,
   "metadata": {},
   "outputs": [
    {
     "data": {
      "text/plain": [
       "0"
      ]
     },
     "execution_count": 11,
     "metadata": {},
     "output_type": "execute_result"
    }
   ],
   "source": [
    "data['user_score'] = data['user_score'].fillna(-1)\n",
    "data['user_score'].isna().sum()"
   ]
  },
  {
   "cell_type": "code",
   "execution_count": 12,
   "metadata": {},
   "outputs": [
    {
     "data": {
      "text/plain": [
       "0"
      ]
     },
     "execution_count": 12,
     "metadata": {},
     "output_type": "execute_result"
    }
   ],
   "source": [
    "data['critic_score'] = data['critic_score'].fillna(-1)\n",
    "data['critic_score'].isna().sum()"
   ]
  },
  {
   "cell_type": "markdown",
   "metadata": {},
   "source": [
    "Столбец с возрастным рейтингом типа obj, я предполагаю, что пропуски в нем появились по причине невыставления рейтинга на некоторые игры/ по другим техническим причинам. Заменяю пропуски значением unknown"
   ]
  },
  {
   "cell_type": "code",
   "execution_count": 13,
   "metadata": {},
   "outputs": [
    {
     "data": {
      "text/plain": [
       "0"
      ]
     },
     "execution_count": 13,
     "metadata": {},
     "output_type": "execute_result"
    }
   ],
   "source": [
    "data['rating'] = data['rating'].fillna('unknown')\n",
    "data['rating'].isna().sum()"
   ]
  },
  {
   "cell_type": "code",
   "execution_count": 14,
   "metadata": {},
   "outputs": [
    {
     "name": "stdout",
     "output_type": "stream",
     "text": [
      "<class 'pandas.core.frame.DataFrame'>\n",
      "Int64Index: 16444 entries, 0 to 16714\n",
      "Data columns (total 11 columns):\n",
      " #   Column           Non-Null Count  Dtype  \n",
      "---  ------           --------------  -----  \n",
      " 0   name             16444 non-null  object \n",
      " 1   platform         16444 non-null  object \n",
      " 2   year_of_release  16444 non-null  int64  \n",
      " 3   genre            16444 non-null  object \n",
      " 4   na_sales         16444 non-null  float64\n",
      " 5   eu_sales         16444 non-null  float64\n",
      " 6   jp_sales         16444 non-null  float64\n",
      " 7   other_sales      16444 non-null  float64\n",
      " 8   critic_score     16444 non-null  float64\n",
      " 9   user_score       16444 non-null  float64\n",
      " 10  rating           16444 non-null  object \n",
      "dtypes: float64(6), int64(1), object(4)\n",
      "memory usage: 1.5+ MB\n"
     ]
    }
   ],
   "source": [
    "data.info()"
   ]
  },
  {
   "cell_type": "markdown",
   "metadata": {},
   "source": [
    "### Добавляю новый столбец с общими продажами по всем регионам"
   ]
  },
  {
   "cell_type": "code",
   "execution_count": 15,
   "metadata": {
    "scrolled": true
   },
   "outputs": [
    {
     "data": {
      "text/html": [
       "<div>\n",
       "<style scoped>\n",
       "    .dataframe tbody tr th:only-of-type {\n",
       "        vertical-align: middle;\n",
       "    }\n",
       "\n",
       "    .dataframe tbody tr th {\n",
       "        vertical-align: top;\n",
       "    }\n",
       "\n",
       "    .dataframe thead th {\n",
       "        text-align: right;\n",
       "    }\n",
       "</style>\n",
       "<table border=\"1\" class=\"dataframe\">\n",
       "  <thead>\n",
       "    <tr style=\"text-align: right;\">\n",
       "      <th></th>\n",
       "      <th>name</th>\n",
       "      <th>platform</th>\n",
       "      <th>year_of_release</th>\n",
       "      <th>genre</th>\n",
       "      <th>na_sales</th>\n",
       "      <th>eu_sales</th>\n",
       "      <th>jp_sales</th>\n",
       "      <th>other_sales</th>\n",
       "      <th>critic_score</th>\n",
       "      <th>user_score</th>\n",
       "      <th>rating</th>\n",
       "      <th>full_sales</th>\n",
       "    </tr>\n",
       "  </thead>\n",
       "  <tbody>\n",
       "    <tr>\n",
       "      <th>0</th>\n",
       "      <td>Wii Sports</td>\n",
       "      <td>Wii</td>\n",
       "      <td>2006</td>\n",
       "      <td>Sports</td>\n",
       "      <td>41.36</td>\n",
       "      <td>28.96</td>\n",
       "      <td>3.77</td>\n",
       "      <td>8.45</td>\n",
       "      <td>76.0</td>\n",
       "      <td>8.0</td>\n",
       "      <td>E</td>\n",
       "      <td>82.54</td>\n",
       "    </tr>\n",
       "    <tr>\n",
       "      <th>1</th>\n",
       "      <td>Super Mario Bros.</td>\n",
       "      <td>NES</td>\n",
       "      <td>1985</td>\n",
       "      <td>Platform</td>\n",
       "      <td>29.08</td>\n",
       "      <td>3.58</td>\n",
       "      <td>6.81</td>\n",
       "      <td>0.77</td>\n",
       "      <td>-1.0</td>\n",
       "      <td>-1.0</td>\n",
       "      <td>unknown</td>\n",
       "      <td>40.24</td>\n",
       "    </tr>\n",
       "    <tr>\n",
       "      <th>2</th>\n",
       "      <td>Mario Kart Wii</td>\n",
       "      <td>Wii</td>\n",
       "      <td>2008</td>\n",
       "      <td>Racing</td>\n",
       "      <td>15.68</td>\n",
       "      <td>12.76</td>\n",
       "      <td>3.79</td>\n",
       "      <td>3.29</td>\n",
       "      <td>82.0</td>\n",
       "      <td>8.3</td>\n",
       "      <td>E</td>\n",
       "      <td>35.52</td>\n",
       "    </tr>\n",
       "    <tr>\n",
       "      <th>3</th>\n",
       "      <td>Wii Sports Resort</td>\n",
       "      <td>Wii</td>\n",
       "      <td>2009</td>\n",
       "      <td>Sports</td>\n",
       "      <td>15.61</td>\n",
       "      <td>10.93</td>\n",
       "      <td>3.28</td>\n",
       "      <td>2.95</td>\n",
       "      <td>80.0</td>\n",
       "      <td>8.0</td>\n",
       "      <td>E</td>\n",
       "      <td>32.77</td>\n",
       "    </tr>\n",
       "    <tr>\n",
       "      <th>4</th>\n",
       "      <td>Pokemon Red/Pokemon Blue</td>\n",
       "      <td>GB</td>\n",
       "      <td>1996</td>\n",
       "      <td>Role-Playing</td>\n",
       "      <td>11.27</td>\n",
       "      <td>8.89</td>\n",
       "      <td>10.22</td>\n",
       "      <td>1.00</td>\n",
       "      <td>-1.0</td>\n",
       "      <td>-1.0</td>\n",
       "      <td>unknown</td>\n",
       "      <td>31.38</td>\n",
       "    </tr>\n",
       "  </tbody>\n",
       "</table>\n",
       "</div>"
      ],
      "text/plain": [
       "                       name platform  year_of_release         genre  na_sales  \\\n",
       "0                Wii Sports      Wii             2006        Sports     41.36   \n",
       "1         Super Mario Bros.      NES             1985      Platform     29.08   \n",
       "2            Mario Kart Wii      Wii             2008        Racing     15.68   \n",
       "3         Wii Sports Resort      Wii             2009        Sports     15.61   \n",
       "4  Pokemon Red/Pokemon Blue       GB             1996  Role-Playing     11.27   \n",
       "\n",
       "   eu_sales  jp_sales  other_sales  critic_score  user_score   rating  \\\n",
       "0     28.96      3.77         8.45          76.0         8.0        E   \n",
       "1      3.58      6.81         0.77          -1.0        -1.0  unknown   \n",
       "2     12.76      3.79         3.29          82.0         8.3        E   \n",
       "3     10.93      3.28         2.95          80.0         8.0        E   \n",
       "4      8.89     10.22         1.00          -1.0        -1.0  unknown   \n",
       "\n",
       "   full_sales  \n",
       "0       82.54  \n",
       "1       40.24  \n",
       "2       35.52  \n",
       "3       32.77  \n",
       "4       31.38  "
      ]
     },
     "execution_count": 15,
     "metadata": {},
     "output_type": "execute_result"
    }
   ],
   "source": [
    "data['full_sales'] = data['na_sales']+data['eu_sales']+data['jp_sales']+data['other_sales']\n",
    "data.head()"
   ]
  },
  {
   "cell_type": "markdown",
   "metadata": {},
   "source": [
    "### Работа с дубликатами"
   ]
  },
  {
   "cell_type": "code",
   "execution_count": 16,
   "metadata": {},
   "outputs": [
    {
     "data": {
      "text/plain": [
       "PS2     2127\n",
       "DS      2121\n",
       "PS3     1306\n",
       "Wii     1286\n",
       "X360    1232\n",
       "PSP     1193\n",
       "PS      1190\n",
       "PC       957\n",
       "GBA      811\n",
       "XB       803\n",
       "GC       542\n",
       "3DS      512\n",
       "PSV      429\n",
       "PS4      392\n",
       "N64      316\n",
       "XOne     247\n",
       "SNES     239\n",
       "SAT      173\n",
       "WiiU     147\n",
       "2600     116\n",
       "NES       98\n",
       "GB        97\n",
       "DC        52\n",
       "GEN       27\n",
       "NG        12\n",
       "SCD        6\n",
       "WS         6\n",
       "3DO        3\n",
       "TG16       2\n",
       "GG         1\n",
       "PCFX       1\n",
       "Name: platform, dtype: int64"
      ]
     },
     "metadata": {},
     "output_type": "display_data"
    },
    {
     "data": {
      "text/plain": [
       "Action          3307\n",
       "Sports          2306\n",
       "Misc            1721\n",
       "Role-Playing    1481\n",
       "Shooter         1296\n",
       "Adventure       1293\n",
       "Racing          1226\n",
       "Platform         878\n",
       "Simulation       857\n",
       "Fighting         837\n",
       "Strategy         673\n",
       "Puzzle           569\n",
       "Name: genre, dtype: int64"
      ]
     },
     "metadata": {},
     "output_type": "display_data"
    },
    {
     "data": {
      "text/plain": [
       "unknown    6676\n",
       "E          3921\n",
       "T          2905\n",
       "M          1536\n",
       "E10+       1393\n",
       "EC            8\n",
       "K-A           3\n",
       "RP            1\n",
       "AO            1\n",
       "Name: rating, dtype: int64"
      ]
     },
     "execution_count": 16,
     "metadata": {},
     "output_type": "execute_result"
    }
   ],
   "source": [
    "display(data['platform'].value_counts())\n",
    "display(data['genre'].value_counts())\n",
    "data['rating'].value_counts()"
   ]
  },
  {
   "cell_type": "markdown",
   "metadata": {},
   "source": [
    "Неявных дубликатов не найдено"
   ]
  },
  {
   "cell_type": "markdown",
   "metadata": {},
   "source": [
    "### Вывод по предобработке данных\n",
    "\n",
    "1. Названия столбцов привела к одному регистру\n",
    "2. Поменяла типы в столбцах `year_of_release` и `user_score` для дальнейшей удобной работы\n",
    "3. Заменила пропуски медианными значениями по платформам в столбцах `user_score` и `critic_score`\n",
    "4. Удалила пропуски в столбцах `name` и `genre`\n",
    "5. Пропуски в `rating` заменила на unknown"
   ]
  },
  {
   "cell_type": "markdown",
   "metadata": {},
   "source": [
    "## Исследовательский анализ данных"
   ]
  },
  {
   "cell_type": "markdown",
   "metadata": {},
   "source": [
    "### Cколько игр выпускали в разные годы"
   ]
  },
  {
   "cell_type": "code",
   "execution_count": 17,
   "metadata": {
    "scrolled": false
   },
   "outputs": [
    {
     "data": {
      "image/png": "[encoded data removed]",
      "text/plain": [
       "<Figure size 1440x720 with 1 Axes>"
      ]
     },
     "metadata": {
      "needs_background": "light"
     },
     "output_type": "display_data"
    },
    {
     "data": {
      "text/plain": [
       "1980"
      ]
     },
     "metadata": {},
     "output_type": "display_data"
    },
    {
     "data": {
      "text/plain": [
       "2016"
      ]
     },
     "metadata": {},
     "output_type": "display_data"
    },
    {
     "data": {
      "text/plain": [
       "year_of_release\n",
       "1980       9\n",
       "1981      46\n",
       "1982      36\n",
       "1983      17\n",
       "1984      14\n",
       "1985      14\n",
       "1986      21\n",
       "1987      16\n",
       "1988      15\n",
       "1989      17\n",
       "1990      16\n",
       "1991      41\n",
       "1992      43\n",
       "1993      60\n",
       "1994     121\n",
       "1995     219\n",
       "1996     263\n",
       "1997     289\n",
       "1998     379\n",
       "1999     338\n",
       "2000     350\n",
       "2001     482\n",
       "2002     829\n",
       "2003     775\n",
       "2004     762\n",
       "2005     939\n",
       "2006    1006\n",
       "2007    1197\n",
       "2008    1427\n",
       "2009    1426\n",
       "2010    1255\n",
       "2011    1136\n",
       "2012     653\n",
       "2013     544\n",
       "2014     581\n",
       "2015     606\n",
       "2016     502\n",
       "Name: name, dtype: int64"
      ]
     },
     "metadata": {},
     "output_type": "display_data"
    }
   ],
   "source": [
    "data['year_of_release'].plot.hist(bins= 100, range =(1980,2016), title = 'График выпуска игр по годам', figsize =(20,10))\n",
    "plt.ylabel('Колличество игр')\n",
    "plt.xlabel('Год')\n",
    "plt.show()\n",
    "display(data['year_of_release'].min())\n",
    "display(data['year_of_release'].max())\n",
    "display(data.groupby('year_of_release')['name'].count())"
   ]
  },
  {
   "cell_type": "markdown",
   "metadata": {},
   "source": [
    "Больше всего выпускали игр в период с 2002 по 2011. За важные периоды возьмем все начиная с 1994 года, так как ранее выпускали менее 100 игр в год\n",
    "\n",
    "Период, когда игры выпускали по нашим данным - с 1980 по 2016"
   ]
  },
  {
   "cell_type": "markdown",
   "metadata": {},
   "source": [
    "### Как менялись продажи игр по платформам"
   ]
  },
  {
   "cell_type": "code",
   "execution_count": 18,
   "metadata": {},
   "outputs": [
    {
     "data": {
      "text/plain": [
       "platform\n",
       "PS2     1233.56\n",
       "X360     961.24\n",
       "PS3      931.34\n",
       "Wii      891.18\n",
       "DS       802.78\n",
       "PS       727.58\n",
       "PS4      314.14\n",
       "GBA      312.88\n",
       "PSP      289.53\n",
       "3DS      257.81\n",
       "PC       255.76\n",
       "GB       254.43\n",
       "XB       251.57\n",
       "NES      251.05\n",
       "N64      218.01\n",
       "SNES     200.04\n",
       "GC       196.73\n",
       "XOne     159.32\n",
       "2600      86.48\n",
       "WiiU      82.19\n",
       "PSV       53.81\n",
       "SAT       33.59\n",
       "GEN       28.35\n",
       "DC        15.95\n",
       "SCD        1.86\n",
       "NG         1.44\n",
       "WS         1.42\n",
       "TG16       0.16\n",
       "3DO        0.10\n",
       "GG         0.04\n",
       "PCFX       0.03\n",
       "Name: full_sales, dtype: float64"
      ]
     },
     "metadata": {},
     "output_type": "display_data"
    },
    {
     "data": {
      "image/png": "[encoded data removed]",
      "text/plain": [
       "<Figure size 1440x720 with 1 Axes>"
      ]
     },
     "metadata": {
      "needs_background": "light"
     },
     "output_type": "display_data"
    }
   ],
   "source": [
    "display(data.groupby('platform')['full_sales'].sum().sort_values(ascending=False))\n",
    "top_platform = data.query('platform == [\"PS2\",\"X360\",\"PS3\",\"Wii\",\"DS\"]').pivot_table(index = ['platform','year_of_release'], values = 'full_sales', aggfunc = ('sum')).plot.bar(figsize =(20,10), title = 'Продажи популярных патформ по годам')\n",
    "top_platform;"
   ]
  },
  {
   "cell_type": "markdown",
   "metadata": {},
   "source": [
    "Сгруппировала по платформам суммы всех продаж, выбрала 5 самых крупных платформ - PS2, X360, PS3, Wii, DS\n",
    "\n",
    "Далее построила график и распределила продажи платформ по годам. Оказалось, что платформа 'живет' в среднем +-10 лет, а период с самыми крупными продажами у платформ +- 5 лет"
   ]
  },
  {
   "cell_type": "markdown",
   "metadata": {},
   "source": [
    "###  Определю актуальный период для построения прогноза на 2017 год"
   ]
  },
  {
   "cell_type": "code",
   "execution_count": 19,
   "metadata": {},
   "outputs": [
    {
     "data": {
      "image/png": "[encoded data removed]",
      "text/plain": [
       "<Figure size 1440x720 with 1 Axes>"
      ]
     },
     "metadata": {
      "needs_background": "light"
     },
     "output_type": "display_data"
    }
   ],
   "source": [
    "data['year_of_release'].plot.hist(bins= 100, range =(2010,2016), title = 'График выпуска игр по годам', figsize =(20,10))\n",
    "plt.ylabel('Колличество игр')\n",
    "plt.xlabel('Год')\n",
    "plt.show()"
   ]
  },
  {
   "cell_type": "code",
   "execution_count": 20,
   "metadata": {},
   "outputs": [
    {
     "data": {
      "text/html": [
       "<div>\n",
       "<style scoped>\n",
       "    .dataframe tbody tr th:only-of-type {\n",
       "        vertical-align: middle;\n",
       "    }\n",
       "\n",
       "    .dataframe tbody tr th {\n",
       "        vertical-align: top;\n",
       "    }\n",
       "\n",
       "    .dataframe thead th {\n",
       "        text-align: right;\n",
       "    }\n",
       "</style>\n",
       "<table border=\"1\" class=\"dataframe\">\n",
       "  <thead>\n",
       "    <tr style=\"text-align: right;\">\n",
       "      <th></th>\n",
       "      <th>name</th>\n",
       "      <th>platform</th>\n",
       "      <th>year_of_release</th>\n",
       "      <th>genre</th>\n",
       "      <th>na_sales</th>\n",
       "      <th>eu_sales</th>\n",
       "      <th>jp_sales</th>\n",
       "      <th>other_sales</th>\n",
       "      <th>critic_score</th>\n",
       "      <th>user_score</th>\n",
       "      <th>rating</th>\n",
       "      <th>full_sales</th>\n",
       "    </tr>\n",
       "  </thead>\n",
       "  <tbody>\n",
       "    <tr>\n",
       "      <th>16</th>\n",
       "      <td>Grand Theft Auto V</td>\n",
       "      <td>PS3</td>\n",
       "      <td>2013</td>\n",
       "      <td>Action</td>\n",
       "      <td>7.02</td>\n",
       "      <td>9.09</td>\n",
       "      <td>0.98</td>\n",
       "      <td>3.96</td>\n",
       "      <td>97.0</td>\n",
       "      <td>8.2</td>\n",
       "      <td>M</td>\n",
       "      <td>21.05</td>\n",
       "    </tr>\n",
       "    <tr>\n",
       "      <th>23</th>\n",
       "      <td>Grand Theft Auto V</td>\n",
       "      <td>X360</td>\n",
       "      <td>2013</td>\n",
       "      <td>Action</td>\n",
       "      <td>9.66</td>\n",
       "      <td>5.14</td>\n",
       "      <td>0.06</td>\n",
       "      <td>1.41</td>\n",
       "      <td>97.0</td>\n",
       "      <td>8.1</td>\n",
       "      <td>M</td>\n",
       "      <td>16.27</td>\n",
       "    </tr>\n",
       "    <tr>\n",
       "      <th>31</th>\n",
       "      <td>Call of Duty: Black Ops 3</td>\n",
       "      <td>PS4</td>\n",
       "      <td>2015</td>\n",
       "      <td>Shooter</td>\n",
       "      <td>6.03</td>\n",
       "      <td>5.86</td>\n",
       "      <td>0.36</td>\n",
       "      <td>2.38</td>\n",
       "      <td>-1.0</td>\n",
       "      <td>-1.0</td>\n",
       "      <td>unknown</td>\n",
       "      <td>14.63</td>\n",
       "    </tr>\n",
       "    <tr>\n",
       "      <th>33</th>\n",
       "      <td>Pokemon X/Pokemon Y</td>\n",
       "      <td>3DS</td>\n",
       "      <td>2013</td>\n",
       "      <td>Role-Playing</td>\n",
       "      <td>5.28</td>\n",
       "      <td>4.19</td>\n",
       "      <td>4.35</td>\n",
       "      <td>0.78</td>\n",
       "      <td>-1.0</td>\n",
       "      <td>-1.0</td>\n",
       "      <td>unknown</td>\n",
       "      <td>14.60</td>\n",
       "    </tr>\n",
       "    <tr>\n",
       "      <th>34</th>\n",
       "      <td>Call of Duty: Black Ops II</td>\n",
       "      <td>PS3</td>\n",
       "      <td>2012</td>\n",
       "      <td>Shooter</td>\n",
       "      <td>4.99</td>\n",
       "      <td>5.73</td>\n",
       "      <td>0.65</td>\n",
       "      <td>2.42</td>\n",
       "      <td>83.0</td>\n",
       "      <td>5.3</td>\n",
       "      <td>M</td>\n",
       "      <td>13.79</td>\n",
       "    </tr>\n",
       "    <tr>\n",
       "      <th>...</th>\n",
       "      <td>...</td>\n",
       "      <td>...</td>\n",
       "      <td>...</td>\n",
       "      <td>...</td>\n",
       "      <td>...</td>\n",
       "      <td>...</td>\n",
       "      <td>...</td>\n",
       "      <td>...</td>\n",
       "      <td>...</td>\n",
       "      <td>...</td>\n",
       "      <td>...</td>\n",
       "      <td>...</td>\n",
       "    </tr>\n",
       "    <tr>\n",
       "      <th>16703</th>\n",
       "      <td>Strawberry Nauts</td>\n",
       "      <td>PSV</td>\n",
       "      <td>2016</td>\n",
       "      <td>Adventure</td>\n",
       "      <td>0.00</td>\n",
       "      <td>0.00</td>\n",
       "      <td>0.01</td>\n",
       "      <td>0.00</td>\n",
       "      <td>-1.0</td>\n",
       "      <td>-1.0</td>\n",
       "      <td>unknown</td>\n",
       "      <td>0.01</td>\n",
       "    </tr>\n",
       "    <tr>\n",
       "      <th>16707</th>\n",
       "      <td>Aiyoku no Eustia</td>\n",
       "      <td>PSV</td>\n",
       "      <td>2014</td>\n",
       "      <td>Misc</td>\n",
       "      <td>0.00</td>\n",
       "      <td>0.00</td>\n",
       "      <td>0.01</td>\n",
       "      <td>0.00</td>\n",
       "      <td>-1.0</td>\n",
       "      <td>-1.0</td>\n",
       "      <td>unknown</td>\n",
       "      <td>0.01</td>\n",
       "    </tr>\n",
       "    <tr>\n",
       "      <th>16710</th>\n",
       "      <td>Samurai Warriors: Sanada Maru</td>\n",
       "      <td>PS3</td>\n",
       "      <td>2016</td>\n",
       "      <td>Action</td>\n",
       "      <td>0.00</td>\n",
       "      <td>0.00</td>\n",
       "      <td>0.01</td>\n",
       "      <td>0.00</td>\n",
       "      <td>-1.0</td>\n",
       "      <td>-1.0</td>\n",
       "      <td>unknown</td>\n",
       "      <td>0.01</td>\n",
       "    </tr>\n",
       "    <tr>\n",
       "      <th>16712</th>\n",
       "      <td>Haitaka no Psychedelica</td>\n",
       "      <td>PSV</td>\n",
       "      <td>2016</td>\n",
       "      <td>Adventure</td>\n",
       "      <td>0.00</td>\n",
       "      <td>0.00</td>\n",
       "      <td>0.01</td>\n",
       "      <td>0.00</td>\n",
       "      <td>-1.0</td>\n",
       "      <td>-1.0</td>\n",
       "      <td>unknown</td>\n",
       "      <td>0.01</td>\n",
       "    </tr>\n",
       "    <tr>\n",
       "      <th>16714</th>\n",
       "      <td>Winning Post 8 2016</td>\n",
       "      <td>PSV</td>\n",
       "      <td>2016</td>\n",
       "      <td>Simulation</td>\n",
       "      <td>0.00</td>\n",
       "      <td>0.00</td>\n",
       "      <td>0.01</td>\n",
       "      <td>0.00</td>\n",
       "      <td>-1.0</td>\n",
       "      <td>-1.0</td>\n",
       "      <td>unknown</td>\n",
       "      <td>0.01</td>\n",
       "    </tr>\n",
       "  </tbody>\n",
       "</table>\n",
       "<p>2886 rows × 12 columns</p>\n",
       "</div>"
      ],
      "text/plain": [
       "                                name platform  year_of_release         genre  \\\n",
       "16                Grand Theft Auto V      PS3             2013        Action   \n",
       "23                Grand Theft Auto V     X360             2013        Action   \n",
       "31         Call of Duty: Black Ops 3      PS4             2015       Shooter   \n",
       "33               Pokemon X/Pokemon Y      3DS             2013  Role-Playing   \n",
       "34        Call of Duty: Black Ops II      PS3             2012       Shooter   \n",
       "...                              ...      ...              ...           ...   \n",
       "16703               Strawberry Nauts      PSV             2016     Adventure   \n",
       "16707               Aiyoku no Eustia      PSV             2014          Misc   \n",
       "16710  Samurai Warriors: Sanada Maru      PS3             2016        Action   \n",
       "16712        Haitaka no Psychedelica      PSV             2016     Adventure   \n",
       "16714            Winning Post 8 2016      PSV             2016    Simulation   \n",
       "\n",
       "       na_sales  eu_sales  jp_sales  other_sales  critic_score  user_score  \\\n",
       "16         7.02      9.09      0.98         3.96          97.0         8.2   \n",
       "23         9.66      5.14      0.06         1.41          97.0         8.1   \n",
       "31         6.03      5.86      0.36         2.38          -1.0        -1.0   \n",
       "33         5.28      4.19      4.35         0.78          -1.0        -1.0   \n",
       "34         4.99      5.73      0.65         2.42          83.0         5.3   \n",
       "...         ...       ...       ...          ...           ...         ...   \n",
       "16703      0.00      0.00      0.01         0.00          -1.0        -1.0   \n",
       "16707      0.00      0.00      0.01         0.00          -1.0        -1.0   \n",
       "16710      0.00      0.00      0.01         0.00          -1.0        -1.0   \n",
       "16712      0.00      0.00      0.01         0.00          -1.0        -1.0   \n",
       "16714      0.00      0.00      0.01         0.00          -1.0        -1.0   \n",
       "\n",
       "        rating  full_sales  \n",
       "16           M       21.05  \n",
       "23           M       16.27  \n",
       "31     unknown       14.63  \n",
       "33     unknown       14.60  \n",
       "34           M       13.79  \n",
       "...        ...         ...  \n",
       "16703  unknown        0.01  \n",
       "16707  unknown        0.01  \n",
       "16710  unknown        0.01  \n",
       "16712  unknown        0.01  \n",
       "16714  unknown        0.01  \n",
       "\n",
       "[2886 rows x 12 columns]"
      ]
     },
     "execution_count": 20,
     "metadata": {},
     "output_type": "execute_result"
    }
   ],
   "source": [
    "data = data.query('year_of_release >= 2012')\n",
    "data"
   ]
  },
  {
   "cell_type": "markdown",
   "metadata": {},
   "source": [
    "Для прогноза на 2017 год будем считать актуальный период с 2012 года, с того момента нет пиковых продаж, а значит и выдающихся больших значений. На более старые данные нет смысла обращать внимание для прогноза"
   ]
  },
  {
   "cell_type": "markdown",
   "metadata": {},
   "source": [
    "### Посмотрю, какие платформы лидируют по продажам, растут или падают"
   ]
  },
  {
   "cell_type": "code",
   "execution_count": 21,
   "metadata": {
    "scrolled": false
   },
   "outputs": [
    {
     "data": {
      "text/plain": [
       "<AxesSubplot:xlabel='platform'>"
      ]
     },
     "metadata": {},
     "output_type": "display_data"
    },
    {
     "data": {
      "text/plain": [
       "platform\n",
       "PS4     314.14\n",
       "PS3     288.79\n",
       "X360    236.54\n",
       "3DS     194.61\n",
       "XOne    159.32\n",
       "WiiU     82.19\n",
       "PC       62.65\n",
       "PSV      49.18\n",
       "Wii      35.37\n",
       "DS       12.55\n",
       "PSP      11.19\n",
       "Name: full_sales, dtype: float64"
      ]
     },
     "metadata": {},
     "output_type": "display_data"
    },
    {
     "data": {
      "image/png": "[encoded data removed]",
      "text/plain": [
       "<Figure size 1080x720 with 1 Axes>"
      ]
     },
     "metadata": {
      "needs_background": "light"
     },
     "output_type": "display_data"
    }
   ],
   "source": [
    "display(data.pivot_table(index = 'platform',columns = ['year_of_release'], values = 'full_sales', aggfunc = ('sum')).plot.bar(figsize =(15,10)))\n",
    "display(data.groupby('platform')['full_sales'].sum().sort_values(ascending=False))"
   ]
  },
  {
   "cell_type": "markdown",
   "metadata": {},
   "source": [
    "Судя по составленному ниже графику 3DS, PS4 и XOne являются перспективными платформами, так как рост их продаж к 2016 году выше по сравнению с остальными платформами"
   ]
  },
  {
   "cell_type": "markdown",
   "metadata": {},
   "source": [
    "### График «ящик с усами» по глобальным продажам игр в разбивке по платформам\n"
   ]
  },
  {
   "cell_type": "code",
   "execution_count": 22,
   "metadata": {},
   "outputs": [
    {
     "data": {
      "image/png": "[encoded data removed]",
      "text/plain": [
       "<Figure size 1080x720 with 1 Axes>"
      ]
     },
     "metadata": {
      "needs_background": "light"
     },
     "output_type": "display_data"
    }
   ],
   "source": [
    "top_platform = data.query('platform == \"PS4\" or  platform ==\"PS3\" or platform == \"X360\" or platform == \"3DS\" or platform == \"XOne\"')\n",
    "top_platform\n",
    "top_platform.boxplot(by = 'platform', column = 'full_sales', figsize =(15,10));\n",
    "plt.ylim(0, 10);"
   ]
  },
  {
   "cell_type": "markdown",
   "metadata": {},
   "source": [
    "Практически у всех платформ есть выбросы по общим продажам, некоторые из них очень высоко уходят от нормы\n",
    "\n",
    "Такое и правда имеет место быть, так как некоторые платформы c большой вероятностью выпускали игры, которые становились в определенный период очень популярными и продажи соответственно подскакивали"
   ]
  },
  {
   "cell_type": "markdown",
   "metadata": {},
   "source": [
    "### Как влияют на продажи внутри одной популярной платформы отзывы пользователей и критиков"
   ]
  },
  {
   "cell_type": "code",
   "execution_count": 23,
   "metadata": {},
   "outputs": [
    {
     "data": {
      "text/plain": [
       "0.27378217261702115"
      ]
     },
     "metadata": {},
     "output_type": "display_data"
    },
    {
     "data": {
      "text/plain": [
       "0.12171152458232885"
      ]
     },
     "execution_count": 23,
     "metadata": {},
     "output_type": "execute_result"
    }
   ],
   "source": [
    "display(data.query('platform == \"XOne\"')['full_sales'].corr(data['critic_score']))\n",
    "data.query('platform == \"XOne\"')['full_sales'].corr(data['user_score'])"
   ]
  },
  {
   "cell_type": "code",
   "execution_count": 24,
   "metadata": {},
   "outputs": [
    {
     "data": {
      "image/png": "[encoded data removed]",
      "text/plain": [
       "<Figure size 648x648 with 9 Axes>"
      ]
     },
     "metadata": {
      "needs_background": "light"
     },
     "output_type": "display_data"
    }
   ],
   "source": [
    "corr_of_score = data.query('platform == \"XOne\"')[['critic_score','user_score','full_sales']]\n",
    "pd.plotting.scatter_matrix(corr_of_score, figsize=(9, 9));"
   ]
  },
  {
   "cell_type": "markdown",
   "metadata": {},
   "source": [
    "Я взяла одну из популярных платформ по продажам игр XOne и высчитала зависимость количества продаж от оценок критиков и оценок пользователей\n",
    "\n",
    "По диаграмме рассеяния и рассчитанной корреляции можно сделать следующие выводы:\n",
    "    \n",
    "1. Оценки крикитов совсем немного влияют на общие продажи игр - корреляция 0.3\n",
    "2. Оценки пользователей показали отрицательнцю корреляцию, но абсолютно незначительную - 0.07\n"
   ]
  },
  {
   "cell_type": "markdown",
   "metadata": {},
   "source": [
    "###  Соотнесу выводы с продажами игр на других платформах"
   ]
  },
  {
   "cell_type": "code",
   "execution_count": 25,
   "metadata": {},
   "outputs": [
    {
     "data": {
      "text/plain": [
       "0.22652606614612347"
      ]
     },
     "metadata": {},
     "output_type": "display_data"
    },
    {
     "data": {
      "text/plain": [
       "0.1159614931286009"
      ]
     },
     "execution_count": 25,
     "metadata": {},
     "output_type": "execute_result"
    }
   ],
   "source": [
    "display(data.query('platform == \"PS4\"')['full_sales'].corr(data['critic_score']))\n",
    "data.query('platform == \"PS4\"')['full_sales'].corr(data['user_score'])"
   ]
  },
  {
   "cell_type": "code",
   "execution_count": 26,
   "metadata": {},
   "outputs": [
    {
     "data": {
      "text/plain": [
       "0.29820434881006375"
      ]
     },
     "metadata": {},
     "output_type": "display_data"
    },
    {
     "data": {
      "text/plain": [
       "0.21737238590346158"
      ]
     },
     "execution_count": 26,
     "metadata": {},
     "output_type": "execute_result"
    }
   ],
   "source": [
    "display(data.query('platform == \"PS3\"')['full_sales'].corr(data['critic_score']))\n",
    "data.query('platform == \"PS3\"')['full_sales'].corr(data['user_score'])"
   ]
  },
  {
   "cell_type": "code",
   "execution_count": 27,
   "metadata": {},
   "outputs": [
    {
     "data": {
      "text/plain": [
       "0.2609927620101844"
      ]
     },
     "metadata": {},
     "output_type": "display_data"
    },
    {
     "data": {
      "text/plain": [
       "0.10266997474596448"
      ]
     },
     "execution_count": 27,
     "metadata": {},
     "output_type": "execute_result"
    }
   ],
   "source": [
    "display(data.query('platform == \"X360\"')['full_sales'].corr(data['critic_score']))\n",
    "data.query('platform == \"X360\"')['full_sales'].corr(data['user_score'])"
   ]
  },
  {
   "cell_type": "markdown",
   "metadata": {},
   "source": [
    "Проверила корреляцию общих продаж игр с оценками критиков и пользователей на других популярных платформах и могу сделать вывод, что практически у всех платформ оценки критиков влияют слабо и положительно - обычно корреляция 0.3 , а оценки пользователей влияют отрицательно и тоже очень слабо - обычно корреляция от 0.02 до 0.06\n",
    "\n",
    "Оценки критиков и пользователей не зависят от большего или меньшего количества продаж"
   ]
  },
  {
   "cell_type": "markdown",
   "metadata": {},
   "source": [
    "### Посмотрю распределение игр по жанрам"
   ]
  },
  {
   "cell_type": "code",
   "execution_count": 28,
   "metadata": {},
   "outputs": [
    {
     "data": {
      "text/html": [
       "<div>\n",
       "<style scoped>\n",
       "    .dataframe tbody tr th:only-of-type {\n",
       "        vertical-align: middle;\n",
       "    }\n",
       "\n",
       "    .dataframe tbody tr th {\n",
       "        vertical-align: top;\n",
       "    }\n",
       "\n",
       "    .dataframe thead th {\n",
       "        text-align: right;\n",
       "    }\n",
       "</style>\n",
       "<table border=\"1\" class=\"dataframe\">\n",
       "  <thead>\n",
       "    <tr style=\"text-align: right;\">\n",
       "      <th></th>\n",
       "      <th>full_sales</th>\n",
       "      <th>count_games</th>\n",
       "    </tr>\n",
       "    <tr>\n",
       "      <th>genre</th>\n",
       "      <th></th>\n",
       "      <th></th>\n",
       "    </tr>\n",
       "  </thead>\n",
       "  <tbody>\n",
       "    <tr>\n",
       "      <th>Shooter</th>\n",
       "      <td>1.296723</td>\n",
       "      <td>235</td>\n",
       "    </tr>\n",
       "    <tr>\n",
       "      <th>Platform</th>\n",
       "      <td>0.717647</td>\n",
       "      <td>85</td>\n",
       "    </tr>\n",
       "    <tr>\n",
       "      <th>Sports</th>\n",
       "      <td>0.675634</td>\n",
       "      <td>268</td>\n",
       "    </tr>\n",
       "    <tr>\n",
       "      <th>Role-Playing</th>\n",
       "      <td>0.521081</td>\n",
       "      <td>370</td>\n",
       "    </tr>\n",
       "    <tr>\n",
       "      <th>Racing</th>\n",
       "      <td>0.465217</td>\n",
       "      <td>115</td>\n",
       "    </tr>\n",
       "    <tr>\n",
       "      <th>Misc</th>\n",
       "      <td>0.442917</td>\n",
       "      <td>192</td>\n",
       "    </tr>\n",
       "    <tr>\n",
       "      <th>Simulation</th>\n",
       "      <td>0.439000</td>\n",
       "      <td>80</td>\n",
       "    </tr>\n",
       "    <tr>\n",
       "      <th>Action</th>\n",
       "      <td>0.427856</td>\n",
       "      <td>1031</td>\n",
       "    </tr>\n",
       "    <tr>\n",
       "      <th>Fighting</th>\n",
       "      <td>0.408165</td>\n",
       "      <td>109</td>\n",
       "    </tr>\n",
       "    <tr>\n",
       "      <th>Strategy</th>\n",
       "      <td>0.187887</td>\n",
       "      <td>71</td>\n",
       "    </tr>\n",
       "    <tr>\n",
       "      <th>Puzzle</th>\n",
       "      <td>0.174643</td>\n",
       "      <td>28</td>\n",
       "    </tr>\n",
       "    <tr>\n",
       "      <th>Adventure</th>\n",
       "      <td>0.097450</td>\n",
       "      <td>302</td>\n",
       "    </tr>\n",
       "  </tbody>\n",
       "</table>\n",
       "</div>"
      ],
      "text/plain": [
       "              full_sales  count_games\n",
       "genre                                \n",
       "Shooter         1.296723          235\n",
       "Platform        0.717647           85\n",
       "Sports          0.675634          268\n",
       "Role-Playing    0.521081          370\n",
       "Racing          0.465217          115\n",
       "Misc            0.442917          192\n",
       "Simulation      0.439000           80\n",
       "Action          0.427856         1031\n",
       "Fighting        0.408165          109\n",
       "Strategy        0.187887           71\n",
       "Puzzle          0.174643           28\n",
       "Adventure       0.097450          302"
      ]
     },
     "execution_count": 28,
     "metadata": {},
     "output_type": "execute_result"
    }
   ],
   "source": [
    "data.groupby('genre').agg({'full_sales':'mean','name':'count'}).sort_values(by = 'full_sales',ascending=False).rename(columns ={'name':'count_games'})"
   ]
  },
  {
   "cell_type": "markdown",
   "metadata": {},
   "source": [
    "Самые прибыльные жанры - Shooter, Platform, Sports, Role-Playing. Игр в  жанре Platform не так много, по сравнению с другими прибыльными жанрами, но при этом по средним продажам этот жанр на втором месте\n",
    "\n",
    "По продажам бесспорный лидер среди жанров - Shooter\n",
    "\n",
    "А по количеству выпущенных игр побеждает Action, игр в этом жанре выпущенно 1031\n",
    "\n",
    "Самые непопулярные жанры игр - Strategy, Puzzle и Adventure . Игр в жанре Adventure выпускаю достаточно много, более 300, но продажи в среднем самые низкие "
   ]
  },
  {
   "cell_type": "markdown",
   "metadata": {},
   "source": [
    "## Портрет пользователя по регионам"
   ]
  },
  {
   "cell_type": "markdown",
   "metadata": {},
   "source": [
    "### Топ 5 популярных платформ по регионам"
   ]
  },
  {
   "cell_type": "code",
   "execution_count": 29,
   "metadata": {},
   "outputs": [
    {
     "data": {
      "image/png": "[encoded data removed]",
      "text/plain": [
       "<Figure size 432x288 with 1 Axes>"
      ]
     },
     "metadata": {},
     "output_type": "display_data"
    },
    {
     "data": {
      "image/png": "[encoded data removed]",
      "text/plain": [
       "<Figure size 432x288 with 1 Axes>"
      ]
     },
     "metadata": {},
     "output_type": "display_data"
    },
    {
     "data": {
      "image/png": "[encoded data removed]",
      "text/plain": [
       "<Figure size 432x288 with 1 Axes>"
      ]
     },
     "metadata": {},
     "output_type": "display_data"
    }
   ],
   "source": [
    "data.groupby('platform')['na_sales'].sum().sort_values(ascending=False).head().plot(kind = 'pie', autopct='%1.1f%%', title = 'popular platform North America')\n",
    "plt.show()\n",
    "data.groupby('platform')['eu_sales'].sum().sort_values(ascending=False).head().plot(kind = 'pie', autopct='%1.1f%%', title = 'popular platform in Eroupe')\n",
    "plt.show()\n",
    "data.groupby('platform')['jp_sales'].sum().sort_values(ascending=False).head().plot(kind = 'pie', autopct='%1.1f%%', title = 'popular platform in Japan');"
   ]
  },
  {
   "cell_type": "markdown",
   "metadata": {},
   "source": [
    "В Северной Америке топ 5 по популярности платформ и сумма по продажам игр\n",
    "1. X360    140.05\n",
    "2. PS4     108.74\n",
    "3. PS3     103.38\n",
    "4. XOne     93.12\n",
    "5. 3DS      55.31\n",
    "\n",
    "Топ 5 поппулярных платформ и сумма продаж с игр в Европе\n",
    "1. PS4     141.09\n",
    "2. PS3     106.86\n",
    "3. X360     74.52\n",
    "4. XOne     51.59\n",
    "5. 3DS      42.64\n",
    "\n",
    "И наконец топ 5 популярных платформ и сумма с продажи всех игр в Японии\n",
    "1. 3DS     87.79\n",
    "2. PS3     35.29\n",
    "3. PSV     21.04\n",
    "4. PS4     15.96\n",
    "5. WiiU    13.01\n",
    "\n",
    "Больше продаж в Северной Америке, далее идет Европа и меньше всего продаж в Японии, что не удивительно, так как страна явно меньше\n",
    "\n",
    "Популярность платфорим также разнится в зависимости от региона. Например, 3DS - самая популярная платформа в Японии, при этом на последнем месте в пятерке Америки и Европы. А X360, которая на 1 месте в Америке и 3м месте в Европе, вовсе не вошла в пятерку популярных платформ Японии"
   ]
  },
  {
   "cell_type": "markdown",
   "metadata": {},
   "source": [
    "### Топ 5 популярных жанров по регионам"
   ]
  },
  {
   "cell_type": "code",
   "execution_count": 30,
   "metadata": {},
   "outputs": [
    {
     "data": {
      "image/png": "[encoded data removed]",
      "text/plain": [
       "<Figure size 432x288 with 1 Axes>"
      ]
     },
     "metadata": {},
     "output_type": "display_data"
    },
    {
     "data": {
      "image/png": "[encoded data removed]",
      "text/plain": [
       "<Figure size 432x288 with 1 Axes>"
      ]
     },
     "metadata": {},
     "output_type": "display_data"
    },
    {
     "data": {
      "image/png": "[encoded data removed]",
      "text/plain": [
       "<Figure size 432x288 with 1 Axes>"
      ]
     },
     "metadata": {},
     "output_type": "display_data"
    }
   ],
   "source": [
    "data.groupby('genre')['na_sales'].sum().sort_values(ascending=False).head().plot(kind = 'pie', autopct='%1.1f%%', title = 'top genres in North America')\n",
    "plt.show()\n",
    "data.groupby('genre')['eu_sales'].sum().sort_values(ascending=False).head().plot(kind = 'pie', autopct='%1.1f%%', title = 'top genres in Europe')\n",
    "plt.show()\n",
    "data.groupby('genre')['jp_sales'].sum().sort_values(ascending=False).head().plot(kind = 'pie', autopct='%1.1f%%', title = 'top genres in Japan');"
   ]
  },
  {
   "cell_type": "markdown",
   "metadata": {},
   "source": [
    "Статистика самых популярных жанров по регионам:\n",
    "    \n",
    "* В Северной Америке и Европе предпочтнеия в жанрах очень уж схожи. Топ по убыванию следующий - Action, Shooter, Sports, Role-Playing. На пятом же месте у Америки - Misc, а в Европе - Racing\n",
    "\n",
    "* У Японцев жанровые предпочтения более уникальны - Role-Playing, Action, Misc, Simulation, Fighting - топ 5 по убыванию\n",
    "\n",
    "Более наглядное процентное соотношение на графиках"
   ]
  },
  {
   "cell_type": "markdown",
   "metadata": {},
   "source": [
    "### Влияние рейтинга ESRB на продажи в отдельном регионе"
   ]
  },
  {
   "cell_type": "code",
   "execution_count": 31,
   "metadata": {},
   "outputs": [
    {
     "data": {
      "image/png": "[encoded data removed]",
      "text/plain": [
       "<Figure size 432x288 with 1 Axes>"
      ]
     },
     "metadata": {},
     "output_type": "display_data"
    },
    {
     "data": {
      "image/png": "[encoded data removed]",
      "text/plain": [
       "<Figure size 432x288 with 1 Axes>"
      ]
     },
     "metadata": {},
     "output_type": "display_data"
    },
    {
     "data": {
      "image/png": "[encoded data removed]",
      "text/plain": [
       "<Figure size 432x288 with 1 Axes>"
      ]
     },
     "metadata": {},
     "output_type": "display_data"
    }
   ],
   "source": [
    "data.groupby('rating')['na_sales'].sum().sort_values(ascending=False).plot(kind = 'pie', autopct='%1.1f%%', title = 'top genres in North America')\n",
    "plt.show()\n",
    "data.groupby('rating')['eu_sales'].sum().sort_values(ascending=False).plot(kind = 'pie', autopct='%1.1f%%', title = 'top genres in Europe')\n",
    "plt.show()\n",
    "data.groupby('rating')['jp_sales'].sum().sort_values(ascending=False).plot(kind = 'pie', autopct='%1.1f%%', title = 'top genres in Japan');"
   ]
  },
  {
   "cell_type": "markdown",
   "metadata": {},
   "source": [
    "Проверила влияние возрастного рейтинга на продажи игр в разных регионах. Могу сделать следующие выводы:\n",
    "    \n",
    "* В Северной Америке и в Европе бОльшую долю продаж занимают игры с рейтингами, только в 18% случаев рейтинг не влияет\n",
    "* В Японии же наоборот, большую часть занимают игры без рейтинга - 57%\n",
    "* В Америке и Европе самые продаваемые игры с рейтингом М - 38% и 39% соответственно. В Японии же этот рейтинг на предпоследнем месте по популярности - 11%\n"
   ]
  },
  {
   "cell_type": "markdown",
   "metadata": {},
   "source": [
    "### Вывод по анализу поведения пользователей в разных регионах:\n",
    "\n",
    "В каждом региона пользователи уникальны и со своими предпочтениями. Европейцы с американцами более схожи во вкусах в играх, а Японцы имеют больше отличий"
   ]
  },
  {
   "cell_type": "markdown",
   "metadata": {},
   "source": [
    "## Проверка гипотез"
   ]
  },
  {
   "cell_type": "markdown",
   "metadata": {},
   "source": [
    "### Первая гипотеза\n",
    "\n",
    "* Нулевая гипотеза: Средние пользовательские рейтинги платформ Xbox One и PC одинаковые\n",
    "\n",
    "\n",
    "* Альтернативная гипотеза: Средние пользовательские рейтинги платформ Xbox One и PC разные"
   ]
  },
  {
   "cell_type": "code",
   "execution_count": 32,
   "metadata": {},
   "outputs": [
    {
     "name": "stdout",
     "output_type": "stream",
     "text": [
      "p-значение: 1.997377456499021e-09\n",
      "Средние пользовательские рейтинги платформ Xbox One и PC разные\n"
     ]
    }
   ],
   "source": [
    "alpha = 0.05\n",
    "\n",
    "Xbox_One = data.query('platform == \"XOne\" and user_score != -1')\n",
    "PC = data.query('platform == \"PC\"')\n",
    "\n",
    "results = st.ttest_ind(Xbox_One['user_score'], PC['user_score'], equal_var=False)\n",
    "\n",
    "print('p-значение:', results.pvalue)\n",
    "\n",
    "if results.pvalue < alpha:\n",
    "    print('Средние пользовательские рейтинги платформ Xbox One и PC разные')\n",
    "else:\n",
    "    print('Средние пользовательские рейтинги платформ Xbox One и PC одинаковые') "
   ]
  },
  {
   "cell_type": "markdown",
   "metadata": {},
   "source": [
    "Проверила первую гипотезу и получила вывод - средние пользовательские рейтинги платформ Xbox One и PC различаются\n",
    "\n",
    "**Альтернативная гипотеза оказалась значимой**"
   ]
  },
  {
   "cell_type": "markdown",
   "metadata": {},
   "source": [
    "### Вторая гипотеза\n",
    "* Нулевая гипотеза: Средние пользовательские рейтинги жанров Action и Sports одинаковые\n",
    "\n",
    "\n",
    "* Альтернативная гипотеза: Средние пользовательские рейтинги жанров Action и Sports разные"
   ]
  },
  {
   "cell_type": "code",
   "execution_count": 33,
   "metadata": {},
   "outputs": [
    {
     "name": "stdout",
     "output_type": "stream",
     "text": [
      "p-значение: 0.0020018209559324713\n",
      "Средние пользовательские рейтинги жанров Action и Sports разные\n"
     ]
    }
   ],
   "source": [
    "alpha = 0.05\n",
    "\n",
    "Action = data.query('genre == \"Action\"')\n",
    "Sports = data.query('genre == \"Sports\"')\n",
    "\n",
    "results = st.ttest_ind(Action['user_score'], Sports['user_score'], equal_var=False)\n",
    "\n",
    "print('p-значение:', results.pvalue)\n",
    "\n",
    "if results.pvalue < alpha:\n",
    "    print('Средние пользовательские рейтинги жанров Action и Sports разные')\n",
    "else:\n",
    "    print('Средние пользовательские рейтинги жанров Action и Sports одинаковые')"
   ]
  },
  {
   "cell_type": "markdown",
   "metadata": {},
   "source": [
    "Проверила вторую гипотезу. Оказалось, что средние пользовательские рейтинги жанров Action и Sports действительно различаются\n",
    "\n",
    "**Альтернативная гипотеза оказалась значимой**"
   ]
  },
  {
   "cell_type": "markdown",
   "metadata": {},
   "source": [
    "## Пояснения"
   ]
  },
  {
   "cell_type": "markdown",
   "metadata": {},
   "source": [
    "**Как я сформулировали нулевую и альтернативную гипотезы?**\n",
    "\n",
    "- Нулевую и альтернаивную гипотезы я сформировала исходя из запросов на проверку\n",
    "\n",
    "Первая гипотеза звучала так : Средние пользовательские рейтинги платформ Xbox One и PC одинаковые;\n",
    "\n",
    "Соответственно Н0: Xbox_One['user_score'] == PC['user_score']\n",
    "\n",
    "Н1: Xbox_One['user_score'] != PC['user_score']\n",
    "\n",
    "\n",
    "А вторая гипотеза звучала так : Средние пользовательские рейтинги жанров Action и Sports разные\n",
    "\n",
    "Н0: Action['user_score'] == Sports['user_score']\n",
    "\n",
    "Н1: Action['user_score'] != Sports['user_score']\n",
    "\n",
    "**Какой критерий применили для проверки гипотез и почему?**\n",
    "\n",
    "- Обе гипотезы двусторонние, о равенстве средних двух выборках, выборки независимые, поэтому я использовала метод ttest_ind()"
   ]
  },
  {
   "cell_type": "markdown",
   "metadata": {},
   "source": [
    "# Общий вывод"
   ]
  },
  {
   "cell_type": "markdown",
   "metadata": {},
   "source": [
    "\n",
    "1. После выгрузки данных я заметила некоторые недочеты, в виде пропусков, неверного типа данных и некорректных названиях в столбах. Устранила эти недочеты на этапе предобработки\n",
    "\n",
    "\n",
    "2. Провела исследовательски анализ, в котором узнала следующее:\n",
    "\n",
    "* Игры начали набирать большую популярность и чаще выпускаться с 2002  по 2011 год\n",
    "---\n",
    "* Выяснила, что платформа 'живет' в среднем +-10 лет, а период с самыми крупными продажами у платформ +- 5 лет\n",
    "---\n",
    "* Для прогноза на 2017 год я взяла данные начиная с 2012 года и выяснила, что 3DS, PS4 и XOne являются перспективными платформами\n",
    "---\n",
    "* У всех платформ есть выбросы с большими продажами, а у платформ PS4, PS3, X360, 3DS самый большой разброс по продажам, достигающий огромного размера\n",
    "---\n",
    "* Оценки критиков немного влияют на продажи крупных платформ - в среднем корреляция 0.3\n",
    "---\n",
    "* Оценки пользователей абсолютно незначительны и не влияют на продажикрупных платформ\n",
    "---\n",
    "* Топ 5 прибыльных жанров по убыванию - Shooter, Platform, Sports, Role-Playing и Racing, при прогнозировании стоит учитывать самые популярные жанры\n",
    "---\n",
    "* Топ 5 неприбыльных жанров  по убыванию - Action, Fighting, Strategy, Puzzle и Adventure\n",
    "\n",
    "\n",
    "3. Выяснила, что у европейцев и американцев вкусы на игры очень схожи, а вот у японцев другие предпочтения. При прогнозировании на 2017 год следут учесть этот факт и ориентироваться на аудиторию пользователей по регионам:\n",
    "\n",
    "\n",
    "* В Европе и Северной Америке пользователи отдают предпочтение одинаковым топ 5ти платформам - X360, PS4, PS3, XOne и 3DS\n",
    "---\n",
    "* А в Японии - 3DS, PS3, PSV, PS4, WiiU\n",
    "---\n",
    "* Что касается жанровых предпочтений, топ по убыванию следующий в Европе и Америке - Action, Shooter, Sports, Role-Playing. На пятом же месте у Америки - Misc, а в Европе - Racing\n",
    "---\n",
    "* В Японии топ 5 по убыванию - Role-Playing, Action, Misc, Simulation, Fighting \n",
    "---\n",
    "* В Северной Америке и в Европе бОльшую долю продаж занимают игры с рейтингами, только в 18% случаев рейтинг не влияет\n",
    "---\n",
    "* В Японии же наоборот, большую часть занимают игры без рейтинга - 57%\n",
    "---\n",
    "* В Америке и Европе самые продаваемые игры с рейтингом М - 38% и 39%, для прогноза на 2017 год обязательно нужно учесть это. В Японии же этот рейтинг на предпоследнем месте по популярности - 11%\n",
    "\n",
    "4. Проверила две гипотезы:\n",
    "\n",
    "* Средние пользовательские рейтинги платформ Xbox One и PC разные\n",
    "---\n",
    "* Средние пользовательские рейтинги жанров Action и Sports разные\n",
    "\n",
    "## Рекомендации\n",
    "\n",
    "- Поскольку рост суммарных продаж показали платформы 3DS, PS4 и XOne, упор в 2017 году стоит также делать на них\n",
    "---\n",
    "- При этом не стоит забывать о \"платформах гигантах\": PS2, X360, PS3, Wii, DS. У них самые большие продажи за все время и их игры, скорее всего, уже стали классикой среди компьютерных игр\n",
    "---\n",
    "- Продажи игр не зависят от пользовательских отзывов совсем, а вот от критиков есть небольшая зависимость. При продаже игр в 2017 году нашему интернет магазину стоит иногда ориентироваться на оценки критиков\n",
    "---\n",
    "- Поскольку в каждом регионе разнятся предпочтеия, стоит и нам составлять рекомендации для пользователей в зависимости от региона их проживания\n"
   ]
  }
 ],
 "metadata": {
  "ExecuteTimeLog": [
   {
    "duration": 1232,
    "start_time": "2023-08-13T13:40:21.907Z"
   },
   {
    "duration": 143,
    "start_time": "2023-08-13T13:44:18.447Z"
   },
   {
    "duration": 204,
    "start_time": "2023-08-13T13:44:21.003Z"
   },
   {
    "duration": 93,
    "start_time": "2023-08-13T13:44:30.301Z"
   },
   {
    "duration": 3,
    "start_time": "2023-08-13T13:48:42.248Z"
   },
   {
    "duration": 77,
    "start_time": "2023-08-13T13:48:58.156Z"
   },
   {
    "duration": 17,
    "start_time": "2023-08-13T13:49:06.020Z"
   },
   {
    "duration": 3,
    "start_time": "2023-08-13T13:49:09.611Z"
   },
   {
    "duration": 18,
    "start_time": "2023-08-13T13:49:11.089Z"
   },
   {
    "duration": 29,
    "start_time": "2023-08-13T13:50:56.471Z"
   },
   {
    "duration": 3,
    "start_time": "2023-08-13T13:56:19.168Z"
   },
   {
    "duration": 16,
    "start_time": "2023-08-13T13:57:37.406Z"
   },
   {
    "duration": 23,
    "start_time": "2023-08-13T14:01:16.596Z"
   },
   {
    "duration": 13,
    "start_time": "2023-08-13T14:01:26.275Z"
   },
   {
    "duration": 24,
    "start_time": "2023-08-13T14:01:31.719Z"
   },
   {
    "duration": 11,
    "start_time": "2023-08-13T14:01:50.490Z"
   },
   {
    "duration": 24,
    "start_time": "2023-08-13T14:04:11.476Z"
   },
   {
    "duration": 30,
    "start_time": "2023-08-13T14:05:38.971Z"
   },
   {
    "duration": 14,
    "start_time": "2023-08-13T14:05:56.343Z"
   },
   {
    "duration": 23,
    "start_time": "2023-08-13T14:08:03.687Z"
   },
   {
    "duration": 30,
    "start_time": "2023-08-13T14:08:35.289Z"
   },
   {
    "duration": 26,
    "start_time": "2023-08-13T14:08:42.907Z"
   },
   {
    "duration": 26,
    "start_time": "2023-08-13T14:09:15.243Z"
   },
   {
    "duration": 9,
    "start_time": "2023-08-13T14:14:31.639Z"
   },
   {
    "duration": 8,
    "start_time": "2023-08-13T14:14:48.227Z"
   },
   {
    "duration": 10,
    "start_time": "2023-08-13T14:14:55.353Z"
   },
   {
    "duration": 17,
    "start_time": "2023-08-13T14:15:23.467Z"
   },
   {
    "duration": 8,
    "start_time": "2023-08-13T14:15:37.550Z"
   },
   {
    "duration": 794,
    "start_time": "2023-08-13T14:15:44.796Z"
   },
   {
    "duration": 629,
    "start_time": "2023-08-13T14:16:13.794Z"
   },
   {
    "duration": 21,
    "start_time": "2023-08-13T14:17:16.899Z"
   },
   {
    "duration": 3,
    "start_time": "2023-08-13T14:19:41.317Z"
   },
   {
    "duration": 86,
    "start_time": "2023-08-13T14:19:41.514Z"
   },
   {
    "duration": 21,
    "start_time": "2023-08-13T14:19:41.697Z"
   },
   {
    "duration": 1378,
    "start_time": "2023-08-13T14:20:34.442Z"
   },
   {
    "duration": 3,
    "start_time": "2023-08-13T14:20:54.563Z"
   },
   {
    "duration": 73,
    "start_time": "2023-08-13T14:20:54.828Z"
   },
   {
    "duration": 13,
    "start_time": "2023-08-13T14:20:55.130Z"
   },
   {
    "duration": 4,
    "start_time": "2023-08-13T14:20:56.450Z"
   },
   {
    "duration": 5,
    "start_time": "2023-08-13T14:20:59.423Z"
   },
   {
    "duration": 15,
    "start_time": "2023-08-13T14:21:01.231Z"
   },
   {
    "duration": 5,
    "start_time": "2023-08-13T14:22:21.332Z"
   },
   {
    "duration": 12,
    "start_time": "2023-08-13T14:22:22.318Z"
   },
   {
    "duration": 12,
    "start_time": "2023-08-13T14:22:28.215Z"
   },
   {
    "duration": 14,
    "start_time": "2023-08-13T14:22:37.229Z"
   },
   {
    "duration": 1171,
    "start_time": "2023-08-13T14:22:44.955Z"
   },
   {
    "duration": 83,
    "start_time": "2023-08-13T14:22:46.129Z"
   },
   {
    "duration": 18,
    "start_time": "2023-08-13T14:22:46.214Z"
   },
   {
    "duration": 17,
    "start_time": "2023-08-13T14:22:46.234Z"
   },
   {
    "duration": 22,
    "start_time": "2023-08-13T14:22:46.254Z"
   },
   {
    "duration": 125,
    "start_time": "2023-08-13T14:22:46.278Z"
   },
   {
    "duration": 13,
    "start_time": "2023-08-13T14:23:01.618Z"
   },
   {
    "duration": 7,
    "start_time": "2023-08-13T14:23:22.374Z"
   },
   {
    "duration": 6,
    "start_time": "2023-08-13T14:23:43.411Z"
   },
   {
    "duration": 19,
    "start_time": "2023-08-13T14:23:45.434Z"
   },
   {
    "duration": 3,
    "start_time": "2023-08-13T14:24:14.835Z"
   },
   {
    "duration": 30,
    "start_time": "2023-08-13T14:26:16.638Z"
   },
   {
    "duration": 13,
    "start_time": "2023-08-13T14:28:50.008Z"
   },
   {
    "duration": 553,
    "start_time": "2023-08-13T14:29:27.995Z"
   },
   {
    "duration": 12,
    "start_time": "2023-08-13T14:30:19.896Z"
   },
   {
    "duration": 5,
    "start_time": "2023-08-13T14:30:33.603Z"
   },
   {
    "duration": 6,
    "start_time": "2023-08-13T14:32:44.129Z"
   },
   {
    "duration": 254,
    "start_time": "2023-08-13T14:42:29.610Z"
   },
   {
    "duration": 124,
    "start_time": "2023-08-13T14:43:52.992Z"
   },
   {
    "duration": 147,
    "start_time": "2023-08-13T14:44:15.207Z"
   },
   {
    "duration": 118,
    "start_time": "2023-08-13T14:44:50.927Z"
   },
   {
    "duration": 4,
    "start_time": "2023-08-13T14:44:52.716Z"
   },
   {
    "duration": 5,
    "start_time": "2023-08-13T14:44:53.374Z"
   },
   {
    "duration": 2,
    "start_time": "2023-08-13T14:44:57.045Z"
   },
   {
    "duration": 66,
    "start_time": "2023-08-13T14:44:57.208Z"
   },
   {
    "duration": 19,
    "start_time": "2023-08-13T14:44:57.365Z"
   },
   {
    "duration": 28,
    "start_time": "2023-08-13T14:44:57.516Z"
   },
   {
    "duration": 3,
    "start_time": "2023-08-13T14:44:57.861Z"
   },
   {
    "duration": 6,
    "start_time": "2023-08-13T14:44:58.336Z"
   },
   {
    "duration": 19,
    "start_time": "2023-08-13T14:44:59.102Z"
   },
   {
    "duration": 4,
    "start_time": "2023-08-13T14:44:59.833Z"
   },
   {
    "duration": 18,
    "start_time": "2023-08-13T14:45:19.089Z"
   },
   {
    "duration": 5,
    "start_time": "2023-08-13T14:46:11.109Z"
   },
   {
    "duration": 18,
    "start_time": "2023-08-13T14:46:11.800Z"
   },
   {
    "duration": 18,
    "start_time": "2023-08-13T14:46:24.243Z"
   },
   {
    "duration": 4,
    "start_time": "2023-08-13T14:46:26.906Z"
   },
   {
    "duration": 25,
    "start_time": "2023-08-13T14:46:28.096Z"
   },
   {
    "duration": 8,
    "start_time": "2023-08-13T14:47:45.561Z"
   },
   {
    "duration": 104,
    "start_time": "2023-08-13T14:47:47.019Z"
   },
   {
    "duration": 47,
    "start_time": "2023-08-14T11:14:28.873Z"
   },
   {
    "duration": 1248,
    "start_time": "2023-08-14T11:14:34.352Z"
   },
   {
    "duration": 206,
    "start_time": "2023-08-14T11:14:35.602Z"
   },
   {
    "duration": 14,
    "start_time": "2023-08-14T11:14:35.810Z"
   },
   {
    "duration": 29,
    "start_time": "2023-08-14T11:14:35.852Z"
   },
   {
    "duration": 3,
    "start_time": "2023-08-14T11:14:36.172Z"
   },
   {
    "duration": 7,
    "start_time": "2023-08-14T11:14:36.588Z"
   },
   {
    "duration": 4,
    "start_time": "2023-08-14T11:14:36.724Z"
   },
   {
    "duration": 8,
    "start_time": "2023-08-14T11:14:36.878Z"
   },
   {
    "duration": 141,
    "start_time": "2023-08-14T11:14:37.026Z"
   },
   {
    "duration": 4,
    "start_time": "2023-08-14T11:14:49.728Z"
   },
   {
    "duration": 5,
    "start_time": "2023-08-14T11:16:11.726Z"
   },
   {
    "duration": 120,
    "start_time": "2023-08-14T11:16:16.309Z"
   },
   {
    "duration": 66,
    "start_time": "2023-08-14T11:17:18.854Z"
   },
   {
    "duration": 9,
    "start_time": "2023-08-14T11:17:24.118Z"
   },
   {
    "duration": 5,
    "start_time": "2023-08-14T11:17:35.428Z"
   },
   {
    "duration": 14,
    "start_time": "2023-08-14T11:17:44.676Z"
   },
   {
    "duration": 104,
    "start_time": "2023-08-14T11:18:06.107Z"
   },
   {
    "duration": 41,
    "start_time": "2023-08-14T11:18:51.267Z"
   },
   {
    "duration": 42,
    "start_time": "2023-08-14T11:19:29.831Z"
   },
   {
    "duration": 3,
    "start_time": "2023-08-14T11:19:33.252Z"
   },
   {
    "duration": 1394,
    "start_time": "2023-08-14T11:20:02.302Z"
   },
   {
    "duration": 56,
    "start_time": "2023-08-14T11:20:18.623Z"
   },
   {
    "duration": 75,
    "start_time": "2023-08-14T11:20:30.393Z"
   },
   {
    "duration": 51,
    "start_time": "2023-08-14T11:21:27.892Z"
   },
   {
    "duration": 8,
    "start_time": "2023-08-14T11:22:30.202Z"
   },
   {
    "duration": 5,
    "start_time": "2023-08-14T11:22:46.601Z"
   },
   {
    "duration": 8,
    "start_time": "2023-08-14T11:22:59.599Z"
   },
   {
    "duration": 17,
    "start_time": "2023-08-14T11:25:23.870Z"
   },
   {
    "duration": 17,
    "start_time": "2023-08-14T11:25:43.060Z"
   },
   {
    "duration": 13,
    "start_time": "2023-08-14T11:25:51.692Z"
   },
   {
    "duration": 15,
    "start_time": "2023-08-14T11:26:00.125Z"
   },
   {
    "duration": 120,
    "start_time": "2023-08-14T11:28:42.256Z"
   },
   {
    "duration": 91,
    "start_time": "2023-08-14T11:28:53.177Z"
   },
   {
    "duration": 108,
    "start_time": "2023-08-14T11:29:12.352Z"
   },
   {
    "duration": 47,
    "start_time": "2023-08-14T11:29:31.647Z"
   },
   {
    "duration": 96,
    "start_time": "2023-08-14T11:30:34.756Z"
   },
   {
    "duration": 91,
    "start_time": "2023-08-14T11:31:32.408Z"
   },
   {
    "duration": 112,
    "start_time": "2023-08-14T11:32:01.888Z"
   },
   {
    "duration": 103,
    "start_time": "2023-08-14T11:32:27.065Z"
   },
   {
    "duration": 97,
    "start_time": "2023-08-14T11:32:37.503Z"
   },
   {
    "duration": 13,
    "start_time": "2023-08-14T11:32:57.359Z"
   },
   {
    "duration": 9,
    "start_time": "2023-08-14T11:34:20.856Z"
   },
   {
    "duration": 6,
    "start_time": "2023-08-14T11:34:31.796Z"
   },
   {
    "duration": 14,
    "start_time": "2023-08-14T11:34:32.179Z"
   },
   {
    "duration": 12,
    "start_time": "2023-08-14T11:35:28.257Z"
   },
   {
    "duration": 8,
    "start_time": "2023-08-14T11:35:59.457Z"
   },
   {
    "duration": 4,
    "start_time": "2023-08-14T11:36:22.519Z"
   },
   {
    "duration": 117,
    "start_time": "2023-08-14T11:36:23.552Z"
   },
   {
    "duration": 13,
    "start_time": "2023-08-14T11:36:23.703Z"
   },
   {
    "duration": 126,
    "start_time": "2023-08-14T11:36:23.863Z"
   },
   {
    "duration": 9,
    "start_time": "2023-08-14T11:36:24.581Z"
   },
   {
    "duration": 11,
    "start_time": "2023-08-14T11:36:25.346Z"
   },
   {
    "duration": 12,
    "start_time": "2023-08-14T11:36:26.293Z"
   },
   {
    "duration": 4,
    "start_time": "2023-08-14T11:39:34.820Z"
   },
   {
    "duration": 120,
    "start_time": "2023-08-14T11:39:38.029Z"
   },
   {
    "duration": 12,
    "start_time": "2023-08-14T11:39:38.569Z"
   },
   {
    "duration": 100,
    "start_time": "2023-08-14T11:39:39.297Z"
   },
   {
    "duration": 8,
    "start_time": "2023-08-14T11:39:40.195Z"
   },
   {
    "duration": 20,
    "start_time": "2023-08-14T11:40:26.433Z"
   },
   {
    "duration": 122,
    "start_time": "2023-08-14T11:41:06.793Z"
   },
   {
    "duration": 35,
    "start_time": "2023-08-14T11:42:05.772Z"
   },
   {
    "duration": 132,
    "start_time": "2023-08-14T11:46:20.194Z"
   },
   {
    "duration": 105,
    "start_time": "2023-08-14T11:46:33.951Z"
   },
   {
    "duration": 7,
    "start_time": "2023-08-14T11:49:39.134Z"
   },
   {
    "duration": 15,
    "start_time": "2023-08-14T11:49:40.197Z"
   },
   {
    "duration": 6,
    "start_time": "2023-08-14T11:49:42.295Z"
   },
   {
    "duration": 7,
    "start_time": "2023-08-14T11:50:43.266Z"
   },
   {
    "duration": 13,
    "start_time": "2023-08-14T11:50:44.803Z"
   },
   {
    "duration": 96,
    "start_time": "2023-08-14T12:03:52.991Z"
   },
   {
    "duration": 100,
    "start_time": "2023-08-14T12:03:57.393Z"
   },
   {
    "duration": 17,
    "start_time": "2023-08-14T12:07:14.820Z"
   },
   {
    "duration": 8,
    "start_time": "2023-08-14T12:16:36.991Z"
   },
   {
    "duration": 105,
    "start_time": "2023-08-14T12:16:38.722Z"
   },
   {
    "duration": 9,
    "start_time": "2023-08-14T12:16:52.541Z"
   },
   {
    "duration": 54,
    "start_time": "2023-08-14T12:25:57.490Z"
   },
   {
    "duration": 308,
    "start_time": "2023-08-14T12:46:28.770Z"
   },
   {
    "duration": 117,
    "start_time": "2023-08-14T12:47:12.622Z"
   },
   {
    "duration": 174,
    "start_time": "2023-08-14T12:50:44.456Z"
   },
   {
    "duration": 290,
    "start_time": "2023-08-14T12:51:32.192Z"
   },
   {
    "duration": 69,
    "start_time": "2023-08-14T12:52:10.078Z"
   },
   {
    "duration": 259,
    "start_time": "2023-08-14T12:52:28.592Z"
   },
   {
    "duration": 261,
    "start_time": "2023-08-14T12:52:58.291Z"
   },
   {
    "duration": 272,
    "start_time": "2023-08-14T12:53:37.111Z"
   },
   {
    "duration": 268,
    "start_time": "2023-08-14T12:54:11.069Z"
   },
   {
    "duration": 246,
    "start_time": "2023-08-14T12:54:54.588Z"
   },
   {
    "duration": 1102,
    "start_time": "2023-08-14T13:16:27.103Z"
   },
   {
    "duration": 77,
    "start_time": "2023-08-14T13:16:28.207Z"
   },
   {
    "duration": 16,
    "start_time": "2023-08-14T13:16:28.288Z"
   },
   {
    "duration": 29,
    "start_time": "2023-08-14T13:16:28.306Z"
   },
   {
    "duration": 23,
    "start_time": "2023-08-14T13:16:28.336Z"
   },
   {
    "duration": 12,
    "start_time": "2023-08-14T13:16:28.360Z"
   },
   {
    "duration": 7,
    "start_time": "2023-08-14T13:16:28.374Z"
   },
   {
    "duration": 38,
    "start_time": "2023-08-14T13:16:28.386Z"
   },
   {
    "duration": 120,
    "start_time": "2023-08-14T13:16:28.426Z"
   },
   {
    "duration": 12,
    "start_time": "2023-08-14T13:16:28.549Z"
   },
   {
    "duration": 29,
    "start_time": "2023-08-14T13:16:28.562Z"
   },
   {
    "duration": 126,
    "start_time": "2023-08-14T13:16:28.593Z"
   },
   {
    "duration": 7,
    "start_time": "2023-08-14T13:16:28.720Z"
   },
   {
    "duration": 24,
    "start_time": "2023-08-14T13:16:28.728Z"
   },
   {
    "duration": 48,
    "start_time": "2023-08-14T13:16:28.754Z"
   },
   {
    "duration": 24,
    "start_time": "2023-08-14T13:16:28.804Z"
   },
   {
    "duration": 4,
    "start_time": "2023-08-14T13:20:02.808Z"
   },
   {
    "duration": 161,
    "start_time": "2023-08-14T13:20:02.813Z"
   },
   {
    "duration": 18,
    "start_time": "2023-08-14T13:20:02.980Z"
   },
   {
    "duration": 28,
    "start_time": "2023-08-14T13:20:03.000Z"
   },
   {
    "duration": 14,
    "start_time": "2023-08-14T13:20:03.030Z"
   },
   {
    "duration": 43,
    "start_time": "2023-08-14T13:20:03.045Z"
   },
   {
    "duration": 36,
    "start_time": "2023-08-14T13:20:03.090Z"
   },
   {
    "duration": 49,
    "start_time": "2023-08-14T13:20:03.128Z"
   },
   {
    "duration": 130,
    "start_time": "2023-08-14T13:20:03.179Z"
   },
   {
    "duration": 12,
    "start_time": "2023-08-14T13:20:03.312Z"
   },
   {
    "duration": 22,
    "start_time": "2023-08-14T13:20:03.326Z"
   },
   {
    "duration": 106,
    "start_time": "2023-08-14T13:20:03.349Z"
   },
   {
    "duration": 7,
    "start_time": "2023-08-14T13:20:03.457Z"
   },
   {
    "duration": 46,
    "start_time": "2023-08-14T13:20:03.474Z"
   },
   {
    "duration": 72,
    "start_time": "2023-08-14T13:20:03.522Z"
   },
   {
    "duration": 26,
    "start_time": "2023-08-14T13:20:03.596Z"
   },
   {
    "duration": 327,
    "start_time": "2023-08-14T13:20:03.624Z"
   },
   {
    "duration": 47,
    "start_time": "2023-08-14T13:21:50.862Z"
   },
   {
    "duration": 21,
    "start_time": "2023-08-14T13:21:52.464Z"
   },
   {
    "duration": 10,
    "start_time": "2023-08-14T13:21:53.491Z"
   },
   {
    "duration": 49,
    "start_time": "2023-08-14T13:22:03.567Z"
   },
   {
    "duration": 7,
    "start_time": "2023-08-14T13:22:05.998Z"
   },
   {
    "duration": 17,
    "start_time": "2023-08-14T13:22:06.168Z"
   },
   {
    "duration": 100,
    "start_time": "2023-08-14T13:22:35.764Z"
   },
   {
    "duration": 3,
    "start_time": "2023-08-14T13:22:38.191Z"
   },
   {
    "duration": 107,
    "start_time": "2023-08-14T13:22:38.508Z"
   },
   {
    "duration": 12,
    "start_time": "2023-08-14T13:22:39.489Z"
   },
   {
    "duration": 12,
    "start_time": "2023-08-14T13:22:39.612Z"
   },
   {
    "duration": 43,
    "start_time": "2023-08-14T13:22:40.006Z"
   },
   {
    "duration": 9,
    "start_time": "2023-08-14T13:22:40.372Z"
   },
   {
    "duration": 13,
    "start_time": "2023-08-14T13:22:40.735Z"
   },
   {
    "duration": 3,
    "start_time": "2023-08-14T13:22:53.336Z"
   },
   {
    "duration": 70,
    "start_time": "2023-08-14T13:22:53.534Z"
   },
   {
    "duration": 16,
    "start_time": "2023-08-14T13:22:53.689Z"
   },
   {
    "duration": 31,
    "start_time": "2023-08-14T13:22:53.865Z"
   },
   {
    "duration": 4,
    "start_time": "2023-08-14T13:22:55.464Z"
   },
   {
    "duration": 6,
    "start_time": "2023-08-14T13:22:56.092Z"
   },
   {
    "duration": 4,
    "start_time": "2023-08-14T13:22:56.468Z"
   },
   {
    "duration": 9,
    "start_time": "2023-08-14T13:22:57.364Z"
   },
   {
    "duration": 105,
    "start_time": "2023-08-14T13:22:57.908Z"
   },
   {
    "duration": 11,
    "start_time": "2023-08-14T13:22:59.250Z"
   },
   {
    "duration": 10,
    "start_time": "2023-08-14T13:22:59.511Z"
   },
   {
    "duration": 44,
    "start_time": "2023-08-14T13:23:00.127Z"
   },
   {
    "duration": 14,
    "start_time": "2023-08-14T13:23:00.767Z"
   },
   {
    "duration": 15,
    "start_time": "2023-08-14T13:23:01.003Z"
   },
   {
    "duration": 115,
    "start_time": "2023-08-14T13:23:49.924Z"
   },
   {
    "duration": 120,
    "start_time": "2023-08-14T13:25:39.634Z"
   },
   {
    "duration": 111,
    "start_time": "2023-08-14T13:26:05.028Z"
   },
   {
    "duration": 123,
    "start_time": "2023-08-14T13:26:11.667Z"
   },
   {
    "duration": 3,
    "start_time": "2023-08-14T13:32:48.860Z"
   },
   {
    "duration": 130,
    "start_time": "2023-08-14T13:33:01.465Z"
   },
   {
    "duration": 15,
    "start_time": "2023-08-14T13:33:04.765Z"
   },
   {
    "duration": 11,
    "start_time": "2023-08-14T13:33:05.204Z"
   },
   {
    "duration": 102,
    "start_time": "2023-08-14T13:33:26.971Z"
   },
   {
    "duration": 132,
    "start_time": "2023-08-14T13:33:30.356Z"
   },
   {
    "duration": 1144,
    "start_time": "2023-08-14T13:33:39.506Z"
   },
   {
    "duration": 77,
    "start_time": "2023-08-14T13:33:40.652Z"
   },
   {
    "duration": 15,
    "start_time": "2023-08-14T13:33:40.731Z"
   },
   {
    "duration": 43,
    "start_time": "2023-08-14T13:33:40.748Z"
   },
   {
    "duration": 3,
    "start_time": "2023-08-14T13:33:40.794Z"
   },
   {
    "duration": 33,
    "start_time": "2023-08-14T13:33:40.799Z"
   },
   {
    "duration": 20,
    "start_time": "2023-08-14T13:33:40.833Z"
   },
   {
    "duration": 32,
    "start_time": "2023-08-14T13:33:40.855Z"
   },
   {
    "duration": 147,
    "start_time": "2023-08-14T13:33:40.889Z"
   },
   {
    "duration": 9,
    "start_time": "2023-08-14T13:33:41.039Z"
   },
   {
    "duration": 9,
    "start_time": "2023-08-14T13:33:41.049Z"
   },
   {
    "duration": 126,
    "start_time": "2023-08-14T13:33:41.059Z"
   },
   {
    "duration": 8,
    "start_time": "2023-08-14T13:33:41.188Z"
   },
   {
    "duration": 16,
    "start_time": "2023-08-14T13:33:41.198Z"
   },
   {
    "duration": 15,
    "start_time": "2023-08-14T13:33:41.216Z"
   },
   {
    "duration": 28,
    "start_time": "2023-08-14T13:33:41.232Z"
   },
   {
    "duration": 290,
    "start_time": "2023-08-14T13:33:41.262Z"
   },
   {
    "duration": 10,
    "start_time": "2023-08-14T13:34:12.459Z"
   },
   {
    "duration": 128,
    "start_time": "2023-08-14T13:34:13.858Z"
   },
   {
    "duration": 10,
    "start_time": "2023-08-14T13:34:16.664Z"
   },
   {
    "duration": 17,
    "start_time": "2023-08-14T13:34:17.069Z"
   },
   {
    "duration": 99,
    "start_time": "2023-08-14T13:34:17.791Z"
   },
   {
    "duration": 7,
    "start_time": "2023-08-14T13:34:19.211Z"
   },
   {
    "duration": 112,
    "start_time": "2023-08-14T13:34:25.930Z"
   },
   {
    "duration": 11,
    "start_time": "2023-08-14T13:34:26.968Z"
   },
   {
    "duration": 11,
    "start_time": "2023-08-14T13:34:27.463Z"
   },
   {
    "duration": 99,
    "start_time": "2023-08-14T13:34:28.628Z"
   },
   {
    "duration": 3,
    "start_time": "2023-08-14T13:35:05.270Z"
   },
   {
    "duration": 113,
    "start_time": "2023-08-14T13:35:24.454Z"
   },
   {
    "duration": 107,
    "start_time": "2023-08-14T13:35:27.494Z"
   },
   {
    "duration": 114,
    "start_time": "2023-08-14T13:36:15.008Z"
   },
   {
    "duration": 126,
    "start_time": "2023-08-14T13:36:28.664Z"
   },
   {
    "duration": 126,
    "start_time": "2023-08-14T13:37:12.231Z"
   },
   {
    "duration": 111,
    "start_time": "2023-08-14T13:37:32.710Z"
   },
   {
    "duration": 103,
    "start_time": "2023-08-14T13:39:29.086Z"
   },
   {
    "duration": 32,
    "start_time": "2023-08-14T13:39:33.061Z"
   },
   {
    "duration": 443,
    "start_time": "2023-08-14T13:41:23.272Z"
   },
   {
    "duration": 581,
    "start_time": "2023-08-14T13:41:34.196Z"
   },
   {
    "duration": 645,
    "start_time": "2023-08-14T13:41:48.197Z"
   },
   {
    "duration": 8,
    "start_time": "2023-08-14T13:51:28.522Z"
   },
   {
    "duration": 9,
    "start_time": "2023-08-14T13:52:25.481Z"
   },
   {
    "duration": 11,
    "start_time": "2023-08-14T13:52:52.427Z"
   },
   {
    "duration": 23,
    "start_time": "2023-08-14T13:56:52.762Z"
   },
   {
    "duration": 19,
    "start_time": "2023-08-14T13:57:14.222Z"
   },
   {
    "duration": 20,
    "start_time": "2023-08-14T13:57:21.716Z"
   },
   {
    "duration": 21,
    "start_time": "2023-08-14T13:57:26.911Z"
   },
   {
    "duration": 21,
    "start_time": "2023-08-14T13:57:53.605Z"
   },
   {
    "duration": 20,
    "start_time": "2023-08-14T13:58:31.700Z"
   },
   {
    "duration": 20,
    "start_time": "2023-08-14T13:58:45.653Z"
   },
   {
    "duration": 26,
    "start_time": "2023-08-14T13:58:50.893Z"
   },
   {
    "duration": 12,
    "start_time": "2023-08-14T13:59:30.942Z"
   },
   {
    "duration": 17,
    "start_time": "2023-08-14T14:03:56.530Z"
   },
   {
    "duration": 3,
    "start_time": "2023-08-14T14:04:23.723Z"
   },
   {
    "duration": 77,
    "start_time": "2023-08-14T14:04:23.863Z"
   },
   {
    "duration": 17,
    "start_time": "2023-08-14T14:04:23.992Z"
   },
   {
    "duration": 34,
    "start_time": "2023-08-14T14:04:24.116Z"
   },
   {
    "duration": 4,
    "start_time": "2023-08-14T14:04:25.086Z"
   },
   {
    "duration": 6,
    "start_time": "2023-08-14T14:04:25.414Z"
   },
   {
    "duration": 4,
    "start_time": "2023-08-14T14:04:25.653Z"
   },
   {
    "duration": 10,
    "start_time": "2023-08-14T14:04:26.005Z"
   },
   {
    "duration": 10,
    "start_time": "2023-08-14T14:04:26.149Z"
   },
   {
    "duration": 8,
    "start_time": "2023-08-14T14:04:26.399Z"
   },
   {
    "duration": 111,
    "start_time": "2023-08-14T14:04:26.526Z"
   },
   {
    "duration": 97,
    "start_time": "2023-08-14T14:04:26.825Z"
   },
   {
    "duration": 6,
    "start_time": "2023-08-14T14:04:27.157Z"
   },
   {
    "duration": 14,
    "start_time": "2023-08-14T14:04:27.287Z"
   },
   {
    "duration": 15,
    "start_time": "2023-08-14T14:04:27.627Z"
   },
   {
    "duration": 11,
    "start_time": "2023-08-14T14:04:27.787Z"
   },
   {
    "duration": 511,
    "start_time": "2023-08-14T14:04:28.614Z"
   },
   {
    "duration": 582,
    "start_time": "2023-08-14T14:08:24.282Z"
   },
   {
    "duration": 70,
    "start_time": "2023-08-14T14:08:36.730Z"
   },
   {
    "duration": 754,
    "start_time": "2023-08-14T14:08:39.818Z"
   },
   {
    "duration": 541,
    "start_time": "2023-08-14T14:08:53.413Z"
   },
   {
    "duration": 601,
    "start_time": "2023-08-14T14:13:44.667Z"
   },
   {
    "duration": 543,
    "start_time": "2023-08-14T14:14:00.490Z"
   },
   {
    "duration": 600,
    "start_time": "2023-08-14T14:14:09.790Z"
   },
   {
    "duration": 681,
    "start_time": "2023-08-14T14:16:46.176Z"
   },
   {
    "duration": 15,
    "start_time": "2023-08-14T14:19:03.392Z"
   },
   {
    "duration": 12,
    "start_time": "2023-08-14T14:19:22.155Z"
   },
   {
    "duration": 16,
    "start_time": "2023-08-14T14:19:31.357Z"
   },
   {
    "duration": 11,
    "start_time": "2023-08-14T14:20:38.370Z"
   },
   {
    "duration": 15,
    "start_time": "2023-08-14T14:21:16.609Z"
   },
   {
    "duration": 1045,
    "start_time": "2023-08-14T14:22:16.286Z"
   },
   {
    "duration": 71,
    "start_time": "2023-08-14T14:22:17.333Z"
   },
   {
    "duration": 14,
    "start_time": "2023-08-14T14:22:17.406Z"
   },
   {
    "duration": 26,
    "start_time": "2023-08-14T14:22:17.422Z"
   },
   {
    "duration": 2,
    "start_time": "2023-08-14T14:22:17.450Z"
   },
   {
    "duration": 28,
    "start_time": "2023-08-14T14:22:17.454Z"
   },
   {
    "duration": 4,
    "start_time": "2023-08-14T14:22:17.483Z"
   },
   {
    "duration": 10,
    "start_time": "2023-08-14T14:22:17.489Z"
   },
   {
    "duration": 15,
    "start_time": "2023-08-14T14:22:17.501Z"
   },
   {
    "duration": 8,
    "start_time": "2023-08-14T14:22:17.518Z"
   },
   {
    "duration": 148,
    "start_time": "2023-08-14T14:22:17.527Z"
   },
   {
    "duration": 108,
    "start_time": "2023-08-14T14:22:17.676Z"
   },
   {
    "duration": 7,
    "start_time": "2023-08-14T14:22:17.786Z"
   },
   {
    "duration": 39,
    "start_time": "2023-08-14T14:22:17.795Z"
   },
   {
    "duration": 64,
    "start_time": "2023-08-14T14:22:17.835Z"
   },
   {
    "duration": 23,
    "start_time": "2023-08-14T14:22:17.901Z"
   },
   {
    "duration": 562,
    "start_time": "2023-08-14T14:22:17.926Z"
   },
   {
    "duration": 104,
    "start_time": "2023-08-14T14:22:18.489Z"
   },
   {
    "duration": 6,
    "start_time": "2023-08-14T14:22:31.256Z"
   },
   {
    "duration": 13,
    "start_time": "2023-08-14T14:22:40.461Z"
   },
   {
    "duration": 7,
    "start_time": "2023-08-14T14:22:49.453Z"
   },
   {
    "duration": 21,
    "start_time": "2023-08-14T14:24:31.631Z"
   },
   {
    "duration": 22,
    "start_time": "2023-08-14T14:25:44.202Z"
   },
   {
    "duration": 8,
    "start_time": "2023-08-14T14:25:48.481Z"
   },
   {
    "duration": 9,
    "start_time": "2023-08-14T14:26:24.255Z"
   },
   {
    "duration": 1063,
    "start_time": "2023-08-14T14:26:43.590Z"
   },
   {
    "duration": 5,
    "start_time": "2023-08-14T14:26:54.082Z"
   },
   {
    "duration": 8,
    "start_time": "2023-08-14T14:27:07.711Z"
   },
   {
    "duration": 7,
    "start_time": "2023-08-14T14:28:48.579Z"
   },
   {
    "duration": 8,
    "start_time": "2023-08-14T14:29:01.871Z"
   },
   {
    "duration": 15,
    "start_time": "2023-08-14T14:33:47.156Z"
   },
   {
    "duration": 8,
    "start_time": "2023-08-14T14:34:02.806Z"
   },
   {
    "duration": 9,
    "start_time": "2023-08-14T14:36:34.596Z"
   },
   {
    "duration": 23,
    "start_time": "2023-08-14T14:37:02.766Z"
   },
   {
    "duration": 22,
    "start_time": "2023-08-14T14:38:14.584Z"
   },
   {
    "duration": 16,
    "start_time": "2023-08-14T14:38:27.314Z"
   },
   {
    "duration": 253,
    "start_time": "2023-08-14T14:38:49.889Z"
   },
   {
    "duration": 132,
    "start_time": "2023-08-14T14:39:40.815Z"
   },
   {
    "duration": 328,
    "start_time": "2023-08-14T14:39:57.695Z"
   },
   {
    "duration": 226,
    "start_time": "2023-08-14T14:40:08.057Z"
   },
   {
    "duration": 1320,
    "start_time": "2023-08-14T14:44:49.095Z"
   },
   {
    "duration": 1400,
    "start_time": "2023-08-15T09:13:26.272Z"
   },
   {
    "duration": 249,
    "start_time": "2023-08-15T09:13:27.675Z"
   },
   {
    "duration": 18,
    "start_time": "2023-08-15T09:13:27.926Z"
   },
   {
    "duration": 37,
    "start_time": "2023-08-15T09:13:27.947Z"
   },
   {
    "duration": 4,
    "start_time": "2023-08-15T09:13:27.986Z"
   },
   {
    "duration": 15,
    "start_time": "2023-08-15T09:13:27.992Z"
   },
   {
    "duration": 5,
    "start_time": "2023-08-15T09:13:28.008Z"
   },
   {
    "duration": 26,
    "start_time": "2023-08-15T09:13:28.015Z"
   },
   {
    "duration": 33,
    "start_time": "2023-08-15T09:13:28.044Z"
   },
   {
    "duration": 9,
    "start_time": "2023-08-15T09:13:28.081Z"
   },
   {
    "duration": 131,
    "start_time": "2023-08-15T09:13:28.092Z"
   },
   {
    "duration": 116,
    "start_time": "2023-08-15T09:13:28.225Z"
   },
   {
    "duration": 16,
    "start_time": "2023-08-15T09:13:28.342Z"
   },
   {
    "duration": 21,
    "start_time": "2023-08-15T09:13:28.362Z"
   },
   {
    "duration": 22,
    "start_time": "2023-08-15T09:13:28.384Z"
   },
   {
    "duration": 10,
    "start_time": "2023-08-15T09:13:28.408Z"
   },
   {
    "duration": 712,
    "start_time": "2023-08-15T09:13:28.420Z"
   },
   {
    "duration": 1303,
    "start_time": "2023-08-15T09:13:29.135Z"
   },
   {
    "duration": 104,
    "start_time": "2023-08-15T09:14:47.125Z"
   },
   {
    "duration": 1289,
    "start_time": "2023-08-15T09:14:54.804Z"
   },
   {
    "duration": 729,
    "start_time": "2023-08-15T09:26:32.147Z"
   },
   {
    "duration": 8,
    "start_time": "2023-08-15T09:39:35.097Z"
   },
   {
    "duration": 26,
    "start_time": "2023-08-15T09:39:41.019Z"
   },
   {
    "duration": 703,
    "start_time": "2023-08-15T09:41:29.720Z"
   },
   {
    "duration": 308,
    "start_time": "2023-08-15T09:43:21.882Z"
   },
   {
    "duration": 287,
    "start_time": "2023-08-15T09:43:39.423Z"
   },
   {
    "duration": 312,
    "start_time": "2023-08-15T09:43:45.250Z"
   },
   {
    "duration": 33,
    "start_time": "2023-08-15T09:44:11.717Z"
   },
   {
    "duration": 335,
    "start_time": "2023-08-15T09:44:17.131Z"
   },
   {
    "duration": 316,
    "start_time": "2023-08-15T09:44:23.176Z"
   },
   {
    "duration": 1230,
    "start_time": "2023-08-15T09:44:30.912Z"
   },
   {
    "duration": 76,
    "start_time": "2023-08-15T09:44:32.145Z"
   },
   {
    "duration": 15,
    "start_time": "2023-08-15T09:44:32.223Z"
   },
   {
    "duration": 53,
    "start_time": "2023-08-15T09:44:32.241Z"
   },
   {
    "duration": 3,
    "start_time": "2023-08-15T09:44:32.297Z"
   },
   {
    "duration": 112,
    "start_time": "2023-08-15T09:44:32.302Z"
   },
   {
    "duration": 57,
    "start_time": "2023-08-15T09:44:32.416Z"
   },
   {
    "duration": 54,
    "start_time": "2023-08-15T09:44:32.476Z"
   },
   {
    "duration": 35,
    "start_time": "2023-08-15T09:44:32.532Z"
   },
   {
    "duration": 28,
    "start_time": "2023-08-15T09:44:32.576Z"
   },
   {
    "duration": 145,
    "start_time": "2023-08-15T09:44:32.606Z"
   },
   {
    "duration": 116,
    "start_time": "2023-08-15T09:44:32.753Z"
   },
   {
    "duration": 7,
    "start_time": "2023-08-15T09:44:32.872Z"
   },
   {
    "duration": 41,
    "start_time": "2023-08-15T09:44:32.882Z"
   },
   {
    "duration": 58,
    "start_time": "2023-08-15T09:44:32.925Z"
   },
   {
    "duration": 35,
    "start_time": "2023-08-15T09:44:32.985Z"
   },
   {
    "duration": 640,
    "start_time": "2023-08-15T09:44:33.022Z"
   },
   {
    "duration": 1270,
    "start_time": "2023-08-15T09:44:33.668Z"
   },
   {
    "duration": 33,
    "start_time": "2023-08-15T09:44:34.940Z"
   },
   {
    "duration": 4014,
    "start_time": "2023-08-15T09:44:34.975Z"
   },
   {
    "duration": 29,
    "start_time": "2023-08-15T09:44:56.547Z"
   },
   {
    "duration": 1563,
    "start_time": "2023-08-15T09:45:39.275Z"
   },
   {
    "duration": 1199,
    "start_time": "2023-08-15T09:46:28.242Z"
   },
   {
    "duration": 1298,
    "start_time": "2023-08-15T09:46:42.465Z"
   },
   {
    "duration": 1369,
    "start_time": "2023-08-15T09:52:11.342Z"
   },
   {
    "duration": 32,
    "start_time": "2023-08-15T09:52:24.218Z"
   },
   {
    "duration": 17,
    "start_time": "2023-08-15T09:55:21.736Z"
   },
   {
    "duration": 1441,
    "start_time": "2023-08-15T12:17:15.058Z"
   },
   {
    "duration": 207,
    "start_time": "2023-08-15T12:17:16.502Z"
   },
   {
    "duration": 21,
    "start_time": "2023-08-15T12:17:16.712Z"
   },
   {
    "duration": 52,
    "start_time": "2023-08-15T12:17:16.736Z"
   },
   {
    "duration": 4,
    "start_time": "2023-08-15T12:17:16.791Z"
   },
   {
    "duration": 16,
    "start_time": "2023-08-15T12:17:16.798Z"
   },
   {
    "duration": 6,
    "start_time": "2023-08-15T12:17:16.816Z"
   },
   {
    "duration": 30,
    "start_time": "2023-08-15T12:17:16.824Z"
   },
   {
    "duration": 23,
    "start_time": "2023-08-15T12:17:16.856Z"
   },
   {
    "duration": 16,
    "start_time": "2023-08-15T12:17:16.883Z"
   },
   {
    "duration": 148,
    "start_time": "2023-08-15T12:17:16.901Z"
   },
   {
    "duration": 117,
    "start_time": "2023-08-15T12:17:17.051Z"
   },
   {
    "duration": 7,
    "start_time": "2023-08-15T12:17:17.169Z"
   },
   {
    "duration": 17,
    "start_time": "2023-08-15T12:17:17.178Z"
   },
   {
    "duration": 24,
    "start_time": "2023-08-15T12:17:17.197Z"
   },
   {
    "duration": 45,
    "start_time": "2023-08-15T12:17:17.223Z"
   },
   {
    "duration": 771,
    "start_time": "2023-08-15T12:17:17.270Z"
   },
   {
    "duration": 1379,
    "start_time": "2023-08-15T12:17:18.043Z"
   },
   {
    "duration": 50,
    "start_time": "2023-08-15T12:17:19.425Z"
   },
   {
    "duration": 25,
    "start_time": "2023-08-15T12:17:19.478Z"
   },
   {
    "duration": 1479,
    "start_time": "2023-08-15T12:17:42.797Z"
   },
   {
    "duration": 1320,
    "start_time": "2023-08-15T12:19:06.571Z"
   },
   {
    "duration": 806,
    "start_time": "2023-08-15T12:20:15.210Z"
   },
   {
    "duration": 1226,
    "start_time": "2023-08-15T12:21:06.207Z"
   },
   {
    "duration": 75,
    "start_time": "2023-08-15T12:21:07.435Z"
   },
   {
    "duration": 17,
    "start_time": "2023-08-15T12:21:07.512Z"
   },
   {
    "duration": 50,
    "start_time": "2023-08-15T12:21:07.531Z"
   },
   {
    "duration": 4,
    "start_time": "2023-08-15T12:21:07.583Z"
   },
   {
    "duration": 26,
    "start_time": "2023-08-15T12:21:07.588Z"
   },
   {
    "duration": 18,
    "start_time": "2023-08-15T12:21:07.616Z"
   },
   {
    "duration": 30,
    "start_time": "2023-08-15T12:21:07.636Z"
   },
   {
    "duration": 20,
    "start_time": "2023-08-15T12:21:07.668Z"
   },
   {
    "duration": 31,
    "start_time": "2023-08-15T12:21:07.690Z"
   },
   {
    "duration": 167,
    "start_time": "2023-08-15T12:21:07.723Z"
   },
   {
    "duration": 126,
    "start_time": "2023-08-15T12:21:07.892Z"
   },
   {
    "duration": 8,
    "start_time": "2023-08-15T12:21:08.020Z"
   },
   {
    "duration": 18,
    "start_time": "2023-08-15T12:21:08.030Z"
   },
   {
    "duration": 31,
    "start_time": "2023-08-15T12:21:08.050Z"
   },
   {
    "duration": 11,
    "start_time": "2023-08-15T12:21:08.083Z"
   },
   {
    "duration": 612,
    "start_time": "2023-08-15T12:21:08.096Z"
   },
   {
    "duration": 1303,
    "start_time": "2023-08-15T12:21:08.710Z"
   },
   {
    "duration": 25,
    "start_time": "2023-08-15T12:21:10.016Z"
   },
   {
    "duration": 856,
    "start_time": "2023-08-15T12:21:10.044Z"
   },
   {
    "duration": 758,
    "start_time": "2023-08-15T12:46:20.815Z"
   },
   {
    "duration": 252,
    "start_time": "2023-08-15T12:46:29.457Z"
   },
   {
    "duration": 461,
    "start_time": "2023-08-15T12:46:46.723Z"
   },
   {
    "duration": 10,
    "start_time": "2023-08-15T13:00:43.214Z"
   },
   {
    "duration": 13,
    "start_time": "2023-08-15T13:01:21.321Z"
   },
   {
    "duration": 8,
    "start_time": "2023-08-15T13:02:39.130Z"
   },
   {
    "duration": 17,
    "start_time": "2023-08-15T13:02:45.972Z"
   },
   {
    "duration": 398,
    "start_time": "2023-08-15T13:03:40.456Z"
   },
   {
    "duration": 783,
    "start_time": "2023-08-15T13:04:07.302Z"
   },
   {
    "duration": 714,
    "start_time": "2023-08-15T13:11:19.625Z"
   },
   {
    "duration": 4,
    "start_time": "2023-08-15T13:12:47.882Z"
   },
   {
    "duration": 1348,
    "start_time": "2023-08-15T13:12:55.668Z"
   },
   {
    "duration": 91,
    "start_time": "2023-08-15T13:12:57.019Z"
   },
   {
    "duration": 20,
    "start_time": "2023-08-15T13:12:57.112Z"
   },
   {
    "duration": 63,
    "start_time": "2023-08-15T13:12:57.135Z"
   },
   {
    "duration": 3,
    "start_time": "2023-08-15T13:12:57.200Z"
   },
   {
    "duration": 13,
    "start_time": "2023-08-15T13:12:57.205Z"
   },
   {
    "duration": 30,
    "start_time": "2023-08-15T13:12:57.220Z"
   },
   {
    "duration": 32,
    "start_time": "2023-08-15T13:12:57.252Z"
   },
   {
    "duration": 25,
    "start_time": "2023-08-15T13:12:57.286Z"
   },
   {
    "duration": 14,
    "start_time": "2023-08-15T13:12:57.314Z"
   },
   {
    "duration": 145,
    "start_time": "2023-08-15T13:12:57.331Z"
   },
   {
    "duration": 134,
    "start_time": "2023-08-15T13:12:57.477Z"
   },
   {
    "duration": 8,
    "start_time": "2023-08-15T13:12:57.613Z"
   },
   {
    "duration": 17,
    "start_time": "2023-08-15T13:12:57.623Z"
   },
   {
    "duration": 38,
    "start_time": "2023-08-15T13:12:57.642Z"
   },
   {
    "duration": 17,
    "start_time": "2023-08-15T13:12:57.685Z"
   },
   {
    "duration": 712,
    "start_time": "2023-08-15T13:12:57.704Z"
   },
   {
    "duration": 1478,
    "start_time": "2023-08-15T13:12:58.418Z"
   },
   {
    "duration": 29,
    "start_time": "2023-08-15T13:12:59.898Z"
   },
   {
    "duration": 1092,
    "start_time": "2023-08-15T13:12:59.929Z"
   },
   {
    "duration": 675,
    "start_time": "2023-08-15T13:13:01.024Z"
   },
   {
    "duration": 17,
    "start_time": "2023-08-15T13:13:01.701Z"
   },
   {
    "duration": 821,
    "start_time": "2023-08-15T13:13:01.720Z"
   },
   {
    "duration": 926,
    "start_time": "2023-08-15T13:29:12.731Z"
   },
   {
    "duration": 832,
    "start_time": "2023-08-15T13:29:22.241Z"
   },
   {
    "duration": 14,
    "start_time": "2023-08-15T13:30:07.504Z"
   },
   {
    "duration": 13,
    "start_time": "2023-08-15T13:30:34.320Z"
   },
   {
    "duration": 13,
    "start_time": "2023-08-15T13:31:13.493Z"
   },
   {
    "duration": 14,
    "start_time": "2023-08-15T13:31:57.812Z"
   },
   {
    "duration": 8,
    "start_time": "2023-08-15T13:49:32.196Z"
   },
   {
    "duration": 12,
    "start_time": "2023-08-15T13:51:20.381Z"
   },
   {
    "duration": 58,
    "start_time": "2023-08-15T13:51:25.785Z"
   },
   {
    "duration": 15,
    "start_time": "2023-08-15T13:51:53.344Z"
   },
   {
    "duration": 8,
    "start_time": "2023-08-15T13:52:26.317Z"
   },
   {
    "duration": 10,
    "start_time": "2023-08-15T13:52:43.340Z"
   },
   {
    "duration": 14,
    "start_time": "2023-08-15T13:52:53.189Z"
   },
   {
    "duration": 14,
    "start_time": "2023-08-15T13:53:02.678Z"
   },
   {
    "duration": 64,
    "start_time": "2023-08-15T13:54:11.096Z"
   },
   {
    "duration": 17,
    "start_time": "2023-08-15T13:54:31.419Z"
   },
   {
    "duration": 25,
    "start_time": "2023-08-15T13:54:55.827Z"
   },
   {
    "duration": 18,
    "start_time": "2023-08-15T13:55:07.192Z"
   },
   {
    "duration": 12,
    "start_time": "2023-08-15T13:56:35.138Z"
   },
   {
    "duration": 1336,
    "start_time": "2023-08-16T12:11:32.241Z"
   },
   {
    "duration": 120,
    "start_time": "2023-08-16T12:11:33.579Z"
   },
   {
    "duration": 16,
    "start_time": "2023-08-16T12:11:33.701Z"
   },
   {
    "duration": 42,
    "start_time": "2023-08-16T12:11:33.719Z"
   },
   {
    "duration": 4,
    "start_time": "2023-08-16T12:11:33.766Z"
   },
   {
    "duration": 22,
    "start_time": "2023-08-16T12:11:33.774Z"
   },
   {
    "duration": 6,
    "start_time": "2023-08-16T12:11:33.798Z"
   },
   {
    "duration": 15,
    "start_time": "2023-08-16T12:11:33.805Z"
   },
   {
    "duration": 10,
    "start_time": "2023-08-16T12:11:33.822Z"
   },
   {
    "duration": 27,
    "start_time": "2023-08-16T12:11:33.835Z"
   },
   {
    "duration": 127,
    "start_time": "2023-08-16T12:11:33.864Z"
   },
   {
    "duration": 115,
    "start_time": "2023-08-16T12:11:33.993Z"
   },
   {
    "duration": 6,
    "start_time": "2023-08-16T12:11:34.110Z"
   },
   {
    "duration": 20,
    "start_time": "2023-08-16T12:11:34.118Z"
   },
   {
    "duration": 36,
    "start_time": "2023-08-16T12:11:34.139Z"
   },
   {
    "duration": 12,
    "start_time": "2023-08-16T12:11:34.177Z"
   },
   {
    "duration": 647,
    "start_time": "2023-08-16T12:11:34.192Z"
   },
   {
    "duration": 1254,
    "start_time": "2023-08-16T12:11:34.841Z"
   },
   {
    "duration": 26,
    "start_time": "2023-08-16T12:11:36.097Z"
   },
   {
    "duration": 821,
    "start_time": "2023-08-16T12:11:36.125Z"
   },
   {
    "duration": 572,
    "start_time": "2023-08-16T12:11:36.948Z"
   },
   {
    "duration": 16,
    "start_time": "2023-08-16T12:11:37.521Z"
   },
   {
    "duration": 711,
    "start_time": "2023-08-16T12:11:37.539Z"
   },
   {
    "duration": 18,
    "start_time": "2023-08-16T12:11:38.252Z"
   },
   {
    "duration": 33,
    "start_time": "2023-08-16T12:11:38.272Z"
   },
   {
    "duration": 17,
    "start_time": "2023-08-16T12:11:38.307Z"
   },
   {
    "duration": 38,
    "start_time": "2023-08-16T12:11:38.326Z"
   },
   {
    "duration": 7,
    "start_time": "2023-08-16T12:16:02.420Z"
   },
   {
    "duration": 6,
    "start_time": "2023-08-16T12:16:41.807Z"
   },
   {
    "duration": 3,
    "start_time": "2023-08-16T12:16:41.985Z"
   },
   {
    "duration": 9,
    "start_time": "2023-08-16T12:16:42.245Z"
   },
   {
    "duration": 9,
    "start_time": "2023-08-16T12:16:42.382Z"
   },
   {
    "duration": 5,
    "start_time": "2023-08-16T12:16:42.593Z"
   },
   {
    "duration": 42,
    "start_time": "2023-08-16T12:16:42.722Z"
   },
   {
    "duration": 24,
    "start_time": "2023-08-16T12:16:42.957Z"
   },
   {
    "duration": 7,
    "start_time": "2023-08-16T12:16:43.374Z"
   },
   {
    "duration": 13,
    "start_time": "2023-08-16T12:16:43.483Z"
   },
   {
    "duration": 17,
    "start_time": "2023-08-16T12:16:43.741Z"
   },
   {
    "duration": 9,
    "start_time": "2023-08-16T12:16:43.891Z"
   },
   {
    "duration": 581,
    "start_time": "2023-08-16T12:16:44.889Z"
   },
   {
    "duration": 664,
    "start_time": "2023-08-16T12:17:32.090Z"
   },
   {
    "duration": 1211,
    "start_time": "2023-08-16T12:17:42.123Z"
   },
   {
    "duration": 83,
    "start_time": "2023-08-16T12:17:43.336Z"
   },
   {
    "duration": 18,
    "start_time": "2023-08-16T12:17:43.421Z"
   },
   {
    "duration": 52,
    "start_time": "2023-08-16T12:17:43.441Z"
   },
   {
    "duration": 4,
    "start_time": "2023-08-16T12:17:43.496Z"
   },
   {
    "duration": 13,
    "start_time": "2023-08-16T12:17:43.501Z"
   },
   {
    "duration": 128,
    "start_time": "2023-08-16T12:17:43.516Z"
   },
   {
    "duration": 0,
    "start_time": "2023-08-16T12:17:43.647Z"
   },
   {
    "duration": 0,
    "start_time": "2023-08-16T12:17:43.648Z"
   },
   {
    "duration": 0,
    "start_time": "2023-08-16T12:17:43.649Z"
   },
   {
    "duration": 0,
    "start_time": "2023-08-16T12:17:43.650Z"
   },
   {
    "duration": 0,
    "start_time": "2023-08-16T12:17:43.659Z"
   },
   {
    "duration": 0,
    "start_time": "2023-08-16T12:17:43.659Z"
   },
   {
    "duration": 0,
    "start_time": "2023-08-16T12:17:43.661Z"
   },
   {
    "duration": 0,
    "start_time": "2023-08-16T12:17:43.661Z"
   },
   {
    "duration": 0,
    "start_time": "2023-08-16T12:17:43.662Z"
   },
   {
    "duration": 0,
    "start_time": "2023-08-16T12:17:43.663Z"
   },
   {
    "duration": 0,
    "start_time": "2023-08-16T12:17:43.664Z"
   },
   {
    "duration": 0,
    "start_time": "2023-08-16T12:17:43.665Z"
   },
   {
    "duration": 0,
    "start_time": "2023-08-16T12:17:43.667Z"
   },
   {
    "duration": 0,
    "start_time": "2023-08-16T12:17:43.668Z"
   },
   {
    "duration": 0,
    "start_time": "2023-08-16T12:17:43.669Z"
   },
   {
    "duration": 0,
    "start_time": "2023-08-16T12:17:43.670Z"
   },
   {
    "duration": 0,
    "start_time": "2023-08-16T12:17:43.671Z"
   },
   {
    "duration": 0,
    "start_time": "2023-08-16T12:17:43.672Z"
   },
   {
    "duration": 0,
    "start_time": "2023-08-16T12:17:43.673Z"
   },
   {
    "duration": 0,
    "start_time": "2023-08-16T12:17:43.674Z"
   },
   {
    "duration": 1197,
    "start_time": "2023-08-16T12:18:09.062Z"
   },
   {
    "duration": 75,
    "start_time": "2023-08-16T12:18:10.261Z"
   },
   {
    "duration": 15,
    "start_time": "2023-08-16T12:18:10.338Z"
   },
   {
    "duration": 58,
    "start_time": "2023-08-16T12:18:10.356Z"
   },
   {
    "duration": 4,
    "start_time": "2023-08-16T12:18:10.416Z"
   },
   {
    "duration": 52,
    "start_time": "2023-08-16T12:18:10.423Z"
   },
   {
    "duration": 141,
    "start_time": "2023-08-16T12:18:10.477Z"
   },
   {
    "duration": 0,
    "start_time": "2023-08-16T12:18:10.621Z"
   },
   {
    "duration": 0,
    "start_time": "2023-08-16T12:18:10.623Z"
   },
   {
    "duration": 0,
    "start_time": "2023-08-16T12:18:10.624Z"
   },
   {
    "duration": 0,
    "start_time": "2023-08-16T12:18:10.625Z"
   },
   {
    "duration": 0,
    "start_time": "2023-08-16T12:18:10.628Z"
   },
   {
    "duration": 0,
    "start_time": "2023-08-16T12:18:10.630Z"
   },
   {
    "duration": 0,
    "start_time": "2023-08-16T12:18:10.631Z"
   },
   {
    "duration": 0,
    "start_time": "2023-08-16T12:18:10.633Z"
   },
   {
    "duration": 0,
    "start_time": "2023-08-16T12:18:10.635Z"
   },
   {
    "duration": 0,
    "start_time": "2023-08-16T12:18:10.659Z"
   },
   {
    "duration": 0,
    "start_time": "2023-08-16T12:18:10.661Z"
   },
   {
    "duration": 0,
    "start_time": "2023-08-16T12:18:10.663Z"
   },
   {
    "duration": 0,
    "start_time": "2023-08-16T12:18:10.665Z"
   },
   {
    "duration": 0,
    "start_time": "2023-08-16T12:18:10.666Z"
   },
   {
    "duration": 0,
    "start_time": "2023-08-16T12:18:10.668Z"
   },
   {
    "duration": 0,
    "start_time": "2023-08-16T12:18:10.669Z"
   },
   {
    "duration": 0,
    "start_time": "2023-08-16T12:18:10.670Z"
   },
   {
    "duration": 0,
    "start_time": "2023-08-16T12:18:10.672Z"
   },
   {
    "duration": 0,
    "start_time": "2023-08-16T12:18:10.673Z"
   },
   {
    "duration": 0,
    "start_time": "2023-08-16T12:18:10.674Z"
   },
   {
    "duration": 619,
    "start_time": "2023-08-16T12:18:19.006Z"
   },
   {
    "duration": 4,
    "start_time": "2023-08-16T12:18:26.771Z"
   },
   {
    "duration": 69,
    "start_time": "2023-08-16T12:18:26.945Z"
   },
   {
    "duration": 15,
    "start_time": "2023-08-16T12:18:27.127Z"
   },
   {
    "duration": 32,
    "start_time": "2023-08-16T12:18:27.340Z"
   },
   {
    "duration": 3,
    "start_time": "2023-08-16T12:18:28.011Z"
   },
   {
    "duration": 9,
    "start_time": "2023-08-16T12:18:28.327Z"
   },
   {
    "duration": 21,
    "start_time": "2023-08-16T12:18:28.459Z"
   },
   {
    "duration": 12,
    "start_time": "2023-08-16T12:18:28.720Z"
   },
   {
    "duration": 11,
    "start_time": "2023-08-16T12:18:28.858Z"
   },
   {
    "duration": 9,
    "start_time": "2023-08-16T12:18:29.677Z"
   },
   {
    "duration": 112,
    "start_time": "2023-08-16T12:18:29.854Z"
   },
   {
    "duration": 7,
    "start_time": "2023-08-16T12:18:36.869Z"
   },
   {
    "duration": 6,
    "start_time": "2023-08-16T12:18:53.037Z"
   },
   {
    "duration": 4,
    "start_time": "2023-08-16T12:18:55.804Z"
   },
   {
    "duration": 7,
    "start_time": "2023-08-16T12:18:56.499Z"
   },
   {
    "duration": 19,
    "start_time": "2023-08-16T12:20:46.778Z"
   },
   {
    "duration": 15,
    "start_time": "2023-08-16T12:20:49.230Z"
   },
   {
    "duration": 9,
    "start_time": "2023-08-16T12:21:09.503Z"
   },
   {
    "duration": 5,
    "start_time": "2023-08-16T12:21:11.491Z"
   },
   {
    "duration": 11,
    "start_time": "2023-08-16T12:21:14.888Z"
   },
   {
    "duration": 15,
    "start_time": "2023-08-16T12:21:14.998Z"
   },
   {
    "duration": 4,
    "start_time": "2023-08-16T12:21:15.238Z"
   },
   {
    "duration": 127,
    "start_time": "2023-08-16T12:21:15.364Z"
   },
   {
    "duration": 101,
    "start_time": "2023-08-16T12:21:15.590Z"
   },
   {
    "duration": 7,
    "start_time": "2023-08-16T12:21:15.997Z"
   },
   {
    "duration": 14,
    "start_time": "2023-08-16T12:21:16.139Z"
   },
   {
    "duration": 18,
    "start_time": "2023-08-16T12:21:16.357Z"
   },
   {
    "duration": 11,
    "start_time": "2023-08-16T12:21:16.471Z"
   },
   {
    "duration": 606,
    "start_time": "2023-08-16T12:21:20.227Z"
   },
   {
    "duration": 375,
    "start_time": "2023-08-16T12:21:41.312Z"
   },
   {
    "duration": 332,
    "start_time": "2023-08-16T12:21:52.180Z"
   },
   {
    "duration": 1260,
    "start_time": "2023-08-16T12:25:29.475Z"
   },
   {
    "duration": 28,
    "start_time": "2023-08-16T12:26:07.118Z"
   },
   {
    "duration": 829,
    "start_time": "2023-08-16T12:26:12.165Z"
   },
   {
    "duration": 465,
    "start_time": "2023-08-16T12:27:24.658Z"
   },
   {
    "duration": 14,
    "start_time": "2023-08-16T12:27:40.762Z"
   },
   {
    "duration": 768,
    "start_time": "2023-08-16T12:27:45.182Z"
   },
   {
    "duration": 13,
    "start_time": "2023-08-16T12:28:40.852Z"
   },
   {
    "duration": 13,
    "start_time": "2023-08-16T12:28:41.320Z"
   },
   {
    "duration": 14,
    "start_time": "2023-08-16T12:28:41.752Z"
   },
   {
    "duration": 14,
    "start_time": "2023-08-16T12:29:23.092Z"
   },
   {
    "duration": 26,
    "start_time": "2023-08-16T12:31:22.197Z"
   },
   {
    "duration": 14,
    "start_time": "2023-08-16T12:31:41.294Z"
   },
   {
    "duration": 15,
    "start_time": "2023-08-16T12:36:43.653Z"
   },
   {
    "duration": 15,
    "start_time": "2023-08-16T12:37:04.391Z"
   },
   {
    "duration": 16,
    "start_time": "2023-08-16T12:37:09.235Z"
   },
   {
    "duration": 19,
    "start_time": "2023-08-16T12:40:39.609Z"
   },
   {
    "duration": 17,
    "start_time": "2023-08-16T12:40:56.917Z"
   },
   {
    "duration": 13,
    "start_time": "2023-08-16T12:44:32.854Z"
   },
   {
    "duration": 15,
    "start_time": "2023-08-16T12:45:04.446Z"
   },
   {
    "duration": 15,
    "start_time": "2023-08-16T12:45:14.279Z"
   },
   {
    "duration": 19,
    "start_time": "2023-08-16T12:45:52.385Z"
   },
   {
    "duration": 24,
    "start_time": "2023-08-16T12:46:36.710Z"
   },
   {
    "duration": 18,
    "start_time": "2023-08-16T12:56:10.937Z"
   },
   {
    "duration": 17,
    "start_time": "2023-08-16T12:56:31.626Z"
   },
   {
    "duration": 17,
    "start_time": "2023-08-16T13:01:32.610Z"
   },
   {
    "duration": 24,
    "start_time": "2023-08-16T13:06:19.736Z"
   },
   {
    "duration": 88,
    "start_time": "2023-08-16T13:08:53.469Z"
   },
   {
    "duration": 94,
    "start_time": "2023-08-16T13:09:04.088Z"
   },
   {
    "duration": 45,
    "start_time": "2023-08-16T13:09:11.175Z"
   },
   {
    "duration": 221,
    "start_time": "2023-08-16T13:14:24.530Z"
   },
   {
    "duration": 41,
    "start_time": "2023-08-16T13:14:48.339Z"
   },
   {
    "duration": 31,
    "start_time": "2023-08-16T13:26:14.694Z"
   },
   {
    "duration": 31,
    "start_time": "2023-08-16T13:27:10.320Z"
   },
   {
    "duration": 34,
    "start_time": "2023-08-16T13:27:16.562Z"
   },
   {
    "duration": 126,
    "start_time": "2023-08-16T13:32:57.801Z"
   },
   {
    "duration": 122,
    "start_time": "2023-08-16T13:35:31.750Z"
   },
   {
    "duration": 25,
    "start_time": "2023-08-16T13:39:25.611Z"
   },
   {
    "duration": 842,
    "start_time": "2023-08-16T13:39:28.413Z"
   },
   {
    "duration": 456,
    "start_time": "2023-08-16T13:39:29.610Z"
   },
   {
    "duration": 15,
    "start_time": "2023-08-16T13:39:31.433Z"
   },
   {
    "duration": 817,
    "start_time": "2023-08-16T13:39:31.746Z"
   },
   {
    "duration": 15,
    "start_time": "2023-08-16T13:39:32.565Z"
   },
   {
    "duration": 84,
    "start_time": "2023-08-16T13:39:32.582Z"
   },
   {
    "duration": 109,
    "start_time": "2023-08-16T13:39:32.669Z"
   },
   {
    "duration": 20,
    "start_time": "2023-08-16T13:39:32.780Z"
   },
   {
    "duration": 132,
    "start_time": "2023-08-16T13:39:33.187Z"
   },
   {
    "duration": 335,
    "start_time": "2023-08-16T13:40:19.854Z"
   },
   {
    "duration": 321,
    "start_time": "2023-08-16T13:40:37.661Z"
   },
   {
    "duration": 329,
    "start_time": "2023-08-16T13:41:14.219Z"
   },
   {
    "duration": 502,
    "start_time": "2023-08-16T13:42:07.846Z"
   },
   {
    "duration": 396,
    "start_time": "2023-08-16T13:43:18.286Z"
   },
   {
    "duration": 336,
    "start_time": "2023-08-16T13:43:33.802Z"
   },
   {
    "duration": 230,
    "start_time": "2023-08-16T13:56:09.064Z"
   },
   {
    "duration": 260,
    "start_time": "2023-08-16T13:56:25.193Z"
   },
   {
    "duration": 224,
    "start_time": "2023-08-16T13:57:26.490Z"
   },
   {
    "duration": 493,
    "start_time": "2023-08-16T14:00:41.310Z"
   },
   {
    "duration": 247,
    "start_time": "2023-08-16T14:00:56.086Z"
   },
   {
    "duration": 327,
    "start_time": "2023-08-16T14:01:52.310Z"
   },
   {
    "duration": 95,
    "start_time": "2023-08-16T14:08:26.746Z"
   },
   {
    "duration": 122,
    "start_time": "2023-08-16T14:08:37.408Z"
   },
   {
    "duration": 340,
    "start_time": "2023-08-16T14:12:00.466Z"
   },
   {
    "duration": 336,
    "start_time": "2023-08-16T14:12:08.930Z"
   },
   {
    "duration": 500,
    "start_time": "2023-08-16T14:13:18.105Z"
   },
   {
    "duration": 381,
    "start_time": "2023-08-16T14:13:45.204Z"
   },
   {
    "duration": 393,
    "start_time": "2023-08-16T14:14:06.015Z"
   },
   {
    "duration": 363,
    "start_time": "2023-08-16T14:14:24.998Z"
   },
   {
    "duration": 393,
    "start_time": "2023-08-16T14:17:07.011Z"
   },
   {
    "duration": 395,
    "start_time": "2023-08-16T14:17:57.758Z"
   },
   {
    "duration": 117,
    "start_time": "2023-08-16T14:18:14.976Z"
   },
   {
    "duration": 242,
    "start_time": "2023-08-16T14:18:47.384Z"
   },
   {
    "duration": 237,
    "start_time": "2023-08-16T14:20:50.297Z"
   },
   {
    "duration": 639,
    "start_time": "2023-08-16T14:21:02.547Z"
   },
   {
    "duration": 585,
    "start_time": "2023-08-16T14:21:18.481Z"
   },
   {
    "duration": 454,
    "start_time": "2023-08-16T14:21:52.543Z"
   },
   {
    "duration": 448,
    "start_time": "2023-08-16T14:22:04.714Z"
   },
   {
    "duration": 343,
    "start_time": "2023-08-16T14:23:21.814Z"
   },
   {
    "duration": 304,
    "start_time": "2023-08-16T14:23:37.792Z"
   },
   {
    "duration": 320,
    "start_time": "2023-08-16T14:23:43.761Z"
   },
   {
    "duration": 393,
    "start_time": "2023-08-16T14:24:12.789Z"
   },
   {
    "duration": 437,
    "start_time": "2023-08-16T14:24:26.624Z"
   },
   {
    "duration": 343,
    "start_time": "2023-08-16T14:24:39.327Z"
   },
   {
    "duration": 344,
    "start_time": "2023-08-16T14:51:14.129Z"
   },
   {
    "duration": 337,
    "start_time": "2023-08-16T14:52:24.852Z"
   },
   {
    "duration": 81,
    "start_time": "2023-08-16T15:26:56.035Z"
   },
   {
    "duration": 78,
    "start_time": "2023-08-16T15:27:03.252Z"
   },
   {
    "duration": 20,
    "start_time": "2023-08-16T15:27:09.374Z"
   },
   {
    "duration": 25,
    "start_time": "2023-08-16T15:27:56.386Z"
   },
   {
    "duration": 21,
    "start_time": "2023-08-16T15:28:25.988Z"
   },
   {
    "duration": 19,
    "start_time": "2023-08-16T15:30:01.454Z"
   },
   {
    "duration": 12,
    "start_time": "2023-08-16T15:30:07.060Z"
   },
   {
    "duration": 76,
    "start_time": "2023-08-16T15:37:22.451Z"
   },
   {
    "duration": 12,
    "start_time": "2023-08-16T15:37:40.807Z"
   },
   {
    "duration": 1280,
    "start_time": "2023-08-17T06:38:58.046Z"
   },
   {
    "duration": 131,
    "start_time": "2023-08-17T06:38:59.328Z"
   },
   {
    "duration": 17,
    "start_time": "2023-08-17T06:38:59.462Z"
   },
   {
    "duration": 36,
    "start_time": "2023-08-17T06:38:59.481Z"
   },
   {
    "duration": 35,
    "start_time": "2023-08-17T06:38:59.520Z"
   },
   {
    "duration": 18,
    "start_time": "2023-08-17T06:38:59.560Z"
   },
   {
    "duration": 5,
    "start_time": "2023-08-17T06:38:59.580Z"
   },
   {
    "duration": 16,
    "start_time": "2023-08-17T06:38:59.587Z"
   },
   {
    "duration": 25,
    "start_time": "2023-08-17T06:38:59.604Z"
   },
   {
    "duration": 9,
    "start_time": "2023-08-17T06:38:59.630Z"
   },
   {
    "duration": 132,
    "start_time": "2023-08-17T06:38:59.644Z"
   },
   {
    "duration": 111,
    "start_time": "2023-08-17T06:38:59.777Z"
   },
   {
    "duration": 7,
    "start_time": "2023-08-17T06:38:59.889Z"
   },
   {
    "duration": 15,
    "start_time": "2023-08-17T06:38:59.899Z"
   },
   {
    "duration": 44,
    "start_time": "2023-08-17T06:38:59.916Z"
   },
   {
    "duration": 9,
    "start_time": "2023-08-17T06:38:59.962Z"
   },
   {
    "duration": 317,
    "start_time": "2023-08-17T06:38:59.973Z"
   },
   {
    "duration": 1196,
    "start_time": "2023-08-17T06:39:00.291Z"
   },
   {
    "duration": 22,
    "start_time": "2023-08-17T06:39:01.489Z"
   },
   {
    "duration": 816,
    "start_time": "2023-08-17T06:39:01.512Z"
   },
   {
    "duration": 502,
    "start_time": "2023-08-17T06:39:02.334Z"
   },
   {
    "duration": 15,
    "start_time": "2023-08-17T06:39:02.838Z"
   },
   {
    "duration": 714,
    "start_time": "2023-08-17T06:39:02.855Z"
   },
   {
    "duration": 12,
    "start_time": "2023-08-17T06:39:03.571Z"
   },
   {
    "duration": 33,
    "start_time": "2023-08-17T06:39:03.585Z"
   },
   {
    "duration": 42,
    "start_time": "2023-08-17T06:39:03.619Z"
   },
   {
    "duration": 23,
    "start_time": "2023-08-17T06:39:03.662Z"
   },
   {
    "duration": 320,
    "start_time": "2023-08-17T06:39:03.687Z"
   },
   {
    "duration": 335,
    "start_time": "2023-08-17T06:39:04.008Z"
   },
   {
    "duration": 441,
    "start_time": "2023-08-17T06:39:04.346Z"
   },
   {
    "duration": 10,
    "start_time": "2023-08-17T06:39:04.788Z"
   },
   {
    "duration": 22,
    "start_time": "2023-08-17T06:39:04.800Z"
   },
   {
    "duration": 7,
    "start_time": "2023-08-17T06:57:37.839Z"
   },
   {
    "duration": 3,
    "start_time": "2023-08-17T06:57:43.251Z"
   },
   {
    "duration": 8,
    "start_time": "2023-08-17T06:57:46.166Z"
   },
   {
    "duration": 7,
    "start_time": "2023-08-17T06:57:46.486Z"
   },
   {
    "duration": 10,
    "start_time": "2023-08-17T06:59:52.183Z"
   },
   {
    "duration": 226,
    "start_time": "2023-08-17T07:00:33.596Z"
   },
   {
    "duration": 1199,
    "start_time": "2023-08-17T07:00:44.677Z"
   },
   {
    "duration": 68,
    "start_time": "2023-08-17T07:00:45.878Z"
   },
   {
    "duration": 13,
    "start_time": "2023-08-17T07:00:45.948Z"
   },
   {
    "duration": 36,
    "start_time": "2023-08-17T07:00:45.963Z"
   },
   {
    "duration": 3,
    "start_time": "2023-08-17T07:00:46.001Z"
   },
   {
    "duration": 26,
    "start_time": "2023-08-17T07:00:46.005Z"
   },
   {
    "duration": 10,
    "start_time": "2023-08-17T07:00:46.033Z"
   },
   {
    "duration": 29,
    "start_time": "2023-08-17T07:00:46.045Z"
   },
   {
    "duration": 19,
    "start_time": "2023-08-17T07:00:46.075Z"
   },
   {
    "duration": 24,
    "start_time": "2023-08-17T07:00:46.096Z"
   },
   {
    "duration": 113,
    "start_time": "2023-08-17T07:00:46.122Z"
   },
   {
    "duration": 88,
    "start_time": "2023-08-17T07:00:46.236Z"
   },
   {
    "duration": 6,
    "start_time": "2023-08-17T07:00:46.334Z"
   },
   {
    "duration": 25,
    "start_time": "2023-08-17T07:00:46.342Z"
   },
   {
    "duration": 33,
    "start_time": "2023-08-17T07:00:46.369Z"
   },
   {
    "duration": 31,
    "start_time": "2023-08-17T07:00:46.403Z"
   },
   {
    "duration": 253,
    "start_time": "2023-08-17T07:00:46.436Z"
   },
   {
    "duration": 1099,
    "start_time": "2023-08-17T07:00:46.691Z"
   },
   {
    "duration": 20,
    "start_time": "2023-08-17T07:00:47.792Z"
   },
   {
    "duration": 719,
    "start_time": "2023-08-17T07:00:47.813Z"
   },
   {
    "duration": 393,
    "start_time": "2023-08-17T07:00:48.533Z"
   },
   {
    "duration": 12,
    "start_time": "2023-08-17T07:00:48.933Z"
   },
   {
    "duration": 643,
    "start_time": "2023-08-17T07:00:48.946Z"
   },
   {
    "duration": 11,
    "start_time": "2023-08-17T07:00:49.591Z"
   },
   {
    "duration": 57,
    "start_time": "2023-08-17T07:00:49.603Z"
   },
   {
    "duration": 13,
    "start_time": "2023-08-17T07:00:49.661Z"
   },
   {
    "duration": 43,
    "start_time": "2023-08-17T07:00:49.676Z"
   },
   {
    "duration": 271,
    "start_time": "2023-08-17T07:00:49.722Z"
   },
   {
    "duration": 287,
    "start_time": "2023-08-17T07:00:49.994Z"
   },
   {
    "duration": 343,
    "start_time": "2023-08-17T07:00:50.282Z"
   },
   {
    "duration": 10,
    "start_time": "2023-08-17T07:00:50.633Z"
   },
   {
    "duration": 140,
    "start_time": "2023-08-17T07:00:50.645Z"
   },
   {
    "duration": 1107,
    "start_time": "2023-08-17T07:03:18.581Z"
   },
   {
    "duration": 71,
    "start_time": "2023-08-17T07:03:19.691Z"
   },
   {
    "duration": 15,
    "start_time": "2023-08-17T07:03:19.764Z"
   },
   {
    "duration": 54,
    "start_time": "2023-08-17T07:03:19.781Z"
   },
   {
    "duration": 23,
    "start_time": "2023-08-17T07:03:19.837Z"
   },
   {
    "duration": 45,
    "start_time": "2023-08-17T07:03:19.862Z"
   },
   {
    "duration": 58,
    "start_time": "2023-08-17T07:03:19.908Z"
   },
   {
    "duration": 47,
    "start_time": "2023-08-17T07:03:19.968Z"
   },
   {
    "duration": 37,
    "start_time": "2023-08-17T07:03:20.017Z"
   },
   {
    "duration": 35,
    "start_time": "2023-08-17T07:03:20.057Z"
   },
   {
    "duration": 140,
    "start_time": "2023-08-17T07:03:20.094Z"
   },
   {
    "duration": 98,
    "start_time": "2023-08-17T07:03:20.236Z"
   },
   {
    "duration": 7,
    "start_time": "2023-08-17T07:03:20.336Z"
   },
   {
    "duration": 38,
    "start_time": "2023-08-17T07:03:20.345Z"
   },
   {
    "duration": 28,
    "start_time": "2023-08-17T07:03:20.385Z"
   },
   {
    "duration": 50,
    "start_time": "2023-08-17T07:03:20.415Z"
   },
   {
    "duration": 269,
    "start_time": "2023-08-17T07:03:20.466Z"
   },
   {
    "duration": 984,
    "start_time": "2023-08-17T07:03:20.736Z"
   },
   {
    "duration": 30,
    "start_time": "2023-08-17T07:03:21.722Z"
   },
   {
    "duration": 735,
    "start_time": "2023-08-17T07:03:21.753Z"
   },
   {
    "duration": 421,
    "start_time": "2023-08-17T07:03:22.490Z"
   },
   {
    "duration": 24,
    "start_time": "2023-08-17T07:03:22.913Z"
   },
   {
    "duration": 654,
    "start_time": "2023-08-17T07:03:22.939Z"
   },
   {
    "duration": 11,
    "start_time": "2023-08-17T07:03:23.595Z"
   },
   {
    "duration": 10,
    "start_time": "2023-08-17T07:03:23.608Z"
   },
   {
    "duration": 22,
    "start_time": "2023-08-17T07:03:23.619Z"
   },
   {
    "duration": 15,
    "start_time": "2023-08-17T07:03:23.642Z"
   },
   {
    "duration": 267,
    "start_time": "2023-08-17T07:03:23.659Z"
   },
   {
    "duration": 294,
    "start_time": "2023-08-17T07:03:23.934Z"
   },
   {
    "duration": 335,
    "start_time": "2023-08-17T07:03:24.230Z"
   },
   {
    "duration": 13,
    "start_time": "2023-08-17T07:03:24.567Z"
   },
   {
    "duration": 27,
    "start_time": "2023-08-17T07:03:24.582Z"
   },
   {
    "duration": 463,
    "start_time": "2023-08-17T07:07:29.233Z"
   },
   {
    "duration": 258,
    "start_time": "2023-08-17T07:12:00.111Z"
   },
   {
    "duration": 255,
    "start_time": "2023-08-17T07:12:09.938Z"
   },
   {
    "duration": 1109,
    "start_time": "2023-08-17T07:12:16.022Z"
   },
   {
    "duration": 65,
    "start_time": "2023-08-17T07:12:17.133Z"
   },
   {
    "duration": 13,
    "start_time": "2023-08-17T07:12:17.200Z"
   },
   {
    "duration": 38,
    "start_time": "2023-08-17T07:12:17.215Z"
   },
   {
    "duration": 13,
    "start_time": "2023-08-17T07:12:17.255Z"
   },
   {
    "duration": 33,
    "start_time": "2023-08-17T07:12:17.270Z"
   },
   {
    "duration": 22,
    "start_time": "2023-08-17T07:12:17.304Z"
   },
   {
    "duration": 24,
    "start_time": "2023-08-17T07:12:17.328Z"
   },
   {
    "duration": 34,
    "start_time": "2023-08-17T07:12:17.354Z"
   },
   {
    "duration": 18,
    "start_time": "2023-08-17T07:12:17.390Z"
   },
   {
    "duration": 115,
    "start_time": "2023-08-17T07:12:17.410Z"
   },
   {
    "duration": 94,
    "start_time": "2023-08-17T07:12:17.526Z"
   },
   {
    "duration": 14,
    "start_time": "2023-08-17T07:12:17.621Z"
   },
   {
    "duration": 41,
    "start_time": "2023-08-17T07:12:17.636Z"
   },
   {
    "duration": 27,
    "start_time": "2023-08-17T07:12:17.679Z"
   },
   {
    "duration": 32,
    "start_time": "2023-08-17T07:12:17.707Z"
   },
   {
    "duration": 257,
    "start_time": "2023-08-17T07:12:17.740Z"
   },
   {
    "duration": 993,
    "start_time": "2023-08-17T07:12:17.999Z"
   },
   {
    "duration": 23,
    "start_time": "2023-08-17T07:12:18.993Z"
   },
   {
    "duration": 752,
    "start_time": "2023-08-17T07:12:19.019Z"
   },
   {
    "duration": 435,
    "start_time": "2023-08-17T07:12:19.772Z"
   },
   {
    "duration": 12,
    "start_time": "2023-08-17T07:12:20.208Z"
   },
   {
    "duration": 680,
    "start_time": "2023-08-17T07:12:20.221Z"
   },
   {
    "duration": 12,
    "start_time": "2023-08-17T07:12:20.903Z"
   },
   {
    "duration": 37,
    "start_time": "2023-08-17T07:12:20.916Z"
   },
   {
    "duration": 52,
    "start_time": "2023-08-17T07:12:20.955Z"
   },
   {
    "duration": 50,
    "start_time": "2023-08-17T07:12:21.008Z"
   },
   {
    "duration": 291,
    "start_time": "2023-08-17T07:12:21.061Z"
   },
   {
    "duration": 290,
    "start_time": "2023-08-17T07:12:21.354Z"
   },
   {
    "duration": 368,
    "start_time": "2023-08-17T07:12:21.645Z"
   },
   {
    "duration": 10,
    "start_time": "2023-08-17T07:12:22.015Z"
   },
   {
    "duration": 80,
    "start_time": "2023-08-17T07:12:22.026Z"
   },
   {
    "duration": 119,
    "start_time": "2023-08-17T08:13:45.476Z"
   },
   {
    "duration": 9,
    "start_time": "2023-08-17T08:38:52.604Z"
   },
   {
    "duration": 9,
    "start_time": "2023-08-17T08:38:59.449Z"
   },
   {
    "duration": 81,
    "start_time": "2023-08-18T06:43:06.249Z"
   },
   {
    "duration": 54,
    "start_time": "2023-08-18T06:44:52.890Z"
   },
   {
    "duration": 1589,
    "start_time": "2023-08-18T06:44:59.971Z"
   },
   {
    "duration": 128,
    "start_time": "2023-08-18T06:45:01.565Z"
   },
   {
    "duration": 33,
    "start_time": "2023-08-18T06:45:01.695Z"
   },
   {
    "duration": 125,
    "start_time": "2023-08-18T06:45:01.731Z"
   },
   {
    "duration": 30,
    "start_time": "2023-08-18T06:45:01.858Z"
   },
   {
    "duration": 39,
    "start_time": "2023-08-18T06:45:01.890Z"
   },
   {
    "duration": 40,
    "start_time": "2023-08-18T06:45:01.931Z"
   },
   {
    "duration": 35,
    "start_time": "2023-08-18T06:45:01.973Z"
   },
   {
    "duration": 60,
    "start_time": "2023-08-18T06:45:02.011Z"
   },
   {
    "duration": 105,
    "start_time": "2023-08-18T06:45:02.075Z"
   },
   {
    "duration": 49,
    "start_time": "2023-08-18T06:45:02.182Z"
   },
   {
    "duration": 209,
    "start_time": "2023-08-18T06:45:02.234Z"
   },
   {
    "duration": 10,
    "start_time": "2023-08-18T06:45:02.445Z"
   },
   {
    "duration": 87,
    "start_time": "2023-08-18T06:45:02.457Z"
   },
   {
    "duration": 28,
    "start_time": "2023-08-18T06:45:02.546Z"
   },
   {
    "duration": 42,
    "start_time": "2023-08-18T06:45:02.576Z"
   },
   {
    "duration": 348,
    "start_time": "2023-08-18T06:45:02.620Z"
   },
   {
    "duration": 1193,
    "start_time": "2023-08-18T06:45:02.969Z"
   },
   {
    "duration": 32,
    "start_time": "2023-08-18T06:45:04.165Z"
   },
   {
    "duration": 952,
    "start_time": "2023-08-18T06:45:04.199Z"
   },
   {
    "duration": 495,
    "start_time": "2023-08-18T06:45:05.153Z"
   },
   {
    "duration": 14,
    "start_time": "2023-08-18T06:45:05.650Z"
   },
   {
    "duration": 948,
    "start_time": "2023-08-18T06:45:05.666Z"
   },
   {
    "duration": 14,
    "start_time": "2023-08-18T06:45:06.617Z"
   },
   {
    "duration": 30,
    "start_time": "2023-08-18T06:45:06.633Z"
   },
   {
    "duration": 28,
    "start_time": "2023-08-18T06:45:06.665Z"
   },
   {
    "duration": 17,
    "start_time": "2023-08-18T06:45:06.695Z"
   },
   {
    "duration": 358,
    "start_time": "2023-08-18T06:45:06.724Z"
   },
   {
    "duration": 331,
    "start_time": "2023-08-18T06:45:07.084Z"
   },
   {
    "duration": 441,
    "start_time": "2023-08-18T06:45:07.424Z"
   },
   {
    "duration": 12,
    "start_time": "2023-08-18T06:45:07.867Z"
   },
   {
    "duration": 35,
    "start_time": "2023-08-18T06:45:07.881Z"
   },
   {
    "duration": 7,
    "start_time": "2023-08-18T06:46:31.976Z"
   },
   {
    "duration": 1206,
    "start_time": "2023-08-18T06:46:46.395Z"
   },
   {
    "duration": 93,
    "start_time": "2023-08-18T06:46:47.603Z"
   },
   {
    "duration": 26,
    "start_time": "2023-08-18T06:46:47.698Z"
   },
   {
    "duration": 54,
    "start_time": "2023-08-18T06:46:47.727Z"
   },
   {
    "duration": 10,
    "start_time": "2023-08-18T06:46:47.783Z"
   },
   {
    "duration": 50,
    "start_time": "2023-08-18T06:46:47.796Z"
   },
   {
    "duration": 21,
    "start_time": "2023-08-18T06:46:47.848Z"
   },
   {
    "duration": 28,
    "start_time": "2023-08-18T06:46:47.870Z"
   },
   {
    "duration": 31,
    "start_time": "2023-08-18T06:46:47.899Z"
   },
   {
    "duration": 25,
    "start_time": "2023-08-18T06:46:47.933Z"
   },
   {
    "duration": 46,
    "start_time": "2023-08-18T06:46:47.960Z"
   },
   {
    "duration": 43,
    "start_time": "2023-08-18T06:46:48.007Z"
   },
   {
    "duration": 38,
    "start_time": "2023-08-18T06:46:48.052Z"
   },
   {
    "duration": 50,
    "start_time": "2023-08-18T06:46:48.092Z"
   },
   {
    "duration": 55,
    "start_time": "2023-08-18T06:46:48.144Z"
   },
   {
    "duration": 23,
    "start_time": "2023-08-18T06:46:48.202Z"
   },
   {
    "duration": 281,
    "start_time": "2023-08-18T06:46:48.227Z"
   },
   {
    "duration": 1059,
    "start_time": "2023-08-18T06:46:48.510Z"
   },
   {
    "duration": 25,
    "start_time": "2023-08-18T06:46:49.570Z"
   },
   {
    "duration": 856,
    "start_time": "2023-08-18T06:46:49.596Z"
   },
   {
    "duration": 472,
    "start_time": "2023-08-18T06:46:50.454Z"
   },
   {
    "duration": 17,
    "start_time": "2023-08-18T06:46:50.929Z"
   },
   {
    "duration": 762,
    "start_time": "2023-08-18T06:46:50.948Z"
   },
   {
    "duration": 13,
    "start_time": "2023-08-18T06:46:51.712Z"
   },
   {
    "duration": 38,
    "start_time": "2023-08-18T06:46:51.727Z"
   },
   {
    "duration": 75,
    "start_time": "2023-08-18T06:46:51.767Z"
   },
   {
    "duration": 51,
    "start_time": "2023-08-18T06:46:51.844Z"
   },
   {
    "duration": 389,
    "start_time": "2023-08-18T06:46:51.900Z"
   },
   {
    "duration": 314,
    "start_time": "2023-08-18T06:46:52.291Z"
   },
   {
    "duration": 407,
    "start_time": "2023-08-18T06:46:52.607Z"
   },
   {
    "duration": 14,
    "start_time": "2023-08-18T06:46:53.016Z"
   },
   {
    "duration": 15,
    "start_time": "2023-08-18T06:46:53.032Z"
   },
   {
    "duration": 245,
    "start_time": "2023-08-18T06:48:00.398Z"
   },
   {
    "duration": 1203,
    "start_time": "2023-08-18T06:48:15.968Z"
   },
   {
    "duration": 73,
    "start_time": "2023-08-18T06:48:17.173Z"
   },
   {
    "duration": 36,
    "start_time": "2023-08-18T06:48:17.247Z"
   },
   {
    "duration": 31,
    "start_time": "2023-08-18T06:48:17.285Z"
   },
   {
    "duration": 6,
    "start_time": "2023-08-18T06:48:17.318Z"
   },
   {
    "duration": 14,
    "start_time": "2023-08-18T06:48:17.326Z"
   },
   {
    "duration": 5,
    "start_time": "2023-08-18T06:48:17.342Z"
   },
   {
    "duration": 14,
    "start_time": "2023-08-18T06:48:17.349Z"
   },
   {
    "duration": 12,
    "start_time": "2023-08-18T06:48:17.365Z"
   },
   {
    "duration": 14,
    "start_time": "2023-08-18T06:48:17.379Z"
   },
   {
    "duration": 43,
    "start_time": "2023-08-18T06:48:17.395Z"
   },
   {
    "duration": 6,
    "start_time": "2023-08-18T06:48:17.440Z"
   },
   {
    "duration": 8,
    "start_time": "2023-08-18T06:48:17.447Z"
   },
   {
    "duration": 15,
    "start_time": "2023-08-18T06:48:17.456Z"
   },
   {
    "duration": 18,
    "start_time": "2023-08-18T06:48:17.472Z"
   },
   {
    "duration": 46,
    "start_time": "2023-08-18T06:48:17.492Z"
   },
   {
    "duration": 308,
    "start_time": "2023-08-18T06:48:17.540Z"
   },
   {
    "duration": 1087,
    "start_time": "2023-08-18T06:48:17.849Z"
   },
   {
    "duration": 25,
    "start_time": "2023-08-18T06:48:18.938Z"
   },
   {
    "duration": 806,
    "start_time": "2023-08-18T06:48:18.965Z"
   },
   {
    "duration": 466,
    "start_time": "2023-08-18T06:48:19.773Z"
   },
   {
    "duration": 16,
    "start_time": "2023-08-18T06:48:20.241Z"
   },
   {
    "duration": 780,
    "start_time": "2023-08-18T06:48:20.258Z"
   },
   {
    "duration": 13,
    "start_time": "2023-08-18T06:48:21.040Z"
   },
   {
    "duration": 13,
    "start_time": "2023-08-18T06:48:21.055Z"
   },
   {
    "duration": 14,
    "start_time": "2023-08-18T06:48:21.069Z"
   },
   {
    "duration": 17,
    "start_time": "2023-08-18T06:48:21.085Z"
   },
   {
    "duration": 330,
    "start_time": "2023-08-18T06:48:21.106Z"
   },
   {
    "duration": 332,
    "start_time": "2023-08-18T06:48:21.438Z"
   },
   {
    "duration": 417,
    "start_time": "2023-08-18T06:48:21.772Z"
   },
   {
    "duration": 11,
    "start_time": "2023-08-18T06:48:22.191Z"
   },
   {
    "duration": 40,
    "start_time": "2023-08-18T06:48:22.203Z"
   },
   {
    "duration": 281,
    "start_time": "2023-08-18T06:49:38.458Z"
   },
   {
    "duration": 1185,
    "start_time": "2023-08-18T06:49:45.844Z"
   },
   {
    "duration": 77,
    "start_time": "2023-08-18T06:49:47.032Z"
   },
   {
    "duration": 17,
    "start_time": "2023-08-18T06:49:47.111Z"
   },
   {
    "duration": 48,
    "start_time": "2023-08-18T06:49:47.130Z"
   },
   {
    "duration": 9,
    "start_time": "2023-08-18T06:49:47.179Z"
   },
   {
    "duration": 14,
    "start_time": "2023-08-18T06:49:47.190Z"
   },
   {
    "duration": 5,
    "start_time": "2023-08-18T06:49:47.205Z"
   },
   {
    "duration": 12,
    "start_time": "2023-08-18T06:49:47.223Z"
   },
   {
    "duration": 10,
    "start_time": "2023-08-18T06:49:47.237Z"
   },
   {
    "duration": 13,
    "start_time": "2023-08-18T06:49:47.250Z"
   },
   {
    "duration": 27,
    "start_time": "2023-08-18T06:49:47.265Z"
   },
   {
    "duration": 34,
    "start_time": "2023-08-18T06:49:47.295Z"
   },
   {
    "duration": 12,
    "start_time": "2023-08-18T06:49:47.331Z"
   },
   {
    "duration": 18,
    "start_time": "2023-08-18T06:49:47.344Z"
   },
   {
    "duration": 27,
    "start_time": "2023-08-18T06:49:47.365Z"
   },
   {
    "duration": 47,
    "start_time": "2023-08-18T06:49:47.395Z"
   },
   {
    "duration": 327,
    "start_time": "2023-08-18T06:49:47.444Z"
   },
   {
    "duration": 1102,
    "start_time": "2023-08-18T06:49:47.773Z"
   },
   {
    "duration": 54,
    "start_time": "2023-08-18T06:49:48.877Z"
   },
   {
    "duration": 902,
    "start_time": "2023-08-18T06:49:48.933Z"
   },
   {
    "duration": 507,
    "start_time": "2023-08-18T06:49:49.837Z"
   },
   {
    "duration": 21,
    "start_time": "2023-08-18T06:49:50.347Z"
   },
   {
    "duration": 803,
    "start_time": "2023-08-18T06:49:50.371Z"
   },
   {
    "duration": 19,
    "start_time": "2023-08-18T06:49:51.177Z"
   },
   {
    "duration": 22,
    "start_time": "2023-08-18T06:49:51.198Z"
   },
   {
    "duration": 16,
    "start_time": "2023-08-18T06:49:51.223Z"
   },
   {
    "duration": 31,
    "start_time": "2023-08-18T06:49:51.241Z"
   },
   {
    "duration": 367,
    "start_time": "2023-08-18T06:49:51.276Z"
   },
   {
    "duration": 332,
    "start_time": "2023-08-18T06:49:51.645Z"
   },
   {
    "duration": 428,
    "start_time": "2023-08-18T06:49:51.979Z"
   },
   {
    "duration": 21,
    "start_time": "2023-08-18T06:49:52.410Z"
   },
   {
    "duration": 75,
    "start_time": "2023-08-18T06:49:52.433Z"
   },
   {
    "duration": 146,
    "start_time": "2023-08-18T06:50:20.359Z"
   },
   {
    "duration": 331,
    "start_time": "2023-08-18T06:51:38.093Z"
   },
   {
    "duration": 1265,
    "start_time": "2023-08-18T06:51:52.037Z"
   },
   {
    "duration": 81,
    "start_time": "2023-08-18T06:51:53.304Z"
   },
   {
    "duration": 24,
    "start_time": "2023-08-18T06:51:53.387Z"
   },
   {
    "duration": 48,
    "start_time": "2023-08-18T06:51:53.414Z"
   },
   {
    "duration": 4,
    "start_time": "2023-08-18T06:51:53.464Z"
   },
   {
    "duration": 44,
    "start_time": "2023-08-18T06:51:53.470Z"
   },
   {
    "duration": 16,
    "start_time": "2023-08-18T06:51:53.516Z"
   },
   {
    "duration": 39,
    "start_time": "2023-08-18T06:51:53.534Z"
   },
   {
    "duration": 25,
    "start_time": "2023-08-18T06:51:53.574Z"
   },
   {
    "duration": 22,
    "start_time": "2023-08-18T06:51:53.602Z"
   },
   {
    "duration": 19,
    "start_time": "2023-08-18T06:51:53.626Z"
   },
   {
    "duration": 15,
    "start_time": "2023-08-18T06:51:53.646Z"
   },
   {
    "duration": 16,
    "start_time": "2023-08-18T06:51:53.663Z"
   },
   {
    "duration": 21,
    "start_time": "2023-08-18T06:51:53.681Z"
   },
   {
    "duration": 35,
    "start_time": "2023-08-18T06:51:53.705Z"
   },
   {
    "duration": 20,
    "start_time": "2023-08-18T06:51:53.742Z"
   },
   {
    "duration": 341,
    "start_time": "2023-08-18T06:51:53.764Z"
   },
   {
    "duration": 1207,
    "start_time": "2023-08-18T06:51:54.106Z"
   },
   {
    "duration": 44,
    "start_time": "2023-08-18T06:51:55.316Z"
   },
   {
    "duration": 950,
    "start_time": "2023-08-18T06:51:55.363Z"
   },
   {
    "duration": 513,
    "start_time": "2023-08-18T06:51:56.315Z"
   },
   {
    "duration": 16,
    "start_time": "2023-08-18T06:51:56.830Z"
   },
   {
    "duration": 890,
    "start_time": "2023-08-18T06:51:56.848Z"
   },
   {
    "duration": 13,
    "start_time": "2023-08-18T06:51:57.740Z"
   },
   {
    "duration": 31,
    "start_time": "2023-08-18T06:51:57.755Z"
   },
   {
    "duration": 19,
    "start_time": "2023-08-18T06:51:57.787Z"
   },
   {
    "duration": 17,
    "start_time": "2023-08-18T06:51:57.808Z"
   },
   {
    "duration": 344,
    "start_time": "2023-08-18T06:51:57.830Z"
   },
   {
    "duration": 342,
    "start_time": "2023-08-18T06:51:58.176Z"
   },
   {
    "duration": 447,
    "start_time": "2023-08-18T06:51:58.524Z"
   },
   {
    "duration": 11,
    "start_time": "2023-08-18T06:51:58.974Z"
   },
   {
    "duration": 11,
    "start_time": "2023-08-18T06:51:58.987Z"
   },
   {
    "duration": 440,
    "start_time": "2023-08-18T06:54:54.017Z"
   },
   {
    "duration": 96,
    "start_time": "2023-08-18T06:55:49.376Z"
   },
   {
    "duration": 787,
    "start_time": "2023-08-18T07:00:56.677Z"
   },
   {
    "duration": 737,
    "start_time": "2023-08-18T07:01:37.306Z"
   },
   {
    "duration": 28,
    "start_time": "2023-08-18T07:02:15.269Z"
   },
   {
    "duration": 860,
    "start_time": "2023-08-18T07:02:29.685Z"
   },
   {
    "duration": 18,
    "start_time": "2023-08-18T07:02:57.703Z"
   },
   {
    "duration": 77,
    "start_time": "2023-08-18T07:03:30.666Z"
   },
   {
    "duration": 53,
    "start_time": "2023-08-18T07:03:37.498Z"
   },
   {
    "duration": 50,
    "start_time": "2023-08-18T07:03:45.792Z"
   },
   {
    "duration": 61,
    "start_time": "2023-08-18T07:04:16.566Z"
   },
   {
    "duration": 45,
    "start_time": "2023-08-18T07:04:25.422Z"
   },
   {
    "duration": 499,
    "start_time": "2023-08-18T07:04:30.212Z"
   },
   {
    "duration": 442,
    "start_time": "2023-08-18T07:06:51.707Z"
   },
   {
    "duration": 389,
    "start_time": "2023-08-18T07:10:04.552Z"
   },
   {
    "duration": 223,
    "start_time": "2023-08-18T07:11:30.728Z"
   },
   {
    "duration": 1393,
    "start_time": "2023-08-18T07:41:55.447Z"
   },
   {
    "duration": 106,
    "start_time": "2023-08-18T07:41:56.846Z"
   },
   {
    "duration": 29,
    "start_time": "2023-08-18T07:41:56.954Z"
   },
   {
    "duration": 45,
    "start_time": "2023-08-18T07:41:56.986Z"
   },
   {
    "duration": 8,
    "start_time": "2023-08-18T07:41:57.034Z"
   },
   {
    "duration": 15,
    "start_time": "2023-08-18T07:41:57.046Z"
   },
   {
    "duration": 6,
    "start_time": "2023-08-18T07:41:57.064Z"
   },
   {
    "duration": 18,
    "start_time": "2023-08-18T07:41:57.072Z"
   },
   {
    "duration": 43,
    "start_time": "2023-08-18T07:41:57.093Z"
   },
   {
    "duration": 13,
    "start_time": "2023-08-18T07:41:57.142Z"
   },
   {
    "duration": 47,
    "start_time": "2023-08-18T07:41:57.157Z"
   },
   {
    "duration": 7,
    "start_time": "2023-08-18T07:41:57.206Z"
   },
   {
    "duration": 20,
    "start_time": "2023-08-18T07:41:57.215Z"
   },
   {
    "duration": 25,
    "start_time": "2023-08-18T07:41:57.237Z"
   },
   {
    "duration": 25,
    "start_time": "2023-08-18T07:41:57.264Z"
   },
   {
    "duration": 45,
    "start_time": "2023-08-18T07:41:57.291Z"
   },
   {
    "duration": 411,
    "start_time": "2023-08-18T07:41:57.338Z"
   },
   {
    "duration": 1254,
    "start_time": "2023-08-18T07:41:57.751Z"
   },
   {
    "duration": 52,
    "start_time": "2023-08-18T07:41:59.007Z"
   },
   {
    "duration": 457,
    "start_time": "2023-08-18T07:41:59.061Z"
   },
   {
    "duration": 425,
    "start_time": "2023-08-18T07:41:59.524Z"
   },
   {
    "duration": 16,
    "start_time": "2023-08-18T07:41:59.951Z"
   },
   {
    "duration": 876,
    "start_time": "2023-08-18T07:41:59.969Z"
   },
   {
    "duration": 17,
    "start_time": "2023-08-18T07:42:00.847Z"
   },
   {
    "duration": 45,
    "start_time": "2023-08-18T07:42:00.866Z"
   },
   {
    "duration": 104,
    "start_time": "2023-08-18T07:42:00.913Z"
   },
   {
    "duration": 81,
    "start_time": "2023-08-18T07:42:01.020Z"
   },
   {
    "duration": 434,
    "start_time": "2023-08-18T07:42:01.106Z"
   },
   {
    "duration": 401,
    "start_time": "2023-08-18T07:42:01.543Z"
   },
   {
    "duration": 409,
    "start_time": "2023-08-18T07:42:01.946Z"
   },
   {
    "duration": 13,
    "start_time": "2023-08-18T07:42:02.357Z"
   },
   {
    "duration": 79,
    "start_time": "2023-08-18T07:42:02.372Z"
   },
   {
    "duration": 144,
    "start_time": "2023-08-18T07:49:03.101Z"
   },
   {
    "duration": 122,
    "start_time": "2023-08-18T07:51:29.325Z"
   },
   {
    "duration": 18,
    "start_time": "2023-08-18T07:52:44.712Z"
   },
   {
    "duration": 1356,
    "start_time": "2024-01-31T13:10:57.627Z"
   },
   {
    "duration": 204,
    "start_time": "2024-01-31T13:10:58.985Z"
   },
   {
    "duration": 25,
    "start_time": "2024-01-31T13:10:59.191Z"
   },
   {
    "duration": 32,
    "start_time": "2024-01-31T13:10:59.217Z"
   },
   {
    "duration": 4,
    "start_time": "2024-01-31T13:10:59.251Z"
   },
   {
    "duration": 29,
    "start_time": "2024-01-31T13:10:59.256Z"
   },
   {
    "duration": 5,
    "start_time": "2024-01-31T13:10:59.286Z"
   },
   {
    "duration": 21,
    "start_time": "2024-01-31T13:10:59.293Z"
   },
   {
    "duration": 21,
    "start_time": "2024-01-31T13:10:59.316Z"
   },
   {
    "duration": 11,
    "start_time": "2024-01-31T13:10:59.339Z"
   },
   {
    "duration": 23,
    "start_time": "2024-01-31T13:10:59.352Z"
   },
   {
    "duration": 5,
    "start_time": "2024-01-31T13:10:59.377Z"
   },
   {
    "duration": 14,
    "start_time": "2024-01-31T13:10:59.383Z"
   },
   {
    "duration": 15,
    "start_time": "2024-01-31T13:10:59.400Z"
   },
   {
    "duration": 16,
    "start_time": "2024-01-31T13:10:59.417Z"
   },
   {
    "duration": 30,
    "start_time": "2024-01-31T13:10:59.434Z"
   },
   {
    "duration": 315,
    "start_time": "2024-01-31T13:10:59.465Z"
   },
   {
    "duration": 1161,
    "start_time": "2024-01-31T13:10:59.781Z"
   },
   {
    "duration": 24,
    "start_time": "2024-01-31T13:11:00.943Z"
   },
   {
    "duration": 411,
    "start_time": "2024-01-31T13:11:00.969Z"
   },
   {
    "duration": 421,
    "start_time": "2024-01-31T13:11:01.382Z"
   },
   {
    "duration": 13,
    "start_time": "2024-01-31T13:11:01.804Z"
   },
   {
    "duration": 773,
    "start_time": "2024-01-31T13:11:01.819Z"
   },
   {
    "duration": 13,
    "start_time": "2024-01-31T13:11:02.593Z"
   },
   {
    "duration": 54,
    "start_time": "2024-01-31T13:11:02.607Z"
   },
   {
    "duration": 38,
    "start_time": "2024-01-31T13:11:02.663Z"
   },
   {
    "duration": 40,
    "start_time": "2024-01-31T13:11:02.703Z"
   },
   {
    "duration": 346,
    "start_time": "2024-01-31T13:11:02.745Z"
   },
   {
    "duration": 328,
    "start_time": "2024-01-31T13:11:03.093Z"
   },
   {
    "duration": 306,
    "start_time": "2024-01-31T13:11:03.422Z"
   },
   {
    "duration": 10,
    "start_time": "2024-01-31T13:11:03.730Z"
   },
   {
    "duration": 12,
    "start_time": "2024-01-31T13:11:03.742Z"
   },
   {
    "duration": 23,
    "start_time": "2024-01-31T13:11:15.444Z"
   },
   {
    "duration": 16,
    "start_time": "2024-01-31T13:11:25.445Z"
   },
   {
    "duration": 1258,
    "start_time": "2024-01-31T13:11:32.945Z"
   },
   {
    "duration": 76,
    "start_time": "2024-01-31T13:11:34.205Z"
   },
   {
    "duration": 17,
    "start_time": "2024-01-31T13:11:34.283Z"
   },
   {
    "duration": 53,
    "start_time": "2024-01-31T13:11:34.302Z"
   },
   {
    "duration": 16,
    "start_time": "2024-01-31T13:11:34.357Z"
   },
   {
    "duration": 48,
    "start_time": "2024-01-31T13:11:34.375Z"
   },
   {
    "duration": 9,
    "start_time": "2024-01-31T13:11:34.424Z"
   },
   {
    "duration": 19,
    "start_time": "2024-01-31T13:11:34.434Z"
   },
   {
    "duration": 25,
    "start_time": "2024-01-31T13:11:34.454Z"
   },
   {
    "duration": 39,
    "start_time": "2024-01-31T13:11:34.483Z"
   },
   {
    "duration": 23,
    "start_time": "2024-01-31T13:11:34.524Z"
   },
   {
    "duration": 6,
    "start_time": "2024-01-31T13:11:34.548Z"
   },
   {
    "duration": 9,
    "start_time": "2024-01-31T13:11:34.555Z"
   },
   {
    "duration": 16,
    "start_time": "2024-01-31T13:11:34.565Z"
   },
   {
    "duration": 18,
    "start_time": "2024-01-31T13:11:34.582Z"
   },
   {
    "duration": 20,
    "start_time": "2024-01-31T13:11:34.602Z"
   },
   {
    "duration": 335,
    "start_time": "2024-01-31T13:11:34.623Z"
   },
   {
    "duration": 1225,
    "start_time": "2024-01-31T13:11:34.961Z"
   },
   {
    "duration": 29,
    "start_time": "2024-01-31T13:11:36.188Z"
   },
   {
    "duration": 459,
    "start_time": "2024-01-31T13:11:36.219Z"
   },
   {
    "duration": 462,
    "start_time": "2024-01-31T13:11:36.680Z"
   },
   {
    "duration": 14,
    "start_time": "2024-01-31T13:11:37.143Z"
   },
   {
    "duration": 809,
    "start_time": "2024-01-31T13:11:37.159Z"
   },
   {
    "duration": 13,
    "start_time": "2024-01-31T13:11:37.970Z"
   },
   {
    "duration": 33,
    "start_time": "2024-01-31T13:11:37.985Z"
   },
   {
    "duration": 19,
    "start_time": "2024-01-31T13:11:38.020Z"
   },
   {
    "duration": 72,
    "start_time": "2024-01-31T13:11:38.041Z"
   },
   {
    "duration": 355,
    "start_time": "2024-01-31T13:11:38.117Z"
   },
   {
    "duration": 372,
    "start_time": "2024-01-31T13:11:38.474Z"
   },
   {
    "duration": 364,
    "start_time": "2024-01-31T13:11:38.847Z"
   },
   {
    "duration": 12,
    "start_time": "2024-01-31T13:11:39.213Z"
   },
   {
    "duration": 30,
    "start_time": "2024-01-31T13:11:39.228Z"
   },
   {
    "duration": 1139,
    "start_time": "2024-01-31T13:16:33.348Z"
   },
   {
    "duration": 76,
    "start_time": "2024-01-31T13:16:34.491Z"
   },
   {
    "duration": 17,
    "start_time": "2024-01-31T13:16:34.569Z"
   },
   {
    "duration": 46,
    "start_time": "2024-01-31T13:16:34.587Z"
   },
   {
    "duration": 22,
    "start_time": "2024-01-31T13:16:34.635Z"
   },
   {
    "duration": 16,
    "start_time": "2024-01-31T13:16:34.659Z"
   },
   {
    "duration": 12,
    "start_time": "2024-01-31T13:16:34.677Z"
   },
   {
    "duration": 10,
    "start_time": "2024-01-31T13:16:34.691Z"
   },
   {
    "duration": 5,
    "start_time": "2024-01-31T13:16:34.703Z"
   },
   {
    "duration": 16,
    "start_time": "2024-01-31T13:16:34.709Z"
   },
   {
    "duration": 17,
    "start_time": "2024-01-31T13:16:34.727Z"
   },
   {
    "duration": 5,
    "start_time": "2024-01-31T13:16:34.746Z"
   },
   {
    "duration": 13,
    "start_time": "2024-01-31T13:16:34.752Z"
   },
   {
    "duration": 15,
    "start_time": "2024-01-31T13:16:34.791Z"
   },
   {
    "duration": 18,
    "start_time": "2024-01-31T13:16:34.808Z"
   },
   {
    "duration": 26,
    "start_time": "2024-01-31T13:16:34.828Z"
   },
   {
    "duration": 346,
    "start_time": "2024-01-31T13:16:34.856Z"
   },
   {
    "duration": 1165,
    "start_time": "2024-01-31T13:16:35.203Z"
   },
   {
    "duration": 28,
    "start_time": "2024-01-31T13:16:36.370Z"
   },
   {
    "duration": 454,
    "start_time": "2024-01-31T13:16:36.400Z"
   },
   {
    "duration": 404,
    "start_time": "2024-01-31T13:16:36.856Z"
   },
   {
    "duration": 13,
    "start_time": "2024-01-31T13:16:37.261Z"
   },
   {
    "duration": 784,
    "start_time": "2024-01-31T13:16:37.276Z"
   },
   {
    "duration": 15,
    "start_time": "2024-01-31T13:16:38.062Z"
   },
   {
    "duration": 14,
    "start_time": "2024-01-31T13:16:38.078Z"
   },
   {
    "duration": 21,
    "start_time": "2024-01-31T13:16:38.094Z"
   },
   {
    "duration": 13,
    "start_time": "2024-01-31T13:16:38.118Z"
   },
   {
    "duration": 326,
    "start_time": "2024-01-31T13:16:38.133Z"
   },
   {
    "duration": 358,
    "start_time": "2024-01-31T13:16:38.461Z"
   },
   {
    "duration": 322,
    "start_time": "2024-01-31T13:16:38.821Z"
   },
   {
    "duration": 12,
    "start_time": "2024-01-31T13:16:39.145Z"
   },
   {
    "duration": 24,
    "start_time": "2024-01-31T13:16:39.159Z"
   },
   {
    "duration": 1268,
    "start_time": "2024-01-31T13:17:11.305Z"
   },
   {
    "duration": 74,
    "start_time": "2024-01-31T13:17:12.575Z"
   },
   {
    "duration": 23,
    "start_time": "2024-01-31T13:17:12.651Z"
   },
   {
    "duration": 96,
    "start_time": "2024-01-31T13:17:12.677Z"
   },
   {
    "duration": 15,
    "start_time": "2024-01-31T13:17:12.775Z"
   },
   {
    "duration": 15,
    "start_time": "2024-01-31T13:17:12.792Z"
   },
   {
    "duration": 10,
    "start_time": "2024-01-31T13:17:12.809Z"
   },
   {
    "duration": 10,
    "start_time": "2024-01-31T13:17:12.821Z"
   },
   {
    "duration": 11,
    "start_time": "2024-01-31T13:17:12.832Z"
   },
   {
    "duration": 14,
    "start_time": "2024-01-31T13:17:12.846Z"
   },
   {
    "duration": 19,
    "start_time": "2024-01-31T13:17:12.863Z"
   },
   {
    "duration": 29,
    "start_time": "2024-01-31T13:17:12.892Z"
   },
   {
    "duration": 7,
    "start_time": "2024-01-31T13:17:12.923Z"
   },
   {
    "duration": 15,
    "start_time": "2024-01-31T13:17:12.931Z"
   },
   {
    "duration": 16,
    "start_time": "2024-01-31T13:17:12.947Z"
   },
   {
    "duration": 34,
    "start_time": "2024-01-31T13:17:12.965Z"
   },
   {
    "duration": 15,
    "start_time": "2024-01-31T13:17:13.000Z"
   },
   {
    "duration": 313,
    "start_time": "2024-01-31T13:17:13.016Z"
   },
   {
    "duration": 1143,
    "start_time": "2024-01-31T13:17:13.331Z"
   },
   {
    "duration": 35,
    "start_time": "2024-01-31T13:17:14.476Z"
   },
   {
    "duration": 414,
    "start_time": "2024-01-31T13:17:14.513Z"
   },
   {
    "duration": 452,
    "start_time": "2024-01-31T13:17:14.929Z"
   },
   {
    "duration": 14,
    "start_time": "2024-01-31T13:17:15.383Z"
   },
   {
    "duration": 765,
    "start_time": "2024-01-31T13:17:15.399Z"
   },
   {
    "duration": 15,
    "start_time": "2024-01-31T13:17:16.165Z"
   },
   {
    "duration": 43,
    "start_time": "2024-01-31T13:17:16.181Z"
   },
   {
    "duration": 29,
    "start_time": "2024-01-31T13:17:16.225Z"
   },
   {
    "duration": 16,
    "start_time": "2024-01-31T13:17:16.257Z"
   },
   {
    "duration": 361,
    "start_time": "2024-01-31T13:17:16.274Z"
   },
   {
    "duration": 342,
    "start_time": "2024-01-31T13:17:16.637Z"
   },
   {
    "duration": 328,
    "start_time": "2024-01-31T13:17:16.981Z"
   },
   {
    "duration": 11,
    "start_time": "2024-01-31T13:17:17.311Z"
   },
   {
    "duration": 12,
    "start_time": "2024-01-31T13:17:17.324Z"
   },
   {
    "duration": 381,
    "start_time": "2024-01-31T13:32:50.881Z"
   },
   {
    "duration": 1140,
    "start_time": "2024-01-31T13:32:57.145Z"
   },
   {
    "duration": 76,
    "start_time": "2024-01-31T13:32:58.287Z"
   },
   {
    "duration": 14,
    "start_time": "2024-01-31T13:32:58.365Z"
   },
   {
    "duration": 57,
    "start_time": "2024-01-31T13:32:58.381Z"
   },
   {
    "duration": 25,
    "start_time": "2024-01-31T13:32:58.440Z"
   },
   {
    "duration": 40,
    "start_time": "2024-01-31T13:32:58.467Z"
   },
   {
    "duration": 47,
    "start_time": "2024-01-31T13:32:58.508Z"
   },
   {
    "duration": 24,
    "start_time": "2024-01-31T13:32:58.556Z"
   },
   {
    "duration": 24,
    "start_time": "2024-01-31T13:32:58.581Z"
   },
   {
    "duration": 18,
    "start_time": "2024-01-31T13:32:58.607Z"
   },
   {
    "duration": 61,
    "start_time": "2024-01-31T13:32:58.627Z"
   },
   {
    "duration": 44,
    "start_time": "2024-01-31T13:32:58.690Z"
   },
   {
    "duration": 20,
    "start_time": "2024-01-31T13:32:58.736Z"
   },
   {
    "duration": 35,
    "start_time": "2024-01-31T13:32:58.760Z"
   },
   {
    "duration": 21,
    "start_time": "2024-01-31T13:32:58.796Z"
   },
   {
    "duration": 20,
    "start_time": "2024-01-31T13:32:58.818Z"
   },
   {
    "duration": 317,
    "start_time": "2024-01-31T13:32:58.840Z"
   },
   {
    "duration": 1166,
    "start_time": "2024-01-31T13:32:59.159Z"
   },
   {
    "duration": 281,
    "start_time": "2024-01-31T13:33:00.327Z"
   },
   {
    "duration": 26,
    "start_time": "2024-01-31T13:33:00.610Z"
   },
   {
    "duration": 536,
    "start_time": "2024-01-31T13:33:00.638Z"
   },
   {
    "duration": 440,
    "start_time": "2024-01-31T13:33:01.176Z"
   },
   {
    "duration": 13,
    "start_time": "2024-01-31T13:33:01.617Z"
   },
   {
    "duration": 780,
    "start_time": "2024-01-31T13:33:01.632Z"
   },
   {
    "duration": 12,
    "start_time": "2024-01-31T13:33:02.414Z"
   },
   {
    "duration": 97,
    "start_time": "2024-01-31T13:33:02.428Z"
   },
   {
    "duration": 49,
    "start_time": "2024-01-31T13:33:02.526Z"
   },
   {
    "duration": 33,
    "start_time": "2024-01-31T13:33:02.576Z"
   },
   {
    "duration": 347,
    "start_time": "2024-01-31T13:33:02.611Z"
   },
   {
    "duration": 322,
    "start_time": "2024-01-31T13:33:02.959Z"
   },
   {
    "duration": 418,
    "start_time": "2024-01-31T13:33:03.282Z"
   },
   {
    "duration": 11,
    "start_time": "2024-01-31T13:33:03.702Z"
   },
   {
    "duration": 13,
    "start_time": "2024-01-31T13:33:03.724Z"
   },
   {
    "duration": 1235,
    "start_time": "2024-01-31T13:33:47.565Z"
   },
   {
    "duration": 79,
    "start_time": "2024-01-31T13:33:48.802Z"
   },
   {
    "duration": 20,
    "start_time": "2024-01-31T13:33:48.883Z"
   },
   {
    "duration": 55,
    "start_time": "2024-01-31T13:33:48.905Z"
   },
   {
    "duration": 21,
    "start_time": "2024-01-31T13:33:48.963Z"
   },
   {
    "duration": 33,
    "start_time": "2024-01-31T13:33:48.986Z"
   },
   {
    "duration": 39,
    "start_time": "2024-01-31T13:33:49.021Z"
   },
   {
    "duration": 33,
    "start_time": "2024-01-31T13:33:49.062Z"
   },
   {
    "duration": 17,
    "start_time": "2024-01-31T13:33:49.097Z"
   },
   {
    "duration": 20,
    "start_time": "2024-01-31T13:33:49.115Z"
   },
   {
    "duration": 23,
    "start_time": "2024-01-31T13:33:49.137Z"
   },
   {
    "duration": 46,
    "start_time": "2024-01-31T13:33:49.161Z"
   },
   {
    "duration": 38,
    "start_time": "2024-01-31T13:33:49.209Z"
   },
   {
    "duration": 47,
    "start_time": "2024-01-31T13:33:49.251Z"
   },
   {
    "duration": 25,
    "start_time": "2024-01-31T13:33:49.301Z"
   },
   {
    "duration": 37,
    "start_time": "2024-01-31T13:33:49.328Z"
   },
   {
    "duration": 387,
    "start_time": "2024-01-31T13:33:49.367Z"
   },
   {
    "duration": 1228,
    "start_time": "2024-01-31T13:33:49.757Z"
   },
   {
    "duration": 309,
    "start_time": "2024-01-31T13:33:50.991Z"
   },
   {
    "duration": 26,
    "start_time": "2024-01-31T13:33:51.302Z"
   },
   {
    "duration": 427,
    "start_time": "2024-01-31T13:33:51.330Z"
   },
   {
    "duration": 422,
    "start_time": "2024-01-31T13:33:51.758Z"
   },
   {
    "duration": 17,
    "start_time": "2024-01-31T13:33:52.182Z"
   },
   {
    "duration": 739,
    "start_time": "2024-01-31T13:33:52.201Z"
   },
   {
    "duration": 15,
    "start_time": "2024-01-31T13:33:52.942Z"
   },
   {
    "duration": 13,
    "start_time": "2024-01-31T13:33:52.960Z"
   },
   {
    "duration": 26,
    "start_time": "2024-01-31T13:33:52.975Z"
   },
   {
    "duration": 14,
    "start_time": "2024-01-31T13:33:53.002Z"
   },
   {
    "duration": 333,
    "start_time": "2024-01-31T13:33:53.018Z"
   },
   {
    "duration": 329,
    "start_time": "2024-01-31T13:33:53.353Z"
   },
   {
    "duration": 401,
    "start_time": "2024-01-31T13:33:53.683Z"
   },
   {
    "duration": 18,
    "start_time": "2024-01-31T13:33:54.085Z"
   },
   {
    "duration": 48,
    "start_time": "2024-01-31T13:33:54.105Z"
   },
   {
    "duration": 431,
    "start_time": "2024-01-31T13:36:06.932Z"
   },
   {
    "duration": 489,
    "start_time": "2024-01-31T13:36:15.784Z"
   },
   {
    "duration": 466,
    "start_time": "2024-01-31T13:36:25.884Z"
   },
   {
    "duration": 428,
    "start_time": "2024-01-31T13:36:40.125Z"
   },
   {
    "duration": 493,
    "start_time": "2024-01-31T13:36:49.065Z"
   },
   {
    "duration": 351,
    "start_time": "2024-01-31T13:36:58.332Z"
   },
   {
    "duration": 346,
    "start_time": "2024-01-31T13:37:14.545Z"
   },
   {
    "duration": 341,
    "start_time": "2024-01-31T13:37:26.844Z"
   },
   {
    "duration": 67,
    "start_time": "2024-01-31T13:37:39.833Z"
   },
   {
    "duration": 364,
    "start_time": "2024-01-31T13:37:44.325Z"
   },
   {
    "duration": 232,
    "start_time": "2024-01-31T13:39:29.464Z"
   },
   {
    "duration": 1168,
    "start_time": "2024-01-31T14:12:46.098Z"
   },
   {
    "duration": 74,
    "start_time": "2024-01-31T14:12:47.268Z"
   },
   {
    "duration": 16,
    "start_time": "2024-01-31T14:12:47.344Z"
   },
   {
    "duration": 64,
    "start_time": "2024-01-31T14:12:47.361Z"
   },
   {
    "duration": 41,
    "start_time": "2024-01-31T14:12:47.427Z"
   },
   {
    "duration": 21,
    "start_time": "2024-01-31T14:12:47.470Z"
   },
   {
    "duration": 16,
    "start_time": "2024-01-31T14:12:47.492Z"
   },
   {
    "duration": 10,
    "start_time": "2024-01-31T14:12:47.509Z"
   },
   {
    "duration": 4,
    "start_time": "2024-01-31T14:12:47.521Z"
   },
   {
    "duration": 36,
    "start_time": "2024-01-31T14:12:47.527Z"
   },
   {
    "duration": 9,
    "start_time": "2024-01-31T14:12:47.565Z"
   },
   {
    "duration": 20,
    "start_time": "2024-01-31T14:12:47.575Z"
   },
   {
    "duration": 96,
    "start_time": "2024-01-31T14:12:47.597Z"
   },
   {
    "duration": 35,
    "start_time": "2024-01-31T14:12:47.698Z"
   },
   {
    "duration": 20,
    "start_time": "2024-01-31T14:12:47.736Z"
   },
   {
    "duration": 26,
    "start_time": "2024-01-31T14:12:47.758Z"
   },
   {
    "duration": 325,
    "start_time": "2024-01-31T14:12:47.786Z"
   },
   {
    "duration": 1178,
    "start_time": "2024-01-31T14:12:48.112Z"
   },
   {
    "duration": 3172,
    "start_time": "2024-01-31T14:12:49.292Z"
   },
   {
    "duration": 342,
    "start_time": "2024-01-31T14:12:52.466Z"
   },
   {
    "duration": 25,
    "start_time": "2024-01-31T14:12:52.810Z"
   },
   {
    "duration": 356,
    "start_time": "2024-01-31T14:12:52.836Z"
   },
   {
    "duration": 232,
    "start_time": "2024-01-31T14:12:53.194Z"
   },
   {
    "duration": 13,
    "start_time": "2024-01-31T14:12:53.428Z"
   },
   {
    "duration": 677,
    "start_time": "2024-01-31T14:12:53.443Z"
   },
   {
    "duration": 13,
    "start_time": "2024-01-31T14:12:54.121Z"
   },
   {
    "duration": 12,
    "start_time": "2024-01-31T14:12:54.136Z"
   },
   {
    "duration": 13,
    "start_time": "2024-01-31T14:12:54.149Z"
   },
   {
    "duration": 12,
    "start_time": "2024-01-31T14:12:54.164Z"
   },
   {
    "duration": 432,
    "start_time": "2024-01-31T14:12:54.178Z"
   },
   {
    "duration": 330,
    "start_time": "2024-01-31T14:12:54.612Z"
   },
   {
    "duration": 326,
    "start_time": "2024-01-31T14:12:54.943Z"
   },
   {
    "duration": 12,
    "start_time": "2024-01-31T14:12:55.270Z"
   },
   {
    "duration": 43,
    "start_time": "2024-01-31T14:12:55.292Z"
   },
   {
    "duration": 23,
    "start_time": "2024-01-31T14:14:14.780Z"
   },
   {
    "duration": 158,
    "start_time": "2024-01-31T14:17:00.440Z"
   },
   {
    "duration": 225,
    "start_time": "2024-01-31T14:17:12.746Z"
   },
   {
    "duration": 23,
    "start_time": "2024-01-31T14:20:12.269Z"
   },
   {
    "duration": 1322,
    "start_time": "2024-01-31T14:20:41.159Z"
   },
   {
    "duration": 77,
    "start_time": "2024-01-31T14:20:42.483Z"
   },
   {
    "duration": 16,
    "start_time": "2024-01-31T14:20:42.562Z"
   },
   {
    "duration": 32,
    "start_time": "2024-01-31T14:20:42.580Z"
   },
   {
    "duration": 17,
    "start_time": "2024-01-31T14:20:42.616Z"
   },
   {
    "duration": 17,
    "start_time": "2024-01-31T14:20:42.635Z"
   },
   {
    "duration": 13,
    "start_time": "2024-01-31T14:20:42.653Z"
   },
   {
    "duration": 28,
    "start_time": "2024-01-31T14:20:42.668Z"
   },
   {
    "duration": 6,
    "start_time": "2024-01-31T14:20:42.699Z"
   },
   {
    "duration": 11,
    "start_time": "2024-01-31T14:20:42.707Z"
   },
   {
    "duration": 7,
    "start_time": "2024-01-31T14:20:42.719Z"
   },
   {
    "duration": 7,
    "start_time": "2024-01-31T14:20:42.728Z"
   },
   {
    "duration": 8,
    "start_time": "2024-01-31T14:20:42.737Z"
   },
   {
    "duration": 57,
    "start_time": "2024-01-31T14:20:42.749Z"
   },
   {
    "duration": 19,
    "start_time": "2024-01-31T14:20:42.809Z"
   },
   {
    "duration": 17,
    "start_time": "2024-01-31T14:20:42.830Z"
   },
   {
    "duration": 377,
    "start_time": "2024-01-31T14:20:42.849Z"
   },
   {
    "duration": 1218,
    "start_time": "2024-01-31T14:20:43.228Z"
   },
   {
    "duration": 939,
    "start_time": "2024-01-31T14:20:44.448Z"
   },
   {
    "duration": 299,
    "start_time": "2024-01-31T14:20:45.389Z"
   },
   {
    "duration": 32,
    "start_time": "2024-01-31T14:20:45.691Z"
   },
   {
    "duration": 492,
    "start_time": "2024-01-31T14:20:45.725Z"
   },
   {
    "duration": 236,
    "start_time": "2024-01-31T14:20:46.219Z"
   },
   {
    "duration": 13,
    "start_time": "2024-01-31T14:20:46.457Z"
   },
   {
    "duration": 736,
    "start_time": "2024-01-31T14:20:46.471Z"
   },
   {
    "duration": 18,
    "start_time": "2024-01-31T14:20:47.210Z"
   },
   {
    "duration": 30,
    "start_time": "2024-01-31T14:20:47.229Z"
   },
   {
    "duration": 13,
    "start_time": "2024-01-31T14:20:47.260Z"
   },
   {
    "duration": 18,
    "start_time": "2024-01-31T14:20:47.275Z"
   },
   {
    "duration": 353,
    "start_time": "2024-01-31T14:20:47.295Z"
   },
   {
    "duration": 493,
    "start_time": "2024-01-31T14:20:47.650Z"
   },
   {
    "duration": 366,
    "start_time": "2024-01-31T14:20:48.145Z"
   },
   {
    "duration": 12,
    "start_time": "2024-01-31T14:20:48.514Z"
   },
   {
    "duration": 89,
    "start_time": "2024-01-31T14:20:48.528Z"
   },
   {
    "duration": 512,
    "start_time": "2024-01-31T14:21:03.892Z"
   },
   {
    "duration": 306,
    "start_time": "2024-01-31T14:21:21.686Z"
   },
   {
    "duration": 267,
    "start_time": "2024-01-31T14:22:19.201Z"
   },
   {
    "duration": 141,
    "start_time": "2024-01-31T14:23:21.469Z"
   },
   {
    "duration": 322,
    "start_time": "2024-01-31T14:23:36.106Z"
   },
   {
    "duration": 310,
    "start_time": "2024-01-31T14:23:46.038Z"
   },
   {
    "duration": 320,
    "start_time": "2024-01-31T14:24:19.199Z"
   },
   {
    "duration": 453,
    "start_time": "2024-01-31T14:24:26.578Z"
   },
   {
    "duration": 349,
    "start_time": "2024-01-31T14:42:00.788Z"
   },
   {
    "duration": 340,
    "start_time": "2024-01-31T14:43:56.130Z"
   },
   {
    "duration": 516,
    "start_time": "2024-01-31T14:44:53.409Z"
   },
   {
    "duration": 809,
    "start_time": "2024-01-31T14:45:22.679Z"
   },
   {
    "duration": 1272,
    "start_time": "2024-01-31T14:46:19.010Z"
   },
   {
    "duration": 74,
    "start_time": "2024-01-31T14:46:20.284Z"
   },
   {
    "duration": 15,
    "start_time": "2024-01-31T14:46:20.360Z"
   },
   {
    "duration": 58,
    "start_time": "2024-01-31T14:46:20.376Z"
   },
   {
    "duration": 15,
    "start_time": "2024-01-31T14:46:20.437Z"
   },
   {
    "duration": 55,
    "start_time": "2024-01-31T14:46:20.453Z"
   },
   {
    "duration": 13,
    "start_time": "2024-01-31T14:46:20.511Z"
   },
   {
    "duration": 9,
    "start_time": "2024-01-31T14:46:20.525Z"
   },
   {
    "duration": 8,
    "start_time": "2024-01-31T14:46:20.536Z"
   },
   {
    "duration": 15,
    "start_time": "2024-01-31T14:46:20.545Z"
   },
   {
    "duration": 12,
    "start_time": "2024-01-31T14:46:20.561Z"
   },
   {
    "duration": 18,
    "start_time": "2024-01-31T14:46:20.591Z"
   },
   {
    "duration": 9,
    "start_time": "2024-01-31T14:46:20.611Z"
   },
   {
    "duration": 31,
    "start_time": "2024-01-31T14:46:20.623Z"
   },
   {
    "duration": 19,
    "start_time": "2024-01-31T14:46:20.656Z"
   },
   {
    "duration": 33,
    "start_time": "2024-01-31T14:46:20.676Z"
   },
   {
    "duration": 341,
    "start_time": "2024-01-31T14:46:20.711Z"
   },
   {
    "duration": 1322,
    "start_time": "2024-01-31T14:46:21.054Z"
   },
   {
    "duration": 1081,
    "start_time": "2024-01-31T14:46:22.378Z"
   },
   {
    "duration": 372,
    "start_time": "2024-01-31T14:46:23.461Z"
   },
   {
    "duration": 26,
    "start_time": "2024-01-31T14:46:23.835Z"
   },
   {
    "duration": 393,
    "start_time": "2024-01-31T14:46:23.862Z"
   },
   {
    "duration": 250,
    "start_time": "2024-01-31T14:46:24.257Z"
   },
   {
    "duration": 15,
    "start_time": "2024-01-31T14:46:24.509Z"
   },
   {
    "duration": 679,
    "start_time": "2024-01-31T14:46:24.526Z"
   },
   {
    "duration": 17,
    "start_time": "2024-01-31T14:46:25.208Z"
   },
   {
    "duration": 13,
    "start_time": "2024-01-31T14:46:25.227Z"
   },
   {
    "duration": 26,
    "start_time": "2024-01-31T14:46:25.242Z"
   },
   {
    "duration": 39,
    "start_time": "2024-01-31T14:46:25.270Z"
   },
   {
    "duration": 388,
    "start_time": "2024-01-31T14:46:25.311Z"
   },
   {
    "duration": 478,
    "start_time": "2024-01-31T14:46:25.703Z"
   },
   {
    "duration": 360,
    "start_time": "2024-01-31T14:46:26.182Z"
   },
   {
    "duration": 10,
    "start_time": "2024-01-31T14:46:26.544Z"
   },
   {
    "duration": 45,
    "start_time": "2024-01-31T14:46:26.556Z"
   },
   {
    "duration": 1191,
    "start_time": "2024-01-31T14:47:27.149Z"
   },
   {
    "duration": 75,
    "start_time": "2024-01-31T14:47:28.342Z"
   },
   {
    "duration": 15,
    "start_time": "2024-01-31T14:47:28.418Z"
   },
   {
    "duration": 84,
    "start_time": "2024-01-31T14:47:28.435Z"
   },
   {
    "duration": 25,
    "start_time": "2024-01-31T14:47:28.521Z"
   },
   {
    "duration": 25,
    "start_time": "2024-01-31T14:47:28.548Z"
   },
   {
    "duration": 20,
    "start_time": "2024-01-31T14:47:28.574Z"
   },
   {
    "duration": 10,
    "start_time": "2024-01-31T14:47:28.595Z"
   },
   {
    "duration": 17,
    "start_time": "2024-01-31T14:47:28.606Z"
   },
   {
    "duration": 18,
    "start_time": "2024-01-31T14:47:28.624Z"
   },
   {
    "duration": 8,
    "start_time": "2024-01-31T14:47:28.644Z"
   },
   {
    "duration": 14,
    "start_time": "2024-01-31T14:47:28.654Z"
   },
   {
    "duration": 17,
    "start_time": "2024-01-31T14:47:28.669Z"
   },
   {
    "duration": 18,
    "start_time": "2024-01-31T14:47:28.688Z"
   },
   {
    "duration": 17,
    "start_time": "2024-01-31T14:47:28.707Z"
   },
   {
    "duration": 24,
    "start_time": "2024-01-31T14:47:28.726Z"
   },
   {
    "duration": 317,
    "start_time": "2024-01-31T14:47:28.751Z"
   },
   {
    "duration": 1184,
    "start_time": "2024-01-31T14:47:29.070Z"
   },
   {
    "duration": 697,
    "start_time": "2024-01-31T14:47:30.256Z"
   },
   {
    "duration": 283,
    "start_time": "2024-01-31T14:47:30.954Z"
   },
   {
    "duration": 28,
    "start_time": "2024-01-31T14:47:31.239Z"
   },
   {
    "duration": 838,
    "start_time": "2024-01-31T14:47:31.269Z"
   },
   {
    "duration": 223,
    "start_time": "2024-01-31T14:47:32.109Z"
   },
   {
    "duration": 13,
    "start_time": "2024-01-31T14:47:32.333Z"
   },
   {
    "duration": 640,
    "start_time": "2024-01-31T14:47:32.347Z"
   },
   {
    "duration": 14,
    "start_time": "2024-01-31T14:47:32.988Z"
   },
   {
    "duration": 12,
    "start_time": "2024-01-31T14:47:33.004Z"
   },
   {
    "duration": 13,
    "start_time": "2024-01-31T14:47:33.018Z"
   },
   {
    "duration": 13,
    "start_time": "2024-01-31T14:47:33.032Z"
   },
   {
    "duration": 347,
    "start_time": "2024-01-31T14:47:33.047Z"
   },
   {
    "duration": 433,
    "start_time": "2024-01-31T14:47:33.395Z"
   },
   {
    "duration": 332,
    "start_time": "2024-01-31T14:47:33.830Z"
   },
   {
    "duration": 12,
    "start_time": "2024-01-31T14:47:34.164Z"
   },
   {
    "duration": 24,
    "start_time": "2024-01-31T14:47:34.178Z"
   },
   {
    "duration": 340,
    "start_time": "2024-01-31T14:50:47.159Z"
   },
   {
    "duration": 1208,
    "start_time": "2024-01-31T14:50:54.147Z"
   },
   {
    "duration": 75,
    "start_time": "2024-01-31T14:50:55.358Z"
   },
   {
    "duration": 16,
    "start_time": "2024-01-31T14:50:55.434Z"
   },
   {
    "duration": 72,
    "start_time": "2024-01-31T14:50:55.451Z"
   },
   {
    "duration": 15,
    "start_time": "2024-01-31T14:50:55.525Z"
   },
   {
    "duration": 30,
    "start_time": "2024-01-31T14:50:55.542Z"
   },
   {
    "duration": 11,
    "start_time": "2024-01-31T14:50:55.574Z"
   },
   {
    "duration": 10,
    "start_time": "2024-01-31T14:50:55.587Z"
   },
   {
    "duration": 8,
    "start_time": "2024-01-31T14:50:55.599Z"
   },
   {
    "duration": 22,
    "start_time": "2024-01-31T14:50:55.609Z"
   },
   {
    "duration": 20,
    "start_time": "2024-01-31T14:50:55.633Z"
   },
   {
    "duration": 36,
    "start_time": "2024-01-31T14:50:55.655Z"
   },
   {
    "duration": 13,
    "start_time": "2024-01-31T14:50:55.693Z"
   },
   {
    "duration": 26,
    "start_time": "2024-01-31T14:50:55.709Z"
   },
   {
    "duration": 18,
    "start_time": "2024-01-31T14:50:55.737Z"
   },
   {
    "duration": 24,
    "start_time": "2024-01-31T14:50:55.756Z"
   },
   {
    "duration": 317,
    "start_time": "2024-01-31T14:50:55.791Z"
   },
   {
    "duration": 1151,
    "start_time": "2024-01-31T14:50:56.109Z"
   },
   {
    "duration": 387,
    "start_time": "2024-01-31T14:50:57.261Z"
   },
   {
    "duration": 267,
    "start_time": "2024-01-31T14:50:57.650Z"
   },
   {
    "duration": 25,
    "start_time": "2024-01-31T14:50:57.918Z"
   },
   {
    "duration": 441,
    "start_time": "2024-01-31T14:50:57.945Z"
   },
   {
    "duration": 223,
    "start_time": "2024-01-31T14:50:58.388Z"
   },
   {
    "duration": 13,
    "start_time": "2024-01-31T14:50:58.612Z"
   },
   {
    "duration": 612,
    "start_time": "2024-01-31T14:50:58.627Z"
   },
   {
    "duration": 12,
    "start_time": "2024-01-31T14:50:59.241Z"
   },
   {
    "duration": 18,
    "start_time": "2024-01-31T14:50:59.255Z"
   },
   {
    "duration": 27,
    "start_time": "2024-01-31T14:50:59.274Z"
   },
   {
    "duration": 13,
    "start_time": "2024-01-31T14:50:59.303Z"
   },
   {
    "duration": 332,
    "start_time": "2024-01-31T14:50:59.318Z"
   },
   {
    "duration": 485,
    "start_time": "2024-01-31T14:50:59.651Z"
   },
   {
    "duration": 311,
    "start_time": "2024-01-31T14:51:00.138Z"
   },
   {
    "duration": 10,
    "start_time": "2024-01-31T14:51:00.451Z"
   },
   {
    "duration": 84,
    "start_time": "2024-01-31T14:51:00.463Z"
   },
   {
    "duration": 1267,
    "start_time": "2024-01-31T14:51:18.191Z"
   },
   {
    "duration": 76,
    "start_time": "2024-01-31T14:51:19.460Z"
   },
   {
    "duration": 17,
    "start_time": "2024-01-31T14:51:19.537Z"
   },
   {
    "duration": 45,
    "start_time": "2024-01-31T14:51:19.556Z"
   },
   {
    "duration": 17,
    "start_time": "2024-01-31T14:51:19.602Z"
   },
   {
    "duration": 11,
    "start_time": "2024-01-31T14:51:19.621Z"
   },
   {
    "duration": 21,
    "start_time": "2024-01-31T14:51:19.633Z"
   },
   {
    "duration": 12,
    "start_time": "2024-01-31T14:51:19.656Z"
   },
   {
    "duration": 22,
    "start_time": "2024-01-31T14:51:19.669Z"
   },
   {
    "duration": 10,
    "start_time": "2024-01-31T14:51:19.694Z"
   },
   {
    "duration": 27,
    "start_time": "2024-01-31T14:51:19.705Z"
   },
   {
    "duration": 6,
    "start_time": "2024-01-31T14:51:19.733Z"
   },
   {
    "duration": 17,
    "start_time": "2024-01-31T14:51:19.741Z"
   },
   {
    "duration": 23,
    "start_time": "2024-01-31T14:51:19.760Z"
   },
   {
    "duration": 22,
    "start_time": "2024-01-31T14:51:19.785Z"
   },
   {
    "duration": 17,
    "start_time": "2024-01-31T14:51:19.809Z"
   },
   {
    "duration": 337,
    "start_time": "2024-01-31T14:51:19.828Z"
   },
   {
    "duration": 1187,
    "start_time": "2024-01-31T14:51:20.167Z"
   },
   {
    "duration": 779,
    "start_time": "2024-01-31T14:51:21.357Z"
   },
   {
    "duration": 307,
    "start_time": "2024-01-31T14:51:22.137Z"
   },
   {
    "duration": 28,
    "start_time": "2024-01-31T14:51:22.446Z"
   },
   {
    "duration": 440,
    "start_time": "2024-01-31T14:51:22.475Z"
   },
   {
    "duration": 231,
    "start_time": "2024-01-31T14:51:22.917Z"
   },
   {
    "duration": 13,
    "start_time": "2024-01-31T14:51:23.150Z"
   },
   {
    "duration": 629,
    "start_time": "2024-01-31T14:51:23.165Z"
   },
   {
    "duration": 14,
    "start_time": "2024-01-31T14:51:23.796Z"
   },
   {
    "duration": 66,
    "start_time": "2024-01-31T14:51:23.812Z"
   },
   {
    "duration": 148,
    "start_time": "2024-01-31T14:51:23.881Z"
   },
   {
    "duration": 34,
    "start_time": "2024-01-31T14:51:24.031Z"
   },
   {
    "duration": 316,
    "start_time": "2024-01-31T14:51:24.066Z"
   },
   {
    "duration": 541,
    "start_time": "2024-01-31T14:51:24.384Z"
   },
   {
    "duration": 338,
    "start_time": "2024-01-31T14:51:24.927Z"
   },
   {
    "duration": 12,
    "start_time": "2024-01-31T14:51:25.267Z"
   },
   {
    "duration": 41,
    "start_time": "2024-01-31T14:51:25.291Z"
   },
   {
    "duration": 331,
    "start_time": "2024-01-31T14:59:24.612Z"
   },
   {
    "duration": 345,
    "start_time": "2024-01-31T14:59:38.859Z"
   },
   {
    "duration": 363,
    "start_time": "2024-01-31T14:59:48.859Z"
   },
   {
    "duration": 366,
    "start_time": "2024-01-31T14:59:52.259Z"
   },
   {
    "duration": 1269,
    "start_time": "2024-01-31T15:00:16.459Z"
   },
   {
    "duration": 73,
    "start_time": "2024-01-31T15:00:17.730Z"
   },
   {
    "duration": 15,
    "start_time": "2024-01-31T15:00:17.805Z"
   },
   {
    "duration": 45,
    "start_time": "2024-01-31T15:00:17.821Z"
   },
   {
    "duration": 54,
    "start_time": "2024-01-31T15:00:17.868Z"
   },
   {
    "duration": 76,
    "start_time": "2024-01-31T15:00:17.924Z"
   },
   {
    "duration": 58,
    "start_time": "2024-01-31T15:00:18.002Z"
   },
   {
    "duration": 65,
    "start_time": "2024-01-31T15:00:18.062Z"
   },
   {
    "duration": 40,
    "start_time": "2024-01-31T15:00:18.128Z"
   },
   {
    "duration": 41,
    "start_time": "2024-01-31T15:00:18.170Z"
   },
   {
    "duration": 44,
    "start_time": "2024-01-31T15:00:18.213Z"
   },
   {
    "duration": 61,
    "start_time": "2024-01-31T15:00:18.259Z"
   },
   {
    "duration": 13,
    "start_time": "2024-01-31T15:00:18.322Z"
   },
   {
    "duration": 46,
    "start_time": "2024-01-31T15:00:18.338Z"
   },
   {
    "duration": 23,
    "start_time": "2024-01-31T15:00:18.386Z"
   },
   {
    "duration": 47,
    "start_time": "2024-01-31T15:00:18.411Z"
   },
   {
    "duration": 336,
    "start_time": "2024-01-31T15:00:18.459Z"
   },
   {
    "duration": 1210,
    "start_time": "2024-01-31T15:00:18.797Z"
   },
   {
    "duration": 447,
    "start_time": "2024-01-31T15:00:20.009Z"
   },
   {
    "duration": 263,
    "start_time": "2024-01-31T15:00:20.458Z"
   },
   {
    "duration": 25,
    "start_time": "2024-01-31T15:00:20.722Z"
   },
   {
    "duration": 425,
    "start_time": "2024-01-31T15:00:20.749Z"
   },
   {
    "duration": 259,
    "start_time": "2024-01-31T15:00:21.176Z"
   },
   {
    "duration": 13,
    "start_time": "2024-01-31T15:00:21.437Z"
   },
   {
    "duration": 671,
    "start_time": "2024-01-31T15:00:21.451Z"
   },
   {
    "duration": 15,
    "start_time": "2024-01-31T15:00:22.124Z"
   },
   {
    "duration": 29,
    "start_time": "2024-01-31T15:00:22.140Z"
   },
   {
    "duration": 26,
    "start_time": "2024-01-31T15:00:22.171Z"
   },
   {
    "duration": 27,
    "start_time": "2024-01-31T15:00:22.199Z"
   },
   {
    "duration": 354,
    "start_time": "2024-01-31T15:00:22.229Z"
   },
   {
    "duration": 443,
    "start_time": "2024-01-31T15:00:22.585Z"
   },
   {
    "duration": 320,
    "start_time": "2024-01-31T15:00:23.030Z"
   },
   {
    "duration": 12,
    "start_time": "2024-01-31T15:00:23.352Z"
   },
   {
    "duration": 35,
    "start_time": "2024-01-31T15:00:23.366Z"
   },
   {
    "duration": 349,
    "start_time": "2024-01-31T15:01:36.500Z"
   },
   {
    "duration": 1236,
    "start_time": "2024-01-31T15:01:53.508Z"
   },
   {
    "duration": 73,
    "start_time": "2024-01-31T15:01:54.746Z"
   },
   {
    "duration": 15,
    "start_time": "2024-01-31T15:01:54.820Z"
   },
   {
    "duration": 52,
    "start_time": "2024-01-31T15:01:54.836Z"
   },
   {
    "duration": 16,
    "start_time": "2024-01-31T15:01:54.891Z"
   },
   {
    "duration": 13,
    "start_time": "2024-01-31T15:01:54.909Z"
   },
   {
    "duration": 11,
    "start_time": "2024-01-31T15:01:54.924Z"
   },
   {
    "duration": 20,
    "start_time": "2024-01-31T15:01:54.937Z"
   },
   {
    "duration": 4,
    "start_time": "2024-01-31T15:01:54.959Z"
   },
   {
    "duration": 29,
    "start_time": "2024-01-31T15:01:54.965Z"
   },
   {
    "duration": 26,
    "start_time": "2024-01-31T15:01:54.996Z"
   },
   {
    "duration": 11,
    "start_time": "2024-01-31T15:01:55.024Z"
   },
   {
    "duration": 27,
    "start_time": "2024-01-31T15:01:55.036Z"
   },
   {
    "duration": 21,
    "start_time": "2024-01-31T15:01:55.067Z"
   },
   {
    "duration": 24,
    "start_time": "2024-01-31T15:01:55.090Z"
   },
   {
    "duration": 15,
    "start_time": "2024-01-31T15:01:55.115Z"
   },
   {
    "duration": 374,
    "start_time": "2024-01-31T15:01:55.131Z"
   },
   {
    "duration": 1159,
    "start_time": "2024-01-31T15:01:55.506Z"
   },
   {
    "duration": 329,
    "start_time": "2024-01-31T15:01:56.667Z"
   },
   {
    "duration": 26,
    "start_time": "2024-01-31T15:01:56.998Z"
   },
   {
    "duration": 371,
    "start_time": "2024-01-31T15:01:57.026Z"
   },
   {
    "duration": 335,
    "start_time": "2024-01-31T15:01:57.399Z"
   },
   {
    "duration": 13,
    "start_time": "2024-01-31T15:01:57.736Z"
   },
   {
    "duration": 698,
    "start_time": "2024-01-31T15:01:57.750Z"
   },
   {
    "duration": 13,
    "start_time": "2024-01-31T15:01:58.450Z"
   },
   {
    "duration": 13,
    "start_time": "2024-01-31T15:01:58.465Z"
   },
   {
    "duration": 13,
    "start_time": "2024-01-31T15:01:58.479Z"
   },
   {
    "duration": 13,
    "start_time": "2024-01-31T15:01:58.494Z"
   },
   {
    "duration": 331,
    "start_time": "2024-01-31T15:01:58.508Z"
   },
   {
    "duration": 332,
    "start_time": "2024-01-31T15:01:58.841Z"
   },
   {
    "duration": 399,
    "start_time": "2024-01-31T15:01:59.174Z"
   },
   {
    "duration": 18,
    "start_time": "2024-01-31T15:01:59.575Z"
   },
   {
    "duration": 122,
    "start_time": "2024-01-31T15:01:59.595Z"
   }
  ],
  "kernelspec": {
   "display_name": "Python 3 (ipykernel)",
   "language": "python",
   "name": "python3"
  },
  "language_info": {
   "codemirror_mode": {
    "name": "ipython",
    "version": 3
   },
   "file_extension": ".py",
   "mimetype": "text/x-python",
   "name": "python",
   "nbconvert_exporter": "python",
   "pygments_lexer": "ipython3",
   "version": "3.9.5"
  },
  "toc": {
   "base_numbering": 1,
   "nav_menu": {},
   "number_sections": true,
   "sideBar": true,
   "skip_h1_title": true,
   "title_cell": "Table of Contents",
   "title_sidebar": "Contents",
   "toc_cell": false,
   "toc_position": {},
   "toc_section_display": true,
   "toc_window_display": false
  }
 },
 "nbformat": 4,
 "nbformat_minor": 2
}
