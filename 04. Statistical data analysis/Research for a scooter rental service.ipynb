{
 "cells": [
  {
   "cell_type": "markdown",
   "id": "e903041f",
   "metadata": {},
   "source": [
    "# Исследование для сервиса аренды самокатов GoFast\n",
    "\n",
    "Я аналитик популярного сервиса аренды самокатов GoFast. Для исследования я использую данные о пользователях сервиса из разных городов, а также об их поездках. Мне предстоит проанализировать данные и проверить некоторые гипотезы, которые помогут бизнесу вырасти\n",
    "\n",
    "Чтобы совершать поездки по городу, пользователи сервиса GoFast пользуются мобильным приложением.\n",
    "Сервисом можно пользоваться:\n",
    "\n",
    "**без подписки**\n",
    "\n",
    "* абонентская плата отсутствует;\n",
    "\n",
    "* стоимость одной минуты поездки — \n",
    "8 рублей;\n",
    "\n",
    "* стоимость старта (начала поездки) — \n",
    "50 рублей;\n",
    "\n",
    "**с подпиской Ultra**\n",
    "\n",
    "* абонентская плата — \n",
    "199 рублей в месяц;\n",
    "\n",
    "* стоимость одной минуты поездки — \n",
    "6 рублей;\n",
    "\n",
    "* стоимость старта — бесплатно."
   ]
  },
  {
   "cell_type": "code",
   "execution_count": 1,
   "id": "fce97851",
   "metadata": {},
   "outputs": [],
   "source": [
    "import pandas as pd\n",
    "import matplotlib.pyplot as plt\n",
    "import numpy as np\n",
    "from scipy import stats as st"
   ]
  },
  {
   "cell_type": "markdown",
   "id": "bab28492",
   "metadata": {},
   "source": [
    "##1 Шаг. Загрузка данных"
   ]
  },
  {
   "cell_type": "code",
   "execution_count": 2,
   "id": "2b89052f",
   "metadata": {},
   "outputs": [
    {
     "data": {
      "text/html": [
       "<div>\n",
       "<style scoped>\n",
       "    .dataframe tbody tr th:only-of-type {\n",
       "        vertical-align: middle;\n",
       "    }\n",
       "\n",
       "    .dataframe tbody tr th {\n",
       "        vertical-align: top;\n",
       "    }\n",
       "\n",
       "    .dataframe thead th {\n",
       "        text-align: right;\n",
       "    }\n",
       "</style>\n",
       "<table border=\"1\" class=\"dataframe\">\n",
       "  <thead>\n",
       "    <tr style=\"text-align: right;\">\n",
       "      <th></th>\n",
       "      <th>user_id</th>\n",
       "      <th>name</th>\n",
       "      <th>age</th>\n",
       "      <th>city</th>\n",
       "      <th>subscription_type</th>\n",
       "    </tr>\n",
       "  </thead>\n",
       "  <tbody>\n",
       "    <tr>\n",
       "      <th>0</th>\n",
       "      <td>1</td>\n",
       "      <td>Кира</td>\n",
       "      <td>22</td>\n",
       "      <td>Тюмень</td>\n",
       "      <td>ultra</td>\n",
       "    </tr>\n",
       "    <tr>\n",
       "      <th>1</th>\n",
       "      <td>2</td>\n",
       "      <td>Станислав</td>\n",
       "      <td>31</td>\n",
       "      <td>Омск</td>\n",
       "      <td>ultra</td>\n",
       "    </tr>\n",
       "    <tr>\n",
       "      <th>2</th>\n",
       "      <td>3</td>\n",
       "      <td>Алексей</td>\n",
       "      <td>20</td>\n",
       "      <td>Москва</td>\n",
       "      <td>ultra</td>\n",
       "    </tr>\n",
       "    <tr>\n",
       "      <th>3</th>\n",
       "      <td>4</td>\n",
       "      <td>Константин</td>\n",
       "      <td>26</td>\n",
       "      <td>Ростов-на-Дону</td>\n",
       "      <td>ultra</td>\n",
       "    </tr>\n",
       "    <tr>\n",
       "      <th>4</th>\n",
       "      <td>5</td>\n",
       "      <td>Адель</td>\n",
       "      <td>28</td>\n",
       "      <td>Омск</td>\n",
       "      <td>ultra</td>\n",
       "    </tr>\n",
       "  </tbody>\n",
       "</table>\n",
       "</div>"
      ],
      "text/plain": [
       "   user_id        name  age            city subscription_type\n",
       "0        1        Кира   22          Тюмень             ultra\n",
       "1        2   Станислав   31            Омск             ultra\n",
       "2        3     Алексей   20          Москва             ultra\n",
       "3        4  Константин   26  Ростов-на-Дону             ultra\n",
       "4        5       Адель   28            Омск             ultra"
      ]
     },
     "metadata": {},
     "output_type": "display_data"
    },
    {
     "data": {
      "text/html": [
       "<div>\n",
       "<style scoped>\n",
       "    .dataframe tbody tr th:only-of-type {\n",
       "        vertical-align: middle;\n",
       "    }\n",
       "\n",
       "    .dataframe tbody tr th {\n",
       "        vertical-align: top;\n",
       "    }\n",
       "\n",
       "    .dataframe thead th {\n",
       "        text-align: right;\n",
       "    }\n",
       "</style>\n",
       "<table border=\"1\" class=\"dataframe\">\n",
       "  <thead>\n",
       "    <tr style=\"text-align: right;\">\n",
       "      <th></th>\n",
       "      <th>user_id</th>\n",
       "      <th>distance</th>\n",
       "      <th>duration</th>\n",
       "      <th>date</th>\n",
       "    </tr>\n",
       "  </thead>\n",
       "  <tbody>\n",
       "    <tr>\n",
       "      <th>0</th>\n",
       "      <td>1</td>\n",
       "      <td>4409.919140</td>\n",
       "      <td>25.599769</td>\n",
       "      <td>2021-01-01</td>\n",
       "    </tr>\n",
       "    <tr>\n",
       "      <th>1</th>\n",
       "      <td>1</td>\n",
       "      <td>2617.592153</td>\n",
       "      <td>15.816871</td>\n",
       "      <td>2021-01-18</td>\n",
       "    </tr>\n",
       "    <tr>\n",
       "      <th>2</th>\n",
       "      <td>1</td>\n",
       "      <td>754.159807</td>\n",
       "      <td>6.232113</td>\n",
       "      <td>2021-04-20</td>\n",
       "    </tr>\n",
       "    <tr>\n",
       "      <th>3</th>\n",
       "      <td>1</td>\n",
       "      <td>2694.783254</td>\n",
       "      <td>18.511000</td>\n",
       "      <td>2021-08-11</td>\n",
       "    </tr>\n",
       "    <tr>\n",
       "      <th>4</th>\n",
       "      <td>1</td>\n",
       "      <td>4028.687306</td>\n",
       "      <td>26.265803</td>\n",
       "      <td>2021-08-28</td>\n",
       "    </tr>\n",
       "  </tbody>\n",
       "</table>\n",
       "</div>"
      ],
      "text/plain": [
       "   user_id     distance   duration        date\n",
       "0        1  4409.919140  25.599769  2021-01-01\n",
       "1        1  2617.592153  15.816871  2021-01-18\n",
       "2        1   754.159807   6.232113  2021-04-20\n",
       "3        1  2694.783254  18.511000  2021-08-11\n",
       "4        1  4028.687306  26.265803  2021-08-28"
      ]
     },
     "metadata": {},
     "output_type": "display_data"
    },
    {
     "data": {
      "text/html": [
       "<div>\n",
       "<style scoped>\n",
       "    .dataframe tbody tr th:only-of-type {\n",
       "        vertical-align: middle;\n",
       "    }\n",
       "\n",
       "    .dataframe tbody tr th {\n",
       "        vertical-align: top;\n",
       "    }\n",
       "\n",
       "    .dataframe thead th {\n",
       "        text-align: right;\n",
       "    }\n",
       "</style>\n",
       "<table border=\"1\" class=\"dataframe\">\n",
       "  <thead>\n",
       "    <tr style=\"text-align: right;\">\n",
       "      <th></th>\n",
       "      <th>subscription_type</th>\n",
       "      <th>minute_price</th>\n",
       "      <th>start_ride_price</th>\n",
       "      <th>subscription_fee</th>\n",
       "    </tr>\n",
       "  </thead>\n",
       "  <tbody>\n",
       "    <tr>\n",
       "      <th>0</th>\n",
       "      <td>free</td>\n",
       "      <td>8</td>\n",
       "      <td>50</td>\n",
       "      <td>0</td>\n",
       "    </tr>\n",
       "    <tr>\n",
       "      <th>1</th>\n",
       "      <td>ultra</td>\n",
       "      <td>6</td>\n",
       "      <td>0</td>\n",
       "      <td>199</td>\n",
       "    </tr>\n",
       "  </tbody>\n",
       "</table>\n",
       "</div>"
      ],
      "text/plain": [
       "  subscription_type  minute_price  start_ride_price  subscription_fee\n",
       "0              free             8                50                 0\n",
       "1             ultra             6                 0               199"
      ]
     },
     "metadata": {},
     "output_type": "display_data"
    }
   ],
   "source": [
    "users_go = pd.read_csv('/datasets/users_go.csv')\n",
    "rides_go = pd.read_csv('/datasets/rides_go.csv')\n",
    "subscriptions_go = pd.read_csv('/datasets/subscriptions_go.csv')\n",
    "\n",
    "display(users_go.head(5))\n",
    "display(rides_go.head(5))\n",
    "display(subscriptions_go.head(5))"
   ]
  },
  {
   "cell_type": "code",
   "execution_count": 3,
   "id": "3fa2b49f",
   "metadata": {},
   "outputs": [
    {
     "name": "stdout",
     "output_type": "stream",
     "text": [
      "<class 'pandas.core.frame.DataFrame'>\n",
      "RangeIndex: 1565 entries, 0 to 1564\n",
      "Data columns (total 5 columns):\n",
      " #   Column             Non-Null Count  Dtype \n",
      "---  ------             --------------  ----- \n",
      " 0   user_id            1565 non-null   int64 \n",
      " 1   name               1565 non-null   object\n",
      " 2   age                1565 non-null   int64 \n",
      " 3   city               1565 non-null   object\n",
      " 4   subscription_type  1565 non-null   object\n",
      "dtypes: int64(2), object(3)\n",
      "memory usage: 61.3+ KB\n"
     ]
    },
    {
     "data": {
      "text/plain": [
       "None"
      ]
     },
     "metadata": {},
     "output_type": "display_data"
    },
    {
     "name": "stdout",
     "output_type": "stream",
     "text": [
      "<class 'pandas.core.frame.DataFrame'>\n",
      "RangeIndex: 18068 entries, 0 to 18067\n",
      "Data columns (total 4 columns):\n",
      " #   Column    Non-Null Count  Dtype  \n",
      "---  ------    --------------  -----  \n",
      " 0   user_id   18068 non-null  int64  \n",
      " 1   distance  18068 non-null  float64\n",
      " 2   duration  18068 non-null  float64\n",
      " 3   date      18068 non-null  object \n",
      "dtypes: float64(2), int64(1), object(1)\n",
      "memory usage: 564.8+ KB\n"
     ]
    },
    {
     "data": {
      "text/plain": [
       "None"
      ]
     },
     "metadata": {},
     "output_type": "display_data"
    },
    {
     "name": "stdout",
     "output_type": "stream",
     "text": [
      "<class 'pandas.core.frame.DataFrame'>\n",
      "RangeIndex: 2 entries, 0 to 1\n",
      "Data columns (total 4 columns):\n",
      " #   Column             Non-Null Count  Dtype \n",
      "---  ------             --------------  ----- \n",
      " 0   subscription_type  2 non-null      object\n",
      " 1   minute_price       2 non-null      int64 \n",
      " 2   start_ride_price   2 non-null      int64 \n",
      " 3   subscription_fee   2 non-null      int64 \n",
      "dtypes: int64(3), object(1)\n",
      "memory usage: 192.0+ bytes\n"
     ]
    }
   ],
   "source": [
    "display(users_go.info())\n",
    "display(rides_go.info())\n",
    "subscriptions_go.info()"
   ]
  },
  {
   "cell_type": "code",
   "execution_count": 4,
   "id": "e8cf7a69",
   "metadata": {},
   "outputs": [
    {
     "data": {
      "text/html": [
       "<div>\n",
       "<style scoped>\n",
       "    .dataframe tbody tr th:only-of-type {\n",
       "        vertical-align: middle;\n",
       "    }\n",
       "\n",
       "    .dataframe tbody tr th {\n",
       "        vertical-align: top;\n",
       "    }\n",
       "\n",
       "    .dataframe thead th {\n",
       "        text-align: right;\n",
       "    }\n",
       "</style>\n",
       "<table border=\"1\" class=\"dataframe\">\n",
       "  <thead>\n",
       "    <tr style=\"text-align: right;\">\n",
       "      <th></th>\n",
       "      <th>user_id</th>\n",
       "      <th>age</th>\n",
       "    </tr>\n",
       "  </thead>\n",
       "  <tbody>\n",
       "    <tr>\n",
       "      <th>count</th>\n",
       "      <td>1565.000000</td>\n",
       "      <td>1565.000000</td>\n",
       "    </tr>\n",
       "    <tr>\n",
       "      <th>mean</th>\n",
       "      <td>762.633866</td>\n",
       "      <td>24.922045</td>\n",
       "    </tr>\n",
       "    <tr>\n",
       "      <th>std</th>\n",
       "      <td>443.260155</td>\n",
       "      <td>4.553496</td>\n",
       "    </tr>\n",
       "    <tr>\n",
       "      <th>min</th>\n",
       "      <td>1.000000</td>\n",
       "      <td>12.000000</td>\n",
       "    </tr>\n",
       "    <tr>\n",
       "      <th>25%</th>\n",
       "      <td>378.000000</td>\n",
       "      <td>22.000000</td>\n",
       "    </tr>\n",
       "    <tr>\n",
       "      <th>50%</th>\n",
       "      <td>762.000000</td>\n",
       "      <td>25.000000</td>\n",
       "    </tr>\n",
       "    <tr>\n",
       "      <th>75%</th>\n",
       "      <td>1146.000000</td>\n",
       "      <td>28.000000</td>\n",
       "    </tr>\n",
       "    <tr>\n",
       "      <th>max</th>\n",
       "      <td>1534.000000</td>\n",
       "      <td>43.000000</td>\n",
       "    </tr>\n",
       "  </tbody>\n",
       "</table>\n",
       "</div>"
      ],
      "text/plain": [
       "           user_id          age\n",
       "count  1565.000000  1565.000000\n",
       "mean    762.633866    24.922045\n",
       "std     443.260155     4.553496\n",
       "min       1.000000    12.000000\n",
       "25%     378.000000    22.000000\n",
       "50%     762.000000    25.000000\n",
       "75%    1146.000000    28.000000\n",
       "max    1534.000000    43.000000"
      ]
     },
     "metadata": {},
     "output_type": "display_data"
    },
    {
     "data": {
      "text/html": [
       "<div>\n",
       "<style scoped>\n",
       "    .dataframe tbody tr th:only-of-type {\n",
       "        vertical-align: middle;\n",
       "    }\n",
       "\n",
       "    .dataframe tbody tr th {\n",
       "        vertical-align: top;\n",
       "    }\n",
       "\n",
       "    .dataframe thead th {\n",
       "        text-align: right;\n",
       "    }\n",
       "</style>\n",
       "<table border=\"1\" class=\"dataframe\">\n",
       "  <thead>\n",
       "    <tr style=\"text-align: right;\">\n",
       "      <th></th>\n",
       "      <th>user_id</th>\n",
       "      <th>distance</th>\n",
       "      <th>duration</th>\n",
       "    </tr>\n",
       "  </thead>\n",
       "  <tbody>\n",
       "    <tr>\n",
       "      <th>count</th>\n",
       "      <td>18068.000000</td>\n",
       "      <td>18068.000000</td>\n",
       "      <td>18068.000000</td>\n",
       "    </tr>\n",
       "    <tr>\n",
       "      <th>mean</th>\n",
       "      <td>842.869936</td>\n",
       "      <td>3070.659976</td>\n",
       "      <td>17.805011</td>\n",
       "    </tr>\n",
       "    <tr>\n",
       "      <th>std</th>\n",
       "      <td>434.734317</td>\n",
       "      <td>1116.831209</td>\n",
       "      <td>6.091051</td>\n",
       "    </tr>\n",
       "    <tr>\n",
       "      <th>min</th>\n",
       "      <td>1.000000</td>\n",
       "      <td>0.855683</td>\n",
       "      <td>0.500000</td>\n",
       "    </tr>\n",
       "    <tr>\n",
       "      <th>25%</th>\n",
       "      <td>487.000000</td>\n",
       "      <td>2543.226360</td>\n",
       "      <td>13.597563</td>\n",
       "    </tr>\n",
       "    <tr>\n",
       "      <th>50%</th>\n",
       "      <td>889.000000</td>\n",
       "      <td>3133.609994</td>\n",
       "      <td>17.678395</td>\n",
       "    </tr>\n",
       "    <tr>\n",
       "      <th>75%</th>\n",
       "      <td>1213.250000</td>\n",
       "      <td>3776.222735</td>\n",
       "      <td>21.724800</td>\n",
       "    </tr>\n",
       "    <tr>\n",
       "      <th>max</th>\n",
       "      <td>1534.000000</td>\n",
       "      <td>7211.007745</td>\n",
       "      <td>40.823963</td>\n",
       "    </tr>\n",
       "  </tbody>\n",
       "</table>\n",
       "</div>"
      ],
      "text/plain": [
       "            user_id      distance      duration\n",
       "count  18068.000000  18068.000000  18068.000000\n",
       "mean     842.869936   3070.659976     17.805011\n",
       "std      434.734317   1116.831209      6.091051\n",
       "min        1.000000      0.855683      0.500000\n",
       "25%      487.000000   2543.226360     13.597563\n",
       "50%      889.000000   3133.609994     17.678395\n",
       "75%     1213.250000   3776.222735     21.724800\n",
       "max     1534.000000   7211.007745     40.823963"
      ]
     },
     "metadata": {},
     "output_type": "display_data"
    },
    {
     "data": {
      "text/html": [
       "<div>\n",
       "<style scoped>\n",
       "    .dataframe tbody tr th:only-of-type {\n",
       "        vertical-align: middle;\n",
       "    }\n",
       "\n",
       "    .dataframe tbody tr th {\n",
       "        vertical-align: top;\n",
       "    }\n",
       "\n",
       "    .dataframe thead th {\n",
       "        text-align: right;\n",
       "    }\n",
       "</style>\n",
       "<table border=\"1\" class=\"dataframe\">\n",
       "  <thead>\n",
       "    <tr style=\"text-align: right;\">\n",
       "      <th></th>\n",
       "      <th>minute_price</th>\n",
       "      <th>start_ride_price</th>\n",
       "      <th>subscription_fee</th>\n",
       "    </tr>\n",
       "  </thead>\n",
       "  <tbody>\n",
       "    <tr>\n",
       "      <th>count</th>\n",
       "      <td>2.000000</td>\n",
       "      <td>2.000000</td>\n",
       "      <td>2.000000</td>\n",
       "    </tr>\n",
       "    <tr>\n",
       "      <th>mean</th>\n",
       "      <td>7.000000</td>\n",
       "      <td>25.000000</td>\n",
       "      <td>99.500000</td>\n",
       "    </tr>\n",
       "    <tr>\n",
       "      <th>std</th>\n",
       "      <td>1.414214</td>\n",
       "      <td>35.355339</td>\n",
       "      <td>140.714249</td>\n",
       "    </tr>\n",
       "    <tr>\n",
       "      <th>min</th>\n",
       "      <td>6.000000</td>\n",
       "      <td>0.000000</td>\n",
       "      <td>0.000000</td>\n",
       "    </tr>\n",
       "    <tr>\n",
       "      <th>25%</th>\n",
       "      <td>6.500000</td>\n",
       "      <td>12.500000</td>\n",
       "      <td>49.750000</td>\n",
       "    </tr>\n",
       "    <tr>\n",
       "      <th>50%</th>\n",
       "      <td>7.000000</td>\n",
       "      <td>25.000000</td>\n",
       "      <td>99.500000</td>\n",
       "    </tr>\n",
       "    <tr>\n",
       "      <th>75%</th>\n",
       "      <td>7.500000</td>\n",
       "      <td>37.500000</td>\n",
       "      <td>149.250000</td>\n",
       "    </tr>\n",
       "    <tr>\n",
       "      <th>max</th>\n",
       "      <td>8.000000</td>\n",
       "      <td>50.000000</td>\n",
       "      <td>199.000000</td>\n",
       "    </tr>\n",
       "  </tbody>\n",
       "</table>\n",
       "</div>"
      ],
      "text/plain": [
       "       minute_price  start_ride_price  subscription_fee\n",
       "count      2.000000          2.000000          2.000000\n",
       "mean       7.000000         25.000000         99.500000\n",
       "std        1.414214         35.355339        140.714249\n",
       "min        6.000000          0.000000          0.000000\n",
       "25%        6.500000         12.500000         49.750000\n",
       "50%        7.000000         25.000000         99.500000\n",
       "75%        7.500000         37.500000        149.250000\n",
       "max        8.000000         50.000000        199.000000"
      ]
     },
     "execution_count": 4,
     "metadata": {},
     "output_type": "execute_result"
    }
   ],
   "source": [
    "display(users_go.describe())\n",
    "display(rides_go.describe())\n",
    "subscriptions_go.describe()"
   ]
  },
  {
   "cell_type": "markdown",
   "id": "588edbc8",
   "metadata": {},
   "source": [
    "С первого взгляда с данными все в порядке\n",
    "\n",
    "Перехожу к этапу предобработки для более подробного изучения недочетов"
   ]
  },
  {
   "cell_type": "markdown",
   "id": "4f4b3f99",
   "metadata": {},
   "source": [
    "## 2 Шаг. Предобработка данных"
   ]
  },
  {
   "cell_type": "markdown",
   "id": "e4e37824",
   "metadata": {},
   "source": [
    "### Первым делом поменяю тип столбца date на datetime"
   ]
  },
  {
   "cell_type": "code",
   "execution_count": 5,
   "id": "c5463421",
   "metadata": {},
   "outputs": [],
   "source": [
    "rides_go['date'] = pd.to_datetime(\n",
    "    rides_go['date'], format='%Y-%m-%d'\n",
    ")"
   ]
  },
  {
   "cell_type": "markdown",
   "id": "49387cc5",
   "metadata": {},
   "source": [
    "### Cформирую новый столбец с номерами месяца\n",
    "\n",
    "Данные исследуем за один год - 2021"
   ]
  },
  {
   "cell_type": "code",
   "execution_count": 6,
   "id": "7fa5a056",
   "metadata": {},
   "outputs": [
    {
     "data": {
      "text/plain": [
       "Timestamp('2021-01-01 00:00:00')"
      ]
     },
     "metadata": {},
     "output_type": "display_data"
    },
    {
     "data": {
      "text/plain": [
       "Timestamp('2021-12-30 00:00:00')"
      ]
     },
     "execution_count": 6,
     "metadata": {},
     "output_type": "execute_result"
    }
   ],
   "source": [
    "rides_go['month'] = rides_go['date'].dt.month\n",
    "display(rides_go['date'].min())\n",
    "rides_go['date'].max()"
   ]
  },
  {
   "cell_type": "markdown",
   "id": "b40911fe",
   "metadata": {},
   "source": [
    "### Поскольку пропусков не обнаружила, проверю, как обстоят дела с дубликатами и исправлю ситуацию"
   ]
  },
  {
   "cell_type": "code",
   "execution_count": 7,
   "id": "e85b3205",
   "metadata": {},
   "outputs": [
    {
     "data": {
      "text/plain": [
       "31"
      ]
     },
     "metadata": {},
     "output_type": "display_data"
    },
    {
     "data": {
      "text/plain": [
       "0"
      ]
     },
     "metadata": {},
     "output_type": "display_data"
    },
    {
     "data": {
      "text/plain": [
       "0"
      ]
     },
     "metadata": {},
     "output_type": "display_data"
    },
    {
     "data": {
      "text/plain": [
       "0"
      ]
     },
     "execution_count": 7,
     "metadata": {},
     "output_type": "execute_result"
    }
   ],
   "source": [
    "display(users_go.duplicated().sum())\n",
    "display(rides_go.duplicated().sum())\n",
    "display(subscriptions_go.duplicated().sum())\n",
    "\n",
    "users_go.drop_duplicates(inplace=True)\n",
    "users_go.duplicated().sum()"
   ]
  },
  {
   "cell_type": "markdown",
   "id": "6700bf8f",
   "metadata": {},
   "source": [
    "### Итоги предобработки данных:\n",
    "\n",
    "1. Пропущенных значений не оказалось\n",
    "2. Изменила тип данных на правильный\n",
    "3. Провела работу с дубликатами и удалила повторяющиеся значения\n"
   ]
  },
  {
   "cell_type": "markdown",
   "id": "24e049b3",
   "metadata": {},
   "source": [
    "## 3 Шаг. Исследовательский анализ данных"
   ]
  },
  {
   "cell_type": "markdown",
   "id": "e2a00d9d",
   "metadata": {},
   "source": [
    "### Посмотрю на самые популярные города по убыванию количества пользователей"
   ]
  },
  {
   "cell_type": "code",
   "execution_count": 8,
   "id": "19ab6173",
   "metadata": {},
   "outputs": [
    {
     "data": {
      "text/plain": [
       "Пятигорск         219\n",
       "Екатеринбург      204\n",
       "Ростов-на-Дону    198\n",
       "Краснодар         193\n",
       "Сочи              189\n",
       "Омск              183\n",
       "Тюмень            180\n",
       "Москва            168\n",
       "Name: city, dtype: int64"
      ]
     },
     "execution_count": 8,
     "metadata": {},
     "output_type": "execute_result"
    },
    {
     "data": {
      "image/png": "[encoded data removed]",
      "text/plain": [
       "<Figure size 432x288 with 1 Axes>"
      ]
     },
     "metadata": {
      "needs_background": "light"
     },
     "output_type": "display_data"
    }
   ],
   "source": [
    "users_go['city'].value_counts().plot(kind = 'bar',title ='city', ylabel = 'Колличество людей')\n",
    "users_go['city'].value_counts()"
   ]
  },
  {
   "cell_type": "code",
   "execution_count": 9,
   "id": "5a15cc34",
   "metadata": {},
   "outputs": [
    {
     "data": {
      "text/plain": [
       "0.4556714471968709"
      ]
     },
     "metadata": {},
     "output_type": "display_data"
    },
    {
     "data": {
      "text/plain": [
       "0.5443285528031291"
      ]
     },
     "execution_count": 9,
     "metadata": {},
     "output_type": "execute_result"
    },
    {
     "data": {
      "image/png": "[encoded data removed]",
      "text/plain": [
       "<Figure size 432x288 with 1 Axes>"
      ]
     },
     "metadata": {
      "needs_background": "light"
     },
     "output_type": "display_data"
    }
   ],
   "source": [
    "users_go['subscription_type'].value_counts().plot(kind ='bar', title ='subscription_type', ylabel = 'Колличество людей')\n",
    "users_go['subscription_type'].value_counts()\n",
    "\n",
    "display(len(users_go.query('subscription_type == \"ultra\"')) / len(users_go))\n",
    "len(users_go.query('subscription_type == \"free\"')) / len(users_go)"
   ]
  },
  {
   "cell_type": "markdown",
   "id": "38191d95",
   "metadata": {},
   "source": [
    "Людей без подписки не на много, но больше"
   ]
  },
  {
   "cell_type": "markdown",
   "id": "2b065f5c",
   "metadata": {},
   "source": [
    "### Пользователи каких возростов встречаются чаще"
   ]
  },
  {
   "cell_type": "code",
   "execution_count": 10,
   "id": "02b4b998",
   "metadata": {},
   "outputs": [
    {
     "data": {
      "image/png": "[encoded data removed]",
      "text/plain": [
       "<Figure size 432x288 with 1 Axes>"
      ]
     },
     "metadata": {
      "needs_background": "light"
     },
     "output_type": "display_data"
    }
   ],
   "source": [
    "users_go['age'].plot(kind = 'hist', bins = 100 ,title = 'age_users')\n",
    "plt.title('Распеределние возрастов пользователей')\n",
    "plt.ylabel('Колличество людей')\n",
    "plt.xlabel('Возраст')\n",
    "plt.show;"
   ]
  },
  {
   "cell_type": "markdown",
   "id": "0f68c0ee",
   "metadata": {},
   "source": [
    "В выборке присутствуют люди от 12 до 43, ранее я проверила это с помощью describe\n",
    "\n",
    "БОльшая часть людей - от 20 до 30 лет"
   ]
  },
  {
   "cell_type": "markdown",
   "id": "6afb7845",
   "metadata": {},
   "source": [
    "###  Расстояние, которое пользователь преодолел за одну поездку"
   ]
  },
  {
   "cell_type": "code",
   "execution_count": 11,
   "id": "4d6b9aa9",
   "metadata": {},
   "outputs": [
    {
     "data": {
      "image/png": "[encoded data removed]",
      "text/plain": [
       "<Figure size 432x288 with 1 Axes>"
      ]
     },
     "metadata": {
      "needs_background": "light"
     },
     "output_type": "display_data"
    },
    {
     "data": {
      "image/png": "[encoded data removed]",
      "text/plain": [
       "<Figure size 432x288 with 1 Axes>"
      ]
     },
     "metadata": {
      "needs_background": "light"
     },
     "output_type": "display_data"
    }
   ],
   "source": [
    "rides_go['distance'].plot.hist(bins = 50, range =(0,7000), title ='Расстояние за одну поездку на пользователя')\n",
    "plt.xlabel(\"Дистанция в метрах\")\n",
    "plt.ylabel(\"Количество людей\")\n",
    "plt.show()\n",
    "rides_go['distance'].plot(kind ='hist', bins = 50, range =(0,1000), title ='Расстояние за одну поездку на пользователя до 1 км')\n",
    "plt.xlabel(\"Дистанция в метрах\")\n",
    "plt.ylabel(\"Количество людей\");"
   ]
  },
  {
   "cell_type": "markdown",
   "id": "14d0ec75",
   "metadata": {},
   "source": [
    "В основном, на самокатах люди проезжают от 2 км до 5 км, чаще всего 3 км\n",
    "\n",
    "Распределение нормальное, но есть небольшой выброс до 1 км. Люди действительно могут брать самокаты на совсем маленькие расстояния или же просто по своим причинам бронировать и сразу заканчивать поездку на самокатах\n",
    "\n",
    "Такиех случаев немного, поэтому оставляю все как есть"
   ]
  },
  {
   "cell_type": "markdown",
   "id": "d9069d04",
   "metadata": {},
   "source": [
    "### Продолжительность поездок"
   ]
  },
  {
   "cell_type": "code",
   "execution_count": 12,
   "id": "1ea1ca68",
   "metadata": {},
   "outputs": [
    {
     "data": {
      "image/png": "[encoded data removed]",
      "text/plain": [
       "<Figure size 432x288 with 1 Axes>"
      ]
     },
     "metadata": {
      "needs_background": "light"
     },
     "output_type": "display_data"
    },
    {
     "data": {
      "text/plain": [
       "count    18068.000000\n",
       "mean        17.805011\n",
       "std          6.091051\n",
       "min          0.500000\n",
       "25%         13.597563\n",
       "50%         17.678395\n",
       "75%         21.724800\n",
       "max         40.823963\n",
       "Name: duration, dtype: float64"
      ]
     },
     "execution_count": 12,
     "metadata": {},
     "output_type": "execute_result"
    }
   ],
   "source": [
    "rides_go['duration'].plot(kind = 'hist',bins = 50, range =(0,40))\n",
    "plt.xlabel(\"Время в минутах\")\n",
    "plt.ylabel(\"Количество людей\")\n",
    "plt.title('Продолжительность поездок')\n",
    "plt.show();\n",
    "\n",
    "rides_go['duration'].describe()"
   ]
  },
  {
   "cell_type": "code",
   "execution_count": 13,
   "id": "704a423b",
   "metadata": {},
   "outputs": [
    {
     "data": {
      "image/png": "[encoded data removed]",
      "text/plain": [
       "<Figure size 432x288 with 1 Axes>"
      ]
     },
     "metadata": {
      "needs_background": "light"
     },
     "output_type": "display_data"
    }
   ],
   "source": [
    "rides_go['duration'].plot(kind = 'hist',bins = 50, range =(0,3))\n",
    "plt.xlabel(\"Время в минутах\")\n",
    "plt.ylabel(\"Количество людей\")\n",
    "plt.title('Продолжительность поездок до 3х минут');"
   ]
  },
  {
   "cell_type": "code",
   "execution_count": 14,
   "id": "f1b43238",
   "metadata": {},
   "outputs": [
    {
     "data": {
      "text/html": [
       "<div>\n",
       "<style scoped>\n",
       "    .dataframe tbody tr th:only-of-type {\n",
       "        vertical-align: middle;\n",
       "    }\n",
       "\n",
       "    .dataframe tbody tr th {\n",
       "        vertical-align: top;\n",
       "    }\n",
       "\n",
       "    .dataframe thead th {\n",
       "        text-align: right;\n",
       "    }\n",
       "</style>\n",
       "<table border=\"1\" class=\"dataframe\">\n",
       "  <thead>\n",
       "    <tr style=\"text-align: right;\">\n",
       "      <th></th>\n",
       "      <th>user_id</th>\n",
       "      <th>distance</th>\n",
       "      <th>duration</th>\n",
       "      <th>date</th>\n",
       "      <th>month</th>\n",
       "    </tr>\n",
       "  </thead>\n",
       "  <tbody>\n",
       "    <tr>\n",
       "      <th>6531</th>\n",
       "      <td>701</td>\n",
       "      <td>4196.445201</td>\n",
       "      <td>0.5</td>\n",
       "      <td>2021-08-31</td>\n",
       "      <td>8</td>\n",
       "    </tr>\n",
       "    <tr>\n",
       "      <th>6570</th>\n",
       "      <td>704</td>\n",
       "      <td>4830.824371</td>\n",
       "      <td>0.5</td>\n",
       "      <td>2021-10-14</td>\n",
       "      <td>10</td>\n",
       "    </tr>\n",
       "    <tr>\n",
       "      <th>6680</th>\n",
       "      <td>712</td>\n",
       "      <td>4684.004397</td>\n",
       "      <td>0.5</td>\n",
       "      <td>2021-03-04</td>\n",
       "      <td>3</td>\n",
       "    </tr>\n",
       "    <tr>\n",
       "      <th>6695</th>\n",
       "      <td>713</td>\n",
       "      <td>5215.642710</td>\n",
       "      <td>0.5</td>\n",
       "      <td>2021-02-25</td>\n",
       "      <td>2</td>\n",
       "    </tr>\n",
       "    <tr>\n",
       "      <th>6768</th>\n",
       "      <td>718</td>\n",
       "      <td>5197.436649</td>\n",
       "      <td>0.5</td>\n",
       "      <td>2021-02-11</td>\n",
       "      <td>2</td>\n",
       "    </tr>\n",
       "    <tr>\n",
       "      <th>...</th>\n",
       "      <td>...</td>\n",
       "      <td>...</td>\n",
       "      <td>...</td>\n",
       "      <td>...</td>\n",
       "      <td>...</td>\n",
       "    </tr>\n",
       "    <tr>\n",
       "      <th>17004</th>\n",
       "      <td>1460</td>\n",
       "      <td>5531.335845</td>\n",
       "      <td>0.5</td>\n",
       "      <td>2021-01-19</td>\n",
       "      <td>1</td>\n",
       "    </tr>\n",
       "    <tr>\n",
       "      <th>17242</th>\n",
       "      <td>1477</td>\n",
       "      <td>6724.932981</td>\n",
       "      <td>0.5</td>\n",
       "      <td>2021-01-12</td>\n",
       "      <td>1</td>\n",
       "    </tr>\n",
       "    <tr>\n",
       "      <th>17314</th>\n",
       "      <td>1483</td>\n",
       "      <td>4445.481070</td>\n",
       "      <td>0.5</td>\n",
       "      <td>2021-03-06</td>\n",
       "      <td>3</td>\n",
       "    </tr>\n",
       "    <tr>\n",
       "      <th>17505</th>\n",
       "      <td>1496</td>\n",
       "      <td>5722.551787</td>\n",
       "      <td>0.5</td>\n",
       "      <td>2021-02-14</td>\n",
       "      <td>2</td>\n",
       "    </tr>\n",
       "    <tr>\n",
       "      <th>17909</th>\n",
       "      <td>1524</td>\n",
       "      <td>4103.998874</td>\n",
       "      <td>0.5</td>\n",
       "      <td>2021-06-18</td>\n",
       "      <td>6</td>\n",
       "    </tr>\n",
       "  </tbody>\n",
       "</table>\n",
       "<p>95 rows × 5 columns</p>\n",
       "</div>"
      ],
      "text/plain": [
       "       user_id     distance  duration       date  month\n",
       "6531       701  4196.445201       0.5 2021-08-31      8\n",
       "6570       704  4830.824371       0.5 2021-10-14     10\n",
       "6680       712  4684.004397       0.5 2021-03-04      3\n",
       "6695       713  5215.642710       0.5 2021-02-25      2\n",
       "6768       718  5197.436649       0.5 2021-02-11      2\n",
       "...        ...          ...       ...        ...    ...\n",
       "17004     1460  5531.335845       0.5 2021-01-19      1\n",
       "17242     1477  6724.932981       0.5 2021-01-12      1\n",
       "17314     1483  4445.481070       0.5 2021-03-06      3\n",
       "17505     1496  5722.551787       0.5 2021-02-14      2\n",
       "17909     1524  4103.998874       0.5 2021-06-18      6\n",
       "\n",
       "[95 rows x 5 columns]"
      ]
     },
     "execution_count": 14,
     "metadata": {},
     "output_type": "execute_result"
    }
   ],
   "source": [
    "rides_go[rides_go['duration'] == 0.5]"
   ]
  },
  {
   "cell_type": "markdown",
   "id": "6595057e",
   "metadata": {},
   "source": [
    "Чаще всего время поездки на самокате занимает от 10 до 25 минут\n",
    "\n",
    "Но около полуминуты есть выброс, более 80ти поездок с такой скоростью. Также, это минимальное время для поездок. Скорее всего, это поездки, которые отменяли сразу же\n",
    "\n",
    "При том, дистанция у подобных поездок достигает 6 км. Могу сделать вывод, что в момент подсчета времени таких поездок, происходили технические сбои, которые не записывали время. То есть данные выгрузились с ошибкой. Стоит избавиться от подобных аномалий, чтобы анализ был максимально приближен к истине"
   ]
  },
  {
   "cell_type": "code",
   "execution_count": 15,
   "id": "9ef202fc",
   "metadata": {},
   "outputs": [],
   "source": [
    "rides_go = rides_go.query('duration > 0.5')"
   ]
  },
  {
   "cell_type": "markdown",
   "id": "978b5ce0",
   "metadata": {},
   "source": [
    "## 4 Шаг. Объединение данных"
   ]
  },
  {
   "cell_type": "markdown",
   "id": "fb3061af",
   "metadata": {},
   "source": [
    "### Сформирую одну таблицу из трех, о пользователях, поездках и подписках вместе"
   ]
  },
  {
   "cell_type": "code",
   "execution_count": 16,
   "id": "b85f8c1c",
   "metadata": {},
   "outputs": [
    {
     "data": {
      "text/html": [
       "<div>\n",
       "<style scoped>\n",
       "    .dataframe tbody tr th:only-of-type {\n",
       "        vertical-align: middle;\n",
       "    }\n",
       "\n",
       "    .dataframe tbody tr th {\n",
       "        vertical-align: top;\n",
       "    }\n",
       "\n",
       "    .dataframe thead th {\n",
       "        text-align: right;\n",
       "    }\n",
       "</style>\n",
       "<table border=\"1\" class=\"dataframe\">\n",
       "  <thead>\n",
       "    <tr style=\"text-align: right;\">\n",
       "      <th></th>\n",
       "      <th>user_id</th>\n",
       "      <th>name</th>\n",
       "      <th>age</th>\n",
       "      <th>city</th>\n",
       "      <th>subscription_type</th>\n",
       "      <th>distance</th>\n",
       "      <th>duration</th>\n",
       "      <th>date</th>\n",
       "      <th>month</th>\n",
       "      <th>minute_price</th>\n",
       "      <th>start_ride_price</th>\n",
       "      <th>subscription_fee</th>\n",
       "    </tr>\n",
       "  </thead>\n",
       "  <tbody>\n",
       "    <tr>\n",
       "      <th>0</th>\n",
       "      <td>1</td>\n",
       "      <td>Кира</td>\n",
       "      <td>22</td>\n",
       "      <td>Тюмень</td>\n",
       "      <td>ultra</td>\n",
       "      <td>4409.919140</td>\n",
       "      <td>25.599769</td>\n",
       "      <td>2021-01-01</td>\n",
       "      <td>1</td>\n",
       "      <td>6</td>\n",
       "      <td>0</td>\n",
       "      <td>199</td>\n",
       "    </tr>\n",
       "    <tr>\n",
       "      <th>1</th>\n",
       "      <td>1</td>\n",
       "      <td>Кира</td>\n",
       "      <td>22</td>\n",
       "      <td>Тюмень</td>\n",
       "      <td>ultra</td>\n",
       "      <td>2617.592153</td>\n",
       "      <td>15.816871</td>\n",
       "      <td>2021-01-18</td>\n",
       "      <td>1</td>\n",
       "      <td>6</td>\n",
       "      <td>0</td>\n",
       "      <td>199</td>\n",
       "    </tr>\n",
       "    <tr>\n",
       "      <th>2</th>\n",
       "      <td>1</td>\n",
       "      <td>Кира</td>\n",
       "      <td>22</td>\n",
       "      <td>Тюмень</td>\n",
       "      <td>ultra</td>\n",
       "      <td>754.159807</td>\n",
       "      <td>6.232113</td>\n",
       "      <td>2021-04-20</td>\n",
       "      <td>4</td>\n",
       "      <td>6</td>\n",
       "      <td>0</td>\n",
       "      <td>199</td>\n",
       "    </tr>\n",
       "    <tr>\n",
       "      <th>3</th>\n",
       "      <td>1</td>\n",
       "      <td>Кира</td>\n",
       "      <td>22</td>\n",
       "      <td>Тюмень</td>\n",
       "      <td>ultra</td>\n",
       "      <td>2694.783254</td>\n",
       "      <td>18.511000</td>\n",
       "      <td>2021-08-11</td>\n",
       "      <td>8</td>\n",
       "      <td>6</td>\n",
       "      <td>0</td>\n",
       "      <td>199</td>\n",
       "    </tr>\n",
       "    <tr>\n",
       "      <th>4</th>\n",
       "      <td>1</td>\n",
       "      <td>Кира</td>\n",
       "      <td>22</td>\n",
       "      <td>Тюмень</td>\n",
       "      <td>ultra</td>\n",
       "      <td>4028.687306</td>\n",
       "      <td>26.265803</td>\n",
       "      <td>2021-08-28</td>\n",
       "      <td>8</td>\n",
       "      <td>6</td>\n",
       "      <td>0</td>\n",
       "      <td>199</td>\n",
       "    </tr>\n",
       "    <tr>\n",
       "      <th>...</th>\n",
       "      <td>...</td>\n",
       "      <td>...</td>\n",
       "      <td>...</td>\n",
       "      <td>...</td>\n",
       "      <td>...</td>\n",
       "      <td>...</td>\n",
       "      <td>...</td>\n",
       "      <td>...</td>\n",
       "      <td>...</td>\n",
       "      <td>...</td>\n",
       "      <td>...</td>\n",
       "      <td>...</td>\n",
       "    </tr>\n",
       "    <tr>\n",
       "      <th>17968</th>\n",
       "      <td>1534</td>\n",
       "      <td>Альберт</td>\n",
       "      <td>25</td>\n",
       "      <td>Краснодар</td>\n",
       "      <td>free</td>\n",
       "      <td>3781.098080</td>\n",
       "      <td>19.822962</td>\n",
       "      <td>2021-11-04</td>\n",
       "      <td>11</td>\n",
       "      <td>8</td>\n",
       "      <td>50</td>\n",
       "      <td>0</td>\n",
       "    </tr>\n",
       "    <tr>\n",
       "      <th>17969</th>\n",
       "      <td>1534</td>\n",
       "      <td>Альберт</td>\n",
       "      <td>25</td>\n",
       "      <td>Краснодар</td>\n",
       "      <td>free</td>\n",
       "      <td>2840.423057</td>\n",
       "      <td>21.409799</td>\n",
       "      <td>2021-11-16</td>\n",
       "      <td>11</td>\n",
       "      <td>8</td>\n",
       "      <td>50</td>\n",
       "      <td>0</td>\n",
       "    </tr>\n",
       "    <tr>\n",
       "      <th>17970</th>\n",
       "      <td>1534</td>\n",
       "      <td>Альберт</td>\n",
       "      <td>25</td>\n",
       "      <td>Краснодар</td>\n",
       "      <td>free</td>\n",
       "      <td>3826.185507</td>\n",
       "      <td>18.435051</td>\n",
       "      <td>2021-11-18</td>\n",
       "      <td>11</td>\n",
       "      <td>8</td>\n",
       "      <td>50</td>\n",
       "      <td>0</td>\n",
       "    </tr>\n",
       "    <tr>\n",
       "      <th>17971</th>\n",
       "      <td>1534</td>\n",
       "      <td>Альберт</td>\n",
       "      <td>25</td>\n",
       "      <td>Краснодар</td>\n",
       "      <td>free</td>\n",
       "      <td>2902.308661</td>\n",
       "      <td>16.674362</td>\n",
       "      <td>2021-11-27</td>\n",
       "      <td>11</td>\n",
       "      <td>8</td>\n",
       "      <td>50</td>\n",
       "      <td>0</td>\n",
       "    </tr>\n",
       "    <tr>\n",
       "      <th>17972</th>\n",
       "      <td>1534</td>\n",
       "      <td>Альберт</td>\n",
       "      <td>25</td>\n",
       "      <td>Краснодар</td>\n",
       "      <td>free</td>\n",
       "      <td>2371.711192</td>\n",
       "      <td>15.893917</td>\n",
       "      <td>2021-12-29</td>\n",
       "      <td>12</td>\n",
       "      <td>8</td>\n",
       "      <td>50</td>\n",
       "      <td>0</td>\n",
       "    </tr>\n",
       "  </tbody>\n",
       "</table>\n",
       "<p>17973 rows × 12 columns</p>\n",
       "</div>"
      ],
      "text/plain": [
       "       user_id     name  age       city subscription_type     distance  \\\n",
       "0            1     Кира   22     Тюмень             ultra  4409.919140   \n",
       "1            1     Кира   22     Тюмень             ultra  2617.592153   \n",
       "2            1     Кира   22     Тюмень             ultra   754.159807   \n",
       "3            1     Кира   22     Тюмень             ultra  2694.783254   \n",
       "4            1     Кира   22     Тюмень             ultra  4028.687306   \n",
       "...        ...      ...  ...        ...               ...          ...   \n",
       "17968     1534  Альберт   25  Краснодар              free  3781.098080   \n",
       "17969     1534  Альберт   25  Краснодар              free  2840.423057   \n",
       "17970     1534  Альберт   25  Краснодар              free  3826.185507   \n",
       "17971     1534  Альберт   25  Краснодар              free  2902.308661   \n",
       "17972     1534  Альберт   25  Краснодар              free  2371.711192   \n",
       "\n",
       "        duration       date  month  minute_price  start_ride_price  \\\n",
       "0      25.599769 2021-01-01      1             6                 0   \n",
       "1      15.816871 2021-01-18      1             6                 0   \n",
       "2       6.232113 2021-04-20      4             6                 0   \n",
       "3      18.511000 2021-08-11      8             6                 0   \n",
       "4      26.265803 2021-08-28      8             6                 0   \n",
       "...          ...        ...    ...           ...               ...   \n",
       "17968  19.822962 2021-11-04     11             8                50   \n",
       "17969  21.409799 2021-11-16     11             8                50   \n",
       "17970  18.435051 2021-11-18     11             8                50   \n",
       "17971  16.674362 2021-11-27     11             8                50   \n",
       "17972  15.893917 2021-12-29     12             8                50   \n",
       "\n",
       "       subscription_fee  \n",
       "0                   199  \n",
       "1                   199  \n",
       "2                   199  \n",
       "3                   199  \n",
       "4                   199  \n",
       "...                 ...  \n",
       "17968                 0  \n",
       "17969                 0  \n",
       "17970                 0  \n",
       "17971                 0  \n",
       "17972                 0  \n",
       "\n",
       "[17973 rows x 12 columns]"
      ]
     },
     "execution_count": 16,
     "metadata": {},
     "output_type": "execute_result"
    }
   ],
   "source": [
    "data = users_go.merge(rides_go,on = 'user_id')\n",
    "data = data.merge(subscriptions_go, on ='subscription_type')\n",
    "data"
   ]
  },
  {
   "cell_type": "markdown",
   "id": "7158244d",
   "metadata": {},
   "source": [
    "### Разделяю на 2 таблицы, пользователей с подпиской и без\n"
   ]
  },
  {
   "cell_type": "code",
   "execution_count": 17,
   "id": "ca7448f4",
   "metadata": {},
   "outputs": [
    {
     "data": {
      "text/plain": [
       "(6500, 12)"
      ]
     },
     "metadata": {},
     "output_type": "display_data"
    },
    {
     "data": {
      "text/plain": [
       "(11473, 12)"
      ]
     },
     "execution_count": 17,
     "metadata": {},
     "output_type": "execute_result"
    }
   ],
   "source": [
    "with_subscription = data.query('subscription_type == \"ultra\"')\n",
    "without_subscription = data.query('subscription_type == \"free\"')\n",
    "display(with_subscription.shape)\n",
    "without_subscription.shape"
   ]
  },
  {
   "cell_type": "markdown",
   "id": "d524206b",
   "metadata": {},
   "source": [
    "Поездок пользователей с подпиской  6500, а без 11473, почти в два раза больше"
   ]
  },
  {
   "cell_type": "markdown",
   "id": "b2ae9072",
   "metadata": {},
   "source": [
    "### Визуализирую информацию о расстоянии и времени поездок для пользователей обеих категорий"
   ]
  },
  {
   "cell_type": "code",
   "execution_count": 18,
   "id": "b22ec41a",
   "metadata": {},
   "outputs": [
    {
     "data": {
      "image/png": "[encoded data removed]",
      "text/plain": [
       "<Figure size 432x288 with 1 Axes>"
      ]
     },
     "metadata": {
      "needs_background": "light"
     },
     "output_type": "display_data"
    }
   ],
   "source": [
    "ax = with_subscription['distance']. plot(kind = 'hist', bins = 100, range =(0,7000), label = 'with_subscription',legend=True)\n",
    "plt.xlabel(\"Дистанция в метрах\")\n",
    "plt.ylabel(\"Количество людей\")\n",
    "\n",
    "without_subscription['distance'].plot(kind = 'hist', bins = 100, range =(0,7000), label = 'without_subscription',alpha = 0.3, ax=ax, legend=True)\n",
    "plt.xlabel(\"Дистанция в метрах\")\n",
    "plt.ylabel(\"Количество людей\")\n",
    "plt.title('Расстояние пользователей с подпиской и без');"
   ]
  },
  {
   "cell_type": "markdown",
   "id": "1037aa5b",
   "metadata": {},
   "source": [
    "Построила гистограмму для дистанции поездок клиентов с подписками и без, могу подметить следующее:\n",
    "    \n",
    "* В основном дистанция поездок для людей с подпиской составляет от 2,5 до 4,5 км, самый пик у 3 км. Около 1 км есть выброс\n",
    "* Дистанция поездок без подписки варьируется также от 2 до 5 км, при этом немалый выброс есть в промежутке до 1 км"
   ]
  },
  {
   "cell_type": "code",
   "execution_count": 19,
   "id": "e0e2703d",
   "metadata": {},
   "outputs": [
    {
     "data": {
      "image/png": "[encoded data removed]",
      "text/plain": [
       "<Figure size 432x288 with 1 Axes>"
      ]
     },
     "metadata": {
      "needs_background": "light"
     },
     "output_type": "display_data"
    },
    {
     "data": {
      "image/png": "[encoded data removed]",
      "text/plain": [
       "<Figure size 432x288 with 1 Axes>"
      ]
     },
     "metadata": {
      "needs_background": "light"
     },
     "output_type": "display_data"
    }
   ],
   "source": [
    "with_subscription['duration']. plot(kind = 'hist', bins = 100, range =(0,40), title = 'Время поездок пользователей с подпиской')\n",
    "plt.xlabel(\"Время в минутах\")\n",
    "plt.ylabel(\"Количество людей\")\n",
    "plt.show()\n",
    "without_subscription['duration'].plot(kind = 'hist', bins = 100, range =(0,40), title = 'Время поездок пользователей без подписки')\n",
    "plt.xlabel(\"Время в минутах\")\n",
    "plt.ylabel(\"Количество людей\");"
   ]
  },
  {
   "cell_type": "markdown",
   "id": "8d207f05",
   "metadata": {},
   "source": [
    "Что касается среднего времени поездки, оно тоже особо не отличается у людей с подпиской и без\n",
    "\n",
    "* С подпиской время поездки от 10 до 30 минут\n",
    "* Без подписки от 7 до 30 минут"
   ]
  },
  {
   "cell_type": "markdown",
   "id": "65e35c64",
   "metadata": {},
   "source": [
    "## 5 Шаг. Подсчёт выручки"
   ]
  },
  {
   "cell_type": "markdown",
   "id": "a57b9896",
   "metadata": {},
   "source": [
    "### Найду суммарное расстояние, количество поездок и суммарное время для каждого пользователя за каждый месяц"
   ]
  },
  {
   "cell_type": "code",
   "execution_count": 20,
   "id": "cafa7de0",
   "metadata": {},
   "outputs": [
    {
     "data": {
      "text/html": [
       "<div>\n",
       "<style scoped>\n",
       "    .dataframe tbody tr th:only-of-type {\n",
       "        vertical-align: middle;\n",
       "    }\n",
       "\n",
       "    .dataframe tbody tr th {\n",
       "        vertical-align: top;\n",
       "    }\n",
       "\n",
       "    .dataframe thead th {\n",
       "        text-align: right;\n",
       "    }\n",
       "</style>\n",
       "<table border=\"1\" class=\"dataframe\">\n",
       "  <thead>\n",
       "    <tr style=\"text-align: right;\">\n",
       "      <th></th>\n",
       "      <th>user_id</th>\n",
       "      <th>month</th>\n",
       "      <th>distance_sum</th>\n",
       "      <th>duration_sum</th>\n",
       "      <th>count</th>\n",
       "    </tr>\n",
       "  </thead>\n",
       "  <tbody>\n",
       "    <tr>\n",
       "      <th>0</th>\n",
       "      <td>1</td>\n",
       "      <td>1</td>\n",
       "      <td>7027.511294</td>\n",
       "      <td>42.0</td>\n",
       "      <td>2</td>\n",
       "    </tr>\n",
       "    <tr>\n",
       "      <th>1</th>\n",
       "      <td>1</td>\n",
       "      <td>4</td>\n",
       "      <td>754.159807</td>\n",
       "      <td>7.0</td>\n",
       "      <td>1</td>\n",
       "    </tr>\n",
       "    <tr>\n",
       "      <th>2</th>\n",
       "      <td>1</td>\n",
       "      <td>8</td>\n",
       "      <td>6723.470560</td>\n",
       "      <td>46.0</td>\n",
       "      <td>2</td>\n",
       "    </tr>\n",
       "    <tr>\n",
       "      <th>3</th>\n",
       "      <td>1</td>\n",
       "      <td>10</td>\n",
       "      <td>5809.911100</td>\n",
       "      <td>32.0</td>\n",
       "      <td>2</td>\n",
       "    </tr>\n",
       "    <tr>\n",
       "      <th>4</th>\n",
       "      <td>1</td>\n",
       "      <td>11</td>\n",
       "      <td>7003.499363</td>\n",
       "      <td>56.0</td>\n",
       "      <td>3</td>\n",
       "    </tr>\n",
       "    <tr>\n",
       "      <th>...</th>\n",
       "      <td>...</td>\n",
       "      <td>...</td>\n",
       "      <td>...</td>\n",
       "      <td>...</td>\n",
       "      <td>...</td>\n",
       "    </tr>\n",
       "    <tr>\n",
       "      <th>11295</th>\n",
       "      <td>1534</td>\n",
       "      <td>6</td>\n",
       "      <td>3409.468534</td>\n",
       "      <td>26.0</td>\n",
       "      <td>2</td>\n",
       "    </tr>\n",
       "    <tr>\n",
       "      <th>11296</th>\n",
       "      <td>1534</td>\n",
       "      <td>8</td>\n",
       "      <td>7622.453034</td>\n",
       "      <td>48.0</td>\n",
       "      <td>2</td>\n",
       "    </tr>\n",
       "    <tr>\n",
       "      <th>11297</th>\n",
       "      <td>1534</td>\n",
       "      <td>9</td>\n",
       "      <td>4928.173852</td>\n",
       "      <td>23.0</td>\n",
       "      <td>1</td>\n",
       "    </tr>\n",
       "    <tr>\n",
       "      <th>11298</th>\n",
       "      <td>1534</td>\n",
       "      <td>11</td>\n",
       "      <td>13350.015305</td>\n",
       "      <td>78.0</td>\n",
       "      <td>4</td>\n",
       "    </tr>\n",
       "    <tr>\n",
       "      <th>11299</th>\n",
       "      <td>1534</td>\n",
       "      <td>12</td>\n",
       "      <td>2371.711192</td>\n",
       "      <td>16.0</td>\n",
       "      <td>1</td>\n",
       "    </tr>\n",
       "  </tbody>\n",
       "</table>\n",
       "<p>11300 rows × 5 columns</p>\n",
       "</div>"
      ],
      "text/plain": [
       "       user_id  month  distance_sum  duration_sum  count\n",
       "0            1      1   7027.511294          42.0      2\n",
       "1            1      4    754.159807           7.0      1\n",
       "2            1      8   6723.470560          46.0      2\n",
       "3            1     10   5809.911100          32.0      2\n",
       "4            1     11   7003.499363          56.0      3\n",
       "...        ...    ...           ...           ...    ...\n",
       "11295     1534      6   3409.468534          26.0      2\n",
       "11296     1534      8   7622.453034          48.0      2\n",
       "11297     1534      9   4928.173852          23.0      1\n",
       "11298     1534     11  13350.015305          78.0      4\n",
       "11299     1534     12   2371.711192          16.0      1\n",
       "\n",
       "[11300 rows x 5 columns]"
      ]
     },
     "execution_count": 20,
     "metadata": {},
     "output_type": "execute_result"
    }
   ],
   "source": [
    "data['duration'] = np.ceil(data['duration']) \n",
    "\n",
    "data_group = data.groupby(['user_id','month']).agg({'distance':['sum'],'duration':['sum','count']}).reset_index()\n",
    "data_group.columns =['user_id','month','distance_sum','duration_sum','count']\n",
    "\n",
    "data_group"
   ]
  },
  {
   "cell_type": "code",
   "execution_count": 21,
   "id": "31f3fcc8",
   "metadata": {},
   "outputs": [
    {
     "data": {
      "text/html": [
       "<div>\n",
       "<style scoped>\n",
       "    .dataframe tbody tr th:only-of-type {\n",
       "        vertical-align: middle;\n",
       "    }\n",
       "\n",
       "    .dataframe tbody tr th {\n",
       "        vertical-align: top;\n",
       "    }\n",
       "\n",
       "    .dataframe thead th {\n",
       "        text-align: right;\n",
       "    }\n",
       "</style>\n",
       "<table border=\"1\" class=\"dataframe\">\n",
       "  <thead>\n",
       "    <tr style=\"text-align: right;\">\n",
       "      <th></th>\n",
       "      <th>user_id</th>\n",
       "      <th>month</th>\n",
       "      <th>distance_sum</th>\n",
       "      <th>duration_sum</th>\n",
       "      <th>count</th>\n",
       "      <th>subscription_fee</th>\n",
       "      <th>start_ride_price</th>\n",
       "      <th>minute_price</th>\n",
       "      <th>subscription_type</th>\n",
       "    </tr>\n",
       "  </thead>\n",
       "  <tbody>\n",
       "    <tr>\n",
       "      <th>0</th>\n",
       "      <td>1</td>\n",
       "      <td>1</td>\n",
       "      <td>7027.511294</td>\n",
       "      <td>42.0</td>\n",
       "      <td>2</td>\n",
       "      <td>199</td>\n",
       "      <td>0</td>\n",
       "      <td>6</td>\n",
       "      <td>ultra</td>\n",
       "    </tr>\n",
       "    <tr>\n",
       "      <th>1</th>\n",
       "      <td>1</td>\n",
       "      <td>4</td>\n",
       "      <td>754.159807</td>\n",
       "      <td>7.0</td>\n",
       "      <td>1</td>\n",
       "      <td>199</td>\n",
       "      <td>0</td>\n",
       "      <td>6</td>\n",
       "      <td>ultra</td>\n",
       "    </tr>\n",
       "    <tr>\n",
       "      <th>2</th>\n",
       "      <td>1</td>\n",
       "      <td>8</td>\n",
       "      <td>6723.470560</td>\n",
       "      <td>46.0</td>\n",
       "      <td>2</td>\n",
       "      <td>199</td>\n",
       "      <td>0</td>\n",
       "      <td>6</td>\n",
       "      <td>ultra</td>\n",
       "    </tr>\n",
       "    <tr>\n",
       "      <th>3</th>\n",
       "      <td>1</td>\n",
       "      <td>10</td>\n",
       "      <td>5809.911100</td>\n",
       "      <td>32.0</td>\n",
       "      <td>2</td>\n",
       "      <td>199</td>\n",
       "      <td>0</td>\n",
       "      <td>6</td>\n",
       "      <td>ultra</td>\n",
       "    </tr>\n",
       "    <tr>\n",
       "      <th>4</th>\n",
       "      <td>1</td>\n",
       "      <td>11</td>\n",
       "      <td>7003.499363</td>\n",
       "      <td>56.0</td>\n",
       "      <td>3</td>\n",
       "      <td>199</td>\n",
       "      <td>0</td>\n",
       "      <td>6</td>\n",
       "      <td>ultra</td>\n",
       "    </tr>\n",
       "    <tr>\n",
       "      <th>...</th>\n",
       "      <td>...</td>\n",
       "      <td>...</td>\n",
       "      <td>...</td>\n",
       "      <td>...</td>\n",
       "      <td>...</td>\n",
       "      <td>...</td>\n",
       "      <td>...</td>\n",
       "      <td>...</td>\n",
       "      <td>...</td>\n",
       "    </tr>\n",
       "    <tr>\n",
       "      <th>11295</th>\n",
       "      <td>1534</td>\n",
       "      <td>6</td>\n",
       "      <td>3409.468534</td>\n",
       "      <td>26.0</td>\n",
       "      <td>2</td>\n",
       "      <td>0</td>\n",
       "      <td>50</td>\n",
       "      <td>8</td>\n",
       "      <td>free</td>\n",
       "    </tr>\n",
       "    <tr>\n",
       "      <th>11296</th>\n",
       "      <td>1534</td>\n",
       "      <td>8</td>\n",
       "      <td>7622.453034</td>\n",
       "      <td>48.0</td>\n",
       "      <td>2</td>\n",
       "      <td>0</td>\n",
       "      <td>50</td>\n",
       "      <td>8</td>\n",
       "      <td>free</td>\n",
       "    </tr>\n",
       "    <tr>\n",
       "      <th>11297</th>\n",
       "      <td>1534</td>\n",
       "      <td>9</td>\n",
       "      <td>4928.173852</td>\n",
       "      <td>23.0</td>\n",
       "      <td>1</td>\n",
       "      <td>0</td>\n",
       "      <td>50</td>\n",
       "      <td>8</td>\n",
       "      <td>free</td>\n",
       "    </tr>\n",
       "    <tr>\n",
       "      <th>11298</th>\n",
       "      <td>1534</td>\n",
       "      <td>11</td>\n",
       "      <td>13350.015305</td>\n",
       "      <td>78.0</td>\n",
       "      <td>4</td>\n",
       "      <td>0</td>\n",
       "      <td>50</td>\n",
       "      <td>8</td>\n",
       "      <td>free</td>\n",
       "    </tr>\n",
       "    <tr>\n",
       "      <th>11299</th>\n",
       "      <td>1534</td>\n",
       "      <td>12</td>\n",
       "      <td>2371.711192</td>\n",
       "      <td>16.0</td>\n",
       "      <td>1</td>\n",
       "      <td>0</td>\n",
       "      <td>50</td>\n",
       "      <td>8</td>\n",
       "      <td>free</td>\n",
       "    </tr>\n",
       "  </tbody>\n",
       "</table>\n",
       "<p>11300 rows × 9 columns</p>\n",
       "</div>"
      ],
      "text/plain": [
       "       user_id  month  distance_sum  duration_sum  count  subscription_fee  \\\n",
       "0            1      1   7027.511294          42.0      2               199   \n",
       "1            1      4    754.159807           7.0      1               199   \n",
       "2            1      8   6723.470560          46.0      2               199   \n",
       "3            1     10   5809.911100          32.0      2               199   \n",
       "4            1     11   7003.499363          56.0      3               199   \n",
       "...        ...    ...           ...           ...    ...               ...   \n",
       "11295     1534      6   3409.468534          26.0      2                 0   \n",
       "11296     1534      8   7622.453034          48.0      2                 0   \n",
       "11297     1534      9   4928.173852          23.0      1                 0   \n",
       "11298     1534     11  13350.015305          78.0      4                 0   \n",
       "11299     1534     12   2371.711192          16.0      1                 0   \n",
       "\n",
       "       start_ride_price  minute_price subscription_type  \n",
       "0                     0             6             ultra  \n",
       "1                     0             6             ultra  \n",
       "2                     0             6             ultra  \n",
       "3                     0             6             ultra  \n",
       "4                     0             6             ultra  \n",
       "...                 ...           ...               ...  \n",
       "11295                50             8              free  \n",
       "11296                50             8              free  \n",
       "11297                50             8              free  \n",
       "11298                50             8              free  \n",
       "11299                50             8              free  \n",
       "\n",
       "[11300 rows x 9 columns]"
      ]
     },
     "execution_count": 21,
     "metadata": {},
     "output_type": "execute_result"
    }
   ],
   "source": [
    "for_func = data[['subscription_fee','start_ride_price','minute_price','subscription_type']]\n",
    "data_group = data_group.join(for_func)\n",
    "\n",
    "data_group"
   ]
  },
  {
   "cell_type": "markdown",
   "id": "4bf3e0cd",
   "metadata": {},
   "source": [
    "### Добавлю столбец с помесячной выручкой, которую принёс каждый пользователь"
   ]
  },
  {
   "cell_type": "code",
   "execution_count": 22,
   "id": "3daec924",
   "metadata": {},
   "outputs": [
    {
     "data": {
      "text/html": [
       "<div>\n",
       "<style scoped>\n",
       "    .dataframe tbody tr th:only-of-type {\n",
       "        vertical-align: middle;\n",
       "    }\n",
       "\n",
       "    .dataframe tbody tr th {\n",
       "        vertical-align: top;\n",
       "    }\n",
       "\n",
       "    .dataframe thead th {\n",
       "        text-align: right;\n",
       "    }\n",
       "</style>\n",
       "<table border=\"1\" class=\"dataframe\">\n",
       "  <thead>\n",
       "    <tr style=\"text-align: right;\">\n",
       "      <th></th>\n",
       "      <th>user_id</th>\n",
       "      <th>month</th>\n",
       "      <th>distance_sum</th>\n",
       "      <th>duration_sum</th>\n",
       "      <th>count</th>\n",
       "      <th>subscription_fee</th>\n",
       "      <th>start_ride_price</th>\n",
       "      <th>minute_price</th>\n",
       "      <th>subscription_type</th>\n",
       "      <th>month_revenue</th>\n",
       "    </tr>\n",
       "  </thead>\n",
       "  <tbody>\n",
       "    <tr>\n",
       "      <th>0</th>\n",
       "      <td>1</td>\n",
       "      <td>1</td>\n",
       "      <td>7027.511294</td>\n",
       "      <td>42.0</td>\n",
       "      <td>2</td>\n",
       "      <td>199</td>\n",
       "      <td>0</td>\n",
       "      <td>6</td>\n",
       "      <td>ultra</td>\n",
       "      <td>451.0</td>\n",
       "    </tr>\n",
       "    <tr>\n",
       "      <th>1</th>\n",
       "      <td>1</td>\n",
       "      <td>4</td>\n",
       "      <td>754.159807</td>\n",
       "      <td>7.0</td>\n",
       "      <td>1</td>\n",
       "      <td>199</td>\n",
       "      <td>0</td>\n",
       "      <td>6</td>\n",
       "      <td>ultra</td>\n",
       "      <td>241.0</td>\n",
       "    </tr>\n",
       "    <tr>\n",
       "      <th>2</th>\n",
       "      <td>1</td>\n",
       "      <td>8</td>\n",
       "      <td>6723.470560</td>\n",
       "      <td>46.0</td>\n",
       "      <td>2</td>\n",
       "      <td>199</td>\n",
       "      <td>0</td>\n",
       "      <td>6</td>\n",
       "      <td>ultra</td>\n",
       "      <td>475.0</td>\n",
       "    </tr>\n",
       "    <tr>\n",
       "      <th>3</th>\n",
       "      <td>1</td>\n",
       "      <td>10</td>\n",
       "      <td>5809.911100</td>\n",
       "      <td>32.0</td>\n",
       "      <td>2</td>\n",
       "      <td>199</td>\n",
       "      <td>0</td>\n",
       "      <td>6</td>\n",
       "      <td>ultra</td>\n",
       "      <td>391.0</td>\n",
       "    </tr>\n",
       "    <tr>\n",
       "      <th>4</th>\n",
       "      <td>1</td>\n",
       "      <td>11</td>\n",
       "      <td>7003.499363</td>\n",
       "      <td>56.0</td>\n",
       "      <td>3</td>\n",
       "      <td>199</td>\n",
       "      <td>0</td>\n",
       "      <td>6</td>\n",
       "      <td>ultra</td>\n",
       "      <td>535.0</td>\n",
       "    </tr>\n",
       "    <tr>\n",
       "      <th>...</th>\n",
       "      <td>...</td>\n",
       "      <td>...</td>\n",
       "      <td>...</td>\n",
       "      <td>...</td>\n",
       "      <td>...</td>\n",
       "      <td>...</td>\n",
       "      <td>...</td>\n",
       "      <td>...</td>\n",
       "      <td>...</td>\n",
       "      <td>...</td>\n",
       "    </tr>\n",
       "    <tr>\n",
       "      <th>11295</th>\n",
       "      <td>1534</td>\n",
       "      <td>6</td>\n",
       "      <td>3409.468534</td>\n",
       "      <td>26.0</td>\n",
       "      <td>2</td>\n",
       "      <td>0</td>\n",
       "      <td>50</td>\n",
       "      <td>8</td>\n",
       "      <td>free</td>\n",
       "      <td>308.0</td>\n",
       "    </tr>\n",
       "    <tr>\n",
       "      <th>11296</th>\n",
       "      <td>1534</td>\n",
       "      <td>8</td>\n",
       "      <td>7622.453034</td>\n",
       "      <td>48.0</td>\n",
       "      <td>2</td>\n",
       "      <td>0</td>\n",
       "      <td>50</td>\n",
       "      <td>8</td>\n",
       "      <td>free</td>\n",
       "      <td>484.0</td>\n",
       "    </tr>\n",
       "    <tr>\n",
       "      <th>11297</th>\n",
       "      <td>1534</td>\n",
       "      <td>9</td>\n",
       "      <td>4928.173852</td>\n",
       "      <td>23.0</td>\n",
       "      <td>1</td>\n",
       "      <td>0</td>\n",
       "      <td>50</td>\n",
       "      <td>8</td>\n",
       "      <td>free</td>\n",
       "      <td>234.0</td>\n",
       "    </tr>\n",
       "    <tr>\n",
       "      <th>11298</th>\n",
       "      <td>1534</td>\n",
       "      <td>11</td>\n",
       "      <td>13350.015305</td>\n",
       "      <td>78.0</td>\n",
       "      <td>4</td>\n",
       "      <td>0</td>\n",
       "      <td>50</td>\n",
       "      <td>8</td>\n",
       "      <td>free</td>\n",
       "      <td>824.0</td>\n",
       "    </tr>\n",
       "    <tr>\n",
       "      <th>11299</th>\n",
       "      <td>1534</td>\n",
       "      <td>12</td>\n",
       "      <td>2371.711192</td>\n",
       "      <td>16.0</td>\n",
       "      <td>1</td>\n",
       "      <td>0</td>\n",
       "      <td>50</td>\n",
       "      <td>8</td>\n",
       "      <td>free</td>\n",
       "      <td>178.0</td>\n",
       "    </tr>\n",
       "  </tbody>\n",
       "</table>\n",
       "<p>11300 rows × 10 columns</p>\n",
       "</div>"
      ],
      "text/plain": [
       "       user_id  month  distance_sum  duration_sum  count  subscription_fee  \\\n",
       "0            1      1   7027.511294          42.0      2               199   \n",
       "1            1      4    754.159807           7.0      1               199   \n",
       "2            1      8   6723.470560          46.0      2               199   \n",
       "3            1     10   5809.911100          32.0      2               199   \n",
       "4            1     11   7003.499363          56.0      3               199   \n",
       "...        ...    ...           ...           ...    ...               ...   \n",
       "11295     1534      6   3409.468534          26.0      2                 0   \n",
       "11296     1534      8   7622.453034          48.0      2                 0   \n",
       "11297     1534      9   4928.173852          23.0      1                 0   \n",
       "11298     1534     11  13350.015305          78.0      4                 0   \n",
       "11299     1534     12   2371.711192          16.0      1                 0   \n",
       "\n",
       "       start_ride_price  minute_price subscription_type  month_revenue  \n",
       "0                     0             6             ultra          451.0  \n",
       "1                     0             6             ultra          241.0  \n",
       "2                     0             6             ultra          475.0  \n",
       "3                     0             6             ultra          391.0  \n",
       "4                     0             6             ultra          535.0  \n",
       "...                 ...           ...               ...            ...  \n",
       "11295                50             8              free          308.0  \n",
       "11296                50             8              free          484.0  \n",
       "11297                50             8              free          234.0  \n",
       "11298                50             8              free          824.0  \n",
       "11299                50             8              free          178.0  \n",
       "\n",
       "[11300 rows x 10 columns]"
      ]
     },
     "execution_count": 22,
     "metadata": {},
     "output_type": "execute_result"
    }
   ],
   "source": [
    "data_group['month_revenue'] = data_group['start_ride_price']*data_group['count']+data_group['minute_price']*data_group['duration_sum']+data_group['subscription_fee']\n",
    "data_group"
   ]
  },
  {
   "cell_type": "markdown",
   "id": "6faddb87",
   "metadata": {},
   "source": [
    "Составила новый датафрейм с агрегированными данными и добавила столбец с подсчетом месячной выручки от клиентов"
   ]
  },
  {
   "cell_type": "markdown",
   "id": "c5c2257e",
   "metadata": {},
   "source": [
    "## 6 Шаг. Проверка гипотез"
   ]
  },
  {
   "cell_type": "markdown",
   "id": "557ca332",
   "metadata": {},
   "source": [
    "### Первая гипотеза. Различие времени поездки для людей с подпиской и без\n",
    "\n",
    "* Нулевая гиипотеза: Среднее время для людей с подпиской и без не различается\n",
    "\n",
    "* Альтернативная гипотеза: Среднее время людей с подпиской больше, чем у людей без подписки"
   ]
  },
  {
   "cell_type": "code",
   "execution_count": 23,
   "id": "ec78e7a7",
   "metadata": {},
   "outputs": [
    {
     "data": {
      "text/plain": [
       "'Среднее время поездок людей с подпиской: 18.54198516280583'"
      ]
     },
     "metadata": {},
     "output_type": "display_data"
    },
    {
     "data": {
      "text/plain": [
       "'Среднее время поездок людей без подписки: 17.530771268800226'"
      ]
     },
     "metadata": {},
     "output_type": "display_data"
    },
    {
     "name": "stdout",
     "output_type": "stream",
     "text": [
      "p-значение: 1.6162210195311063e-29\n",
      "Среднее время людей с подпиской больше, чем у людей без подписки\n"
     ]
    }
   ],
   "source": [
    "wsd= with_subscription['duration'].mean()\n",
    "display(F'Среднее время поездок людей с подпиской: {wsd}')\n",
    "wosd = without_subscription['duration'].mean()\n",
    "display(F'Среднее время поездок людей без подписки: {wosd}')\n",
    "\n",
    "alpha = 0.05\n",
    "\n",
    "results = st.ttest_ind(with_subscription['duration'],without_subscription['duration'], alternative ='greater', equal_var=False)\n",
    "\n",
    "print('p-значение:', results.pvalue)\n",
    "\n",
    "if results.pvalue < alpha:\n",
    "    print('Среднее время людей с подпиской больше, чем у людей без подписки')\n",
    "else:\n",
    "    print('Среднее время для людей с подпиской и без не различается') "
   ]
  },
  {
   "cell_type": "markdown",
   "id": "b30f4037",
   "metadata": {},
   "source": [
    "\n",
    "\n",
    "Проверила первую гипотезу. Время, которое люди с подпиский тратят на проезд имеет различие, оно больше, чем у людей без подписки.\n",
    "Поэтому пользователи с подпиской и правда выгоднее для компании\n",
    "\n",
    "**Нулевую гипотезу отвергаю**"
   ]
  },
  {
   "cell_type": "markdown",
   "id": "1961ac70",
   "metadata": {},
   "source": [
    "### Вторая гипотеза. Влияют ли пользователи с подпиской на износ самоката\n",
    "\n",
    "* Нулевая гипотеза: Люди с подпиской не превышают максимальную дистанцию для износа самоката\n",
    "\n",
    "\n",
    "* Альтернативная гипотеза: Максимальная дистанция для износа самоката больше нормы\n"
   ]
  },
  {
   "cell_type": "code",
   "execution_count": 24,
   "id": "2afddac3",
   "metadata": {},
   "outputs": [
    {
     "name": "stdout",
     "output_type": "stream",
     "text": [
      "p-значение: 0.9195368847849785\n",
      "Люди с подпиской не превышают максимальную дистанцию для износа самоката\n"
     ]
    }
   ],
   "source": [
    "optimal_time = 3130\n",
    "alpha = 0.05\n",
    "\n",
    "results = st.ttest_1samp(with_subscription['distance'], optimal_time, alternative ='greater')\n",
    "\n",
    "print('p-значение:', results.pvalue)\n",
    "\n",
    "if results.pvalue < alpha:\n",
    "    print('Максимальная дистанция для износа самоката больше нормы')\n",
    "else:\n",
    "    print('Люди с подпиской не превышают максимальную дистанцию для износа самоката') "
   ]
  },
  {
   "cell_type": "markdown",
   "id": "2db9f098",
   "metadata": {},
   "source": [
    "Проверила вторую гипотезу\n",
    "\n",
    "Могу смело сказать, что расстояние, которое проезжают пользователи с подпиской за одну поездку, не превышает \n",
    "3130 метров и поэтому такие пользователи не влияют на износ самокатов\n",
    "\n",
    "**Нулевую гипотезу подтверждаю**"
   ]
  },
  {
   "cell_type": "markdown",
   "id": "e32c1bb3",
   "metadata": {},
   "source": [
    "### Третья гипотеза. Проверю различие в выручке отпользователей с подпиской и без\n",
    "\n",
    "* Нулевая гипотеза: Выручка от людей с подпиской и без не отличается\n",
    "\n",
    "\n",
    "* Альтернативная гипотеза: Выручка от клиентов с подпиской больше, чем у клиентов без подписки"
   ]
  },
  {
   "cell_type": "code",
   "execution_count": 25,
   "id": "9ee14133",
   "metadata": {},
   "outputs": [
    {
     "data": {
      "text/plain": [
       "'Средняя выручка от клиентов  с подпиской: 369.00123076923074'"
      ]
     },
     "metadata": {},
     "output_type": "display_data"
    },
    {
     "data": {
      "text/plain": [
       "'Средняя выручка от клиентов  без подписки: 328.84583333333336'"
      ]
     },
     "metadata": {},
     "output_type": "display_data"
    },
    {
     "name": "stdout",
     "output_type": "stream",
     "text": [
      "p-значение: 2.881356457558677e-43\n",
      "Выручка от клиентов с подпиской больше\n"
     ]
    }
   ],
   "source": [
    "with_subscription_group = data_group.query('subscription_type == \"ultra\"')\n",
    "without_subscription_group = data_group.query('subscription_type == \"free\"')\n",
    "\n",
    "wsr = with_subscription_group['month_revenue'].mean()\n",
    "display(F'Средняя выручка от клиентов  с подпиской: {wsr}')\n",
    "wosr = without_subscription_group['month_revenue'].mean()\n",
    "display(F'Средняя выручка от клиентов  без подписки: {wosr}')\n",
    "\n",
    "alpha = 0.05\n",
    "results = st.ttest_ind(with_subscription_group['month_revenue'],without_subscription_group['month_revenue'], alternative ='greater', equal_var=False)\n",
    "\n",
    "print('p-значение:', results.pvalue)\n",
    "\n",
    "if results.pvalue < alpha:\n",
    "    print('Выручка от клиентов с подпиской больше')\n",
    "else:\n",
    "    print('Выручка от людей с подпиской и без не отличается') "
   ]
  },
  {
   "cell_type": "markdown",
   "id": "d502860b",
   "metadata": {},
   "source": [
    "Проверила третью гипотезу \n",
    "\n",
    "**Нулевую гипотезу отвергаем в пользу альтернативной, выручки больше приносят люди с подпиской**"
   ]
  },
  {
   "cell_type": "markdown",
   "id": "03ae062e",
   "metadata": {},
   "source": [
    "### Вопрос:\n",
    "Представьте такую ситуацию: техническая команда сервиса обновила сервера, с которыми взаимодействует мобильное приложение. Она надеется, что из-за этого количество обращений в техподдержку значимо снизилось. Некоторый файл содержит для каждого пользователя данные о количестве обращений до обновления и после него. Какой тест вам понадобился бы для проверки этой гипотезы?\n",
    "\n",
    "\n",
    "- Для проверки гипотезы о снижении обращений пользователей в тех поддержку до обновлнения и после понадобится тест для зависимых выборок. Така как выборки остаются одинаковыми за исключением обращений после изменений\n",
    "\n",
    "  В питоне метод для проверки подобных гипотез выглядит так: scipy.stats.ttest_rel()\n",
    "\n"
   ]
  },
  {
   "cell_type": "markdown",
   "id": "2405b086",
   "metadata": {},
   "source": [
    "# Итоги исследования:\n",
    "\n",
    "\n",
    "1. Изначально я загрузила 3 файла с данными о пользователях, поездках и наличии подписки\n",
    "\n",
    "2. Провела предобработку данных, изменила тип и отчистила от повторных значений\n",
    "\n",
    "3. Провела исследовательский анализ:\n",
    "\n",
    "* Частоту встречаемости городов:\n",
    "\n",
    "   - Пятигорск        \n",
    "   - Екатеринбург    \n",
    "   - Ростов-на-Дону   \n",
    "   - Краснодар        \n",
    "   - Сочи\n",
    "   - Омск\n",
    "   - Тюмень   \n",
    "   - Москва    \n",
    "\n",
    "* Выяснила, что людей без подписки 835, а с подпиской 699\n",
    "* Возраст пользователей в среднем варьируется от 20 до 30 лет\n",
    "* Средняя продолжительность поездок от 10 до 30 минут, был небольшой выброс около 0,5 минуты, который я посчитала нужным отбросить. С такими поездками все в порядке, кроме времени. Скорее всего при выгрузке данных произошел сбойБ или же время на самих самокатах по техническим причинам не записывалось\n",
    "* В основном дистанция поездок для людей с подпиской составляет от 2,5 до 4,5 км, самый большой пик у 3 км, на 1 км есть выброс\n",
    "* Дистанция поездок без подписки варьируется также от 2 до 5 км, при этом немалый выброс есть в промежутке до 1 км\n",
    "4. Проверила три гипотезы: \n",
    "\n",
    "* **Первая гипотеза оказалась значимой**. Время, которое люди с подпиский тратят на проезд имеет различие, оно больше, чем у людей без подписки. Поэтому пользователи с подпиской и правда выгоднее для компании. Подписка моиивирует пользователей совершать более длительные поездки\n",
    "* **Вторая гипотеза отвергнута**. Расстояние, которое проезжают пользователи с подпиской за одну поездку, не превышает 3130 метров и поэтому такие пользователи не влияют на износ самокатов. Этот момент также доказывает большую выгоду от пользователей с подпиской\n",
    "* **Третья гипотеза значимая**. Пользователи с подпиской приносят больше выручки\n",
    "\n",
    "# Рекомендации:\n",
    "\n",
    "В ходе исследования удалось выяснить, что пользователи с подпиской выгоднее для компании, чем без подписки. Стоит уделять больше внимания таким пользователям, чтобы они и дальше продолжали пользоваться подпиской у нас. А также привлекать больше пользователей для подключения подписки\n",
    "\n",
    "В этом помогут программы лояльности. Например: первый месяц подписки бесплатный; реферальная программа для приглашения друзей и получения за это различных бонусов и так далее"
   ]
  }
 ],
 "metadata": {
  "ExecuteTimeLog": [
   {
    "duration": 382,
    "start_time": "2023-08-08T11:35:23.805Z"
   },
   {
    "duration": 254,
    "start_time": "2023-08-08T11:36:30.053Z"
   },
   {
    "duration": 70,
    "start_time": "2023-08-08T11:36:38.726Z"
   },
   {
    "duration": 83,
    "start_time": "2023-08-08T11:36:53.971Z"
   },
   {
    "duration": 80,
    "start_time": "2023-08-08T11:37:20.699Z"
   },
   {
    "duration": 588,
    "start_time": "2023-08-08T11:41:26.964Z"
   },
   {
    "duration": 77,
    "start_time": "2023-08-08T11:41:38.289Z"
   },
   {
    "duration": 81,
    "start_time": "2023-08-08T11:43:56.319Z"
   },
   {
    "duration": 82,
    "start_time": "2023-08-08T11:44:04.286Z"
   },
   {
    "duration": 77,
    "start_time": "2023-08-08T11:45:46.539Z"
   },
   {
    "duration": 26,
    "start_time": "2023-08-08T11:46:56.921Z"
   },
   {
    "duration": 14,
    "start_time": "2023-08-08T11:54:17.969Z"
   },
   {
    "duration": 42,
    "start_time": "2023-08-08T11:55:21.470Z"
   },
   {
    "duration": 9,
    "start_time": "2023-08-08T11:59:58.269Z"
   },
   {
    "duration": 38,
    "start_time": "2023-08-08T11:59:59.103Z"
   },
   {
    "duration": 184,
    "start_time": "2023-08-08T12:01:02.178Z"
   },
   {
    "duration": 1626,
    "start_time": "2023-08-08T12:01:43.682Z"
   },
   {
    "duration": 5,
    "start_time": "2023-08-08T12:04:00.911Z"
   },
   {
    "duration": 61,
    "start_time": "2023-08-08T12:04:43.383Z"
   },
   {
    "duration": 23,
    "start_time": "2023-08-08T12:04:46.181Z"
   },
   {
    "duration": 28,
    "start_time": "2023-08-08T12:08:52.019Z"
   },
   {
    "duration": 9,
    "start_time": "2023-08-08T12:09:01.535Z"
   },
   {
    "duration": 39,
    "start_time": "2023-08-08T12:09:05.926Z"
   },
   {
    "duration": 18,
    "start_time": "2023-08-08T12:09:27.577Z"
   },
   {
    "duration": 16,
    "start_time": "2023-08-08T12:09:45.843Z"
   },
   {
    "duration": 2723,
    "start_time": "2023-08-08T12:11:01.138Z"
   },
   {
    "duration": 18,
    "start_time": "2023-08-08T12:11:24.504Z"
   },
   {
    "duration": 20,
    "start_time": "2023-08-08T12:12:13.459Z"
   },
   {
    "duration": 17,
    "start_time": "2023-08-08T12:12:33.689Z"
   },
   {
    "duration": 19,
    "start_time": "2023-08-08T12:12:50.724Z"
   },
   {
    "duration": 14,
    "start_time": "2023-08-08T12:13:34.009Z"
   },
   {
    "duration": 17,
    "start_time": "2023-08-08T12:14:12.642Z"
   },
   {
    "duration": 25,
    "start_time": "2023-08-08T12:16:54.148Z"
   },
   {
    "duration": 33,
    "start_time": "2023-08-08T12:19:43.467Z"
   },
   {
    "duration": 26,
    "start_time": "2023-08-08T12:20:06.604Z"
   },
   {
    "duration": 12,
    "start_time": "2023-08-08T12:21:15.276Z"
   },
   {
    "duration": 7,
    "start_time": "2023-08-08T12:22:07.270Z"
   },
   {
    "duration": 7,
    "start_time": "2023-08-08T12:32:05.705Z"
   },
   {
    "duration": 240,
    "start_time": "2023-08-08T12:34:33.184Z"
   },
   {
    "duration": 125,
    "start_time": "2023-08-08T12:34:57.892Z"
   },
   {
    "duration": 172,
    "start_time": "2023-08-08T12:35:14.002Z"
   },
   {
    "duration": 7,
    "start_time": "2023-08-08T12:35:47.904Z"
   },
   {
    "duration": 3,
    "start_time": "2023-08-08T12:38:32.808Z"
   },
   {
    "duration": 78,
    "start_time": "2023-08-08T12:38:33.086Z"
   },
   {
    "duration": 27,
    "start_time": "2023-08-08T12:38:33.198Z"
   },
   {
    "duration": 40,
    "start_time": "2023-08-08T12:38:33.312Z"
   },
   {
    "duration": 6,
    "start_time": "2023-08-08T12:38:33.806Z"
   },
   {
    "duration": 5,
    "start_time": "2023-08-08T12:38:34.161Z"
   },
   {
    "duration": 24,
    "start_time": "2023-08-08T12:38:34.598Z"
   },
   {
    "duration": 5,
    "start_time": "2023-08-08T12:38:35.157Z"
   },
   {
    "duration": 6,
    "start_time": "2023-08-08T12:38:35.420Z"
   },
   {
    "duration": 7,
    "start_time": "2023-08-08T12:38:35.768Z"
   },
   {
    "duration": 8,
    "start_time": "2023-08-08T12:39:01.575Z"
   },
   {
    "duration": 7,
    "start_time": "2023-08-08T12:39:26.571Z"
   },
   {
    "duration": 8,
    "start_time": "2023-08-08T12:39:54.627Z"
   },
   {
    "duration": 6,
    "start_time": "2023-08-08T12:40:02.052Z"
   },
   {
    "duration": 9,
    "start_time": "2023-08-08T12:40:02.442Z"
   },
   {
    "duration": 2,
    "start_time": "2023-08-08T12:40:06.586Z"
   },
   {
    "duration": 78,
    "start_time": "2023-08-08T12:40:07.393Z"
   },
   {
    "duration": 25,
    "start_time": "2023-08-08T12:40:07.714Z"
   },
   {
    "duration": 48,
    "start_time": "2023-08-08T12:40:08.266Z"
   },
   {
    "duration": 8,
    "start_time": "2023-08-08T12:40:09.156Z"
   },
   {
    "duration": 6,
    "start_time": "2023-08-08T12:40:09.454Z"
   },
   {
    "duration": 31,
    "start_time": "2023-08-08T12:40:09.879Z"
   },
   {
    "duration": 6,
    "start_time": "2023-08-08T12:40:11.236Z"
   },
   {
    "duration": 5,
    "start_time": "2023-08-08T12:40:11.564Z"
   },
   {
    "duration": 8,
    "start_time": "2023-08-08T12:40:11.708Z"
   },
   {
    "duration": 8,
    "start_time": "2023-08-08T12:40:30.293Z"
   },
   {
    "duration": 129,
    "start_time": "2023-08-08T12:40:37.429Z"
   },
   {
    "duration": 288,
    "start_time": "2023-08-08T12:40:44.962Z"
   },
   {
    "duration": 176,
    "start_time": "2023-08-08T12:41:02.644Z"
   },
   {
    "duration": 233,
    "start_time": "2023-08-08T12:42:51.532Z"
   },
   {
    "duration": 210,
    "start_time": "2023-08-08T12:45:07.725Z"
   },
   {
    "duration": 18908,
    "start_time": "2023-08-08T12:45:45.796Z"
   },
   {
    "duration": 21397,
    "start_time": "2023-08-08T12:46:45.205Z"
   },
   {
    "duration": 19153,
    "start_time": "2023-08-08T12:47:32.544Z"
   },
   {
    "duration": 183,
    "start_time": "2023-08-08T12:48:07.639Z"
   },
   {
    "duration": 7,
    "start_time": "2023-08-08T12:48:13.367Z"
   },
   {
    "duration": 287,
    "start_time": "2023-08-08T12:48:17.903Z"
   },
   {
    "duration": 302,
    "start_time": "2023-08-08T12:48:58.607Z"
   },
   {
    "duration": 322,
    "start_time": "2023-08-08T12:49:07.351Z"
   },
   {
    "duration": 241,
    "start_time": "2023-08-08T12:49:25.710Z"
   },
   {
    "duration": 6,
    "start_time": "2023-08-08T12:50:08.353Z"
   },
   {
    "duration": 5,
    "start_time": "2023-08-08T12:50:27.735Z"
   },
   {
    "duration": 9,
    "start_time": "2023-08-08T12:50:39.359Z"
   },
   {
    "duration": 4,
    "start_time": "2023-08-08T12:50:46.476Z"
   },
   {
    "duration": 285,
    "start_time": "2023-08-08T12:50:54.865Z"
   },
   {
    "duration": 6,
    "start_time": "2023-08-08T12:52:11.506Z"
   },
   {
    "duration": 5,
    "start_time": "2023-08-08T12:54:02.984Z"
   },
   {
    "duration": 599,
    "start_time": "2023-08-08T12:55:34.864Z"
   },
   {
    "duration": 276,
    "start_time": "2023-08-08T12:55:50.084Z"
   },
   {
    "duration": 187,
    "start_time": "2023-08-08T12:56:17.223Z"
   },
   {
    "duration": 6,
    "start_time": "2023-08-08T12:57:42.235Z"
   },
   {
    "duration": 6,
    "start_time": "2023-08-08T12:57:43.433Z"
   },
   {
    "duration": 199,
    "start_time": "2023-08-08T12:57:45.214Z"
   },
   {
    "duration": 233,
    "start_time": "2023-08-08T12:59:47.517Z"
   },
   {
    "duration": 359,
    "start_time": "2023-08-08T13:00:14.354Z"
   },
   {
    "duration": 175,
    "start_time": "2023-08-08T13:08:34.014Z"
   },
   {
    "duration": 234,
    "start_time": "2023-08-08T13:17:27.437Z"
   },
   {
    "duration": 341,
    "start_time": "2023-08-08T13:17:41.297Z"
   },
   {
    "duration": 445,
    "start_time": "2023-08-08T13:17:54.605Z"
   },
   {
    "duration": 7,
    "start_time": "2023-08-08T13:21:18.896Z"
   },
   {
    "duration": 187,
    "start_time": "2023-08-08T13:23:20.452Z"
   },
   {
    "duration": 6,
    "start_time": "2023-08-08T13:23:25.248Z"
   },
   {
    "duration": 8,
    "start_time": "2023-08-08T13:23:28.439Z"
   },
   {
    "duration": 1151,
    "start_time": "2023-08-09T11:00:40.614Z"
   },
   {
    "duration": 279,
    "start_time": "2023-08-09T11:00:41.768Z"
   },
   {
    "duration": 42,
    "start_time": "2023-08-09T11:00:42.049Z"
   },
   {
    "duration": 70,
    "start_time": "2023-08-09T11:00:42.093Z"
   },
   {
    "duration": 9,
    "start_time": "2023-08-09T11:00:42.166Z"
   },
   {
    "duration": 51,
    "start_time": "2023-08-09T11:00:42.177Z"
   },
   {
    "duration": 83,
    "start_time": "2023-08-09T11:00:42.230Z"
   },
   {
    "duration": 16,
    "start_time": "2023-08-09T11:00:42.315Z"
   },
   {
    "duration": 35,
    "start_time": "2023-08-09T11:00:42.333Z"
   },
   {
    "duration": 54,
    "start_time": "2023-08-09T11:00:42.370Z"
   },
   {
    "duration": 614,
    "start_time": "2023-08-09T11:00:42.426Z"
   },
   {
    "duration": 512,
    "start_time": "2023-08-09T11:00:43.042Z"
   },
   {
    "duration": 10,
    "start_time": "2023-08-09T11:00:43.556Z"
   },
   {
    "duration": 23,
    "start_time": "2023-08-09T11:08:53.836Z"
   },
   {
    "duration": 130,
    "start_time": "2023-08-09T11:11:38.744Z"
   },
   {
    "duration": 123,
    "start_time": "2023-08-09T11:11:42.832Z"
   },
   {
    "duration": 24,
    "start_time": "2023-08-09T11:11:59.489Z"
   },
   {
    "duration": 39,
    "start_time": "2023-08-09T11:13:17.041Z"
   },
   {
    "duration": 29,
    "start_time": "2023-08-09T11:20:40.113Z"
   },
   {
    "duration": 35,
    "start_time": "2023-08-09T11:20:51.335Z"
   },
   {
    "duration": 9,
    "start_time": "2023-08-09T11:21:02.873Z"
   },
   {
    "duration": 274,
    "start_time": "2023-08-09T11:24:20.471Z"
   },
   {
    "duration": 285,
    "start_time": "2023-08-09T11:24:48.957Z"
   },
   {
    "duration": 423,
    "start_time": "2023-08-09T11:24:52.527Z"
   },
   {
    "duration": 474,
    "start_time": "2023-08-09T11:25:45.268Z"
   },
   {
    "duration": 494,
    "start_time": "2023-08-09T11:26:01.257Z"
   },
   {
    "duration": 416,
    "start_time": "2023-08-09T11:26:59.719Z"
   },
   {
    "duration": 646,
    "start_time": "2023-08-09T11:27:11.414Z"
   },
   {
    "duration": 745,
    "start_time": "2023-08-09T11:27:22.587Z"
   },
   {
    "duration": 53,
    "start_time": "2023-08-09T11:27:58.985Z"
   },
   {
    "duration": 29,
    "start_time": "2023-08-09T11:28:13.705Z"
   },
   {
    "duration": 29,
    "start_time": "2023-08-09T11:28:31.026Z"
   },
   {
    "duration": 19,
    "start_time": "2023-08-09T11:28:40.703Z"
   },
   {
    "duration": 675,
    "start_time": "2023-08-09T11:30:09.723Z"
   },
   {
    "duration": 519,
    "start_time": "2023-08-09T11:31:47.517Z"
   },
   {
    "duration": 672,
    "start_time": "2023-08-09T11:32:10.924Z"
   },
   {
    "duration": 21,
    "start_time": "2023-08-09T12:29:16.831Z"
   },
   {
    "duration": 20,
    "start_time": "2023-08-09T12:30:19.248Z"
   },
   {
    "duration": 27,
    "start_time": "2023-08-09T12:30:45.109Z"
   },
   {
    "duration": 22,
    "start_time": "2023-08-09T12:30:53.964Z"
   },
   {
    "duration": 34,
    "start_time": "2023-08-09T12:34:33.321Z"
   },
   {
    "duration": 42,
    "start_time": "2023-08-09T12:35:32.985Z"
   },
   {
    "duration": 27,
    "start_time": "2023-08-09T12:36:23.100Z"
   },
   {
    "duration": 24,
    "start_time": "2023-08-09T12:50:19.465Z"
   },
   {
    "duration": 40,
    "start_time": "2023-08-09T12:50:55.826Z"
   },
   {
    "duration": 43,
    "start_time": "2023-08-09T12:51:08.261Z"
   },
   {
    "duration": 29,
    "start_time": "2023-08-09T12:51:50.917Z"
   },
   {
    "duration": 24,
    "start_time": "2023-08-09T13:01:03.451Z"
   },
   {
    "duration": 3,
    "start_time": "2023-08-09T13:03:29.568Z"
   },
   {
    "duration": 106,
    "start_time": "2023-08-09T13:03:31.662Z"
   },
   {
    "duration": 74,
    "start_time": "2023-08-09T13:03:31.819Z"
   },
   {
    "duration": 92,
    "start_time": "2023-08-09T13:03:31.971Z"
   },
   {
    "duration": 7,
    "start_time": "2023-08-09T13:03:32.542Z"
   },
   {
    "duration": 11,
    "start_time": "2023-08-09T13:03:32.835Z"
   },
   {
    "duration": 34,
    "start_time": "2023-08-09T13:03:33.102Z"
   },
   {
    "duration": 12,
    "start_time": "2023-08-09T13:03:33.503Z"
   },
   {
    "duration": 6,
    "start_time": "2023-08-09T13:03:33.772Z"
   },
   {
    "duration": 5,
    "start_time": "2023-08-09T13:03:34.075Z"
   },
   {
    "duration": 501,
    "start_time": "2023-08-09T13:03:34.365Z"
   },
   {
    "duration": 511,
    "start_time": "2023-08-09T13:03:34.868Z"
   },
   {
    "duration": 6,
    "start_time": "2023-08-09T13:03:35.380Z"
   },
   {
    "duration": 64,
    "start_time": "2023-08-09T13:03:35.393Z"
   },
   {
    "duration": 15,
    "start_time": "2023-08-09T13:03:35.548Z"
   },
   {
    "duration": 712,
    "start_time": "2023-08-09T13:03:35.864Z"
   },
   {
    "duration": 613,
    "start_time": "2023-08-09T13:03:36.579Z"
   },
   {
    "duration": 38,
    "start_time": "2023-08-09T13:03:37.193Z"
   },
   {
    "duration": 5,
    "start_time": "2023-08-09T13:05:00.409Z"
   },
   {
    "duration": 29,
    "start_time": "2023-08-09T13:05:01.880Z"
   },
   {
    "duration": 1834,
    "start_time": "2023-08-09T13:20:48.539Z"
   },
   {
    "duration": 1639,
    "start_time": "2023-08-09T13:20:55.839Z"
   },
   {
    "duration": 5,
    "start_time": "2023-08-09T13:27:43.207Z"
   },
   {
    "duration": 3,
    "start_time": "2023-08-09T13:27:50.047Z"
   },
   {
    "duration": 8,
    "start_time": "2023-08-09T13:29:01.818Z"
   },
   {
    "duration": 29,
    "start_time": "2023-08-09T13:29:16.216Z"
   },
   {
    "duration": 89,
    "start_time": "2023-08-09T13:50:21.037Z"
   },
   {
    "duration": 32,
    "start_time": "2023-08-09T13:50:30.749Z"
   },
   {
    "duration": 37,
    "start_time": "2023-08-09T13:50:34.884Z"
   },
   {
    "duration": 66,
    "start_time": "2023-08-09T13:50:42.893Z"
   },
   {
    "duration": 87,
    "start_time": "2023-08-09T13:53:53.106Z"
   },
   {
    "duration": 32,
    "start_time": "2023-08-09T13:56:01.842Z"
   },
   {
    "duration": 22,
    "start_time": "2023-08-09T13:56:09.828Z"
   },
   {
    "duration": 3090,
    "start_time": "2023-08-09T13:56:21.322Z"
   },
   {
    "duration": 54,
    "start_time": "2023-08-09T13:56:36.912Z"
   },
   {
    "duration": 39,
    "start_time": "2023-08-09T13:56:45.371Z"
   },
   {
    "duration": 91,
    "start_time": "2023-08-09T13:56:52.376Z"
   },
   {
    "duration": 42,
    "start_time": "2023-08-09T13:57:55.532Z"
   },
   {
    "duration": 138,
    "start_time": "2023-08-09T14:05:05.555Z"
   },
   {
    "duration": 111,
    "start_time": "2023-08-09T14:05:13.007Z"
   },
   {
    "duration": 95,
    "start_time": "2023-08-09T14:15:54.854Z"
   },
   {
    "duration": 107,
    "start_time": "2023-08-09T14:24:16.778Z"
   },
   {
    "duration": 55,
    "start_time": "2023-08-09T15:01:20.382Z"
   },
   {
    "duration": 48,
    "start_time": "2023-08-09T15:01:27.513Z"
   },
   {
    "duration": 57,
    "start_time": "2023-08-09T15:01:41.587Z"
   },
   {
    "duration": 26,
    "start_time": "2023-08-09T15:02:05.253Z"
   },
   {
    "duration": 55,
    "start_time": "2023-08-09T15:02:56.407Z"
   },
   {
    "duration": 31,
    "start_time": "2023-08-09T15:03:12.847Z"
   },
   {
    "duration": 52,
    "start_time": "2023-08-09T15:13:17.761Z"
   },
   {
    "duration": 767,
    "start_time": "2023-08-09T15:13:30.421Z"
   },
   {
    "duration": 169,
    "start_time": "2023-08-09T15:13:31.199Z"
   },
   {
    "duration": 60,
    "start_time": "2023-08-09T15:13:31.370Z"
   },
   {
    "duration": 50,
    "start_time": "2023-08-09T15:13:31.431Z"
   },
   {
    "duration": 25,
    "start_time": "2023-08-09T15:13:31.484Z"
   },
   {
    "duration": 55,
    "start_time": "2023-08-09T15:13:31.514Z"
   },
   {
    "duration": 121,
    "start_time": "2023-08-09T15:13:31.572Z"
   },
   {
    "duration": 129,
    "start_time": "2023-08-09T15:13:31.694Z"
   },
   {
    "duration": 25,
    "start_time": "2023-08-09T15:13:31.826Z"
   },
   {
    "duration": 58,
    "start_time": "2023-08-09T15:13:31.853Z"
   },
   {
    "duration": 537,
    "start_time": "2023-08-09T15:13:31.912Z"
   },
   {
    "duration": 546,
    "start_time": "2023-08-09T15:13:32.453Z"
   },
   {
    "duration": 10,
    "start_time": "2023-08-09T15:13:33.005Z"
   },
   {
    "duration": 54,
    "start_time": "2023-08-09T15:13:33.022Z"
   },
   {
    "duration": 23,
    "start_time": "2023-08-09T15:13:33.082Z"
   },
   {
    "duration": 681,
    "start_time": "2023-08-09T15:13:33.110Z"
   },
   {
    "duration": 897,
    "start_time": "2023-08-09T15:13:33.796Z"
   },
   {
    "duration": 57,
    "start_time": "2023-08-09T15:13:34.700Z"
   },
   {
    "duration": 50,
    "start_time": "2023-08-09T15:13:34.763Z"
   },
   {
    "duration": 45,
    "start_time": "2023-08-09T15:17:46.676Z"
   },
   {
    "duration": 61,
    "start_time": "2023-08-09T15:18:03.911Z"
   },
   {
    "duration": 55,
    "start_time": "2023-08-09T15:18:48.970Z"
   },
   {
    "duration": 65,
    "start_time": "2023-08-09T15:18:55.314Z"
   },
   {
    "duration": 41,
    "start_time": "2023-08-09T15:25:57.841Z"
   },
   {
    "duration": 53,
    "start_time": "2023-08-09T15:26:16.296Z"
   },
   {
    "duration": 66,
    "start_time": "2023-08-09T15:26:21.051Z"
   },
   {
    "duration": 46,
    "start_time": "2023-08-09T15:26:51.529Z"
   },
   {
    "duration": 31,
    "start_time": "2023-08-09T15:27:17.753Z"
   },
   {
    "duration": 3,
    "start_time": "2023-08-09T15:27:22.460Z"
   },
   {
    "duration": 106,
    "start_time": "2023-08-09T15:27:22.937Z"
   },
   {
    "duration": 42,
    "start_time": "2023-08-09T15:27:23.072Z"
   },
   {
    "duration": 56,
    "start_time": "2023-08-09T15:27:23.246Z"
   },
   {
    "duration": 10,
    "start_time": "2023-08-09T15:27:23.854Z"
   },
   {
    "duration": 7,
    "start_time": "2023-08-09T15:27:24.159Z"
   },
   {
    "duration": 50,
    "start_time": "2023-08-09T15:27:24.585Z"
   },
   {
    "duration": 12,
    "start_time": "2023-08-09T15:27:25.194Z"
   },
   {
    "duration": 7,
    "start_time": "2023-08-09T15:27:25.974Z"
   },
   {
    "duration": 11,
    "start_time": "2023-08-09T15:27:26.286Z"
   },
   {
    "duration": 545,
    "start_time": "2023-08-09T15:27:26.611Z"
   },
   {
    "duration": 533,
    "start_time": "2023-08-09T15:27:27.323Z"
   },
   {
    "duration": 8,
    "start_time": "2023-08-09T15:27:27.859Z"
   },
   {
    "duration": 39,
    "start_time": "2023-08-09T15:27:28.319Z"
   },
   {
    "duration": 14,
    "start_time": "2023-08-09T15:27:28.662Z"
   },
   {
    "duration": 707,
    "start_time": "2023-08-09T15:27:30.066Z"
   },
   {
    "duration": 844,
    "start_time": "2023-08-09T15:27:30.775Z"
   },
   {
    "duration": 43,
    "start_time": "2023-08-09T15:27:31.621Z"
   },
   {
    "duration": 1522,
    "start_time": "2023-08-09T15:27:32.818Z"
   },
   {
    "duration": 38,
    "start_time": "2023-08-09T15:28:05.132Z"
   },
   {
    "duration": 35,
    "start_time": "2023-08-09T15:28:22.402Z"
   },
   {
    "duration": 1023,
    "start_time": "2023-08-09T15:32:52.208Z"
   },
   {
    "duration": 1204,
    "start_time": "2023-08-10T09:26:10.883Z"
   },
   {
    "duration": 352,
    "start_time": "2023-08-10T09:26:12.091Z"
   },
   {
    "duration": 52,
    "start_time": "2023-08-10T09:26:12.454Z"
   },
   {
    "duration": 70,
    "start_time": "2023-08-10T09:26:12.509Z"
   },
   {
    "duration": 8,
    "start_time": "2023-08-10T09:26:12.582Z"
   },
   {
    "duration": 76,
    "start_time": "2023-08-10T09:26:12.592Z"
   },
   {
    "duration": 52,
    "start_time": "2023-08-10T09:26:12.671Z"
   },
   {
    "duration": 23,
    "start_time": "2023-08-10T09:26:12.727Z"
   },
   {
    "duration": 49,
    "start_time": "2023-08-10T09:26:12.752Z"
   },
   {
    "duration": 69,
    "start_time": "2023-08-10T09:26:12.806Z"
   },
   {
    "duration": 691,
    "start_time": "2023-08-10T09:26:12.877Z"
   },
   {
    "duration": 707,
    "start_time": "2023-08-10T09:26:13.574Z"
   },
   {
    "duration": 17,
    "start_time": "2023-08-10T09:26:14.284Z"
   },
   {
    "duration": 121,
    "start_time": "2023-08-10T09:26:14.303Z"
   },
   {
    "duration": 33,
    "start_time": "2023-08-10T09:26:14.428Z"
   },
   {
    "duration": 813,
    "start_time": "2023-08-10T09:26:14.463Z"
   },
   {
    "duration": 732,
    "start_time": "2023-08-10T09:26:15.278Z"
   },
   {
    "duration": 11,
    "start_time": "2023-08-10T09:26:16.013Z"
   },
   {
    "duration": 2053,
    "start_time": "2023-08-10T09:26:16.026Z"
   },
   {
    "duration": 54,
    "start_time": "2023-08-10T09:27:54.094Z"
   },
   {
    "duration": 59,
    "start_time": "2023-08-10T09:28:35.163Z"
   },
   {
    "duration": 58,
    "start_time": "2023-08-10T09:28:59.019Z"
   },
   {
    "duration": 24,
    "start_time": "2023-08-10T09:31:04.050Z"
   },
   {
    "duration": 39,
    "start_time": "2023-08-10T09:31:13.619Z"
   },
   {
    "duration": 619,
    "start_time": "2023-08-10T09:31:34.682Z"
   },
   {
    "duration": 2347,
    "start_time": "2023-08-10T09:32:05.916Z"
   },
   {
    "duration": 1309,
    "start_time": "2023-08-10T09:32:21.420Z"
   },
   {
    "duration": 54,
    "start_time": "2023-08-10T09:32:33.782Z"
   },
   {
    "duration": 42,
    "start_time": "2023-08-10T09:32:46.087Z"
   },
   {
    "duration": 51,
    "start_time": "2023-08-10T09:33:32.433Z"
   },
   {
    "duration": 41,
    "start_time": "2023-08-10T09:33:38.829Z"
   },
   {
    "duration": 146,
    "start_time": "2023-08-10T09:41:09.391Z"
   },
   {
    "duration": 5912,
    "start_time": "2023-08-10T09:41:28.822Z"
   },
   {
    "duration": 378,
    "start_time": "2023-08-10T09:41:34.739Z"
   },
   {
    "duration": 54,
    "start_time": "2023-08-10T09:41:35.124Z"
   },
   {
    "duration": 105,
    "start_time": "2023-08-10T09:41:35.180Z"
   },
   {
    "duration": 23,
    "start_time": "2023-08-10T09:41:35.288Z"
   },
   {
    "duration": 69,
    "start_time": "2023-08-10T09:41:35.318Z"
   },
   {
    "duration": 151,
    "start_time": "2023-08-10T09:41:35.389Z"
   },
   {
    "duration": 45,
    "start_time": "2023-08-10T09:41:35.543Z"
   },
   {
    "duration": 111,
    "start_time": "2023-08-10T09:41:35.591Z"
   },
   {
    "duration": 94,
    "start_time": "2023-08-10T09:41:35.704Z"
   },
   {
    "duration": 750,
    "start_time": "2023-08-10T09:41:35.800Z"
   },
   {
    "duration": 627,
    "start_time": "2023-08-10T09:41:36.558Z"
   },
   {
    "duration": 29,
    "start_time": "2023-08-10T09:41:37.188Z"
   },
   {
    "duration": 144,
    "start_time": "2023-08-10T09:41:37.221Z"
   },
   {
    "duration": 21,
    "start_time": "2023-08-10T09:41:37.371Z"
   },
   {
    "duration": 853,
    "start_time": "2023-08-10T09:41:37.394Z"
   },
   {
    "duration": 856,
    "start_time": "2023-08-10T09:41:38.253Z"
   },
   {
    "duration": 204,
    "start_time": "2023-08-10T09:42:06.289Z"
   },
   {
    "duration": 4769,
    "start_time": "2023-08-10T09:42:10.549Z"
   },
   {
    "duration": 395,
    "start_time": "2023-08-10T09:42:15.323Z"
   },
   {
    "duration": 70,
    "start_time": "2023-08-10T09:42:15.722Z"
   },
   {
    "duration": 106,
    "start_time": "2023-08-10T09:42:15.795Z"
   },
   {
    "duration": 15,
    "start_time": "2023-08-10T09:42:15.906Z"
   },
   {
    "duration": 101,
    "start_time": "2023-08-10T09:42:15.926Z"
   },
   {
    "duration": 100,
    "start_time": "2023-08-10T09:42:16.029Z"
   },
   {
    "duration": 51,
    "start_time": "2023-08-10T09:42:16.131Z"
   },
   {
    "duration": 66,
    "start_time": "2023-08-10T09:42:16.184Z"
   },
   {
    "duration": 100,
    "start_time": "2023-08-10T09:42:16.256Z"
   },
   {
    "duration": 681,
    "start_time": "2023-08-10T09:42:16.357Z"
   },
   {
    "duration": 722,
    "start_time": "2023-08-10T09:42:17.040Z"
   },
   {
    "duration": 27,
    "start_time": "2023-08-10T09:42:17.764Z"
   },
   {
    "duration": 134,
    "start_time": "2023-08-10T09:42:17.794Z"
   },
   {
    "duration": 22,
    "start_time": "2023-08-10T09:42:17.934Z"
   },
   {
    "duration": 999,
    "start_time": "2023-08-10T09:42:17.957Z"
   },
   {
    "duration": 769,
    "start_time": "2023-08-10T09:42:18.961Z"
   },
   {
    "duration": 5987,
    "start_time": "2023-08-10T09:42:41.389Z"
   },
   {
    "duration": 377,
    "start_time": "2023-08-10T09:42:47.379Z"
   },
   {
    "duration": 46,
    "start_time": "2023-08-10T09:42:47.759Z"
   },
   {
    "duration": 72,
    "start_time": "2023-08-10T09:42:47.818Z"
   },
   {
    "duration": 32,
    "start_time": "2023-08-10T09:42:47.892Z"
   },
   {
    "duration": 51,
    "start_time": "2023-08-10T09:42:47.930Z"
   },
   {
    "duration": 60,
    "start_time": "2023-08-10T09:42:47.983Z"
   },
   {
    "duration": 42,
    "start_time": "2023-08-10T09:42:48.045Z"
   },
   {
    "duration": 17,
    "start_time": "2023-08-10T09:42:48.089Z"
   },
   {
    "duration": 103,
    "start_time": "2023-08-10T09:42:48.109Z"
   },
   {
    "duration": 774,
    "start_time": "2023-08-10T09:42:48.215Z"
   },
   {
    "duration": 683,
    "start_time": "2023-08-10T09:42:48.992Z"
   },
   {
    "duration": 37,
    "start_time": "2023-08-10T09:42:49.681Z"
   },
   {
    "duration": 125,
    "start_time": "2023-08-10T09:42:49.720Z"
   },
   {
    "duration": 32,
    "start_time": "2023-08-10T09:42:49.851Z"
   },
   {
    "duration": 904,
    "start_time": "2023-08-10T09:42:49.886Z"
   },
   {
    "duration": 755,
    "start_time": "2023-08-10T09:42:50.799Z"
   },
   {
    "duration": 8039,
    "start_time": "2023-08-10T09:43:30.629Z"
   },
   {
    "duration": 411,
    "start_time": "2023-08-10T09:43:38.674Z"
   },
   {
    "duration": 53,
    "start_time": "2023-08-10T09:43:39.088Z"
   },
   {
    "duration": 195,
    "start_time": "2023-08-10T09:43:39.147Z"
   },
   {
    "duration": 24,
    "start_time": "2023-08-10T09:43:39.350Z"
   },
   {
    "duration": 18,
    "start_time": "2023-08-10T09:43:39.377Z"
   },
   {
    "duration": 112,
    "start_time": "2023-08-10T09:43:39.401Z"
   },
   {
    "duration": 72,
    "start_time": "2023-08-10T09:43:39.515Z"
   },
   {
    "duration": 68,
    "start_time": "2023-08-10T09:43:39.589Z"
   },
   {
    "duration": 112,
    "start_time": "2023-08-10T09:43:39.662Z"
   },
   {
    "duration": 503,
    "start_time": "2023-08-10T09:43:39.776Z"
   },
   {
    "duration": 711,
    "start_time": "2023-08-10T09:43:40.282Z"
   },
   {
    "duration": 26,
    "start_time": "2023-08-10T09:43:41.001Z"
   },
   {
    "duration": 117,
    "start_time": "2023-08-10T09:43:41.031Z"
   },
   {
    "duration": 48,
    "start_time": "2023-08-10T09:43:41.155Z"
   },
   {
    "duration": 898,
    "start_time": "2023-08-10T09:43:41.209Z"
   },
   {
    "duration": 906,
    "start_time": "2023-08-10T09:43:42.115Z"
   },
   {
    "duration": 4873,
    "start_time": "2023-08-10T09:44:04.895Z"
   },
   {
    "duration": 366,
    "start_time": "2023-08-10T09:44:09.773Z"
   },
   {
    "duration": 76,
    "start_time": "2023-08-10T09:44:10.147Z"
   },
   {
    "duration": 96,
    "start_time": "2023-08-10T09:44:10.231Z"
   },
   {
    "duration": 15,
    "start_time": "2023-08-10T09:44:10.340Z"
   },
   {
    "duration": 107,
    "start_time": "2023-08-10T09:44:10.366Z"
   },
   {
    "duration": 72,
    "start_time": "2023-08-10T09:44:10.475Z"
   },
   {
    "duration": 35,
    "start_time": "2023-08-10T09:44:10.553Z"
   },
   {
    "duration": 85,
    "start_time": "2023-08-10T09:44:10.590Z"
   },
   {
    "duration": 23,
    "start_time": "2023-08-10T09:44:10.678Z"
   },
   {
    "duration": 722,
    "start_time": "2023-08-10T09:44:10.703Z"
   },
   {
    "duration": 690,
    "start_time": "2023-08-10T09:44:11.426Z"
   },
   {
    "duration": 22,
    "start_time": "2023-08-10T09:44:12.118Z"
   },
   {
    "duration": 135,
    "start_time": "2023-08-10T09:44:12.143Z"
   },
   {
    "duration": 98,
    "start_time": "2023-08-10T09:44:12.280Z"
   },
   {
    "duration": 760,
    "start_time": "2023-08-10T09:44:12.380Z"
   },
   {
    "duration": 751,
    "start_time": "2023-08-10T09:44:13.143Z"
   },
   {
    "duration": 143,
    "start_time": "2023-08-10T09:44:53.114Z"
   },
   {
    "duration": 1026,
    "start_time": "2023-08-10T09:45:00.902Z"
   },
   {
    "duration": 428,
    "start_time": "2023-08-10T09:45:01.939Z"
   },
   {
    "duration": 88,
    "start_time": "2023-08-10T09:45:02.375Z"
   },
   {
    "duration": 107,
    "start_time": "2023-08-10T09:45:02.622Z"
   },
   {
    "duration": 16,
    "start_time": "2023-08-10T09:45:03.711Z"
   },
   {
    "duration": 12,
    "start_time": "2023-08-10T09:45:04.261Z"
   },
   {
    "duration": 61,
    "start_time": "2023-08-10T09:45:04.600Z"
   },
   {
    "duration": 16,
    "start_time": "2023-08-10T09:45:05.133Z"
   },
   {
    "duration": 23,
    "start_time": "2023-08-10T09:45:05.622Z"
   },
   {
    "duration": 12,
    "start_time": "2023-08-10T09:45:06.016Z"
   },
   {
    "duration": 674,
    "start_time": "2023-08-10T09:45:06.712Z"
   },
   {
    "duration": 712,
    "start_time": "2023-08-10T09:45:07.455Z"
   },
   {
    "duration": 12,
    "start_time": "2023-08-10T09:45:08.174Z"
   },
   {
    "duration": 60,
    "start_time": "2023-08-10T09:45:10.162Z"
   },
   {
    "duration": 27,
    "start_time": "2023-08-10T09:45:11.987Z"
   },
   {
    "duration": 834,
    "start_time": "2023-08-10T09:45:12.895Z"
   },
   {
    "duration": 866,
    "start_time": "2023-08-10T09:45:13.948Z"
   },
   {
    "duration": 68,
    "start_time": "2023-08-10T09:45:17.008Z"
   },
   {
    "duration": 70,
    "start_time": "2023-08-10T09:46:42.065Z"
   },
   {
    "duration": 54,
    "start_time": "2023-08-10T09:47:10.744Z"
   },
   {
    "duration": 79,
    "start_time": "2023-08-10T09:47:18.787Z"
   },
   {
    "duration": 184,
    "start_time": "2023-08-10T09:48:14.919Z"
   },
   {
    "duration": 94,
    "start_time": "2023-08-10T09:48:51.680Z"
   },
   {
    "duration": 729,
    "start_time": "2023-08-10T09:49:22.652Z"
   },
   {
    "duration": 597,
    "start_time": "2023-08-10T09:49:43.068Z"
   },
   {
    "duration": 622,
    "start_time": "2023-08-10T09:50:08.989Z"
   },
   {
    "duration": 106,
    "start_time": "2023-08-10T09:50:17.439Z"
   },
   {
    "duration": 610,
    "start_time": "2023-08-10T09:58:45.472Z"
   },
   {
    "duration": 66,
    "start_time": "2023-08-10T09:58:56.854Z"
   },
   {
    "duration": 610,
    "start_time": "2023-08-10T09:59:10.150Z"
   },
   {
    "duration": 566,
    "start_time": "2023-08-10T09:59:28.219Z"
   },
   {
    "duration": 36,
    "start_time": "2023-08-10T09:59:32.820Z"
   },
   {
    "duration": 47,
    "start_time": "2023-08-10T10:00:14.192Z"
   },
   {
    "duration": 54,
    "start_time": "2023-08-10T10:01:47.109Z"
   },
   {
    "duration": 61,
    "start_time": "2023-08-10T10:01:55.300Z"
   },
   {
    "duration": 35,
    "start_time": "2023-08-10T10:02:22.339Z"
   },
   {
    "duration": 45,
    "start_time": "2023-08-10T10:03:03.731Z"
   },
   {
    "duration": 159,
    "start_time": "2023-08-10T10:04:41.157Z"
   },
   {
    "duration": 61,
    "start_time": "2023-08-10T10:05:17.620Z"
   },
   {
    "duration": 40,
    "start_time": "2023-08-10T10:06:01.222Z"
   },
   {
    "duration": 60,
    "start_time": "2023-08-10T10:06:08.240Z"
   },
   {
    "duration": 33,
    "start_time": "2023-08-10T10:07:03.945Z"
   },
   {
    "duration": 66,
    "start_time": "2023-08-10T10:07:26.425Z"
   },
   {
    "duration": 55,
    "start_time": "2023-08-10T10:07:46.069Z"
   },
   {
    "duration": 20,
    "start_time": "2023-08-10T10:08:41.977Z"
   },
   {
    "duration": 42,
    "start_time": "2023-08-10T10:08:48.241Z"
   },
   {
    "duration": 48,
    "start_time": "2023-08-10T10:08:55.624Z"
   },
   {
    "duration": 40,
    "start_time": "2023-08-10T10:09:20.151Z"
   },
   {
    "duration": 47,
    "start_time": "2023-08-10T10:09:25.926Z"
   },
   {
    "duration": 52,
    "start_time": "2023-08-10T10:17:29.723Z"
   },
   {
    "duration": 55,
    "start_time": "2023-08-10T10:17:43.481Z"
   },
   {
    "duration": 44,
    "start_time": "2023-08-10T10:19:05.272Z"
   },
   {
    "duration": 44,
    "start_time": "2023-08-10T10:19:27.452Z"
   },
   {
    "duration": 33,
    "start_time": "2023-08-10T10:20:00.346Z"
   },
   {
    "duration": 27,
    "start_time": "2023-08-10T10:20:50.767Z"
   },
   {
    "duration": 36,
    "start_time": "2023-08-10T10:20:57.333Z"
   },
   {
    "duration": 513,
    "start_time": "2023-08-10T10:21:17.667Z"
   },
   {
    "duration": 41,
    "start_time": "2023-08-10T10:21:26.576Z"
   },
   {
    "duration": 628,
    "start_time": "2023-08-10T10:22:53.215Z"
   },
   {
    "duration": 648,
    "start_time": "2023-08-10T10:23:14.871Z"
   },
   {
    "duration": 569,
    "start_time": "2023-08-10T10:23:38.289Z"
   },
   {
    "duration": 44,
    "start_time": "2023-08-10T10:24:05.216Z"
   },
   {
    "duration": 188,
    "start_time": "2023-08-10T10:26:16.045Z"
   },
   {
    "duration": 174,
    "start_time": "2023-08-10T10:27:00.550Z"
   },
   {
    "duration": 64,
    "start_time": "2023-08-10T10:27:18.351Z"
   },
   {
    "duration": 37,
    "start_time": "2023-08-10T10:27:37.450Z"
   },
   {
    "duration": 58,
    "start_time": "2023-08-10T10:30:49.188Z"
   },
   {
    "duration": 870,
    "start_time": "2023-08-10T12:49:06.748Z"
   },
   {
    "duration": 230,
    "start_time": "2023-08-10T12:49:07.621Z"
   },
   {
    "duration": 27,
    "start_time": "2023-08-10T12:49:07.853Z"
   },
   {
    "duration": 123,
    "start_time": "2023-08-10T12:49:07.881Z"
   },
   {
    "duration": 7,
    "start_time": "2023-08-10T12:49:08.006Z"
   },
   {
    "duration": 23,
    "start_time": "2023-08-10T12:49:08.015Z"
   },
   {
    "duration": 65,
    "start_time": "2023-08-10T12:49:08.040Z"
   },
   {
    "duration": 6,
    "start_time": "2023-08-10T12:49:08.107Z"
   },
   {
    "duration": 28,
    "start_time": "2023-08-10T12:49:08.114Z"
   },
   {
    "duration": 29,
    "start_time": "2023-08-10T12:49:08.144Z"
   },
   {
    "duration": 469,
    "start_time": "2023-08-10T12:49:08.175Z"
   },
   {
    "duration": 435,
    "start_time": "2023-08-10T12:49:08.646Z"
   },
   {
    "duration": 7,
    "start_time": "2023-08-10T12:49:09.083Z"
   },
   {
    "duration": 39,
    "start_time": "2023-08-10T12:49:09.092Z"
   },
   {
    "duration": 28,
    "start_time": "2023-08-10T12:49:09.132Z"
   },
   {
    "duration": 489,
    "start_time": "2023-08-10T12:49:09.161Z"
   },
   {
    "duration": 528,
    "start_time": "2023-08-10T12:49:09.652Z"
   },
   {
    "duration": 30,
    "start_time": "2023-08-10T12:49:10.182Z"
   },
   {
    "duration": 1191,
    "start_time": "2023-08-10T12:49:10.214Z"
   },
   {
    "duration": 20,
    "start_time": "2023-08-10T12:49:15.696Z"
   },
   {
    "duration": 10,
    "start_time": "2023-08-10T13:05:51.297Z"
   },
   {
    "duration": 1203,
    "start_time": "2023-08-10T13:06:15.052Z"
   },
   {
    "duration": 97,
    "start_time": "2023-08-10T13:06:16.260Z"
   },
   {
    "duration": 34,
    "start_time": "2023-08-10T13:06:16.361Z"
   },
   {
    "duration": 78,
    "start_time": "2023-08-10T13:06:16.397Z"
   },
   {
    "duration": 7,
    "start_time": "2023-08-10T13:06:16.478Z"
   },
   {
    "duration": 14,
    "start_time": "2023-08-10T13:06:16.487Z"
   },
   {
    "duration": 30,
    "start_time": "2023-08-10T13:06:16.502Z"
   },
   {
    "duration": 5,
    "start_time": "2023-08-10T13:06:16.534Z"
   },
   {
    "duration": 31,
    "start_time": "2023-08-10T13:06:16.541Z"
   },
   {
    "duration": 8,
    "start_time": "2023-08-10T13:06:16.574Z"
   },
   {
    "duration": 407,
    "start_time": "2023-08-10T13:06:16.584Z"
   },
   {
    "duration": 399,
    "start_time": "2023-08-10T13:06:16.993Z"
   },
   {
    "duration": 8,
    "start_time": "2023-08-10T13:06:17.394Z"
   },
   {
    "duration": 37,
    "start_time": "2023-08-10T13:06:17.404Z"
   },
   {
    "duration": 43,
    "start_time": "2023-08-10T13:06:17.443Z"
   },
   {
    "duration": 554,
    "start_time": "2023-08-10T13:06:17.488Z"
   },
   {
    "duration": 712,
    "start_time": "2023-08-10T13:06:18.044Z"
   },
   {
    "duration": 42,
    "start_time": "2023-08-10T13:06:18.758Z"
   },
   {
    "duration": 21,
    "start_time": "2023-08-10T13:06:18.802Z"
   },
   {
    "duration": 7,
    "start_time": "2023-08-10T13:06:18.825Z"
   },
   {
    "duration": 7,
    "start_time": "2023-08-10T13:08:31.855Z"
   },
   {
    "duration": 6,
    "start_time": "2023-08-10T13:10:05.812Z"
   },
   {
    "duration": 7,
    "start_time": "2023-08-10T13:10:50.069Z"
   },
   {
    "duration": 6,
    "start_time": "2023-08-10T13:10:54.412Z"
   },
   {
    "duration": 5,
    "start_time": "2023-08-10T13:13:47.811Z"
   },
   {
    "duration": 6,
    "start_time": "2023-08-10T13:17:44.436Z"
   },
   {
    "duration": 100,
    "start_time": "2023-08-10T13:21:10.923Z"
   },
   {
    "duration": 12,
    "start_time": "2023-08-10T13:21:43.948Z"
   },
   {
    "duration": 20,
    "start_time": "2023-08-10T13:22:06.913Z"
   },
   {
    "duration": 6,
    "start_time": "2023-08-10T13:23:30.116Z"
   },
   {
    "duration": 7,
    "start_time": "2023-08-10T13:24:09.912Z"
   },
   {
    "duration": 7,
    "start_time": "2023-08-10T13:24:15.211Z"
   },
   {
    "duration": 6,
    "start_time": "2023-08-10T13:29:10.463Z"
   },
   {
    "duration": 6,
    "start_time": "2023-08-10T13:30:39.912Z"
   },
   {
    "duration": 34,
    "start_time": "2023-08-10T13:54:37.383Z"
   },
   {
    "duration": 35,
    "start_time": "2023-08-10T13:56:00.957Z"
   },
   {
    "duration": 19,
    "start_time": "2023-08-10T13:56:02.765Z"
   },
   {
    "duration": 5,
    "start_time": "2023-08-10T13:56:03.778Z"
   },
   {
    "duration": 5,
    "start_time": "2023-08-10T13:56:04.176Z"
   },
   {
    "duration": 12,
    "start_time": "2023-08-10T13:56:04.457Z"
   },
   {
    "duration": 1204,
    "start_time": "2023-08-10T14:32:00.381Z"
   },
   {
    "duration": 93,
    "start_time": "2023-08-10T14:32:01.588Z"
   },
   {
    "duration": 31,
    "start_time": "2023-08-10T14:32:01.683Z"
   },
   {
    "duration": 92,
    "start_time": "2023-08-10T14:32:01.716Z"
   },
   {
    "duration": 7,
    "start_time": "2023-08-10T14:32:01.810Z"
   },
   {
    "duration": 65,
    "start_time": "2023-08-10T14:32:01.818Z"
   },
   {
    "duration": 68,
    "start_time": "2023-08-10T14:32:01.885Z"
   },
   {
    "duration": 41,
    "start_time": "2023-08-10T14:32:01.955Z"
   },
   {
    "duration": 58,
    "start_time": "2023-08-10T14:32:01.998Z"
   },
   {
    "duration": 35,
    "start_time": "2023-08-10T14:32:02.058Z"
   },
   {
    "duration": 460,
    "start_time": "2023-08-10T14:32:02.094Z"
   },
   {
    "duration": 373,
    "start_time": "2023-08-10T14:32:02.559Z"
   },
   {
    "duration": 8,
    "start_time": "2023-08-10T14:32:02.934Z"
   },
   {
    "duration": 48,
    "start_time": "2023-08-10T14:32:02.944Z"
   },
   {
    "duration": 14,
    "start_time": "2023-08-10T14:32:02.994Z"
   },
   {
    "duration": 563,
    "start_time": "2023-08-10T14:32:03.009Z"
   },
   {
    "duration": 622,
    "start_time": "2023-08-10T14:32:03.574Z"
   },
   {
    "duration": 36,
    "start_time": "2023-08-10T14:32:04.197Z"
   },
   {
    "duration": 38,
    "start_time": "2023-08-10T14:32:04.235Z"
   },
   {
    "duration": 5,
    "start_time": "2023-08-10T14:32:04.275Z"
   },
   {
    "duration": 16,
    "start_time": "2023-08-10T14:32:04.281Z"
   },
   {
    "duration": 16,
    "start_time": "2023-08-10T14:32:04.299Z"
   },
   {
    "duration": 1415,
    "start_time": "2023-08-10T16:01:40.776Z"
   },
   {
    "duration": 620,
    "start_time": "2023-08-10T16:01:42.193Z"
   },
   {
    "duration": 30,
    "start_time": "2023-08-10T16:01:42.815Z"
   },
   {
    "duration": 131,
    "start_time": "2023-08-10T16:01:42.847Z"
   },
   {
    "duration": 7,
    "start_time": "2023-08-10T16:01:42.980Z"
   },
   {
    "duration": 17,
    "start_time": "2023-08-10T16:01:42.989Z"
   },
   {
    "duration": 51,
    "start_time": "2023-08-10T16:01:43.008Z"
   },
   {
    "duration": 7,
    "start_time": "2023-08-10T16:01:43.061Z"
   },
   {
    "duration": 23,
    "start_time": "2023-08-10T16:01:43.070Z"
   },
   {
    "duration": 15,
    "start_time": "2023-08-10T16:01:43.097Z"
   },
   {
    "duration": 437,
    "start_time": "2023-08-10T16:01:43.114Z"
   },
   {
    "duration": 443,
    "start_time": "2023-08-10T16:01:43.553Z"
   },
   {
    "duration": 8,
    "start_time": "2023-08-10T16:01:43.998Z"
   },
   {
    "duration": 47,
    "start_time": "2023-08-10T16:01:44.008Z"
   },
   {
    "duration": 26,
    "start_time": "2023-08-10T16:01:44.057Z"
   },
   {
    "duration": 589,
    "start_time": "2023-08-10T16:01:44.085Z"
   },
   {
    "duration": 686,
    "start_time": "2023-08-10T16:01:44.675Z"
   },
   {
    "duration": 46,
    "start_time": "2023-08-10T16:01:45.366Z"
   },
   {
    "duration": 21,
    "start_time": "2023-08-10T16:01:45.414Z"
   },
   {
    "duration": 7,
    "start_time": "2023-08-10T16:01:45.463Z"
   },
   {
    "duration": 12,
    "start_time": "2023-08-10T16:01:45.471Z"
   },
   {
    "duration": 35,
    "start_time": "2023-08-10T16:01:45.485Z"
   },
   {
    "duration": 24,
    "start_time": "2023-08-10T16:03:35.290Z"
   },
   {
    "duration": 6,
    "start_time": "2023-08-10T16:14:35.673Z"
   },
   {
    "duration": 1159,
    "start_time": "2023-08-10T16:17:20.073Z"
   },
   {
    "duration": 91,
    "start_time": "2023-08-10T16:17:21.234Z"
   },
   {
    "duration": 30,
    "start_time": "2023-08-10T16:17:21.326Z"
   },
   {
    "duration": 43,
    "start_time": "2023-08-10T16:17:21.358Z"
   },
   {
    "duration": 7,
    "start_time": "2023-08-10T16:17:21.403Z"
   },
   {
    "duration": 15,
    "start_time": "2023-08-10T16:17:21.411Z"
   },
   {
    "duration": 46,
    "start_time": "2023-08-10T16:17:21.428Z"
   },
   {
    "duration": 5,
    "start_time": "2023-08-10T16:17:21.476Z"
   },
   {
    "duration": 8,
    "start_time": "2023-08-10T16:17:21.483Z"
   },
   {
    "duration": 7,
    "start_time": "2023-08-10T16:17:21.493Z"
   },
   {
    "duration": 401,
    "start_time": "2023-08-10T16:17:21.502Z"
   },
   {
    "duration": 359,
    "start_time": "2023-08-10T16:17:21.905Z"
   },
   {
    "duration": 9,
    "start_time": "2023-08-10T16:17:22.265Z"
   },
   {
    "duration": 58,
    "start_time": "2023-08-10T16:17:22.275Z"
   },
   {
    "duration": 14,
    "start_time": "2023-08-10T16:17:22.334Z"
   },
   {
    "duration": 506,
    "start_time": "2023-08-10T16:17:22.350Z"
   },
   {
    "duration": 605,
    "start_time": "2023-08-10T16:17:22.858Z"
   },
   {
    "duration": 32,
    "start_time": "2023-08-10T16:17:23.465Z"
   },
   {
    "duration": 20,
    "start_time": "2023-08-10T16:17:23.499Z"
   },
   {
    "duration": 6,
    "start_time": "2023-08-10T16:17:23.521Z"
   },
   {
    "duration": 33,
    "start_time": "2023-08-10T16:17:23.529Z"
   },
   {
    "duration": 41,
    "start_time": "2023-08-10T16:17:23.563Z"
   },
   {
    "duration": 44,
    "start_time": "2023-08-11T07:25:40.928Z"
   },
   {
    "duration": 1221,
    "start_time": "2023-08-11T07:25:49.442Z"
   },
   {
    "duration": 243,
    "start_time": "2023-08-11T07:25:50.665Z"
   },
   {
    "duration": 26,
    "start_time": "2023-08-11T07:25:50.910Z"
   },
   {
    "duration": 61,
    "start_time": "2023-08-11T07:25:50.938Z"
   },
   {
    "duration": 7,
    "start_time": "2023-08-11T07:25:51.001Z"
   },
   {
    "duration": 9,
    "start_time": "2023-08-11T07:25:51.009Z"
   },
   {
    "duration": 16,
    "start_time": "2023-08-11T07:25:51.019Z"
   },
   {
    "duration": 4,
    "start_time": "2023-08-11T07:25:51.037Z"
   },
   {
    "duration": 6,
    "start_time": "2023-08-11T07:25:51.043Z"
   },
   {
    "duration": 7,
    "start_time": "2023-08-11T07:25:51.051Z"
   },
   {
    "duration": 374,
    "start_time": "2023-08-11T07:25:51.059Z"
   },
   {
    "duration": 342,
    "start_time": "2023-08-11T07:25:51.435Z"
   },
   {
    "duration": 18,
    "start_time": "2023-08-11T07:25:51.779Z"
   },
   {
    "duration": 35,
    "start_time": "2023-08-11T07:25:51.799Z"
   },
   {
    "duration": 13,
    "start_time": "2023-08-11T07:25:51.835Z"
   },
   {
    "duration": 518,
    "start_time": "2023-08-11T07:25:51.850Z"
   },
   {
    "duration": 586,
    "start_time": "2023-08-11T07:25:52.369Z"
   },
   {
    "duration": 41,
    "start_time": "2023-08-11T07:25:52.957Z"
   },
   {
    "duration": 19,
    "start_time": "2023-08-11T07:25:52.999Z"
   },
   {
    "duration": 31,
    "start_time": "2023-08-11T07:25:53.020Z"
   },
   {
    "duration": 44,
    "start_time": "2023-08-11T07:25:53.053Z"
   },
   {
    "duration": 21,
    "start_time": "2023-08-11T07:25:53.098Z"
   },
   {
    "duration": 6,
    "start_time": "2023-08-11T07:42:52.927Z"
   },
   {
    "duration": 9,
    "start_time": "2023-08-11T07:43:20.318Z"
   },
   {
    "duration": 29,
    "start_time": "2023-08-11T07:45:59.073Z"
   },
   {
    "duration": 28,
    "start_time": "2023-08-11T07:47:34.809Z"
   },
   {
    "duration": 21,
    "start_time": "2023-08-11T07:49:49.703Z"
   },
   {
    "duration": 27,
    "start_time": "2023-08-11T07:50:15.137Z"
   },
   {
    "duration": 35,
    "start_time": "2023-08-11T07:55:22.483Z"
   },
   {
    "duration": 24,
    "start_time": "2023-08-11T07:56:12.523Z"
   },
   {
    "duration": 23,
    "start_time": "2023-08-11T07:56:32.123Z"
   },
   {
    "duration": 473,
    "start_time": "2023-08-11T07:57:08.179Z"
   },
   {
    "duration": 29,
    "start_time": "2023-08-11T07:57:15.021Z"
   },
   {
    "duration": 23,
    "start_time": "2023-08-11T07:59:48.338Z"
   },
   {
    "duration": 1070,
    "start_time": "2023-08-11T08:00:07.444Z"
   },
   {
    "duration": 24,
    "start_time": "2023-08-11T08:00:23.099Z"
   },
   {
    "duration": 16,
    "start_time": "2023-08-11T08:01:01.809Z"
   },
   {
    "duration": 22,
    "start_time": "2023-08-11T08:06:32.359Z"
   },
   {
    "duration": 24,
    "start_time": "2023-08-11T08:06:40.803Z"
   },
   {
    "duration": 22,
    "start_time": "2023-08-11T08:06:52.523Z"
   },
   {
    "duration": 26,
    "start_time": "2023-08-11T08:06:57.275Z"
   },
   {
    "duration": 17,
    "start_time": "2023-08-11T08:10:36.553Z"
   },
   {
    "duration": 183,
    "start_time": "2023-08-11T08:11:19.752Z"
   },
   {
    "duration": 344,
    "start_time": "2023-08-11T08:11:33.336Z"
   },
   {
    "duration": 235,
    "start_time": "2023-08-11T08:11:38.834Z"
   },
   {
    "duration": 371,
    "start_time": "2023-08-11T08:11:57.842Z"
   },
   {
    "duration": 248,
    "start_time": "2023-08-11T08:12:08.469Z"
   },
   {
    "duration": 319,
    "start_time": "2023-08-11T08:12:27.012Z"
   },
   {
    "duration": 345,
    "start_time": "2023-08-11T08:12:44.832Z"
   },
   {
    "duration": 279,
    "start_time": "2023-08-11T08:12:51.731Z"
   },
   {
    "duration": 256,
    "start_time": "2023-08-11T08:13:02.605Z"
   },
   {
    "duration": 461,
    "start_time": "2023-08-11T08:13:11.605Z"
   },
   {
    "duration": 21,
    "start_time": "2023-08-11T08:28:30.133Z"
   },
   {
    "duration": 14,
    "start_time": "2023-08-11T08:28:39.067Z"
   },
   {
    "duration": 396,
    "start_time": "2023-08-11T08:28:45.680Z"
   },
   {
    "duration": 385,
    "start_time": "2023-08-11T08:28:54.369Z"
   },
   {
    "duration": 573,
    "start_time": "2023-08-11T08:29:27.840Z"
   },
   {
    "duration": 541,
    "start_time": "2023-08-11T08:29:39.539Z"
   },
   {
    "duration": 548,
    "start_time": "2023-08-11T08:29:58.569Z"
   },
   {
    "duration": 163,
    "start_time": "2023-08-11T08:30:27.065Z"
   },
   {
    "duration": 108,
    "start_time": "2023-08-11T08:30:47.304Z"
   },
   {
    "duration": 128,
    "start_time": "2023-08-11T08:31:13.188Z"
   },
   {
    "duration": 140,
    "start_time": "2023-08-11T08:32:34.137Z"
   },
   {
    "duration": 146,
    "start_time": "2023-08-11T08:32:49.474Z"
   },
   {
    "duration": 410,
    "start_time": "2023-08-11T08:34:19.372Z"
   },
   {
    "duration": 215,
    "start_time": "2023-08-11T08:34:25.777Z"
   },
   {
    "duration": 130,
    "start_time": "2023-08-11T08:34:46.594Z"
   },
   {
    "duration": 115,
    "start_time": "2023-08-11T08:34:58.630Z"
   },
   {
    "duration": 229,
    "start_time": "2023-08-11T08:35:06.570Z"
   },
   {
    "duration": 162,
    "start_time": "2023-08-11T08:35:29.002Z"
   },
   {
    "duration": 180,
    "start_time": "2023-08-11T08:35:36.711Z"
   },
   {
    "duration": 222,
    "start_time": "2023-08-11T08:35:47.435Z"
   },
   {
    "duration": 270,
    "start_time": "2023-08-11T08:36:06.533Z"
   },
   {
    "duration": 222,
    "start_time": "2023-08-11T08:36:19.528Z"
   },
   {
    "duration": 349,
    "start_time": "2023-08-11T08:38:30.126Z"
   },
   {
    "duration": 326,
    "start_time": "2023-08-11T08:38:59.153Z"
   },
   {
    "duration": 521,
    "start_time": "2023-08-11T08:39:11.508Z"
   },
   {
    "duration": 350,
    "start_time": "2023-08-11T08:39:21.319Z"
   },
   {
    "duration": 329,
    "start_time": "2023-08-11T08:39:26.679Z"
   },
   {
    "duration": 332,
    "start_time": "2023-08-11T08:40:12.698Z"
   },
   {
    "duration": 341,
    "start_time": "2023-08-11T08:41:35.840Z"
   },
   {
    "duration": 181,
    "start_time": "2023-08-11T08:41:58.158Z"
   },
   {
    "duration": 182,
    "start_time": "2023-08-11T08:42:22.094Z"
   },
   {
    "duration": 80,
    "start_time": "2023-08-11T08:42:56.638Z"
   },
   {
    "duration": 83,
    "start_time": "2023-08-11T08:43:09.034Z"
   },
   {
    "duration": 369,
    "start_time": "2023-08-11T08:44:32.067Z"
   },
   {
    "duration": 1188,
    "start_time": "2023-08-11T08:44:59.747Z"
   },
   {
    "duration": 89,
    "start_time": "2023-08-11T08:45:00.937Z"
   },
   {
    "duration": 27,
    "start_time": "2023-08-11T08:45:01.028Z"
   },
   {
    "duration": 76,
    "start_time": "2023-08-11T08:45:01.057Z"
   },
   {
    "duration": 47,
    "start_time": "2023-08-11T08:45:01.135Z"
   },
   {
    "duration": 69,
    "start_time": "2023-08-11T08:45:01.184Z"
   },
   {
    "duration": 75,
    "start_time": "2023-08-11T08:45:01.255Z"
   },
   {
    "duration": 206,
    "start_time": "2023-08-11T08:45:01.331Z"
   },
   {
    "duration": 117,
    "start_time": "2023-08-11T08:45:01.539Z"
   },
   {
    "duration": 454,
    "start_time": "2023-08-11T08:45:01.660Z"
   },
   {
    "duration": 392,
    "start_time": "2023-08-11T08:45:02.116Z"
   },
   {
    "duration": 340,
    "start_time": "2023-08-11T08:45:02.510Z"
   },
   {
    "duration": 7,
    "start_time": "2023-08-11T08:45:02.851Z"
   },
   {
    "duration": 40,
    "start_time": "2023-08-11T08:45:02.859Z"
   },
   {
    "duration": 14,
    "start_time": "2023-08-11T08:45:02.900Z"
   },
   {
    "duration": 546,
    "start_time": "2023-08-11T08:45:02.915Z"
   },
   {
    "duration": 491,
    "start_time": "2023-08-11T08:45:03.463Z"
   },
   {
    "duration": 38,
    "start_time": "2023-08-11T08:45:03.956Z"
   },
   {
    "duration": 17,
    "start_time": "2023-08-11T08:45:03.995Z"
   },
   {
    "duration": 19,
    "start_time": "2023-08-11T08:45:04.014Z"
   },
   {
    "duration": 19,
    "start_time": "2023-08-11T08:45:04.034Z"
   },
   {
    "duration": 33,
    "start_time": "2023-08-11T08:45:04.054Z"
   },
   {
    "duration": 354,
    "start_time": "2023-08-11T08:45:48.944Z"
   },
   {
    "duration": 527,
    "start_time": "2023-08-11T08:46:53.145Z"
   },
   {
    "duration": 382,
    "start_time": "2023-08-11T08:47:57.654Z"
   },
   {
    "duration": 284,
    "start_time": "2023-08-11T08:49:22.743Z"
   },
   {
    "duration": 152,
    "start_time": "2023-08-11T08:49:49.527Z"
   },
   {
    "duration": 187,
    "start_time": "2023-08-11T08:50:12.544Z"
   },
   {
    "duration": 1295,
    "start_time": "2023-08-11T13:35:25.631Z"
   },
   {
    "duration": 333,
    "start_time": "2023-08-11T13:35:26.928Z"
   },
   {
    "duration": 42,
    "start_time": "2023-08-11T13:35:27.263Z"
   },
   {
    "duration": 40,
    "start_time": "2023-08-11T13:35:27.307Z"
   },
   {
    "duration": 31,
    "start_time": "2023-08-11T13:35:27.349Z"
   },
   {
    "duration": 25,
    "start_time": "2023-08-11T13:35:27.383Z"
   },
   {
    "duration": 19,
    "start_time": "2023-08-11T13:35:27.410Z"
   },
   {
    "duration": 189,
    "start_time": "2023-08-11T13:35:27.431Z"
   },
   {
    "duration": 131,
    "start_time": "2023-08-11T13:35:27.621Z"
   },
   {
    "duration": 262,
    "start_time": "2023-08-11T13:35:27.754Z"
   },
   {
    "duration": 310,
    "start_time": "2023-08-11T13:35:28.018Z"
   },
   {
    "duration": 0,
    "start_time": "2023-08-11T13:35:28.330Z"
   },
   {
    "duration": 0,
    "start_time": "2023-08-11T13:35:28.331Z"
   },
   {
    "duration": 0,
    "start_time": "2023-08-11T13:35:28.332Z"
   },
   {
    "duration": 0,
    "start_time": "2023-08-11T13:35:28.333Z"
   },
   {
    "duration": 0,
    "start_time": "2023-08-11T13:35:28.335Z"
   },
   {
    "duration": 0,
    "start_time": "2023-08-11T13:35:28.335Z"
   },
   {
    "duration": 0,
    "start_time": "2023-08-11T13:35:28.337Z"
   },
   {
    "duration": 0,
    "start_time": "2023-08-11T13:35:28.339Z"
   },
   {
    "duration": 0,
    "start_time": "2023-08-11T13:35:28.340Z"
   },
   {
    "duration": 0,
    "start_time": "2023-08-11T13:35:28.341Z"
   },
   {
    "duration": 0,
    "start_time": "2023-08-11T13:35:28.342Z"
   },
   {
    "duration": 380,
    "start_time": "2023-08-11T13:36:39.512Z"
   },
   {
    "duration": 131,
    "start_time": "2023-08-11T13:36:53.995Z"
   },
   {
    "duration": 365,
    "start_time": "2023-08-11T13:37:40.551Z"
   },
   {
    "duration": 311,
    "start_time": "2023-08-11T13:37:52.892Z"
   },
   {
    "duration": 470,
    "start_time": "2023-08-11T13:40:10.053Z"
   },
   {
    "duration": 249606,
    "start_time": "2023-08-11T13:42:07.613Z"
   },
   {
    "duration": 210,
    "start_time": "2023-08-11T13:47:05.524Z"
   },
   {
    "duration": 358,
    "start_time": "2023-08-11T13:47:56.034Z"
   },
   {
    "duration": 1188,
    "start_time": "2023-08-11T13:52:22.878Z"
   },
   {
    "duration": 102,
    "start_time": "2023-08-11T13:52:24.068Z"
   },
   {
    "duration": 36,
    "start_time": "2023-08-11T13:52:24.172Z"
   },
   {
    "duration": 66,
    "start_time": "2023-08-11T13:52:24.211Z"
   },
   {
    "duration": 11,
    "start_time": "2023-08-11T13:52:24.280Z"
   },
   {
    "duration": 28,
    "start_time": "2023-08-11T13:52:24.294Z"
   },
   {
    "duration": 25,
    "start_time": "2023-08-11T13:52:24.324Z"
   },
   {
    "duration": 191,
    "start_time": "2023-08-11T13:52:24.351Z"
   },
   {
    "duration": 137,
    "start_time": "2023-08-11T13:52:24.543Z"
   },
   {
    "duration": 271,
    "start_time": "2023-08-11T13:52:24.686Z"
   },
   {
    "duration": 369,
    "start_time": "2023-08-11T13:52:24.959Z"
   },
   {
    "duration": 384,
    "start_time": "2023-08-11T13:52:25.330Z"
   },
   {
    "duration": 7,
    "start_time": "2023-08-11T13:52:25.716Z"
   },
   {
    "duration": 42,
    "start_time": "2023-08-11T13:52:25.724Z"
   },
   {
    "duration": 16,
    "start_time": "2023-08-11T13:52:25.768Z"
   },
   {
    "duration": 654,
    "start_time": "2023-08-11T13:52:25.786Z"
   },
   {
    "duration": 530,
    "start_time": "2023-08-11T13:52:26.441Z"
   },
   {
    "duration": 35,
    "start_time": "2023-08-11T13:52:26.973Z"
   },
   {
    "duration": 20,
    "start_time": "2023-08-11T13:52:27.010Z"
   },
   {
    "duration": 20,
    "start_time": "2023-08-11T13:52:27.032Z"
   },
   {
    "duration": 20,
    "start_time": "2023-08-11T13:52:27.054Z"
   },
   {
    "duration": 20,
    "start_time": "2023-08-11T13:52:27.076Z"
   },
   {
    "duration": 385,
    "start_time": "2023-08-11T13:52:53.731Z"
   },
   {
    "duration": 466,
    "start_time": "2023-08-11T13:53:13.260Z"
   },
   {
    "duration": 213,
    "start_time": "2023-08-11T13:54:15.484Z"
   },
   {
    "duration": 230,
    "start_time": "2023-08-11T13:54:24.674Z"
   },
   {
    "duration": 244,
    "start_time": "2023-08-11T13:54:43.930Z"
   },
   {
    "duration": 247,
    "start_time": "2023-08-11T13:55:07.156Z"
   },
   {
    "duration": 72,
    "start_time": "2023-08-11T13:59:45.658Z"
   },
   {
    "duration": 379,
    "start_time": "2023-08-11T14:00:02.129Z"
   },
   {
    "duration": 342,
    "start_time": "2023-08-11T14:00:15.711Z"
   },
   {
    "duration": 445,
    "start_time": "2023-08-11T14:00:28.478Z"
   },
   {
    "duration": 343,
    "start_time": "2023-08-11T14:01:44.270Z"
   },
   {
    "duration": 165,
    "start_time": "2023-08-11T14:05:11.485Z"
   },
   {
    "duration": 158,
    "start_time": "2023-08-11T14:05:39.331Z"
   },
   {
    "duration": 160,
    "start_time": "2023-08-11T14:05:55.057Z"
   },
   {
    "duration": 205,
    "start_time": "2023-08-11T14:06:06.394Z"
   },
   {
    "duration": 136,
    "start_time": "2023-08-11T14:06:27.172Z"
   },
   {
    "duration": 201,
    "start_time": "2023-08-11T14:06:39.359Z"
   },
   {
    "duration": 183,
    "start_time": "2023-08-11T14:08:01.690Z"
   },
   {
    "duration": 339,
    "start_time": "2023-08-11T14:08:31.991Z"
   },
   {
    "duration": 183,
    "start_time": "2023-08-11T14:08:39.547Z"
   },
   {
    "duration": 202,
    "start_time": "2023-08-11T14:10:53.681Z"
   },
   {
    "duration": 181,
    "start_time": "2023-08-11T14:11:24.812Z"
   },
   {
    "duration": 225,
    "start_time": "2023-08-11T14:26:00.969Z"
   },
   {
    "duration": 243,
    "start_time": "2023-08-11T14:26:05.812Z"
   },
   {
    "duration": 219,
    "start_time": "2023-08-11T14:26:09.553Z"
   },
   {
    "duration": 361,
    "start_time": "2023-08-11T14:26:13.909Z"
   },
   {
    "duration": 231,
    "start_time": "2023-08-11T14:26:17.972Z"
   },
   {
    "duration": 227,
    "start_time": "2023-08-11T14:26:46.616Z"
   },
   {
    "duration": 224,
    "start_time": "2023-08-11T14:27:15.862Z"
   },
   {
    "duration": 239,
    "start_time": "2023-08-11T14:27:34.447Z"
   },
   {
    "duration": 230,
    "start_time": "2023-08-11T14:27:54.401Z"
   },
   {
    "duration": 9,
    "start_time": "2023-08-11T14:28:34.436Z"
   },
   {
    "duration": 312,
    "start_time": "2023-08-11T14:29:00.325Z"
   },
   {
    "duration": 108,
    "start_time": "2023-08-11T14:29:10.619Z"
   },
   {
    "duration": 112,
    "start_time": "2023-08-11T14:29:16.699Z"
   },
   {
    "duration": 120,
    "start_time": "2023-08-11T14:30:29.532Z"
   },
   {
    "duration": 129,
    "start_time": "2023-08-11T14:30:31.300Z"
   },
   {
    "duration": 18741,
    "start_time": "2023-08-11T14:30:42.960Z"
   },
   {
    "duration": 141,
    "start_time": "2023-08-11T14:31:08.632Z"
   },
   {
    "duration": 207,
    "start_time": "2023-08-11T14:31:19.640Z"
   },
   {
    "duration": 232,
    "start_time": "2023-08-11T14:31:22.503Z"
   },
   {
    "duration": 523,
    "start_time": "2023-08-11T14:31:42.894Z"
   },
   {
    "duration": 261,
    "start_time": "2023-08-11T14:31:46.526Z"
   },
   {
    "duration": 279,
    "start_time": "2023-08-11T14:34:03.853Z"
   },
   {
    "duration": 314,
    "start_time": "2023-08-11T14:34:15.878Z"
   },
   {
    "duration": 425,
    "start_time": "2023-08-11T14:35:23.019Z"
   },
   {
    "duration": 518,
    "start_time": "2023-08-11T14:35:37.817Z"
   },
   {
    "duration": 367,
    "start_time": "2023-08-11T14:35:47.051Z"
   },
   {
    "duration": 424,
    "start_time": "2023-08-11T14:36:36.493Z"
   },
   {
    "duration": 548,
    "start_time": "2023-08-11T14:36:46.590Z"
   },
   {
    "duration": 637,
    "start_time": "2023-08-11T14:36:50.215Z"
   },
   {
    "duration": 8,
    "start_time": "2023-08-11T14:40:09.566Z"
   },
   {
    "duration": 180,
    "start_time": "2023-08-11T14:41:21.129Z"
   },
   {
    "duration": 183,
    "start_time": "2023-08-11T14:41:40.777Z"
   },
   {
    "duration": 1098,
    "start_time": "2023-08-11T14:48:59.726Z"
   },
   {
    "duration": 88,
    "start_time": "2023-08-11T14:49:00.826Z"
   },
   {
    "duration": 25,
    "start_time": "2023-08-11T14:49:00.915Z"
   },
   {
    "duration": 71,
    "start_time": "2023-08-11T14:49:00.942Z"
   },
   {
    "duration": 25,
    "start_time": "2023-08-11T14:49:01.015Z"
   },
   {
    "duration": 70,
    "start_time": "2023-08-11T14:49:01.041Z"
   },
   {
    "duration": 55,
    "start_time": "2023-08-11T14:49:01.112Z"
   },
   {
    "duration": 187,
    "start_time": "2023-08-11T14:49:01.169Z"
   },
   {
    "duration": 122,
    "start_time": "2023-08-11T14:49:01.358Z"
   },
   {
    "duration": 258,
    "start_time": "2023-08-11T14:49:01.483Z"
   },
   {
    "duration": 181,
    "start_time": "2023-08-11T14:49:01.743Z"
   },
   {
    "duration": 390,
    "start_time": "2023-08-11T14:49:01.926Z"
   },
   {
    "duration": 9,
    "start_time": "2023-08-11T14:49:02.317Z"
   },
   {
    "duration": 77,
    "start_time": "2023-08-11T14:49:02.327Z"
   },
   {
    "duration": 15,
    "start_time": "2023-08-11T14:49:02.406Z"
   },
   {
    "duration": 587,
    "start_time": "2023-08-11T14:49:02.423Z"
   },
   {
    "duration": 493,
    "start_time": "2023-08-11T14:49:03.012Z"
   },
   {
    "duration": 33,
    "start_time": "2023-08-11T14:49:03.507Z"
   },
   {
    "duration": 35,
    "start_time": "2023-08-11T14:49:03.542Z"
   },
   {
    "duration": 12,
    "start_time": "2023-08-11T14:49:03.579Z"
   },
   {
    "duration": 44,
    "start_time": "2023-08-11T14:49:03.593Z"
   },
   {
    "duration": 87,
    "start_time": "2023-08-11T14:49:03.638Z"
   },
   {
    "duration": 274,
    "start_time": "2023-08-11T14:49:31.830Z"
   },
   {
    "duration": 452,
    "start_time": "2023-08-11T14:49:36.236Z"
   },
   {
    "duration": 406,
    "start_time": "2023-08-11T14:50:02.188Z"
   },
   {
    "duration": 454,
    "start_time": "2023-08-11T14:50:15.878Z"
   },
   {
    "duration": 438,
    "start_time": "2023-08-11T14:50:23.198Z"
   },
   {
    "duration": 457,
    "start_time": "2023-08-11T14:50:33.224Z"
   },
   {
    "duration": 448,
    "start_time": "2023-08-11T14:50:58.334Z"
   },
   {
    "duration": 449,
    "start_time": "2023-08-11T14:51:11.444Z"
   },
   {
    "duration": 339,
    "start_time": "2023-08-11T14:51:25.146Z"
   },
   {
    "duration": 367,
    "start_time": "2023-08-11T14:51:43.523Z"
   },
   {
    "duration": 457,
    "start_time": "2023-08-11T14:51:57.381Z"
   },
   {
    "duration": 243,
    "start_time": "2023-08-11T14:52:43.994Z"
   },
   {
    "duration": 368,
    "start_time": "2023-08-11T14:54:58.817Z"
   },
   {
    "duration": 278,
    "start_time": "2023-08-11T14:55:16.754Z"
   },
   {
    "duration": 351,
    "start_time": "2023-08-11T14:55:28.318Z"
   },
   {
    "duration": 454,
    "start_time": "2023-08-11T14:55:53.239Z"
   },
   {
    "duration": 1006,
    "start_time": "2023-08-11T14:56:05.029Z"
   },
   {
    "duration": 94,
    "start_time": "2023-08-11T14:56:06.037Z"
   },
   {
    "duration": 28,
    "start_time": "2023-08-11T14:56:06.132Z"
   },
   {
    "duration": 43,
    "start_time": "2023-08-11T14:56:06.162Z"
   },
   {
    "duration": 7,
    "start_time": "2023-08-11T14:56:06.207Z"
   },
   {
    "duration": 24,
    "start_time": "2023-08-11T14:56:06.215Z"
   },
   {
    "duration": 34,
    "start_time": "2023-08-11T14:56:06.241Z"
   },
   {
    "duration": 158,
    "start_time": "2023-08-11T14:56:06.276Z"
   },
   {
    "duration": 128,
    "start_time": "2023-08-11T14:56:06.436Z"
   },
   {
    "duration": 245,
    "start_time": "2023-08-11T14:56:06.574Z"
   },
   {
    "duration": 355,
    "start_time": "2023-08-11T14:56:06.821Z"
   },
   {
    "duration": 357,
    "start_time": "2023-08-11T14:56:07.178Z"
   },
   {
    "duration": 2,
    "start_time": "2023-08-11T14:56:07.537Z"
   },
   {
    "duration": 45,
    "start_time": "2023-08-11T14:56:07.541Z"
   },
   {
    "duration": 15,
    "start_time": "2023-08-11T14:56:07.588Z"
   },
   {
    "duration": 596,
    "start_time": "2023-08-11T14:56:07.605Z"
   },
   {
    "duration": 512,
    "start_time": "2023-08-11T14:56:08.203Z"
   },
   {
    "duration": 31,
    "start_time": "2023-08-11T14:56:08.716Z"
   },
   {
    "duration": 30,
    "start_time": "2023-08-11T14:56:08.748Z"
   },
   {
    "duration": 8,
    "start_time": "2023-08-11T14:56:08.780Z"
   },
   {
    "duration": 12,
    "start_time": "2023-08-11T14:56:08.790Z"
   },
   {
    "duration": 19,
    "start_time": "2023-08-11T14:56:08.804Z"
   },
   {
    "duration": 355,
    "start_time": "2023-08-11T15:10:01.643Z"
   },
   {
    "duration": 17,
    "start_time": "2023-08-11T15:15:49.730Z"
   },
   {
    "duration": 134,
    "start_time": "2023-08-11T15:15:52.272Z"
   },
   {
    "duration": 207,
    "start_time": "2023-08-11T15:15:52.782Z"
   },
   {
    "duration": 247,
    "start_time": "2023-08-11T15:15:53.260Z"
   },
   {
    "duration": 438,
    "start_time": "2023-08-11T15:15:53.725Z"
   },
   {
    "duration": 464,
    "start_time": "2023-08-11T15:15:54.339Z"
   },
   {
    "duration": 6,
    "start_time": "2023-08-11T15:15:54.806Z"
   },
   {
    "duration": 41,
    "start_time": "2023-08-11T15:15:56.535Z"
   },
   {
    "duration": 13,
    "start_time": "2023-08-11T15:16:04.834Z"
   },
   {
    "duration": 469,
    "start_time": "2023-08-11T15:16:06.024Z"
   },
   {
    "duration": 611,
    "start_time": "2023-08-11T15:16:40.360Z"
   },
   {
    "duration": 529,
    "start_time": "2023-08-11T15:21:52.466Z"
   },
   {
    "duration": 483,
    "start_time": "2023-08-11T15:22:01.866Z"
   },
   {
    "duration": 387,
    "start_time": "2023-08-11T15:23:22.076Z"
   },
   {
    "duration": 273,
    "start_time": "2023-08-11T15:23:41.434Z"
   },
   {
    "duration": 164,
    "start_time": "2023-08-11T15:24:01.234Z"
   },
   {
    "duration": 166,
    "start_time": "2023-08-11T15:24:57.074Z"
   },
   {
    "duration": 180,
    "start_time": "2023-08-11T15:25:02.733Z"
   },
   {
    "duration": 159,
    "start_time": "2023-08-11T15:26:00.845Z"
   },
   {
    "duration": 492,
    "start_time": "2023-08-11T15:26:43.796Z"
   },
   {
    "duration": 62,
    "start_time": "2023-08-11T15:27:03.041Z"
   },
   {
    "duration": 611,
    "start_time": "2023-08-11T15:27:08.325Z"
   },
   {
    "duration": 496,
    "start_time": "2023-08-11T15:27:19.490Z"
   },
   {
    "duration": 534,
    "start_time": "2023-08-11T15:28:02.776Z"
   },
   {
    "duration": 12,
    "start_time": "2023-08-11T15:34:37.036Z"
   },
   {
    "duration": 11,
    "start_time": "2023-08-11T15:34:43.462Z"
   },
   {
    "duration": 12,
    "start_time": "2023-08-11T15:34:51.529Z"
   },
   {
    "duration": 13,
    "start_time": "2023-08-11T15:34:56.249Z"
   },
   {
    "duration": 67,
    "start_time": "2023-08-11T15:35:22.949Z"
   },
   {
    "duration": 11,
    "start_time": "2023-08-11T15:35:54.552Z"
   },
   {
    "duration": 67,
    "start_time": "2023-08-11T15:36:01.784Z"
   },
   {
    "duration": 10,
    "start_time": "2023-08-11T15:36:28.048Z"
   },
   {
    "duration": 9,
    "start_time": "2023-08-11T15:36:34.724Z"
   },
   {
    "duration": 83,
    "start_time": "2023-08-11T15:37:30.832Z"
   },
   {
    "duration": 10,
    "start_time": "2023-08-11T15:37:44.078Z"
   },
   {
    "duration": 9,
    "start_time": "2023-08-11T15:37:58.446Z"
   },
   {
    "duration": 9,
    "start_time": "2023-08-11T15:38:05.066Z"
   },
   {
    "duration": 10,
    "start_time": "2023-08-11T15:39:36.344Z"
   },
   {
    "duration": 14,
    "start_time": "2023-08-11T15:42:14.445Z"
   },
   {
    "duration": 14,
    "start_time": "2023-08-11T15:42:23.179Z"
   },
   {
    "duration": 2,
    "start_time": "2023-08-11T15:43:34.187Z"
   },
   {
    "duration": 145,
    "start_time": "2023-08-11T16:27:22.908Z"
   },
   {
    "duration": 312,
    "start_time": "2023-08-11T16:29:18.064Z"
   },
   {
    "duration": 156,
    "start_time": "2023-08-11T16:38:04.574Z"
   },
   {
    "duration": 188,
    "start_time": "2023-08-11T16:38:26.701Z"
   },
   {
    "duration": 123,
    "start_time": "2023-08-11T16:38:52.466Z"
   },
   {
    "duration": 120,
    "start_time": "2023-08-11T16:42:27.938Z"
   },
   {
    "duration": 76,
    "start_time": "2023-08-11T16:43:44.948Z"
   },
   {
    "duration": 63,
    "start_time": "2023-08-11T16:44:34.458Z"
   },
   {
    "duration": 71,
    "start_time": "2023-08-11T16:45:01.148Z"
   },
   {
    "duration": 147,
    "start_time": "2023-08-11T16:47:34.349Z"
   },
   {
    "duration": 120,
    "start_time": "2023-08-11T16:47:42.846Z"
   },
   {
    "duration": 127,
    "start_time": "2023-08-11T16:48:32.934Z"
   },
   {
    "duration": 1227,
    "start_time": "2023-08-11T17:56:35.587Z"
   },
   {
    "duration": 100,
    "start_time": "2023-08-11T17:56:36.816Z"
   },
   {
    "duration": 28,
    "start_time": "2023-08-11T17:56:36.918Z"
   },
   {
    "duration": 65,
    "start_time": "2023-08-11T17:56:36.949Z"
   },
   {
    "duration": 8,
    "start_time": "2023-08-11T17:56:37.016Z"
   },
   {
    "duration": 10,
    "start_time": "2023-08-11T17:56:37.025Z"
   },
   {
    "duration": 23,
    "start_time": "2023-08-11T17:56:37.037Z"
   },
   {
    "duration": 220,
    "start_time": "2023-08-11T17:56:37.062Z"
   },
   {
    "duration": 134,
    "start_time": "2023-08-11T17:56:37.283Z"
   },
   {
    "duration": 300,
    "start_time": "2023-08-11T17:56:37.421Z"
   },
   {
    "duration": 374,
    "start_time": "2023-08-11T17:56:37.723Z"
   },
   {
    "duration": 400,
    "start_time": "2023-08-11T17:56:38.099Z"
   },
   {
    "duration": 6,
    "start_time": "2023-08-11T17:56:38.501Z"
   },
   {
    "duration": 39,
    "start_time": "2023-08-11T17:56:38.509Z"
   },
   {
    "duration": 14,
    "start_time": "2023-08-11T17:56:38.550Z"
   },
   {
    "duration": 638,
    "start_time": "2023-08-11T17:56:38.566Z"
   },
   {
    "duration": 570,
    "start_time": "2023-08-11T17:56:39.206Z"
   },
   {
    "duration": 40,
    "start_time": "2023-08-11T17:56:39.778Z"
   },
   {
    "duration": 23,
    "start_time": "2023-08-11T17:56:39.820Z"
   },
   {
    "duration": 11,
    "start_time": "2023-08-11T17:56:39.845Z"
   },
   {
    "duration": 11,
    "start_time": "2023-08-11T17:56:39.857Z"
   },
   {
    "duration": 17,
    "start_time": "2023-08-11T17:56:39.894Z"
   },
   {
    "duration": 1329,
    "start_time": "2024-01-31T09:15:18.058Z"
   },
   {
    "duration": 214,
    "start_time": "2024-01-31T09:15:19.389Z"
   },
   {
    "duration": 27,
    "start_time": "2024-01-31T09:15:19.604Z"
   },
   {
    "duration": 41,
    "start_time": "2024-01-31T09:15:19.633Z"
   },
   {
    "duration": 6,
    "start_time": "2024-01-31T09:15:19.676Z"
   },
   {
    "duration": 27,
    "start_time": "2024-01-31T09:15:19.683Z"
   },
   {
    "duration": 18,
    "start_time": "2024-01-31T09:15:19.720Z"
   },
   {
    "duration": 171,
    "start_time": "2024-01-31T09:15:19.739Z"
   },
   {
    "duration": 136,
    "start_time": "2024-01-31T09:15:19.912Z"
   },
   {
    "duration": 245,
    "start_time": "2024-01-31T09:15:20.050Z"
   },
   {
    "duration": 410,
    "start_time": "2024-01-31T09:15:20.297Z"
   },
   {
    "duration": 361,
    "start_time": "2024-01-31T09:15:20.708Z"
   },
   {
    "duration": 6,
    "start_time": "2024-01-31T09:15:21.071Z"
   },
   {
    "duration": 54,
    "start_time": "2024-01-31T09:15:21.079Z"
   },
   {
    "duration": 13,
    "start_time": "2024-01-31T09:15:21.134Z"
   },
   {
    "duration": 558,
    "start_time": "2024-01-31T09:15:21.149Z"
   },
   {
    "duration": 525,
    "start_time": "2024-01-31T09:15:21.708Z"
   },
   {
    "duration": 28,
    "start_time": "2024-01-31T09:15:22.234Z"
   },
   {
    "duration": 17,
    "start_time": "2024-01-31T09:15:22.264Z"
   },
   {
    "duration": 28,
    "start_time": "2024-01-31T09:15:22.283Z"
   },
   {
    "duration": 27,
    "start_time": "2024-01-31T09:15:22.313Z"
   },
   {
    "duration": 31,
    "start_time": "2024-01-31T09:15:22.341Z"
   },
   {
    "duration": 250,
    "start_time": "2024-01-31T09:27:03.948Z"
   },
   {
    "duration": 263,
    "start_time": "2024-01-31T09:27:10.003Z"
   },
   {
    "duration": 328,
    "start_time": "2024-01-31T09:28:02.303Z"
   },
   {
    "duration": 258,
    "start_time": "2024-01-31T09:28:05.584Z"
   },
   {
    "duration": 352,
    "start_time": "2024-01-31T09:28:34.268Z"
   },
   {
    "duration": 361,
    "start_time": "2024-01-31T09:28:44.143Z"
   },
   {
    "duration": 359,
    "start_time": "2024-01-31T09:28:50.484Z"
   },
   {
    "duration": 364,
    "start_time": "2024-01-31T09:28:56.644Z"
   },
   {
    "duration": 465,
    "start_time": "2024-01-31T09:31:18.042Z"
   },
   {
    "duration": 422,
    "start_time": "2024-01-31T09:34:08.491Z"
   },
   {
    "duration": 8,
    "start_time": "2024-01-31T09:38:28.721Z"
   },
   {
    "duration": 1186,
    "start_time": "2024-01-31T09:38:38.316Z"
   },
   {
    "duration": 89,
    "start_time": "2024-01-31T09:38:39.504Z"
   },
   {
    "duration": 30,
    "start_time": "2024-01-31T09:38:39.595Z"
   },
   {
    "duration": 43,
    "start_time": "2024-01-31T09:38:39.627Z"
   },
   {
    "duration": 7,
    "start_time": "2024-01-31T09:38:39.672Z"
   },
   {
    "duration": 30,
    "start_time": "2024-01-31T09:38:39.680Z"
   },
   {
    "duration": 21,
    "start_time": "2024-01-31T09:38:39.721Z"
   },
   {
    "duration": 199,
    "start_time": "2024-01-31T09:38:39.743Z"
   },
   {
    "duration": 144,
    "start_time": "2024-01-31T09:38:39.943Z"
   },
   {
    "duration": 263,
    "start_time": "2024-01-31T09:38:40.089Z"
   },
   {
    "duration": 409,
    "start_time": "2024-01-31T09:38:40.353Z"
   },
   {
    "duration": 423,
    "start_time": "2024-01-31T09:38:40.763Z"
   },
   {
    "duration": 17,
    "start_time": "2024-01-31T09:38:41.187Z"
   },
   {
    "duration": 17,
    "start_time": "2024-01-31T09:38:41.206Z"
   },
   {
    "duration": 56,
    "start_time": "2024-01-31T09:38:41.224Z"
   },
   {
    "duration": 13,
    "start_time": "2024-01-31T09:38:41.282Z"
   },
   {
    "duration": 601,
    "start_time": "2024-01-31T09:38:41.297Z"
   },
   {
    "duration": 549,
    "start_time": "2024-01-31T09:38:41.900Z"
   },
   {
    "duration": 29,
    "start_time": "2024-01-31T09:38:42.451Z"
   },
   {
    "duration": 18,
    "start_time": "2024-01-31T09:38:42.482Z"
   },
   {
    "duration": 26,
    "start_time": "2024-01-31T09:38:42.501Z"
   },
   {
    "duration": 6,
    "start_time": "2024-01-31T09:38:42.529Z"
   },
   {
    "duration": 18,
    "start_time": "2024-01-31T09:38:42.536Z"
   },
   {
    "duration": 1140,
    "start_time": "2024-01-31T09:39:28.441Z"
   },
   {
    "duration": 89,
    "start_time": "2024-01-31T09:39:29.582Z"
   },
   {
    "duration": 30,
    "start_time": "2024-01-31T09:39:29.673Z"
   },
   {
    "duration": 58,
    "start_time": "2024-01-31T09:39:29.705Z"
   },
   {
    "duration": 9,
    "start_time": "2024-01-31T09:39:29.766Z"
   },
   {
    "duration": 52,
    "start_time": "2024-01-31T09:39:29.777Z"
   },
   {
    "duration": 41,
    "start_time": "2024-01-31T09:39:29.831Z"
   },
   {
    "duration": 199,
    "start_time": "2024-01-31T09:39:29.875Z"
   },
   {
    "duration": 151,
    "start_time": "2024-01-31T09:39:30.076Z"
   },
   {
    "duration": 276,
    "start_time": "2024-01-31T09:39:30.229Z"
   },
   {
    "duration": 395,
    "start_time": "2024-01-31T09:39:30.507Z"
   },
   {
    "duration": 216,
    "start_time": "2024-01-31T09:39:30.904Z"
   },
   {
    "duration": 210,
    "start_time": "2024-01-31T09:39:31.122Z"
   },
   {
    "duration": 15,
    "start_time": "2024-01-31T09:39:31.335Z"
   },
   {
    "duration": 62,
    "start_time": "2024-01-31T09:39:31.351Z"
   },
   {
    "duration": 71,
    "start_time": "2024-01-31T09:39:31.414Z"
   },
   {
    "duration": 62,
    "start_time": "2024-01-31T09:39:31.486Z"
   },
   {
    "duration": 606,
    "start_time": "2024-01-31T09:39:31.550Z"
   },
   {
    "duration": 551,
    "start_time": "2024-01-31T09:39:32.158Z"
   },
   {
    "duration": 37,
    "start_time": "2024-01-31T09:39:32.711Z"
   },
   {
    "duration": 22,
    "start_time": "2024-01-31T09:39:32.750Z"
   },
   {
    "duration": 9,
    "start_time": "2024-01-31T09:39:32.774Z"
   },
   {
    "duration": 74,
    "start_time": "2024-01-31T09:39:32.785Z"
   },
   {
    "duration": 66,
    "start_time": "2024-01-31T09:39:32.861Z"
   },
   {
    "duration": 7,
    "start_time": "2024-01-31T09:41:11.351Z"
   },
   {
    "duration": 1160,
    "start_time": "2024-01-31T09:41:17.929Z"
   },
   {
    "duration": 87,
    "start_time": "2024-01-31T09:41:19.091Z"
   },
   {
    "duration": 25,
    "start_time": "2024-01-31T09:41:19.180Z"
   },
   {
    "duration": 42,
    "start_time": "2024-01-31T09:41:19.207Z"
   },
   {
    "duration": 7,
    "start_time": "2024-01-31T09:41:19.250Z"
   },
   {
    "duration": 13,
    "start_time": "2024-01-31T09:41:19.258Z"
   },
   {
    "duration": 21,
    "start_time": "2024-01-31T09:41:19.272Z"
   },
   {
    "duration": 183,
    "start_time": "2024-01-31T09:41:19.294Z"
   },
   {
    "duration": 132,
    "start_time": "2024-01-31T09:41:19.479Z"
   },
   {
    "duration": 262,
    "start_time": "2024-01-31T09:41:19.620Z"
   },
   {
    "duration": 368,
    "start_time": "2024-01-31T09:41:19.883Z"
   },
   {
    "duration": 197,
    "start_time": "2024-01-31T09:41:20.252Z"
   },
   {
    "duration": 185,
    "start_time": "2024-01-31T09:41:20.451Z"
   },
   {
    "duration": 14,
    "start_time": "2024-01-31T09:41:20.637Z"
   },
   {
    "duration": 12,
    "start_time": "2024-01-31T09:41:20.653Z"
   },
   {
    "duration": 38,
    "start_time": "2024-01-31T09:41:20.667Z"
   },
   {
    "duration": 26,
    "start_time": "2024-01-31T09:41:20.706Z"
   },
   {
    "duration": 536,
    "start_time": "2024-01-31T09:41:20.734Z"
   },
   {
    "duration": 508,
    "start_time": "2024-01-31T09:41:21.272Z"
   },
   {
    "duration": 39,
    "start_time": "2024-01-31T09:41:21.782Z"
   },
   {
    "duration": 78,
    "start_time": "2024-01-31T09:41:21.823Z"
   },
   {
    "duration": 10,
    "start_time": "2024-01-31T09:41:21.903Z"
   },
   {
    "duration": 43,
    "start_time": "2024-01-31T09:41:21.914Z"
   },
   {
    "duration": 20,
    "start_time": "2024-01-31T09:41:21.959Z"
   },
   {
    "duration": 1092,
    "start_time": "2024-01-31T09:46:20.909Z"
   },
   {
    "duration": 88,
    "start_time": "2024-01-31T09:46:22.005Z"
   },
   {
    "duration": 27,
    "start_time": "2024-01-31T09:46:22.095Z"
   },
   {
    "duration": 39,
    "start_time": "2024-01-31T09:46:22.124Z"
   },
   {
    "duration": 7,
    "start_time": "2024-01-31T09:46:22.165Z"
   },
   {
    "duration": 22,
    "start_time": "2024-01-31T09:46:22.173Z"
   },
   {
    "duration": 34,
    "start_time": "2024-01-31T09:46:22.196Z"
   },
   {
    "duration": 177,
    "start_time": "2024-01-31T09:46:22.231Z"
   },
   {
    "duration": 130,
    "start_time": "2024-01-31T09:46:22.409Z"
   },
   {
    "duration": 261,
    "start_time": "2024-01-31T09:46:22.540Z"
   },
   {
    "duration": 381,
    "start_time": "2024-01-31T09:46:22.802Z"
   },
   {
    "duration": 197,
    "start_time": "2024-01-31T09:46:23.185Z"
   },
   {
    "duration": 193,
    "start_time": "2024-01-31T09:46:23.384Z"
   },
   {
    "duration": 17,
    "start_time": "2024-01-31T09:46:23.580Z"
   },
   {
    "duration": 23,
    "start_time": "2024-01-31T09:46:23.599Z"
   },
   {
    "duration": 38,
    "start_time": "2024-01-31T09:46:23.624Z"
   },
   {
    "duration": 13,
    "start_time": "2024-01-31T09:46:23.664Z"
   },
   {
    "duration": 562,
    "start_time": "2024-01-31T09:46:23.678Z"
   },
   {
    "duration": 544,
    "start_time": "2024-01-31T09:46:24.242Z"
   },
   {
    "duration": 36,
    "start_time": "2024-01-31T09:46:24.787Z"
   },
   {
    "duration": 19,
    "start_time": "2024-01-31T09:46:24.824Z"
   },
   {
    "duration": 12,
    "start_time": "2024-01-31T09:46:24.844Z"
   },
   {
    "duration": 41,
    "start_time": "2024-01-31T09:46:24.857Z"
   },
   {
    "duration": 29,
    "start_time": "2024-01-31T09:46:24.900Z"
   },
   {
    "duration": 489,
    "start_time": "2024-01-31T09:52:29.801Z"
   },
   {
    "duration": 546,
    "start_time": "2024-01-31T09:52:42.438Z"
   },
   {
    "duration": 478,
    "start_time": "2024-01-31T09:53:41.961Z"
   },
   {
    "duration": 539,
    "start_time": "2024-01-31T09:56:03.488Z"
   },
   {
    "duration": 1116,
    "start_time": "2024-01-31T10:03:00.079Z"
   },
   {
    "duration": 87,
    "start_time": "2024-01-31T10:03:01.197Z"
   },
   {
    "duration": 224,
    "start_time": "2024-01-31T10:03:01.286Z"
   },
   {
    "duration": 115,
    "start_time": "2024-01-31T10:03:01.512Z"
   },
   {
    "duration": 105,
    "start_time": "2024-01-31T10:03:01.629Z"
   },
   {
    "duration": 155,
    "start_time": "2024-01-31T10:03:01.735Z"
   },
   {
    "duration": 63,
    "start_time": "2024-01-31T10:03:01.892Z"
   },
   {
    "duration": 201,
    "start_time": "2024-01-31T10:03:01.956Z"
   },
   {
    "duration": 204,
    "start_time": "2024-01-31T10:03:02.159Z"
   },
   {
    "duration": 265,
    "start_time": "2024-01-31T10:03:02.365Z"
   },
   {
    "duration": 447,
    "start_time": "2024-01-31T10:03:02.632Z"
   },
   {
    "duration": 206,
    "start_time": "2024-01-31T10:03:03.081Z"
   },
   {
    "duration": 190,
    "start_time": "2024-01-31T10:03:03.289Z"
   },
   {
    "duration": 16,
    "start_time": "2024-01-31T10:03:03.481Z"
   },
   {
    "duration": 125,
    "start_time": "2024-01-31T10:03:03.499Z"
   },
   {
    "duration": 63,
    "start_time": "2024-01-31T10:03:03.625Z"
   },
   {
    "duration": 172,
    "start_time": "2024-01-31T10:03:03.690Z"
   },
   {
    "duration": 608,
    "start_time": "2024-01-31T10:03:03.864Z"
   },
   {
    "duration": 519,
    "start_time": "2024-01-31T10:03:04.474Z"
   },
   {
    "duration": 30,
    "start_time": "2024-01-31T10:03:04.995Z"
   },
   {
    "duration": 16,
    "start_time": "2024-01-31T10:03:05.027Z"
   },
   {
    "duration": 23,
    "start_time": "2024-01-31T10:03:05.044Z"
   },
   {
    "duration": 12,
    "start_time": "2024-01-31T10:03:05.069Z"
   },
   {
    "duration": 18,
    "start_time": "2024-01-31T10:03:05.082Z"
   },
   {
    "duration": 26,
    "start_time": "2024-01-31T10:03:05.102Z"
   }
  ],
  "kernelspec": {
   "display_name": "Python 3 (ipykernel)",
   "language": "python",
   "name": "python3"
  },
  "language_info": {
   "codemirror_mode": {
    "name": "ipython",
    "version": 3
   },
   "file_extension": ".py",
   "mimetype": "text/x-python",
   "name": "python",
   "nbconvert_exporter": "python",
   "pygments_lexer": "ipython3",
   "version": "3.9.5"
  },
  "toc": {
   "base_numbering": 1,
   "nav_menu": {},
   "number_sections": true,
   "sideBar": true,
   "skip_h1_title": true,
   "title_cell": "Table of Contents",
   "title_sidebar": "Contents",
   "toc_cell": false,
   "toc_position": {},
   "toc_section_display": true,
   "toc_window_display": false
  }
 },
 "nbformat": 4,
 "nbformat_minor": 5
}
