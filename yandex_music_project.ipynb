{
 "cells": [
  {
   "cell_type": "markdown",
   "metadata": {
    "id": "E0vqbgi9ay0H"
   },
   "source": [
    "# Музыка больших городов"
   ]
  },
  {
   "cell_type": "markdown",
   "metadata": {
    "id": "VUC88oWjTJw2"
   },
   "source": [
    "Сравнение Москвы и Петербурга окружено мифами. Например:\n",
    " * Москва — мегаполис, подчинённый жёсткому ритму рабочей недели;\n",
    " * Петербург — культурная столица, со своими вкусами.\n",
    "\n",
    "На данных Яндекс Музыки я сравню поведение пользователей двух столиц.\n",
    "\n",
    "**Цель исследования** — проверить три гипотезы:\n",
    "1. Активность пользователей зависит от дня недели. Причём в Москве и Петербурге это проявляется по-разному.\n",
    "2. В понедельник утром в Москве преобладают одни жанры, а в Петербурге — другие. Так же и вечером пятницы преобладают разные жанры — в зависимости от города. \n",
    "3. Москва и Петербург предпочитают разные жанры музыки. В Москве чаще слушают поп-музыку, в Петербурге — русский рэп.\n",
    "\n",
    "**Ход исследования**\n",
    "\n",
    "Данные о поведении пользователей вы получите из файла `yandex_music_project.csv`. О качестве данных ничего не известно. Поэтому перед проверкой гипотез понадобится обзор данных. \n",
    "\n",
    "Я проверю данные на ошибки и оцените их влияние на исследование. Затем, на этапе предобработки поищу возможность исправить самые критичные ошибки данных.\n",
    " \n",
    "Таким образом, исследование пройдёт в три этапа:\n",
    " 1. Обзор данных.\n",
    " 2. Предобработка данных.\n",
    " 3. Проверка гипотез.\n",
    "\n"
   ]
  },
  {
   "cell_type": "markdown",
   "metadata": {
    "hideCode": false,
    "hideOutput": false,
    "hidePrompt": false,
    "id": "Ml1hmfXC_Zcs"
   },
   "source": [
    "## Обзор данных"
   ]
  },
  {
   "cell_type": "code",
   "execution_count": 1,
   "metadata": {
    "deletable": false,
    "hideCode": false,
    "hidePrompt": false,
    "id": "AXN7PHPN_Zcs"
   },
   "outputs": [],
   "source": [
    "import pandas as pd"
   ]
  },
  {
   "cell_type": "code",
   "execution_count": 2,
   "metadata": {
    "deletable": false,
    "id": "fFVu7vqh_Zct"
   },
   "outputs": [],
   "source": [
    "df = pd.read_csv('/datasets/yandex_music_project.csv')"
   ]
  },
  {
   "cell_type": "code",
   "execution_count": 3,
   "metadata": {
    "deletable": false,
    "id": "oWTVX3gW_Zct"
   },
   "outputs": [
    {
     "data": {
      "text/html": [
       "<div>\n",
       "<style scoped>\n",
       "    .dataframe tbody tr th:only-of-type {\n",
       "        vertical-align: middle;\n",
       "    }\n",
       "\n",
       "    .dataframe tbody tr th {\n",
       "        vertical-align: top;\n",
       "    }\n",
       "\n",
       "    .dataframe thead th {\n",
       "        text-align: right;\n",
       "    }\n",
       "</style>\n",
       "<table border=\"1\" class=\"dataframe\">\n",
       "  <thead>\n",
       "    <tr style=\"text-align: right;\">\n",
       "      <th></th>\n",
       "      <th>userID</th>\n",
       "      <th>Track</th>\n",
       "      <th>artist</th>\n",
       "      <th>genre</th>\n",
       "      <th>City</th>\n",
       "      <th>time</th>\n",
       "      <th>Day</th>\n",
       "    </tr>\n",
       "  </thead>\n",
       "  <tbody>\n",
       "    <tr>\n",
       "      <th>0</th>\n",
       "      <td>FFB692EC</td>\n",
       "      <td>Kamigata To Boots</td>\n",
       "      <td>The Mass Missile</td>\n",
       "      <td>rock</td>\n",
       "      <td>Saint-Petersburg</td>\n",
       "      <td>20:28:33</td>\n",
       "      <td>Wednesday</td>\n",
       "    </tr>\n",
       "    <tr>\n",
       "      <th>1</th>\n",
       "      <td>55204538</td>\n",
       "      <td>Delayed Because of Accident</td>\n",
       "      <td>Andreas Rönnberg</td>\n",
       "      <td>rock</td>\n",
       "      <td>Moscow</td>\n",
       "      <td>14:07:09</td>\n",
       "      <td>Friday</td>\n",
       "    </tr>\n",
       "    <tr>\n",
       "      <th>2</th>\n",
       "      <td>20EC38</td>\n",
       "      <td>Funiculì funiculà</td>\n",
       "      <td>Mario Lanza</td>\n",
       "      <td>pop</td>\n",
       "      <td>Saint-Petersburg</td>\n",
       "      <td>20:58:07</td>\n",
       "      <td>Wednesday</td>\n",
       "    </tr>\n",
       "    <tr>\n",
       "      <th>3</th>\n",
       "      <td>A3DD03C9</td>\n",
       "      <td>Dragons in the Sunset</td>\n",
       "      <td>Fire + Ice</td>\n",
       "      <td>folk</td>\n",
       "      <td>Saint-Petersburg</td>\n",
       "      <td>08:37:09</td>\n",
       "      <td>Monday</td>\n",
       "    </tr>\n",
       "    <tr>\n",
       "      <th>4</th>\n",
       "      <td>E2DC1FAE</td>\n",
       "      <td>Soul People</td>\n",
       "      <td>Space Echo</td>\n",
       "      <td>dance</td>\n",
       "      <td>Moscow</td>\n",
       "      <td>08:34:34</td>\n",
       "      <td>Monday</td>\n",
       "    </tr>\n",
       "    <tr>\n",
       "      <th>5</th>\n",
       "      <td>842029A1</td>\n",
       "      <td>Преданная</td>\n",
       "      <td>IMPERVTOR</td>\n",
       "      <td>rusrap</td>\n",
       "      <td>Saint-Petersburg</td>\n",
       "      <td>13:09:41</td>\n",
       "      <td>Friday</td>\n",
       "    </tr>\n",
       "    <tr>\n",
       "      <th>6</th>\n",
       "      <td>4CB90AA5</td>\n",
       "      <td>True</td>\n",
       "      <td>Roman Messer</td>\n",
       "      <td>dance</td>\n",
       "      <td>Moscow</td>\n",
       "      <td>13:00:07</td>\n",
       "      <td>Wednesday</td>\n",
       "    </tr>\n",
       "    <tr>\n",
       "      <th>7</th>\n",
       "      <td>F03E1C1F</td>\n",
       "      <td>Feeling This Way</td>\n",
       "      <td>Polina Griffith</td>\n",
       "      <td>dance</td>\n",
       "      <td>Moscow</td>\n",
       "      <td>20:47:49</td>\n",
       "      <td>Wednesday</td>\n",
       "    </tr>\n",
       "    <tr>\n",
       "      <th>8</th>\n",
       "      <td>8FA1D3BE</td>\n",
       "      <td>И вновь продолжается бой</td>\n",
       "      <td>NaN</td>\n",
       "      <td>ruspop</td>\n",
       "      <td>Moscow</td>\n",
       "      <td>09:17:40</td>\n",
       "      <td>Friday</td>\n",
       "    </tr>\n",
       "    <tr>\n",
       "      <th>9</th>\n",
       "      <td>E772D5C0</td>\n",
       "      <td>Pessimist</td>\n",
       "      <td>NaN</td>\n",
       "      <td>dance</td>\n",
       "      <td>Saint-Petersburg</td>\n",
       "      <td>21:20:49</td>\n",
       "      <td>Wednesday</td>\n",
       "    </tr>\n",
       "  </tbody>\n",
       "</table>\n",
       "</div>"
      ],
      "text/plain": [
       "     userID                        Track            artist   genre  \\\n",
       "0  FFB692EC            Kamigata To Boots  The Mass Missile    rock   \n",
       "1  55204538  Delayed Because of Accident  Andreas Rönnberg    rock   \n",
       "2    20EC38            Funiculì funiculà       Mario Lanza     pop   \n",
       "3  A3DD03C9        Dragons in the Sunset        Fire + Ice    folk   \n",
       "4  E2DC1FAE                  Soul People        Space Echo   dance   \n",
       "5  842029A1                    Преданная         IMPERVTOR  rusrap   \n",
       "6  4CB90AA5                         True      Roman Messer   dance   \n",
       "7  F03E1C1F             Feeling This Way   Polina Griffith   dance   \n",
       "8  8FA1D3BE     И вновь продолжается бой               NaN  ruspop   \n",
       "9  E772D5C0                    Pessimist               NaN   dance   \n",
       "\n",
       "             City        time        Day  \n",
       "0  Saint-Petersburg  20:28:33  Wednesday  \n",
       "1            Moscow  14:07:09     Friday  \n",
       "2  Saint-Petersburg  20:58:07  Wednesday  \n",
       "3  Saint-Petersburg  08:37:09     Monday  \n",
       "4            Moscow  08:34:34     Monday  \n",
       "5  Saint-Petersburg  13:09:41     Friday  \n",
       "6            Moscow  13:00:07  Wednesday  \n",
       "7            Moscow  20:47:49  Wednesday  \n",
       "8            Moscow  09:17:40     Friday  \n",
       "9  Saint-Petersburg  21:20:49  Wednesday  "
      ]
     },
     "execution_count": 3,
     "metadata": {},
     "output_type": "execute_result"
    }
   ],
   "source": [
    "df.head(10)"
   ]
  },
  {
   "cell_type": "code",
   "execution_count": 4,
   "metadata": {
    "deletable": false,
    "id": "DSf2kIb-_Zct"
   },
   "outputs": [
    {
     "name": "stdout",
     "output_type": "stream",
     "text": [
      "<class 'pandas.core.frame.DataFrame'>\n",
      "RangeIndex: 65079 entries, 0 to 65078\n",
      "Data columns (total 7 columns):\n",
      " #   Column    Non-Null Count  Dtype \n",
      "---  ------    --------------  ----- \n",
      " 0     userID  65079 non-null  object\n",
      " 1   Track     63848 non-null  object\n",
      " 2   artist    57876 non-null  object\n",
      " 3   genre     63881 non-null  object\n",
      " 4     City    65079 non-null  object\n",
      " 5   time      65079 non-null  object\n",
      " 6   Day       65079 non-null  object\n",
      "dtypes: object(7)\n",
      "memory usage: 3.5+ MB\n"
     ]
    }
   ],
   "source": [
    "df.info()"
   ]
  },
  {
   "cell_type": "markdown",
   "metadata": {
    "deletable": false,
    "editable": false,
    "id": "TaQ2Iwbr_Zct"
   },
   "source": [
    "Итак, в таблице семь столбцов. Тип данных во всех столбцах — `object`.\n",
    "\n",
    "Согласно документации к данным:\n",
    "* `userID` — идентификатор пользователя;\n",
    "* `Track` — название трека;  \n",
    "* `artist` — имя исполнителя;\n",
    "* `genre` — название жанра;\n",
    "* `City` — город пользователя;\n",
    "* `time` — время начала прослушивания;\n",
    "* `Day` — день недели.\n",
    "\n",
    "Количество значений в столбцах различается. Значит, в данных есть пропущенные значения."
   ]
  },
  {
   "cell_type": "markdown",
   "metadata": {
    "id": "4P0UCWzswgEm",
    "tags": [
     "start_task"
    ]
   },
   "source": [
    "В названиях колонок видны три нарушения стиля:\n",
    "1. Строчные буквы сочетаются с прописными.\n",
    "2. Встречаются пробелы."
   ]
  },
  {
   "cell_type": "markdown",
   "metadata": {
    "deletable": false,
    "editable": false,
    "id": "MCB6-dXG_Zct"
   },
   "source": [
    "**Выводы**\n",
    "\n",
    "В каждой строке таблицы — данные о прослушанном треке. Часть колонок описывает саму композицию: название, исполнителя и жанр. Остальные данные рассказывают о пользователе: из какого он города, когда он слушал музыку. \n",
    "\n",
    "Предварительно можно утверждать, что, данных достаточно для проверки гипотез. Но встречаются пропуски в данных, а в названиях колонок — расхождения с хорошим стилем.\n",
    "\n",
    "Чтобы двигаться дальше, нужно устранить проблемы в данных."
   ]
  },
  {
   "cell_type": "markdown",
   "metadata": {
    "id": "SjYF6Ub9_Zct"
   },
   "source": [
    "## Предобработка данных\n",
    "Исправлю стиль в заголовках столбцов, исключу пропуски. Затем проверю данные на дубликаты."
   ]
  },
  {
   "cell_type": "markdown",
   "metadata": {
    "id": "dIaKXr29_Zct",
    "tags": [
     "start_task"
    ]
   },
   "source": [
    "### Стиль заголовков\n"
   ]
  },
  {
   "cell_type": "code",
   "execution_count": 6,
   "metadata": {
    "deletable": false,
    "id": "oKOTdF_Q_Zct"
   },
   "outputs": [
    {
     "data": {
      "text/plain": [
       "Index(['  userID', 'Track', 'artist', 'genre', '  City  ', 'time', 'Day'], dtype='object')"
      ]
     },
     "execution_count": 6,
     "metadata": {},
     "output_type": "execute_result"
    }
   ],
   "source": [
    "df.columns"
   ]
  },
  {
   "cell_type": "code",
   "execution_count": 7,
   "metadata": {
    "deletable": false,
    "id": "ISlFqs5y_Zct"
   },
   "outputs": [],
   "source": [
    "df = df.rename(columns = {'  userID':'user_id', 'Track':'track','  City  ':'city' ,'Day':'day' })"
   ]
  },
  {
   "cell_type": "code",
   "execution_count": 8,
   "metadata": {
    "deletable": false,
    "id": "d4NOAmTW_Zct"
   },
   "outputs": [
    {
     "data": {
      "text/plain": [
       "Index(['user_id', 'track', 'artist', 'genre', 'city', 'time', 'day'], dtype='object')"
      ]
     },
     "execution_count": 8,
     "metadata": {},
     "output_type": "execute_result"
    }
   ],
   "source": [
    "df.columns"
   ]
  },
  {
   "cell_type": "markdown",
   "metadata": {
    "id": "5ISfbcfY_Zct",
    "tags": [
     "start_task"
    ]
   },
   "source": [
    "### Пропуски значений"
   ]
  },
  {
   "cell_type": "code",
   "execution_count": 9,
   "metadata": {
    "deletable": false,
    "id": "RskX29qr_Zct"
   },
   "outputs": [
    {
     "data": {
      "text/plain": [
       "user_id       0\n",
       "track      1231\n",
       "artist     7203\n",
       "genre      1198\n",
       "city          0\n",
       "time          0\n",
       "day           0\n",
       "dtype: int64"
      ]
     },
     "execution_count": 9,
     "metadata": {},
     "output_type": "execute_result"
    }
   ],
   "source": [
    "df.isna().sum()"
   ]
  },
  {
   "cell_type": "markdown",
   "metadata": {
    "deletable": false,
    "editable": false,
    "id": "qubhgnlO_Zct"
   },
   "source": [
    "Не все пропущенные значения влияют на исследование. Так в `track` и `artist` пропуски не важны для вашей работы. Достаточно заменить их явными обозначениями.\n",
    "\n",
    "Но пропуски в `genre` могут помешать сравнению музыкальных вкусов в Москве и Санкт-Петербурге. На практике было бы правильно установить причину пропусков и восстановить данные. Такой возможности нет в учебном проекте. Придётся:\n",
    "* заполнить и эти пропуски явными обозначениями,\n",
    "* оценить, насколько они повредят расчётам. "
   ]
  },
  {
   "cell_type": "code",
   "execution_count": 10,
   "metadata": {
    "deletable": false,
    "id": "KplB5qWs_Zct"
   },
   "outputs": [],
   "source": [
    "columns_to_replace = ['track', 'artist', 'genre']\n",
    "for column in columns_to_replace: \n",
    "    df[column] = df[column].fillna('unknown')"
   ]
  },
  {
   "cell_type": "code",
   "execution_count": 11,
   "metadata": {
    "deletable": false,
    "id": "Tq4nYRX4_Zct"
   },
   "outputs": [
    {
     "data": {
      "text/plain": [
       "user_id    0\n",
       "track      0\n",
       "artist     0\n",
       "genre      0\n",
       "city       0\n",
       "time       0\n",
       "day        0\n",
       "dtype: int64"
      ]
     },
     "execution_count": 11,
     "metadata": {},
     "output_type": "execute_result"
    }
   ],
   "source": [
    "df.isna().sum()"
   ]
  },
  {
   "cell_type": "markdown",
   "metadata": {
    "id": "BWKRtBJ3_Zct",
    "tags": [
     "start_task"
    ]
   },
   "source": [
    "### Дубликаты"
   ]
  },
  {
   "cell_type": "code",
   "execution_count": 12,
   "metadata": {
    "deletable": false,
    "id": "36eES_S0_Zct"
   },
   "outputs": [
    {
     "data": {
      "text/plain": [
       "3826"
      ]
     },
     "execution_count": 12,
     "metadata": {},
     "output_type": "execute_result"
    }
   ],
   "source": [
    "df.duplicated().sum()"
   ]
  },
  {
   "cell_type": "code",
   "execution_count": 13,
   "metadata": {
    "deletable": false,
    "id": "exFHq6tt_Zct"
   },
   "outputs": [],
   "source": [
    "df = df.drop_duplicates()"
   ]
  },
  {
   "cell_type": "code",
   "execution_count": 14,
   "metadata": {
    "deletable": false,
    "id": "-8PuNWQ0_Zct"
   },
   "outputs": [
    {
     "data": {
      "text/plain": [
       "0"
      ]
     },
     "execution_count": 14,
     "metadata": {},
     "output_type": "execute_result"
    }
   ],
   "source": [
    "df.duplicated().sum()"
   ]
  },
  {
   "cell_type": "markdown",
   "metadata": {},
   "source": [
    "С явными дубликатами разобралась, теперь проверю неявные дубликаты и устраню их, если потребуется"
   ]
  },
  {
   "cell_type": "code",
   "execution_count": 15,
   "metadata": {
    "deletable": false,
    "id": "JIUcqzZN_Zct",
    "scrolled": true
   },
   "outputs": [
    {
     "data": {
      "text/plain": [
       "array(['acid', 'acoustic', 'action', 'adult', 'africa', 'afrikaans',\n",
       "       'alternative', 'alternativepunk', 'ambient', 'americana',\n",
       "       'animated', 'anime', 'arabesk', 'arabic', 'arena',\n",
       "       'argentinetango', 'art', 'audiobook', 'author', 'avantgarde',\n",
       "       'axé', 'baile', 'balkan', 'beats', 'bigroom', 'black', 'bluegrass',\n",
       "       'blues', 'bollywood', 'bossa', 'brazilian', 'breakbeat', 'breaks',\n",
       "       'broadway', 'cantautori', 'cantopop', 'canzone', 'caribbean',\n",
       "       'caucasian', 'celtic', 'chamber', 'chanson', 'children', 'chill',\n",
       "       'chinese', 'choral', 'christian', 'christmas', 'classical',\n",
       "       'classicmetal', 'club', 'colombian', 'comedy', 'conjazz',\n",
       "       'contemporary', 'country', 'cuban', 'dance', 'dancehall',\n",
       "       'dancepop', 'dark', 'death', 'deep', 'deutschrock', 'deutschspr',\n",
       "       'dirty', 'disco', 'dnb', 'documentary', 'downbeat', 'downtempo',\n",
       "       'drum', 'dub', 'dubstep', 'eastern', 'easy', 'electronic',\n",
       "       'electropop', 'emo', 'entehno', 'epicmetal', 'estrada', 'ethnic',\n",
       "       'eurofolk', 'european', 'experimental', 'extrememetal', 'fado',\n",
       "       'fairytail', 'film', 'fitness', 'flamenco', 'folk', 'folklore',\n",
       "       'folkmetal', 'folkrock', 'folktronica', 'forró', 'frankreich',\n",
       "       'französisch', 'french', 'funk', 'future', 'gangsta', 'garage',\n",
       "       'german', 'ghazal', 'gitarre', 'glitch', 'gospel', 'gothic',\n",
       "       'grime', 'grunge', 'gypsy', 'handsup', \"hard'n'heavy\", 'hardcore',\n",
       "       'hardstyle', 'hardtechno', 'hip', 'hip-hop', 'hiphop',\n",
       "       'historisch', 'holiday', 'hop', 'horror', 'house', 'hymn', 'idm',\n",
       "       'independent', 'indian', 'indie', 'indipop', 'industrial',\n",
       "       'inspirational', 'instrumental', 'international', 'irish', 'jam',\n",
       "       'japanese', 'jazz', 'jewish', 'jpop', 'jungle', 'k-pop',\n",
       "       'karadeniz', 'karaoke', 'kayokyoku', 'korean', 'laiko', 'latin',\n",
       "       'latino', 'leftfield', 'local', 'lounge', 'loungeelectronic',\n",
       "       'lovers', 'malaysian', 'mandopop', 'marschmusik', 'meditative',\n",
       "       'mediterranean', 'melodic', 'metal', 'metalcore', 'mexican',\n",
       "       'middle', 'minimal', 'miscellaneous', 'modern', 'mood', 'mpb',\n",
       "       'muslim', 'native', 'neoklassik', 'neue', 'new', 'newage',\n",
       "       'newwave', 'nu', 'nujazz', 'numetal', 'oceania', 'old', 'opera',\n",
       "       'orchestral', 'other', 'piano', 'podcasts', 'pop', 'popdance',\n",
       "       'popelectronic', 'popeurodance', 'poprussian', 'post',\n",
       "       'posthardcore', 'postrock', 'power', 'progmetal', 'progressive',\n",
       "       'psychedelic', 'punjabi', 'punk', 'quebecois', 'ragga', 'ram',\n",
       "       'rancheras', 'rap', 'rave', 'reggae', 'reggaeton', 'regional',\n",
       "       'relax', 'religious', 'retro', 'rhythm', 'rnb', 'rnr', 'rock',\n",
       "       'rockabilly', 'rockalternative', 'rockindie', 'rockother',\n",
       "       'romance', 'roots', 'ruspop', 'rusrap', 'rusrock', 'russian',\n",
       "       'salsa', 'samba', 'scenic', 'schlager', 'self', 'sertanejo',\n",
       "       'shanson', 'shoegazing', 'showtunes', 'singer', 'ska', 'skarock',\n",
       "       'slow', 'smooth', 'soft', 'soul', 'soulful', 'sound', 'soundtrack',\n",
       "       'southern', 'specialty', 'speech', 'spiritual', 'sport',\n",
       "       'stonerrock', 'surf', 'swing', 'synthpop', 'synthrock',\n",
       "       'sängerportrait', 'tango', 'tanzorchester', 'taraftar', 'tatar',\n",
       "       'tech', 'techno', 'teen', 'thrash', 'top', 'traditional',\n",
       "       'tradjazz', 'trance', 'tribal', 'trip', 'triphop', 'tropical',\n",
       "       'türk', 'türkçe', 'ukrrock', 'unknown', 'urban', 'uzbek',\n",
       "       'variété', 'vi', 'videogame', 'vocal', 'western', 'world',\n",
       "       'worldbeat', 'ïîï', 'электроника'], dtype=object)"
      ]
     },
     "execution_count": 15,
     "metadata": {},
     "output_type": "execute_result"
    }
   ],
   "source": [
    "df['genre'].sort_values().unique()"
   ]
  },
  {
   "cell_type": "code",
   "execution_count": 16,
   "metadata": {
    "deletable": false,
    "id": "ErNDkmns_Zct"
   },
   "outputs": [],
   "source": [
    "df['genre'] = df['genre'].replace('hop','hiphop')\n",
    "df['genre'] = df['genre'].replace('hip-hop','hiphop')\n",
    "df['genre'] = df['genre'].replace('hip','hiphop')"
   ]
  },
  {
   "cell_type": "code",
   "execution_count": 17,
   "metadata": {
    "deletable": false,
    "id": "wvixALnFG15m",
    "scrolled": true
   },
   "outputs": [
    {
     "data": {
      "text/plain": [
       "array(['acid', 'acoustic', 'action', 'adult', 'africa', 'afrikaans',\n",
       "       'alternative', 'alternativepunk', 'ambient', 'americana',\n",
       "       'animated', 'anime', 'arabesk', 'arabic', 'arena',\n",
       "       'argentinetango', 'art', 'audiobook', 'author', 'avantgarde',\n",
       "       'axé', 'baile', 'balkan', 'beats', 'bigroom', 'black', 'bluegrass',\n",
       "       'blues', 'bollywood', 'bossa', 'brazilian', 'breakbeat', 'breaks',\n",
       "       'broadway', 'cantautori', 'cantopop', 'canzone', 'caribbean',\n",
       "       'caucasian', 'celtic', 'chamber', 'chanson', 'children', 'chill',\n",
       "       'chinese', 'choral', 'christian', 'christmas', 'classical',\n",
       "       'classicmetal', 'club', 'colombian', 'comedy', 'conjazz',\n",
       "       'contemporary', 'country', 'cuban', 'dance', 'dancehall',\n",
       "       'dancepop', 'dark', 'death', 'deep', 'deutschrock', 'deutschspr',\n",
       "       'dirty', 'disco', 'dnb', 'documentary', 'downbeat', 'downtempo',\n",
       "       'drum', 'dub', 'dubstep', 'eastern', 'easy', 'electronic',\n",
       "       'electropop', 'emo', 'entehno', 'epicmetal', 'estrada', 'ethnic',\n",
       "       'eurofolk', 'european', 'experimental', 'extrememetal', 'fado',\n",
       "       'fairytail', 'film', 'fitness', 'flamenco', 'folk', 'folklore',\n",
       "       'folkmetal', 'folkrock', 'folktronica', 'forró', 'frankreich',\n",
       "       'französisch', 'french', 'funk', 'future', 'gangsta', 'garage',\n",
       "       'german', 'ghazal', 'gitarre', 'glitch', 'gospel', 'gothic',\n",
       "       'grime', 'grunge', 'gypsy', 'handsup', \"hard'n'heavy\", 'hardcore',\n",
       "       'hardstyle', 'hardtechno', 'hiphop', 'historisch', 'holiday',\n",
       "       'horror', 'house', 'hymn', 'idm', 'independent', 'indian', 'indie',\n",
       "       'indipop', 'industrial', 'inspirational', 'instrumental',\n",
       "       'international', 'irish', 'jam', 'japanese', 'jazz', 'jewish',\n",
       "       'jpop', 'jungle', 'k-pop', 'karadeniz', 'karaoke', 'kayokyoku',\n",
       "       'korean', 'laiko', 'latin', 'latino', 'leftfield', 'local',\n",
       "       'lounge', 'loungeelectronic', 'lovers', 'malaysian', 'mandopop',\n",
       "       'marschmusik', 'meditative', 'mediterranean', 'melodic', 'metal',\n",
       "       'metalcore', 'mexican', 'middle', 'minimal', 'miscellaneous',\n",
       "       'modern', 'mood', 'mpb', 'muslim', 'native', 'neoklassik', 'neue',\n",
       "       'new', 'newage', 'newwave', 'nu', 'nujazz', 'numetal', 'oceania',\n",
       "       'old', 'opera', 'orchestral', 'other', 'piano', 'podcasts', 'pop',\n",
       "       'popdance', 'popelectronic', 'popeurodance', 'poprussian', 'post',\n",
       "       'posthardcore', 'postrock', 'power', 'progmetal', 'progressive',\n",
       "       'psychedelic', 'punjabi', 'punk', 'quebecois', 'ragga', 'ram',\n",
       "       'rancheras', 'rap', 'rave', 'reggae', 'reggaeton', 'regional',\n",
       "       'relax', 'religious', 'retro', 'rhythm', 'rnb', 'rnr', 'rock',\n",
       "       'rockabilly', 'rockalternative', 'rockindie', 'rockother',\n",
       "       'romance', 'roots', 'ruspop', 'rusrap', 'rusrock', 'russian',\n",
       "       'salsa', 'samba', 'scenic', 'schlager', 'self', 'sertanejo',\n",
       "       'shanson', 'shoegazing', 'showtunes', 'singer', 'ska', 'skarock',\n",
       "       'slow', 'smooth', 'soft', 'soul', 'soulful', 'sound', 'soundtrack',\n",
       "       'southern', 'specialty', 'speech', 'spiritual', 'sport',\n",
       "       'stonerrock', 'surf', 'swing', 'synthpop', 'synthrock',\n",
       "       'sängerportrait', 'tango', 'tanzorchester', 'taraftar', 'tatar',\n",
       "       'tech', 'techno', 'teen', 'thrash', 'top', 'traditional',\n",
       "       'tradjazz', 'trance', 'tribal', 'trip', 'triphop', 'tropical',\n",
       "       'türk', 'türkçe', 'ukrrock', 'unknown', 'urban', 'uzbek',\n",
       "       'variété', 'vi', 'videogame', 'vocal', 'western', 'world',\n",
       "       'worldbeat', 'ïîï', 'электроника'], dtype=object)"
      ]
     },
     "execution_count": 17,
     "metadata": {},
     "output_type": "execute_result"
    }
   ],
   "source": [
    "df['genre'].sort_values().unique()"
   ]
  },
  {
   "cell_type": "markdown",
   "metadata": {
    "id": "jz6a9-7HQUDd"
   },
   "source": [
    "**Выводы**\n",
    "\n",
    "Предобработка обнаружила три проблемы в данных:\n",
    "\n",
    "- нарушения в стиле заголовков,\n",
    "- пропущенные значения,\n",
    "- дубликаты — явные и неявные.\n",
    "\n",
    "Я исправила заголовки, чтобы упростить работу с таблицей. Без дубликатов исследование станет более точным.\n",
    "\n",
    "Пропущенные значения заменила на `'unknown'`. Ещё предстоит увидеть, не повредят ли исследованию пропуски в колонке `genre`.\n",
    "\n",
    "Теперь можно перейти к проверке гипотез. "
   ]
  },
  {
   "cell_type": "markdown",
   "metadata": {
    "deletable": false,
    "editable": false,
    "id": "WttZHXH0SqKk"
   },
   "source": [
    "## Проверка гипотез"
   ]
  },
  {
   "cell_type": "markdown",
   "metadata": {
    "deletable": false,
    "editable": false,
    "id": "Im936VVi_Zcu"
   },
   "source": [
    "### Сравнение поведения пользователей двух столиц"
   ]
  },
  {
   "cell_type": "markdown",
   "metadata": {
    "deletable": false,
    "editable": false,
    "id": "nwt_MuaL_Zcu"
   },
   "source": [
    "Первая гипотеза утверждает, что пользователи по-разному слушают музыку в Москве и Санкт-Петербурге. Проверьте это предположение по данным о трёх днях недели — понедельнике, среде и пятнице. Для этого:\n",
    "\n",
    "* Разделите пользователей Москвы и Санкт-Петербурга\n",
    "* Сравните, сколько треков послушала каждая группа пользователей в понедельник, среду и пятницу.\n"
   ]
  },
  {
   "cell_type": "code",
   "execution_count": 18,
   "metadata": {
    "deletable": false,
    "id": "0_Qs96oh_Zcu"
   },
   "outputs": [
    {
     "data": {
      "text/plain": [
       "city\n",
       "Moscow              42741\n",
       "Saint-Petersburg    18512\n",
       "Name: genre, dtype: int64"
      ]
     },
     "execution_count": 18,
     "metadata": {},
     "output_type": "execute_result"
    }
   ],
   "source": [
    "df.groupby('city')['genre'].count()# Подсчёт прослушиваний в каждом городе"
   ]
  },
  {
   "cell_type": "markdown",
   "metadata": {
    "id": "dzli3w8o_Zcu",
    "tags": [
     "start_task"
    ]
   },
   "source": [
    "В Москве прослушиваний больше, чем в Петербурге. Из этого не следует, что московские пользователи чаще слушают музыку. Просто самих пользователей в Москве больше."
   ]
  },
  {
   "cell_type": "code",
   "execution_count": 19,
   "metadata": {
    "deletable": false,
    "id": "uZMKjiJz_Zcu"
   },
   "outputs": [
    {
     "data": {
      "text/plain": [
       "day\n",
       "Friday       21840\n",
       "Monday       21354\n",
       "Wednesday    18059\n",
       "Name: genre, dtype: int64"
      ]
     },
     "execution_count": 19,
     "metadata": {},
     "output_type": "execute_result"
    }
   ],
   "source": [
    "df.groupby('day')['genre'].count()"
   ]
  },
  {
   "cell_type": "markdown",
   "metadata": {
    "deletable": false,
    "editable": false,
    "id": "cC2tNrlL_Zcu"
   },
   "source": [
    "В среднем пользователи из двух городов менее активны по средам. Но картина может измениться, если рассмотреть каждый город в отдельности."
   ]
  },
  {
   "cell_type": "code",
   "execution_count": 20,
   "metadata": {
    "deletable": false,
    "id": "Nz3GdQB1_Zcu"
   },
   "outputs": [],
   "source": [
    "def number_tracks(day, city):\n",
    "    track_list = df[df['day'] == day]\n",
    "    track_list = track_list[track_list['city'] == city]\n",
    "    track_list_count = track_list['user_id'].count()\n",
    "    return track_list_count"
   ]
  },
  {
   "cell_type": "markdown",
   "metadata": {
    "id": "ytf7xFrFJQ2r",
    "tags": [
     "start_task"
    ]
   },
   "source": [
    "Вызову `number_tracks()` шесть раз, меняя значение параметров — так, чтобы получить данные для каждого города в каждый из трёх дней."
   ]
  },
  {
   "cell_type": "code",
   "execution_count": 21,
   "metadata": {
    "deletable": false,
    "id": "rJcRATNQ_Zcu"
   },
   "outputs": [
    {
     "data": {
      "text/plain": [
       "15740"
      ]
     },
     "execution_count": 21,
     "metadata": {},
     "output_type": "execute_result"
    }
   ],
   "source": [
    "number_tracks('Monday','Moscow')"
   ]
  },
  {
   "cell_type": "code",
   "execution_count": 22,
   "metadata": {
    "deletable": false,
    "id": "hq_ncZ5T_Zcu"
   },
   "outputs": [
    {
     "data": {
      "text/plain": [
       "5614"
      ]
     },
     "execution_count": 22,
     "metadata": {},
     "output_type": "execute_result"
    }
   ],
   "source": [
    "number_tracks('Monday','Saint-Petersburg')"
   ]
  },
  {
   "cell_type": "code",
   "execution_count": 23,
   "metadata": {
    "deletable": false,
    "id": "_NTy2VPU_Zcu"
   },
   "outputs": [
    {
     "data": {
      "text/plain": [
       "11056"
      ]
     },
     "execution_count": 23,
     "metadata": {},
     "output_type": "execute_result"
    }
   ],
   "source": [
    "number_tracks('Wednesday','Moscow')"
   ]
  },
  {
   "cell_type": "code",
   "execution_count": 59,
   "metadata": {
    "deletable": false,
    "id": "j2y3TAwo_Zcu"
   },
   "outputs": [
    {
     "data": {
      "text/plain": [
       "7003"
      ]
     },
     "execution_count": 59,
     "metadata": {},
     "output_type": "execute_result"
    }
   ],
   "source": [
    "number_tracks('Wednesday','Saint-Petersburg')"
   ]
  },
  {
   "cell_type": "code",
   "execution_count": 60,
   "metadata": {
    "deletable": false,
    "id": "vYDw5u_K_Zcu"
   },
   "outputs": [
    {
     "data": {
      "text/plain": [
       "15945"
      ]
     },
     "execution_count": 60,
     "metadata": {},
     "output_type": "execute_result"
    }
   ],
   "source": [
    "number_tracks('Friday','Moscow')"
   ]
  },
  {
   "cell_type": "code",
   "execution_count": 61,
   "metadata": {
    "deletable": false,
    "id": "8_yzFtW3_Zcu"
   },
   "outputs": [
    {
     "data": {
      "text/plain": [
       "5895"
      ]
     },
     "execution_count": 61,
     "metadata": {},
     "output_type": "execute_result"
    }
   ],
   "source": [
    "number_tracks('Friday', 'Saint-Petersburg')"
   ]
  },
  {
   "cell_type": "code",
   "execution_count": 62,
   "metadata": {
    "deletable": false,
    "id": "APAcLpOr_Zcu"
   },
   "outputs": [
    {
     "data": {
      "text/html": [
       "<div>\n",
       "<style scoped>\n",
       "    .dataframe tbody tr th:only-of-type {\n",
       "        vertical-align: middle;\n",
       "    }\n",
       "\n",
       "    .dataframe tbody tr th {\n",
       "        vertical-align: top;\n",
       "    }\n",
       "\n",
       "    .dataframe thead th {\n",
       "        text-align: right;\n",
       "    }\n",
       "</style>\n",
       "<table border=\"1\" class=\"dataframe\">\n",
       "  <thead>\n",
       "    <tr style=\"text-align: right;\">\n",
       "      <th></th>\n",
       "      <th>city</th>\n",
       "      <th>monday</th>\n",
       "      <th>wednesday</th>\n",
       "      <th>friday</th>\n",
       "    </tr>\n",
       "  </thead>\n",
       "  <tbody>\n",
       "    <tr>\n",
       "      <th>0</th>\n",
       "      <td>Москва</td>\n",
       "      <td>15740</td>\n",
       "      <td>11056</td>\n",
       "      <td>15945</td>\n",
       "    </tr>\n",
       "    <tr>\n",
       "      <th>1</th>\n",
       "      <td>Санкт-Петербург</td>\n",
       "      <td>5895</td>\n",
       "      <td>7003</td>\n",
       "      <td>5614</td>\n",
       "    </tr>\n",
       "  </tbody>\n",
       "</table>\n",
       "</div>"
      ],
      "text/plain": [
       "              city  monday  wednesday  friday\n",
       "0           Москва   15740      11056   15945\n",
       "1  Санкт-Петербург    5895       7003    5614"
      ]
     },
     "execution_count": 62,
     "metadata": {},
     "output_type": "execute_result"
    }
   ],
   "source": [
    "info = pd.DataFrame(data=[['Москва', number_tracks('Monday','Moscow'), number_tracks('Wednesday','Moscow'), number_tracks('Friday','Moscow')], ['Санкт-Петербург', number_tracks('Friday', 'Saint-Petersburg'), number_tracks('Wednesday','Saint-Petersburg'), number_tracks('Monday','Saint-Petersburg')]], columns=['city', 'monday', 'wednesday', 'friday'])\n",
    "info "
   ]
  },
  {
   "cell_type": "markdown",
   "metadata": {
    "deletable": false,
    "editable": false,
    "id": "-EgPIHYu_Zcu"
   },
   "source": [
    "**Выводы**\n",
    "\n",
    "Данные показывают разницу поведения пользователей:\n",
    "\n",
    "- В Москве пик прослушиваний приходится на понедельник и пятницу, а в среду заметен спад.\n",
    "- В Петербурге, наоборот, больше слушают музыку по средам. Активность в понедельник и пятницу здесь почти в равной мере уступает среде.\n",
    "\n",
    "Значит, данные говорят в пользу первой гипотезы."
   ]
  },
  {
   "cell_type": "markdown",
   "metadata": {
    "deletable": false,
    "editable": false,
    "id": "atZAxtq4_Zcu"
   },
   "source": [
    "### Музыка в начале и в конце недели"
   ]
  },
  {
   "cell_type": "markdown",
   "metadata": {
    "deletable": false,
    "editable": false,
    "id": "eXrQqXFH_Zcu"
   },
   "source": [
    "Согласно второй гипотезе, утром в понедельник в Москве преобладают одни жанры, а в Петербурге — другие. Так же и вечером пятницы преобладают разные жанры — в зависимости от города."
   ]
  },
  {
   "cell_type": "code",
   "execution_count": 63,
   "metadata": {
    "deletable": false,
    "id": "qeaFfM_P_Zcu"
   },
   "outputs": [],
   "source": [
    "moscow_general = df[df['city'] == 'Moscow']"
   ]
  },
  {
   "cell_type": "code",
   "execution_count": 65,
   "metadata": {
    "deletable": false,
    "id": "ORaVRKto_Zcu"
   },
   "outputs": [],
   "source": [
    "spb_general = df[df['city'] == 'Saint-Petersburg']"
   ]
  },
  {
   "cell_type": "markdown",
   "metadata": {
    "id": "MEJV-CX2_Zcu",
    "tags": [
     "start_task"
    ]
   },
   "source": [
    "**Задание 24**\n",
    "\n",
    "Создайте функцию `genre_weekday()` с четырьмя параметрами:\n",
    "* таблица (датафрейм) с данными,\n",
    "* день недели,\n",
    "* начальная временная метка в формате 'hh:mm', \n",
    "* последняя временная метка в формате 'hh:mm'.\n",
    "\n",
    "Функция должна вернуть информацию о топ-10 жанров тех треков, которые прослушивали в указанный день, в промежутке между двумя отметками времени."
   ]
  },
  {
   "cell_type": "code",
   "execution_count": 66,
   "metadata": {
    "deletable": false,
    "id": "laJT9BYl_Zcu"
   },
   "outputs": [],
   "source": [
    "def genre_weekday(df, day, time1, time2):\n",
    "       \n",
    "    genre_df = df[df['day'] == day]\n",
    "    genre_df = genre_df[genre_df['time'] < time2]\n",
    "    genre_df = genre_df[genre_df['time'] > time1]\n",
    "    genre_df_grouped = genre_df.groupby('genre')['genre'].count()\n",
    "    genre_df_sorted = genre_df_grouped.sort_values(ascending=False)\n",
    "    return genre_df_sorted[:10] "
   ]
  },
  {
   "cell_type": "markdown",
   "metadata": {
    "id": "la2s2_PF_Zcu",
    "tags": [
     "start_task"
    ]
   },
   "source": [
    "Cравню результаты функции `genre_weekday()` для Москвы и Санкт-Петербурга в понедельник утром (с 7:00 до 11:00) и в пятницу вечером (с 17:00 до 23:00):"
   ]
  },
  {
   "cell_type": "code",
   "execution_count": 67,
   "metadata": {
    "deletable": false,
    "id": "yz7itPUQ_Zcu"
   },
   "outputs": [
    {
     "data": {
      "text/plain": [
       "genre\n",
       "pop            781\n",
       "dance          549\n",
       "electronic     480\n",
       "rock           474\n",
       "hiphop         286\n",
       "ruspop         186\n",
       "world          181\n",
       "rusrap         175\n",
       "alternative    164\n",
       "unknown        161\n",
       "Name: genre, dtype: int64"
      ]
     },
     "execution_count": 67,
     "metadata": {},
     "output_type": "execute_result"
    }
   ],
   "source": [
    "genre_weekday(moscow_general, 'Monday', '07:00', '11:00')"
   ]
  },
  {
   "cell_type": "code",
   "execution_count": 68,
   "metadata": {
    "deletable": false,
    "id": "kwUcHPdy_Zcu"
   },
   "outputs": [
    {
     "data": {
      "text/plain": [
       "genre\n",
       "pop            218\n",
       "dance          182\n",
       "rock           162\n",
       "electronic     147\n",
       "hiphop          80\n",
       "ruspop          64\n",
       "alternative     58\n",
       "rusrap          55\n",
       "jazz            44\n",
       "classical       40\n",
       "Name: genre, dtype: int64"
      ]
     },
     "execution_count": 68,
     "metadata": {},
     "output_type": "execute_result"
    }
   ],
   "source": [
    "genre_weekday(spb_general, 'Monday', '07:00', '11:00')"
   ]
  },
  {
   "cell_type": "code",
   "execution_count": 69,
   "metadata": {
    "deletable": false,
    "id": "EzXVRE1o_Zcu"
   },
   "outputs": [
    {
     "data": {
      "text/plain": [
       "genre\n",
       "pop            713\n",
       "rock           517\n",
       "dance          495\n",
       "electronic     482\n",
       "hiphop         273\n",
       "world          208\n",
       "ruspop         170\n",
       "alternative    163\n",
       "classical      163\n",
       "rusrap         142\n",
       "Name: genre, dtype: int64"
      ]
     },
     "execution_count": 69,
     "metadata": {},
     "output_type": "execute_result"
    }
   ],
   "source": [
    "genre_weekday(moscow_general, 'Friday', '17:00', '23:00')"
   ]
  },
  {
   "cell_type": "code",
   "execution_count": 70,
   "metadata": {
    "deletable": false,
    "id": "JZaEKu5v_Zcu"
   },
   "outputs": [
    {
     "data": {
      "text/plain": [
       "genre\n",
       "pop            256\n",
       "electronic     216\n",
       "rock           216\n",
       "dance          210\n",
       "hiphop          97\n",
       "alternative     63\n",
       "jazz            61\n",
       "classical       60\n",
       "rusrap          59\n",
       "world           54\n",
       "Name: genre, dtype: int64"
      ]
     },
     "execution_count": 70,
     "metadata": {},
     "output_type": "execute_result"
    }
   ],
   "source": [
    "genre_weekday(spb_general, 'Friday', '17:00', '23:00')"
   ]
  },
  {
   "cell_type": "markdown",
   "metadata": {
    "deletable": false,
    "editable": false,
    "id": "wrCe4MNX_Zcu"
   },
   "source": [
    "**Выводы**\n",
    "\n",
    "Если сравнить топ-10 жанров в понедельник утром, можно сделать такие выводы:\n",
    "\n",
    "1. В Москве и Петербурге слушают похожую музыку. Единственное отличие — в московский рейтинг вошёл жанр “world”, а в петербургский — джаз и классика.\n",
    "\n",
    "2. В Москве пропущенных значений оказалось так много, что значение `'unknown'` заняло десятое место среди самых популярных жанров. Значит, пропущенные значения занимают существенную долю в данных и угрожают достоверности исследования.\n",
    "\n",
    "Вечер пятницы не меняет эту картину. Некоторые жанры поднимаются немного выше, другие спускаются, но в целом топ-10 остаётся тем же самым.\n",
    "\n",
    "Таким образом, вторая гипотеза подтвердилась лишь частично:\n",
    "* Пользователи слушают похожую музыку в начале недели и в конце.\n",
    "* Разница между Москвой и Петербургом не слишком выражена. В Москве чаще слушают русскую популярную музыку, в Петербурге — джаз.\n",
    "\n",
    "Однако пропуски в данных ставят под сомнение этот результат. В Москве их так много, что рейтинг топ-10 мог бы выглядеть иначе, если бы не утерянные  данные о жанрах."
   ]
  },
  {
   "cell_type": "markdown",
   "metadata": {
    "deletable": false,
    "editable": false,
    "id": "JolODAqr_Zcu"
   },
   "source": [
    "### Жанровые предпочтения в Москве и Петербурге\n",
    "\n",
    "Гипотеза: Петербург — столица рэпа, музыку этого жанра там слушают чаще, чем в Москве.  А Москва — город контрастов, в котором, тем не менее, преобладает поп-музыка."
   ]
  },
  {
   "cell_type": "code",
   "execution_count": 71,
   "metadata": {
    "deletable": false,
    "id": "r19lIPke_Zcu"
   },
   "outputs": [],
   "source": [
    "moscow_genres = moscow_general.groupby('genre')['genre'].count()\n",
    "\n",
    "moscow_genres = moscow_genres.sort_values(ascending=False)"
   ]
  },
  {
   "cell_type": "code",
   "execution_count": 72,
   "metadata": {
    "deletable": false,
    "id": "WhCSooF8_Zcv"
   },
   "outputs": [
    {
     "data": {
      "text/plain": [
       "genre\n",
       "pop            5892\n",
       "dance          4435\n",
       "rock           3965\n",
       "electronic     3786\n",
       "hiphop         2096\n",
       "classical      1616\n",
       "world          1432\n",
       "alternative    1379\n",
       "ruspop         1372\n",
       "rusrap         1161\n",
       "Name: genre, dtype: int64"
      ]
     },
     "execution_count": 72,
     "metadata": {},
     "output_type": "execute_result"
    }
   ],
   "source": [
    "moscow_genres.head(10)"
   ]
  },
  {
   "cell_type": "code",
   "execution_count": 73,
   "metadata": {
    "deletable": false,
    "id": "gluLIpE7_Zcv"
   },
   "outputs": [],
   "source": [
    "spb_genres = spb_general.groupby('genre')['genre'].count()\n",
    "spb_genres = spb_genres.sort_values(ascending=False)"
   ]
  },
  {
   "cell_type": "code",
   "execution_count": 74,
   "metadata": {
    "deletable": false,
    "id": "uaGJHjVU_Zcv"
   },
   "outputs": [
    {
     "data": {
      "text/plain": [
       "genre\n",
       "pop            2431\n",
       "dance          1932\n",
       "rock           1879\n",
       "electronic     1736\n",
       "hiphop          960\n",
       "alternative     649\n",
       "classical       646\n",
       "rusrap          564\n",
       "ruspop          538\n",
       "world           515\n",
       "Name: genre, dtype: int64"
      ]
     },
     "execution_count": 74,
     "metadata": {},
     "output_type": "execute_result"
    }
   ],
   "source": [
    "spb_genres.head(10)"
   ]
  },
  {
   "cell_type": "markdown",
   "metadata": {
    "deletable": false,
    "editable": false,
    "id": "RY51YJYu_Zcv"
   },
   "source": [
    "**Выводы**"
   ]
  },
  {
   "cell_type": "markdown",
   "metadata": {
    "deletable": false,
    "editable": false,
    "id": "nVhnJEm__Zcv"
   },
   "source": [
    "Гипотеза частично подтвердилась:\n",
    "* Поп-музыка — самый популярный жанр в Москве, как и предполагала гипотеза. Более того, в топ-10 жанров встречается близкий жанр — русская популярная музыка.\n",
    "* Вопреки ожиданиям, рэп одинаково популярен в Москве и Петербурге. \n"
   ]
  },
  {
   "cell_type": "markdown",
   "metadata": {
    "deletable": false,
    "editable": false,
    "id": "ykKQ0N65_Zcv"
   },
   "source": [
    "## Итоги исследования"
   ]
  },
  {
   "cell_type": "markdown",
   "metadata": {
    "id": "tjUwbHb3_Zcv"
   },
   "source": [
    "Я проверила три гипотезы и установила:\n",
    "\n",
    "1. День недели по-разному влияет на активность пользователей в Москве и Петербурге. \n",
    "\n",
    "Первая гипотеза полностью подтвердилась.\n",
    "\n",
    "2. Музыкальные предпочтения не сильно меняются в течение недели — будь то Москва или Петербург. Небольшие различия заметны в начале недели, по понедельникам:\n",
    "* в Москве слушают музыку жанра “world”,\n",
    "* в Петербурге — джаз и классику.\n",
    "\n",
    "Таким образом, вторая гипотеза подтвердилась лишь отчасти. Этот результат мог оказаться иным, если бы не пропуски в данных.\n",
    "\n",
    "3. Во вкусах пользователей Москвы и Петербурга больше общего чем различий. Вопреки ожиданиям, предпочтения жанров в Петербурге напоминают московские.\n",
    "\n",
    "Третья гипотеза не подтвердилась. Если различия в предпочтениях и существуют, на основной массе пользователей они незаметны.\n",
    "\n",
    "**На практике исследования содержат проверки статистических гипотез.**\n",
    "Из данных одного сервиса не всегда можно сделать вывод о всех жителях города.\n",
    "Проверки статистических гипотез покажут, насколько они достоверны, исходя из имеющихся данных. \n",
    "С методами проверок гипотез вы ещё познакомитесь в следующих темах."
   ]
  }
 ],
 "metadata": {
  "ExecuteTimeLog": [
   {
    "duration": 410,
    "start_time": "2023-06-24T12:54:28.144Z"
   },
   {
    "duration": 67,
    "start_time": "2023-06-24T12:54:58.441Z"
   },
   {
    "duration": 69,
    "start_time": "2023-06-24T12:55:08.330Z"
   },
   {
    "duration": 521,
    "start_time": "2023-06-24T12:56:17.273Z"
   },
   {
    "duration": 34,
    "start_time": "2023-06-24T13:07:25.994Z"
   },
   {
    "duration": 29,
    "start_time": "2023-06-24T13:15:40.511Z"
   },
   {
    "duration": 35,
    "start_time": "2023-06-24T13:22:29.109Z"
   },
   {
    "duration": 4,
    "start_time": "2023-06-24T13:24:23.929Z"
   },
   {
    "duration": 4,
    "start_time": "2023-06-24T13:24:51.243Z"
   },
   {
    "duration": 4,
    "start_time": "2023-06-24T13:24:54.868Z"
   },
   {
    "duration": 32,
    "start_time": "2023-06-24T13:26:41.742Z"
   },
   {
    "duration": 44,
    "start_time": "2023-06-24T13:27:01.315Z"
   },
   {
    "duration": 41,
    "start_time": "2023-06-24T13:27:14.407Z"
   },
   {
    "duration": 1318,
    "start_time": "2023-06-24T13:31:22.664Z"
   },
   {
    "duration": 25,
    "start_time": "2023-06-24T13:31:51.028Z"
   },
   {
    "duration": 121,
    "start_time": "2023-06-24T13:32:59.715Z"
   },
   {
    "duration": 88,
    "start_time": "2023-06-24T13:34:45.543Z"
   },
   {
    "duration": 96,
    "start_time": "2023-06-24T13:35:05.932Z"
   },
   {
    "duration": 87,
    "start_time": "2023-06-24T13:36:08.258Z"
   },
   {
    "duration": 69,
    "start_time": "2023-06-24T13:36:15.838Z"
   },
   {
    "duration": 77,
    "start_time": "2023-06-24T13:36:19.537Z"
   },
   {
    "duration": 65,
    "start_time": "2023-06-24T13:37:00.944Z"
   },
   {
    "duration": 64,
    "start_time": "2023-06-24T13:43:12.700Z"
   },
   {
    "duration": 6,
    "start_time": "2023-06-24T13:46:23.602Z"
   },
   {
    "duration": 7,
    "start_time": "2023-06-24T13:47:32.672Z"
   },
   {
    "duration": 43,
    "start_time": "2023-06-24T13:51:43.312Z"
   },
   {
    "duration": 8,
    "start_time": "2023-06-24T14:30:57.281Z"
   },
   {
    "duration": 15,
    "start_time": "2023-06-24T14:33:44.171Z"
   },
   {
    "duration": 11,
    "start_time": "2023-06-24T14:34:41.844Z"
   },
   {
    "duration": 12,
    "start_time": "2023-06-24T14:34:47.759Z"
   },
   {
    "duration": 12,
    "start_time": "2023-06-24T14:34:55.696Z"
   },
   {
    "duration": 12,
    "start_time": "2023-06-24T14:56:56.427Z"
   },
   {
    "duration": 11,
    "start_time": "2023-06-24T15:08:45.390Z"
   },
   {
    "duration": 14,
    "start_time": "2023-06-24T15:09:12.068Z"
   },
   {
    "duration": 17,
    "start_time": "2023-06-24T15:09:15.108Z"
   },
   {
    "duration": 13,
    "start_time": "2023-06-24T15:13:59.926Z"
   },
   {
    "duration": 11,
    "start_time": "2023-06-24T15:14:06.086Z"
   },
   {
    "duration": 12,
    "start_time": "2023-06-24T15:14:10.216Z"
   },
   {
    "duration": 8,
    "start_time": "2023-06-24T15:14:15.821Z"
   },
   {
    "duration": 924,
    "start_time": "2023-06-24T15:14:20.448Z"
   },
   {
    "duration": 5,
    "start_time": "2023-06-24T15:14:34.901Z"
   },
   {
    "duration": 10,
    "start_time": "2023-06-24T15:14:37.133Z"
   },
   {
    "duration": 8,
    "start_time": "2023-06-24T15:14:45.896Z"
   },
   {
    "duration": 10,
    "start_time": "2023-06-24T15:15:01.906Z"
   },
   {
    "duration": 5,
    "start_time": "2023-06-24T15:15:07.353Z"
   },
   {
    "duration": 4,
    "start_time": "2023-06-24T15:15:11.066Z"
   },
   {
    "duration": 5,
    "start_time": "2023-06-24T15:15:14.148Z"
   },
   {
    "duration": 120,
    "start_time": "2023-06-24T18:04:43.653Z"
   },
   {
    "duration": 427,
    "start_time": "2023-06-24T18:05:07.008Z"
   },
   {
    "duration": 6,
    "start_time": "2023-06-24T18:05:54.702Z"
   },
   {
    "duration": 6,
    "start_time": "2023-06-24T18:06:06.287Z"
   },
   {
    "duration": 8,
    "start_time": "2023-06-24T18:07:21.878Z"
   },
   {
    "duration": 3,
    "start_time": "2023-06-24T18:07:26.232Z"
   },
   {
    "duration": 4,
    "start_time": "2023-06-24T18:07:28.308Z"
   },
   {
    "duration": 4,
    "start_time": "2023-06-24T18:13:47.116Z"
   },
   {
    "duration": 6,
    "start_time": "2023-06-24T18:27:42.912Z"
   },
   {
    "duration": 4,
    "start_time": "2023-06-24T18:27:55.734Z"
   },
   {
    "duration": 49,
    "start_time": "2023-06-25T09:09:38.621Z"
   },
   {
    "duration": 6,
    "start_time": "2023-06-25T09:10:12.762Z"
   },
   {
    "duration": 6,
    "start_time": "2023-06-25T09:10:19.322Z"
   },
   {
    "duration": 429,
    "start_time": "2023-06-25T09:10:24.121Z"
   },
   {
    "duration": 465,
    "start_time": "2023-06-25T09:10:27.690Z"
   },
   {
    "duration": 181,
    "start_time": "2023-06-25T09:10:31.962Z"
   },
   {
    "duration": 18,
    "start_time": "2023-06-25T09:10:35.810Z"
   },
   {
    "duration": 27,
    "start_time": "2023-06-25T09:10:41.778Z"
   },
   {
    "duration": 4,
    "start_time": "2023-06-25T09:10:57.343Z"
   },
   {
    "duration": 30,
    "start_time": "2023-06-25T09:11:01.810Z"
   },
   {
    "duration": 5,
    "start_time": "2023-06-25T09:11:09.931Z"
   },
   {
    "duration": 23,
    "start_time": "2023-06-25T09:11:15.460Z"
   },
   {
    "duration": 1071,
    "start_time": "2023-06-25T09:11:25.572Z"
   },
   {
    "duration": 990,
    "start_time": "2023-06-25T09:11:31.621Z"
   },
   {
    "duration": 37,
    "start_time": "2023-06-25T09:12:26.760Z"
   },
   {
    "duration": 11,
    "start_time": "2023-06-25T09:13:03.725Z"
   },
   {
    "duration": 4,
    "start_time": "2023-06-25T09:13:07.121Z"
   },
   {
    "duration": 24,
    "start_time": "2023-06-25T09:13:15.130Z"
   },
   {
    "duration": 19,
    "start_time": "2023-06-25T09:13:20.071Z"
   },
   {
    "duration": 19,
    "start_time": "2023-06-25T09:13:25.535Z"
   },
   {
    "duration": 36,
    "start_time": "2023-06-25T09:13:29.664Z"
   },
   {
    "duration": 95,
    "start_time": "2023-06-25T09:13:33.858Z"
   },
   {
    "duration": 68,
    "start_time": "2023-06-25T09:13:39.820Z"
   },
   {
    "duration": 87,
    "start_time": "2023-06-25T09:13:43.448Z"
   },
   {
    "duration": 52,
    "start_time": "2023-06-25T09:13:53.109Z"
   },
   {
    "duration": 10,
    "start_time": "2023-06-25T09:14:01.029Z"
   },
   {
    "duration": 36,
    "start_time": "2023-06-25T09:14:10.522Z"
   },
   {
    "duration": 13,
    "start_time": "2023-06-25T09:14:30.683Z"
   },
   {
    "duration": 11,
    "start_time": "2023-06-25T09:14:52.857Z"
   },
   {
    "duration": 4,
    "start_time": "2023-06-25T09:15:19.112Z"
   },
   {
    "duration": 8,
    "start_time": "2023-06-25T09:18:56.276Z"
   },
   {
    "duration": 8,
    "start_time": "2023-06-25T09:19:18.075Z"
   },
   {
    "duration": 8,
    "start_time": "2023-06-25T09:20:11.335Z"
   },
   {
    "duration": 8,
    "start_time": "2023-06-25T09:20:13.516Z"
   },
   {
    "duration": 8,
    "start_time": "2023-06-25T09:20:14.760Z"
   },
   {
    "duration": 8,
    "start_time": "2023-06-25T09:20:17.492Z"
   },
   {
    "duration": 11,
    "start_time": "2023-06-25T09:21:48.295Z"
   },
   {
    "duration": 11,
    "start_time": "2023-06-25T09:21:58.923Z"
   },
   {
    "duration": 13,
    "start_time": "2023-06-25T09:22:00.508Z"
   },
   {
    "duration": 8,
    "start_time": "2023-06-25T09:23:02.006Z"
   },
   {
    "duration": 14,
    "start_time": "2023-06-25T09:25:02.376Z"
   },
   {
    "duration": 9,
    "start_time": "2023-06-25T09:25:29.648Z"
   },
   {
    "duration": 5,
    "start_time": "2023-06-25T09:26:25.047Z"
   },
   {
    "duration": 8,
    "start_time": "2023-06-25T09:26:34.194Z"
   },
   {
    "duration": 11,
    "start_time": "2023-06-25T09:26:36.442Z"
   },
   {
    "duration": 11,
    "start_time": "2023-06-25T09:26:51.447Z"
   },
   {
    "duration": 12,
    "start_time": "2023-06-25T09:27:22.786Z"
   },
   {
    "duration": 12,
    "start_time": "2023-06-25T09:27:31.068Z"
   },
   {
    "duration": 13,
    "start_time": "2023-06-25T09:27:56.508Z"
   },
   {
    "duration": 11,
    "start_time": "2023-06-25T09:51:30.418Z"
   },
   {
    "duration": 8,
    "start_time": "2023-06-25T09:51:44.000Z"
   },
   {
    "duration": 5,
    "start_time": "2023-06-25T11:44:49.778Z"
   },
   {
    "duration": 26,
    "start_time": "2023-06-25T11:44:55.526Z"
   },
   {
    "duration": 21,
    "start_time": "2023-06-25T11:44:58.078Z"
   },
   {
    "duration": 17,
    "start_time": "2023-06-25T11:45:01.959Z"
   },
   {
    "duration": 24,
    "start_time": "2023-06-25T11:45:04.849Z"
   },
   {
    "duration": 23,
    "start_time": "2023-06-25T11:45:06.980Z"
   },
   {
    "duration": 12,
    "start_time": "2023-06-25T11:52:28.983Z"
   },
   {
    "duration": 12,
    "start_time": "2023-06-25T11:52:45.513Z"
   },
   {
    "duration": 10,
    "start_time": "2023-06-25T11:54:29.696Z"
   },
   {
    "duration": 8,
    "start_time": "2023-06-25T11:54:34.861Z"
   },
   {
    "duration": 74,
    "start_time": "2023-06-25T12:00:43.524Z"
   },
   {
    "duration": 67,
    "start_time": "2023-06-25T12:04:00.747Z"
   },
   {
    "duration": 20,
    "start_time": "2023-06-25T12:04:16.731Z"
   },
   {
    "duration": 21,
    "start_time": "2023-06-25T12:04:58.905Z"
   },
   {
    "duration": 6,
    "start_time": "2023-06-25T12:14:35.351Z"
   },
   {
    "duration": 5,
    "start_time": "2023-06-25T12:16:42.083Z"
   },
   {
    "duration": 6,
    "start_time": "2023-06-25T12:18:52.130Z"
   },
   {
    "duration": 5,
    "start_time": "2023-06-25T12:24:06.145Z"
   },
   {
    "duration": 5,
    "start_time": "2023-06-25T12:30:17.082Z"
   },
   {
    "duration": 29,
    "start_time": "2023-06-25T12:34:49.599Z"
   },
   {
    "duration": 16,
    "start_time": "2023-06-25T12:34:56.583Z"
   },
   {
    "duration": 21,
    "start_time": "2023-06-25T12:35:01.134Z"
   },
   {
    "duration": 15,
    "start_time": "2023-06-25T12:35:07.588Z"
   },
   {
    "duration": 25,
    "start_time": "2023-06-25T12:35:10.330Z"
   },
   {
    "duration": 14,
    "start_time": "2023-06-25T12:35:40.842Z"
   },
   {
    "duration": 11,
    "start_time": "2023-06-25T12:40:29.739Z"
   },
   {
    "duration": 6,
    "start_time": "2023-06-25T12:41:09.093Z"
   },
   {
    "duration": 8,
    "start_time": "2023-06-25T12:43:33.688Z"
   },
   {
    "duration": 65,
    "start_time": "2023-06-25T15:01:05.380Z"
   },
   {
    "duration": 6,
    "start_time": "2023-06-25T15:01:36.025Z"
   },
   {
    "duration": 5,
    "start_time": "2023-06-25T15:01:39.392Z"
   },
   {
    "duration": 6,
    "start_time": "2023-06-25T15:02:08.789Z"
   },
   {
    "duration": 7,
    "start_time": "2023-06-25T15:02:24.199Z"
   },
   {
    "duration": 4,
    "start_time": "2023-06-25T15:02:36.947Z"
   },
   {
    "duration": 8,
    "start_time": "2023-06-25T15:02:39.794Z"
   },
   {
    "duration": 6,
    "start_time": "2023-06-25T15:02:58.565Z"
   },
   {
    "duration": 408,
    "start_time": "2023-06-25T15:03:04.945Z"
   },
   {
    "duration": 434,
    "start_time": "2023-06-25T15:03:06.791Z"
   },
   {
    "duration": 16,
    "start_time": "2023-06-25T15:03:08.295Z"
   },
   {
    "duration": 28,
    "start_time": "2023-06-25T15:03:12.343Z"
   },
   {
    "duration": 2,
    "start_time": "2023-06-25T15:03:16.868Z"
   },
   {
    "duration": 4,
    "start_time": "2023-06-25T15:03:20.338Z"
   },
   {
    "duration": 12,
    "start_time": "2023-06-25T15:03:24.000Z"
   },
   {
    "duration": 4,
    "start_time": "2023-06-25T15:03:25.221Z"
   },
   {
    "duration": 25,
    "start_time": "2023-06-25T15:03:27.150Z"
   },
   {
    "duration": 22,
    "start_time": "2023-06-25T15:03:29.779Z"
   },
   {
    "duration": 21,
    "start_time": "2023-06-25T15:03:31.494Z"
   },
   {
    "duration": 64,
    "start_time": "2023-06-25T15:03:33.762Z"
   },
   {
    "duration": 67,
    "start_time": "2023-06-25T15:03:35.363Z"
   },
   {
    "duration": 64,
    "start_time": "2023-06-25T15:03:38.393Z"
   },
   {
    "duration": 35,
    "start_time": "2023-06-25T15:03:42.842Z"
   },
   {
    "duration": 9,
    "start_time": "2023-06-25T15:03:45.305Z"
   },
   {
    "duration": 35,
    "start_time": "2023-06-25T15:03:46.710Z"
   },
   {
    "duration": 16,
    "start_time": "2023-06-25T15:03:51.022Z"
   },
   {
    "duration": 12,
    "start_time": "2023-06-25T15:03:56.284Z"
   },
   {
    "duration": 4,
    "start_time": "2023-06-25T15:03:59.537Z"
   },
   {
    "duration": 20,
    "start_time": "2023-06-25T15:04:00.985Z"
   },
   {
    "duration": 17,
    "start_time": "2023-06-25T15:04:02.154Z"
   },
   {
    "duration": 15,
    "start_time": "2023-06-25T15:04:02.948Z"
   },
   {
    "duration": 16,
    "start_time": "2023-06-25T15:04:03.806Z"
   },
   {
    "duration": 19,
    "start_time": "2023-06-25T15:04:04.592Z"
   },
   {
    "duration": 15,
    "start_time": "2023-06-25T15:04:05.274Z"
   },
   {
    "duration": 76,
    "start_time": "2023-06-25T15:04:10.881Z"
   },
   {
    "duration": 3,
    "start_time": "2023-06-25T15:06:40.993Z"
   },
   {
    "duration": 167,
    "start_time": "2023-06-25T15:06:41.807Z"
   },
   {
    "duration": 10,
    "start_time": "2023-06-25T15:06:42.219Z"
   },
   {
    "duration": 26,
    "start_time": "2023-06-25T15:06:42.530Z"
   },
   {
    "duration": 3,
    "start_time": "2023-06-25T15:06:42.938Z"
   },
   {
    "duration": 7,
    "start_time": "2023-06-25T15:06:43.513Z"
   },
   {
    "duration": 7,
    "start_time": "2023-06-25T15:06:43.813Z"
   },
   {
    "duration": 4,
    "start_time": "2023-06-25T15:06:44.148Z"
   },
   {
    "duration": 23,
    "start_time": "2023-06-25T15:06:44.429Z"
   },
   {
    "duration": 17,
    "start_time": "2023-06-25T15:06:44.868Z"
   },
   {
    "duration": 24,
    "start_time": "2023-06-25T15:06:45.350Z"
   },
   {
    "duration": 64,
    "start_time": "2023-06-25T15:06:45.606Z"
   },
   {
    "duration": 72,
    "start_time": "2023-06-25T15:06:46.115Z"
   },
   {
    "duration": 58,
    "start_time": "2023-06-25T15:06:46.401Z"
   },
   {
    "duration": 33,
    "start_time": "2023-06-25T15:06:46.876Z"
   },
   {
    "duration": 9,
    "start_time": "2023-06-25T15:06:47.191Z"
   },
   {
    "duration": 34,
    "start_time": "2023-06-25T15:06:47.529Z"
   },
   {
    "duration": 11,
    "start_time": "2023-06-25T15:06:48.540Z"
   },
   {
    "duration": 10,
    "start_time": "2023-06-25T15:06:50.660Z"
   },
   {
    "duration": 3,
    "start_time": "2023-06-25T15:06:51.130Z"
   },
   {
    "duration": 16,
    "start_time": "2023-06-25T15:06:51.413Z"
   },
   {
    "duration": 15,
    "start_time": "2023-06-25T15:06:51.563Z"
   },
   {
    "duration": 15,
    "start_time": "2023-06-25T15:06:51.713Z"
   },
   {
    "duration": 17,
    "start_time": "2023-06-25T15:06:51.882Z"
   },
   {
    "duration": 16,
    "start_time": "2023-06-25T15:06:52.725Z"
   },
   {
    "duration": 15,
    "start_time": "2023-06-25T15:06:52.985Z"
   },
   {
    "duration": 70,
    "start_time": "2023-06-25T15:06:53.832Z"
   },
   {
    "duration": 10,
    "start_time": "2023-06-25T15:06:56.260Z"
   },
   {
    "duration": 9,
    "start_time": "2023-06-25T15:06:57.343Z"
   },
   {
    "duration": 10,
    "start_time": "2023-06-25T15:07:05.713Z"
   },
   {
    "duration": 5,
    "start_time": "2023-06-25T15:08:26.484Z"
   },
   {
    "duration": 17,
    "start_time": "2023-06-25T15:08:48.891Z"
   },
   {
    "duration": 11,
    "start_time": "2023-06-25T15:09:06.882Z"
   },
   {
    "duration": 18,
    "start_time": "2023-06-25T15:09:13.938Z"
   },
   {
    "duration": 13,
    "start_time": "2023-06-25T15:09:19.837Z"
   },
   {
    "duration": 8,
    "start_time": "2023-06-25T15:11:11.157Z"
   },
   {
    "duration": 4,
    "start_time": "2023-06-25T15:11:27.748Z"
   },
   {
    "duration": 6,
    "start_time": "2023-06-25T15:11:31.311Z"
   },
   {
    "duration": 4,
    "start_time": "2023-06-25T15:11:32.685Z"
   },
   {
    "duration": 413,
    "start_time": "2023-07-06T08:13:59.162Z"
   },
   {
    "duration": 216,
    "start_time": "2023-07-06T08:13:59.607Z"
   },
   {
    "duration": 16,
    "start_time": "2023-07-06T08:13:59.960Z"
   },
   {
    "duration": 29,
    "start_time": "2023-07-06T08:14:00.285Z"
   },
   {
    "duration": 2,
    "start_time": "2023-07-06T08:14:00.760Z"
   },
   {
    "duration": 4,
    "start_time": "2023-07-06T08:14:01.320Z"
   },
   {
    "duration": 11,
    "start_time": "2023-07-06T08:14:01.632Z"
   },
   {
    "duration": 4,
    "start_time": "2023-07-06T08:14:01.892Z"
   },
   {
    "duration": 38,
    "start_time": "2023-07-06T08:14:02.232Z"
   },
   {
    "duration": 20,
    "start_time": "2023-07-06T08:14:02.712Z"
   },
   {
    "duration": 24,
    "start_time": "2023-07-06T08:14:03.048Z"
   },
   {
    "duration": 65,
    "start_time": "2023-07-06T08:14:03.330Z"
   },
   {
    "duration": 70,
    "start_time": "2023-07-06T08:14:03.675Z"
   },
   {
    "duration": 56,
    "start_time": "2023-07-06T08:14:03.994Z"
   },
   {
    "duration": 37,
    "start_time": "2023-07-06T08:14:04.510Z"
   },
   {
    "duration": 9,
    "start_time": "2023-07-06T08:14:05.034Z"
   },
   {
    "duration": 37,
    "start_time": "2023-07-06T08:14:05.406Z"
   },
   {
    "duration": 10,
    "start_time": "2023-07-06T08:14:07.160Z"
   },
   {
    "duration": 11,
    "start_time": "2023-07-06T08:14:09.279Z"
   },
   {
    "duration": 5,
    "start_time": "2023-07-06T08:14:10.681Z"
   },
   {
    "duration": 17,
    "start_time": "2023-07-06T08:14:24.961Z"
   },
   {
    "duration": 14,
    "start_time": "2023-07-06T08:14:29.294Z"
   },
   {
    "duration": 16,
    "start_time": "2023-07-06T08:14:33.337Z"
   }
  ],
  "celltoolbar": "Edit Metadata",
  "colab": {
   "collapsed_sections": [
    "E0vqbgi9ay0H",
    "VUC88oWjTJw2"
   ],
   "provenance": []
  },
  "kernelspec": {
   "display_name": "Python 3 (ipykernel)",
   "language": "python",
   "name": "python3"
  },
  "language_info": {
   "codemirror_mode": {
    "name": "ipython",
    "version": 3
   },
   "file_extension": ".py",
   "mimetype": "text/x-python",
   "name": "python",
   "nbconvert_exporter": "python",
   "pygments_lexer": "ipython3",
   "version": "3.11.4"
  },
  "toc": {
   "base_numbering": 1,
   "nav_menu": {
    "height": "215px",
    "width": "403px"
   },
   "number_sections": true,
   "sideBar": true,
   "skip_h1_title": true,
   "title_cell": "Table of Contents",
   "title_sidebar": "Contents",
   "toc_cell": false,
   "toc_position": {
    "height": "calc(100% - 180px)",
    "left": "10px",
    "top": "150px",
    "width": "285.825px"
   },
   "toc_section_display": true,
   "toc_window_display": false
  }
 },
 "nbformat": 4,
 "nbformat_minor": 1
}
